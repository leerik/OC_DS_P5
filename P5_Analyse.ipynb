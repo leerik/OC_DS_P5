{
 "cells": [
  {
   "cell_type": "markdown",
   "metadata": {},
   "source": [
    "#### OPENCLASSROOMS - Parcours Data Scientist  \n",
    "## Projet 5: Segmentez des clients d'un site e-commerce  \n",
    "Etudiant: Eric Wendling  \n",
    "Mentor: Julien Heiduk  \n",
    "Date: 07/04/2020"
   ]
  },
  {
   "cell_type": "markdown",
   "metadata": {},
   "source": [
    "**TABLE DES MATIERES**\n",
    "\n",
    "#### [Présentation du projet](#pre_pro)\n",
    "\n",
    "#### [Partie 1: Analyse et Extractions de caractéristiques](#pre_pro)\n",
    "\n",
    "#### [Initialisation](#ini)\n",
    " \n",
    "* [Import des modules Python](#imp_mod_pyt)\n",
    "* [Fonctions](#fon)\n",
    "* [Récupération des données](#rec_don)\n",
    "\n",
    "#### [Analyse exploratoire des données](#ana_exp_don)\n",
    "\n",
    "* [Fusion 1: Commandes / Evaluations](#fus_1)\n",
    "* [Fusion 2: Clients / Commandes](#fus_2)\n",
    "* [Fusion 3: Items / Produits](#fus_3)\n",
    "* [Fusion 4: Clients/Commandes / Items/Produits](#fus_4)\n",
    "* [Fusion 5: Commandes / Paiements](#fus_5)\n",
    "\n",
    "#### [Modèle de données](#mod_don)\n",
    "\n",
    "* [Traitement des données](#tra_don)\n",
    "* [Dataframe df - Niveau Lignes de commandes](#dat_df)\n",
    "* [Dataframe df1 - Niveau Client](#dat_df1)\n",
    "* [Fonctions de recherche par client](#fon_rec)"
   ]
  },
  {
   "cell_type": "markdown",
   "metadata": {},
   "source": [
    "## Présentation du projet <a class=\"anchor\" id=\"pre_pro\"></a>"
   ]
  },
  {
   "cell_type": "markdown",
   "metadata": {},
   "source": [
    "La société **olist** offre des services de commerce électronique en mode B2C via une plateforme de vente en ligne.  \n",
    "Elle gère donc à la fois des **vendeurs** de produits divers et des acheteurs qui représentent les **clients**.\n",
    "\n",
    ">Son objectif est l'optimisation des campagnes de communication marketing destinées aux **clients**.\n",
    "\n",
    "Pour cela, **olist** souhaite réaliser une ***Segmentation de marché*** des clients.\n",
    "\n",
    "Il existe de nombreuses méthodes de segmentation de marché, une méthode bien connue étant la segmentation RFM.  \n",
    "Une seconde approche consiste à réaliser des groupes de clients avec des méthodes de classification automatiques non supervisées.\n",
    "\n",
    "L'ensemble des transactions est géré dans une base de données qui contient les données relatives aux clients, aux commandes, aux produits et aux vendeurs.\n",
    "\n",
    "Dans cette étude, nous allons dans un premier temps exploiter ces données pour une réaliser une **Segmentation RFM**.\n",
    "\n",
    "Une seconde partie sera consacrée à la classification automatique des clients avec des méthodes de **Clustering** (non supervisées).\n",
    "\n",
    "\n",
    "Les différents traitements sont répartis dans 2 notebooks:\n",
    "\n",
    "+ Partie 1: Analyse et Extractions des caractéristiques\n",
    "+ Partie 2: Segmentation RFM et Classification automatique"
   ]
  },
  {
   "cell_type": "markdown",
   "metadata": {},
   "source": [
    "## Partie 1: Analyse et Extractions de caractéristiques <a class=\"anchor\" id=\"par_1\"></a>"
   ]
  },
  {
   "cell_type": "markdown",
   "metadata": {},
   "source": [
    "## Initialisation <a class=\"anchor\" id=\"ini\"></a>"
   ]
  },
  {
   "cell_type": "markdown",
   "metadata": {},
   "source": [
    "### Import des modules Python <a class=\"anchor\" id=\"imp_mod_pyt\"></a>"
   ]
  },
  {
   "cell_type": "code",
   "execution_count": 1,
   "metadata": {},
   "outputs": [
    {
     "name": "stdout",
     "output_type": "stream",
     "text": [
      "Pandas version: 1.0.3\n",
      "Matplotlib version: 3.2.1\n",
      "Seaborn version: 0.10.1\n"
     ]
    }
   ],
   "source": [
    "import sys\n",
    "import warnings\n",
    "\n",
    "if not sys.warnoptions:\n",
    "    warnings.simplefilter(\"ignore\")\n",
    "\n",
    "import pandas as pd\n",
    "print('Pandas version:',pd.__version__)\n",
    "pd.options.mode.chained_assignment = None\n",
    "\n",
    "import numpy as np\n",
    "\n",
    "import matplotlib\n",
    "print('Matplotlib version:',matplotlib.__version__)\n",
    "\n",
    "import matplotlib.pyplot as plt\n",
    "plt.style.use('ggplot')\n",
    "\n",
    "import seaborn as sns\n",
    "print('Seaborn version:',sns.__version__)\n",
    "sns.set(style=\"darkgrid\")\n",
    "\n",
    "from IPython.display import Image, HTML\n",
    "from sklearn.metrics.pairwise import linear_kernel\n",
    "\n",
    "import tqdm\n",
    "import time\n",
    "from time import strftime, gmtime\n",
    "import sys\n",
    "\n",
    "from pprint import pprint\n",
    "\n",
    "import squarify\n",
    "\n",
    "from IPython.display import Markdown"
   ]
  },
  {
   "cell_type": "markdown",
   "metadata": {},
   "source": [
    "### Fonctions <a class=\"anchor\" id=\"fon\"></a>"
   ]
  },
  {
   "cell_type": "markdown",
   "metadata": {},
   "source": [
    "La fonction ci-dessous permet de mesurer le temps de traitement d'une opération et donne la durée totale des traitements mesurés."
   ]
  },
  {
   "cell_type": "code",
   "execution_count": 2,
   "metadata": {},
   "outputs": [],
   "source": [
    "list_elapsed = []\n",
    "list_ope = []\n",
    "\n",
    "def time_calc(ope='dernière operation',print_all=0):\n",
    "    elapsed = round((time.time() - t),2)\n",
    "    if ope != 'dernière operation':\n",
    "        print('Durée de l\\'opération %r:' %ope, round(elapsed,2),'s')\n",
    "    else:\n",
    "        print('Durée de l\\'opération:', round(elapsed,2),'s')\n",
    "    list_elapsed.extend([elapsed])\n",
    "    list_ope.extend([ope])\n",
    "    tot_duration = sum(list_elapsed)\n",
    "    df_time = pd.DataFrame({'Opération': list_ope, 'Durée': list_elapsed})\n",
    "\n",
    "    print('Durée totale de traitement:',strftime('%H', gmtime(tot_duration)),'h',\n",
    "          strftime('%M', gmtime(tot_duration)),'m',strftime('%S', gmtime(tot_duration)),'s')\n",
    "    if print_all == 1:\n",
    "        title('Durée des opérations')\n",
    "        print(df_time)   "
   ]
  },
  {
   "cell_type": "code",
   "execution_count": 3,
   "metadata": {},
   "outputs": [],
   "source": [
    "# Démarrage du compteur\n",
    "t = time.time()"
   ]
  },
  {
   "cell_type": "markdown",
   "metadata": {},
   "source": [
    "La fonction suivante donne des informations statistiques sur les taux de remplissage d'une colonne ou d'une ligne."
   ]
  },
  {
   "cell_type": "code",
   "execution_count": 4,
   "metadata": {},
   "outputs": [],
   "source": [
    "def stats(df_ref,axis_ref,var_select='p_val',critical_level=0):    \n",
    "    \"\"\"Statistiques descriptives des colonnes ou des lignes\"\"\"\n",
    "    \n",
    "    df = pd.DataFrame(df_ref.notnull().sum(axis=axis_ref), columns = [\"nb_val\"])\n",
    "    # On définit un index\n",
    "    df = df.reset_index()\n",
    "    # On ajoute une variable: le pourcentage de remplissage\n",
    "    df['p_val'] = df['nb_val'] * 100 / df_ref.shape[axis_ref]    \n",
    "    # On identifie les colonnes (ou lignes) dont le taux est supérieur ou égal au seuil\n",
    "    df = df[(df[var_select] >= critical_level)]\n",
    "    df = df.sort_values(by = var_select, ascending = False)\n",
    "    df = df.round(1)\n",
    "    print(df[['nb_val','p_val']].describe())\n",
    "    print('')\n",
    "    if axis_ref == 0:\n",
    "        print('50% des variables ont un taux de remplissage inférieur à',df['p_val'].median(),'%')\n",
    "    else:\n",
    "        print('50% des lignes ont un taux de remplissage inférieur à',df['p_val'].median(),'%')\n",
    "    df['p_val'].plot(kind='box', figsize=(3,4), color=\"black\")"
   ]
  },
  {
   "cell_type": "markdown",
   "metadata": {},
   "source": [
    "La fonction suivante montre les taux de remplissage d'un ensemble de variables."
   ]
  },
  {
   "cell_type": "code",
   "execution_count": 5,
   "metadata": {},
   "outputs": [],
   "source": [
    "def fill_rate(df,v_min=0,v_max=1,n=5):    \n",
    "    \"\"\"Taux de remplissage des variables\"\"\"\n",
    "    \n",
    "    f_rate = 'Taux de remplissage (%)'\n",
    "    \n",
    "    df_fill_rate = df.notnull().mean(axis=0)\n",
    "    df_fill_rate = pd.DataFrame(df_fill_rate, columns = [f_rate])\n",
    "    df_fill_rate = df_fill_rate[(df_fill_rate[f_rate] >= v_min) & (df_fill_rate[f_rate] <= v_max)]\n",
    "    df_fill_rate = df_fill_rate.sort_values(by = f_rate, ascending=True)\n",
    "    df_fill_rate = round(df_fill_rate * 100,3)\n",
    "    \n",
    "    print('')\n",
    "    print('Affichage des %r premières variables triées par taux croissant:' % n)\n",
    "    print('')\n",
    "    print(df_fill_rate.head(n))\n",
    "    \n",
    "    plt.figure(figsize=(5,n/3))\n",
    "    df_fill_rate[f_rate].head(n).plot.barh()\n",
    "    plt.title(\"Taux de remplissage par variable\")\n",
    "    plt.show()"
   ]
  },
  {
   "cell_type": "markdown",
   "metadata": {},
   "source": [
    "La fonction ci-dessous permet d'identifier les valeurs abberantes (outliers) d'une variable."
   ]
  },
  {
   "cell_type": "code",
   "execution_count": 6,
   "metadata": {},
   "outputs": [],
   "source": [
    "def val_out(df_ref,var_01,var_01_max='',var_01_min=0):\n",
    "    \"\"\"Fonction d'identification de valeurs abberantes\"\"\"\n",
    "    \n",
    "    df = df_ref.copy()\n",
    "    df = df[[var_01]]\n",
    "    \n",
    "    if var_01_max != '':\n",
    "        df = df[(df[var_01] >= var_01_min) & (df[var_01] <= var_01_max)]\n",
    "    else:\n",
    "        df = df\n",
    "    \n",
    "    print(df.describe())  \n",
    "    df.plot(kind='box', figsize=(3,4), color=\"black\")"
   ]
  },
  {
   "cell_type": "markdown",
   "metadata": {},
   "source": [
    "La fonction suivante permet d'écrire un titre sous-ligné."
   ]
  },
  {
   "cell_type": "code",
   "execution_count": 7,
   "metadata": {},
   "outputs": [],
   "source": [
    "def title(title):\n",
    "    print('')\n",
    "    print(title)\n",
    "    print(len(title)*'-')    "
   ]
  },
  {
   "cell_type": "code",
   "execution_count": 8,
   "metadata": {},
   "outputs": [],
   "source": [
    "def bip():\n",
    "    import winsound\n",
    "    frequency = 440  # max 2500 Hertz\n",
    "    duration = 400  # max 1000 ms\n",
    "    winsound.Beep(frequency, duration)"
   ]
  },
  {
   "cell_type": "code",
   "execution_count": 9,
   "metadata": {},
   "outputs": [
    {
     "name": "stdout",
     "output_type": "stream",
     "text": [
      "Durée de l'opération 'Initialisation': 0.09 s\n",
      "Durée totale de traitement: 00 h 00 m 00 s\n"
     ]
    }
   ],
   "source": [
    "time_calc('Initialisation')\n",
    "t = time.time()"
   ]
  },
  {
   "cell_type": "markdown",
   "metadata": {},
   "source": [
    "### Récupération des données <a class=\"anchor\" id=\"rec_don\"></a>"
   ]
  },
  {
   "cell_type": "code",
   "execution_count": 10,
   "metadata": {},
   "outputs": [
    {
     "name": "stdout",
     "output_type": "stream",
     "text": [
      "Stored 'df_customers' (DataFrame)\n",
      "Stored 'df_geolocation' (DataFrame)\n",
      "Stored 'df_order_items' (DataFrame)\n",
      "Stored 'df_order_payments' (DataFrame)\n",
      "Stored 'df_order_reviews' (DataFrame)\n",
      "Stored 'df_orders' (DataFrame)\n",
      "Stored 'df_products' (DataFrame)\n",
      "Stored 'df_sellers' (DataFrame)\n",
      "Stored 'df_product_category_name_translation' (DataFrame)\n"
     ]
    }
   ],
   "source": [
    "get_data = 0\n",
    "\n",
    "if get_data == 0: # Import des données à partir des fichiers csv et stockage des dataframes   \n",
    "       \n",
    "    df_customers = pd.read_csv('data/olist_customers_dataset.csv',encoding='utf-8',low_memory=False)\n",
    "    df_geolocation = pd.read_csv('data/olist_geolocation_dataset.csv',encoding='utf-8',low_memory=False)\n",
    "    df_order_items = pd.read_csv('data/olist_order_items_dataset.csv',encoding='utf-8',low_memory=False)\n",
    "    df_order_payments = pd.read_csv('data/olist_order_payments_dataset.csv',encoding='utf-8',low_memory=False)\n",
    "    df_order_reviews = pd.read_csv('data/olist_order_reviews_dataset.csv',encoding='utf-8',low_memory=False)\n",
    "    df_orders = pd.read_csv('data/olist_orders_dataset.csv', encoding='utf-8',low_memory=False)\n",
    "    df_products = pd.read_csv('data/olist_products_dataset.csv',encoding='utf-8',low_memory=False)\n",
    "    df_sellers = pd.read_csv('data/olist_sellers_dataset.csv',encoding='utf-8',low_memory=False)\n",
    "    df_product_category_name_translation = pd.read_csv('data/product_category_name_translation.csv',\n",
    "                                                       encoding='utf-8',low_memory=False)\n",
    "   \n",
    "    %store df_customers\n",
    "    %store df_geolocation\n",
    "    %store df_order_items\n",
    "    %store df_order_payments\n",
    "    %store df_order_reviews\n",
    "    %store df_orders\n",
    "    %store df_products\n",
    "    %store df_sellers\n",
    "    %store df_product_category_name_translation\n",
    "    \n",
    "elif get_data == 1: # On rafraîchit les dataframes depuis le store\n",
    "            \n",
    "    %store -r df_customers\n",
    "    %store -r df_geolocation\n",
    "    %store -r df_order_items\n",
    "    %store -r df_order_payments\n",
    "    %store -r df_order_reviews\n",
    "    %store -r df_orders\n",
    "    %store -r df_products\n",
    "    %store -r df_sellers\n",
    "    %store -r df_product_category_name_translation"
   ]
  },
  {
   "cell_type": "code",
   "execution_count": 11,
   "metadata": {},
   "outputs": [
    {
     "name": "stdout",
     "output_type": "stream",
     "text": [
      "Durée de l'opération 'Récupération des données': 3.19 s\n",
      "Durée totale de traitement: 00 h 00 m 03 s\n"
     ]
    }
   ],
   "source": [
    "time_calc('Récupération des données')\n",
    "t = time.time()"
   ]
  },
  {
   "cell_type": "markdown",
   "metadata": {},
   "source": [
    "## Analyse exploratoire des données <a class=\"anchor\" id=\"ana_exp_don\"></a>"
   ]
  },
  {
   "cell_type": "code",
   "execution_count": 12,
   "metadata": {},
   "outputs": [],
   "source": [
    "list_dataset = []\n",
    "list_shape = []\n",
    "list_variable = []\n",
    "list_duplicates = []\n",
    "list_unique = []\n",
    "list_null = []\n",
    "\n",
    "dic_data_model = {'Dataset': list_dataset,\n",
    "                  'Shape': list_shape,\n",
    "                  'Variable': list_variable,\n",
    "                  'Duplicates': list_duplicates,\n",
    "                  'Unique': list_unique,\n",
    "                  'Null': list_null}\n",
    "\n",
    "def data_model(df,df_name,var,print_=0,n=5):\n",
    "    \n",
    "    list_dataset.append(df_name)\n",
    "    list_shape.append(df.shape[0])\n",
    "    list_variable.append(var)\n",
    "    list_duplicates.append(df.duplicated(subset=[var]).sum())\n",
    "    list_unique.append(df[var].unique().shape[0])\n",
    "    list_null.append(df[var].isna().sum().sum())\n",
    "    \n",
    "    df_data_model = pd.DataFrame(dic_data_model)\n",
    "    \n",
    "    if print_ == 1:\n",
    "        return df_data_model.tail(n)"
   ]
  },
  {
   "cell_type": "code",
   "execution_count": 13,
   "metadata": {
    "scrolled": false
   },
   "outputs": [],
   "source": [
    "def data_model_2(df1,df2,df1_name,df2_name,left_on_,right_on_):\n",
    "    \n",
    "    df1_left = df1.merge(df2, left_on = left_on_, right_on = right_on_, how = 'left').sort_values(right_on_)\n",
    "    \n",
    "    df1_rows = df1.merge(df2, left_on = left_on_, right_on = right_on_, how = 'left').shape[0]\n",
    "    df2_rows = df1.merge(df2, left_on = left_on_, right_on = right_on_, how = 'right').shape[0]\n",
    "    shared_rows = df1.merge(df2, left_on = left_on_, right_on = right_on_, how = 'inner').shape[0]\n",
    "    left_rows = df1_rows - shared_rows\n",
    "    right_rows = df2_rows - shared_rows\n",
    "    \n",
    "    print('Nombre d\\'enregistrements du dataset %r non renseignés dans le dataset %r: %r' % (df1_name, df2_name, left_rows))\n",
    "    print('Nombre d\\'enregistrements du dataset %r non renseignés dans le dataset %r: %r' % (df2_name, df1_name, right_rows))"
   ]
  },
  {
   "cell_type": "markdown",
   "metadata": {},
   "source": [
    "### Fusion 1: Commandes / Evaluations <a class=\"anchor\" id=\"fus_1\"></a>"
   ]
  },
  {
   "cell_type": "markdown",
   "metadata": {},
   "source": [
    "#### Dataset - orders"
   ]
  },
  {
   "cell_type": "code",
   "execution_count": 14,
   "metadata": {},
   "outputs": [
    {
     "name": "stdout",
     "output_type": "stream",
     "text": [
      "<class 'pandas.core.frame.DataFrame'>\n",
      "RangeIndex: 99441 entries, 0 to 99440\n",
      "Data columns (total 8 columns):\n",
      " #   Column                         Non-Null Count  Dtype \n",
      "---  ------                         --------------  ----- \n",
      " 0   order_id                       99441 non-null  object\n",
      " 1   customer_id                    99441 non-null  object\n",
      " 2   order_status                   99441 non-null  object\n",
      " 3   order_purchase_timestamp       99441 non-null  object\n",
      " 4   order_approved_at              99281 non-null  object\n",
      " 5   order_delivered_carrier_date   97658 non-null  object\n",
      " 6   order_delivered_customer_date  96476 non-null  object\n",
      " 7   order_estimated_delivery_date  99441 non-null  object\n",
      "dtypes: object(8)\n",
      "memory usage: 6.1+ MB\n"
     ]
    }
   ],
   "source": [
    "df_orders.info(verbose=True)"
   ]
  },
  {
   "cell_type": "markdown",
   "metadata": {},
   "source": [
    "On supprime les variables qui ne nous intéressent pas."
   ]
  },
  {
   "cell_type": "code",
   "execution_count": 15,
   "metadata": {},
   "outputs": [],
   "source": [
    "del df_orders['order_approved_at']\n",
    "del df_orders['order_delivered_carrier_date']\n",
    "del df_orders['order_delivered_customer_date']\n",
    "del df_orders['order_estimated_delivery_date']"
   ]
  },
  {
   "cell_type": "code",
   "execution_count": 16,
   "metadata": {},
   "outputs": [
    {
     "data": {
      "text/html": [
       "<div>\n",
       "<style scoped>\n",
       "    .dataframe tbody tr th:only-of-type {\n",
       "        vertical-align: middle;\n",
       "    }\n",
       "\n",
       "    .dataframe tbody tr th {\n",
       "        vertical-align: top;\n",
       "    }\n",
       "\n",
       "    .dataframe thead th {\n",
       "        text-align: right;\n",
       "    }\n",
       "</style>\n",
       "<table border=\"1\" class=\"dataframe\">\n",
       "  <thead>\n",
       "    <tr style=\"text-align: right;\">\n",
       "      <th></th>\n",
       "      <th>Dataset</th>\n",
       "      <th>Shape</th>\n",
       "      <th>Variable</th>\n",
       "      <th>Duplicates</th>\n",
       "      <th>Unique</th>\n",
       "      <th>Null</th>\n",
       "    </tr>\n",
       "  </thead>\n",
       "  <tbody>\n",
       "    <tr>\n",
       "      <th>0</th>\n",
       "      <td>orders</td>\n",
       "      <td>99441</td>\n",
       "      <td>order_id</td>\n",
       "      <td>0</td>\n",
       "      <td>99441</td>\n",
       "      <td>0</td>\n",
       "    </tr>\n",
       "  </tbody>\n",
       "</table>\n",
       "</div>"
      ],
      "text/plain": [
       "  Dataset  Shape  Variable  Duplicates  Unique  Null\n",
       "0  orders  99441  order_id           0   99441     0"
      ]
     },
     "execution_count": 16,
     "metadata": {},
     "output_type": "execute_result"
    }
   ],
   "source": [
    "data_model(df_orders,'orders','order_id',1)"
   ]
  },
  {
   "cell_type": "markdown",
   "metadata": {},
   "source": [
    "#### Dataset - order_reviews"
   ]
  },
  {
   "cell_type": "code",
   "execution_count": 17,
   "metadata": {},
   "outputs": [
    {
     "name": "stdout",
     "output_type": "stream",
     "text": [
      "<class 'pandas.core.frame.DataFrame'>\n",
      "RangeIndex: 100000 entries, 0 to 99999\n",
      "Data columns (total 7 columns):\n",
      " #   Column                   Non-Null Count   Dtype \n",
      "---  ------                   --------------   ----- \n",
      " 0   review_id                100000 non-null  object\n",
      " 1   order_id                 100000 non-null  object\n",
      " 2   review_score             100000 non-null  int64 \n",
      " 3   review_comment_title     11715 non-null   object\n",
      " 4   review_comment_message   41753 non-null   object\n",
      " 5   review_creation_date     100000 non-null  object\n",
      " 6   review_answer_timestamp  100000 non-null  object\n",
      "dtypes: int64(1), object(6)\n",
      "memory usage: 5.3+ MB\n"
     ]
    }
   ],
   "source": [
    "df_order_reviews.info(verbose=True)"
   ]
  },
  {
   "cell_type": "markdown",
   "metadata": {},
   "source": [
    "On supprime les variables qui ne nous intéressent pas."
   ]
  },
  {
   "cell_type": "code",
   "execution_count": 18,
   "metadata": {},
   "outputs": [],
   "source": [
    "del df_order_reviews['review_comment_title']\n",
    "del df_order_reviews['review_comment_message']\n",
    "del df_order_reviews['review_creation_date']\n",
    "del df_order_reviews['review_answer_timestamp']"
   ]
  },
  {
   "cell_type": "code",
   "execution_count": 19,
   "metadata": {},
   "outputs": [
    {
     "data": {
      "text/html": [
       "<div>\n",
       "<style scoped>\n",
       "    .dataframe tbody tr th:only-of-type {\n",
       "        vertical-align: middle;\n",
       "    }\n",
       "\n",
       "    .dataframe tbody tr th {\n",
       "        vertical-align: top;\n",
       "    }\n",
       "\n",
       "    .dataframe thead th {\n",
       "        text-align: right;\n",
       "    }\n",
       "</style>\n",
       "<table border=\"1\" class=\"dataframe\">\n",
       "  <thead>\n",
       "    <tr style=\"text-align: right;\">\n",
       "      <th></th>\n",
       "      <th>Dataset</th>\n",
       "      <th>Shape</th>\n",
       "      <th>Variable</th>\n",
       "      <th>Duplicates</th>\n",
       "      <th>Unique</th>\n",
       "      <th>Null</th>\n",
       "    </tr>\n",
       "  </thead>\n",
       "  <tbody>\n",
       "    <tr>\n",
       "      <th>0</th>\n",
       "      <td>orders</td>\n",
       "      <td>99441</td>\n",
       "      <td>order_id</td>\n",
       "      <td>0</td>\n",
       "      <td>99441</td>\n",
       "      <td>0</td>\n",
       "    </tr>\n",
       "    <tr>\n",
       "      <th>1</th>\n",
       "      <td>order_reviews</td>\n",
       "      <td>100000</td>\n",
       "      <td>review_id</td>\n",
       "      <td>827</td>\n",
       "      <td>99173</td>\n",
       "      <td>0</td>\n",
       "    </tr>\n",
       "  </tbody>\n",
       "</table>\n",
       "</div>"
      ],
      "text/plain": [
       "         Dataset   Shape   Variable  Duplicates  Unique  Null\n",
       "0         orders   99441   order_id           0   99441     0\n",
       "1  order_reviews  100000  review_id         827   99173     0"
      ]
     },
     "execution_count": 19,
     "metadata": {},
     "output_type": "execute_result"
    }
   ],
   "source": [
    "data_model(df_order_reviews,'order_reviews','review_id',1)"
   ]
  },
  {
   "cell_type": "markdown",
   "metadata": {},
   "source": [
    "La variable **'review_id'** n'est pas unique, il ne s'agit donc pas d'une clé primaire."
   ]
  },
  {
   "cell_type": "markdown",
   "metadata": {},
   "source": [
    "#### orders vs order_reviews"
   ]
  },
  {
   "cell_type": "code",
   "execution_count": 20,
   "metadata": {
    "scrolled": true
   },
   "outputs": [
    {
     "data": {
      "text/html": [
       "<div>\n",
       "<style scoped>\n",
       "    .dataframe tbody tr th:only-of-type {\n",
       "        vertical-align: middle;\n",
       "    }\n",
       "\n",
       "    .dataframe tbody tr th {\n",
       "        vertical-align: top;\n",
       "    }\n",
       "\n",
       "    .dataframe thead th {\n",
       "        text-align: right;\n",
       "    }\n",
       "</style>\n",
       "<table border=\"1\" class=\"dataframe\">\n",
       "  <thead>\n",
       "    <tr style=\"text-align: right;\">\n",
       "      <th></th>\n",
       "      <th>Dataset</th>\n",
       "      <th>Shape</th>\n",
       "      <th>Variable</th>\n",
       "      <th>Duplicates</th>\n",
       "      <th>Unique</th>\n",
       "      <th>Null</th>\n",
       "    </tr>\n",
       "  </thead>\n",
       "  <tbody>\n",
       "    <tr>\n",
       "      <th>0</th>\n",
       "      <td>orders</td>\n",
       "      <td>99441</td>\n",
       "      <td>order_id</td>\n",
       "      <td>0</td>\n",
       "      <td>99441</td>\n",
       "      <td>0</td>\n",
       "    </tr>\n",
       "    <tr>\n",
       "      <th>1</th>\n",
       "      <td>order_reviews</td>\n",
       "      <td>100000</td>\n",
       "      <td>review_id</td>\n",
       "      <td>827</td>\n",
       "      <td>99173</td>\n",
       "      <td>0</td>\n",
       "    </tr>\n",
       "    <tr>\n",
       "      <th>2</th>\n",
       "      <td>order_reviews</td>\n",
       "      <td>100000</td>\n",
       "      <td>order_id</td>\n",
       "      <td>559</td>\n",
       "      <td>99441</td>\n",
       "      <td>0</td>\n",
       "    </tr>\n",
       "  </tbody>\n",
       "</table>\n",
       "</div>"
      ],
      "text/plain": [
       "         Dataset   Shape   Variable  Duplicates  Unique  Null\n",
       "0         orders   99441   order_id           0   99441     0\n",
       "1  order_reviews  100000  review_id         827   99173     0\n",
       "2  order_reviews  100000   order_id         559   99441     0"
      ]
     },
     "execution_count": 20,
     "metadata": {},
     "output_type": "execute_result"
    }
   ],
   "source": [
    "data_model(df_order_reviews,'order_reviews','order_id',1)"
   ]
  },
  {
   "cell_type": "code",
   "execution_count": 21,
   "metadata": {
    "scrolled": false
   },
   "outputs": [
    {
     "name": "stdout",
     "output_type": "stream",
     "text": [
      "Nombre d'enregistrements du dataset 'order_reviews' non renseignés dans le dataset 'orders': 0\n",
      "Nombre d'enregistrements du dataset 'orders' non renseignés dans le dataset 'order_reviews': 0\n"
     ]
    }
   ],
   "source": [
    "data_model_2(df_order_reviews,df_orders,'order_reviews','orders','order_id','order_id')"
   ]
  },
  {
   "cell_type": "markdown",
   "metadata": {},
   "source": [
    "+ A chaque enregistrement de ***orders*** correspond 1 ou plusieurs enregistrements de ***order_reviews***.\n",
    "+ A chaque enregistrement de ***order_reviews*** correspond 1 et 1 seul enregistrement de ***orders***."
   ]
  },
  {
   "cell_type": "markdown",
   "metadata": {},
   "source": [
    "**Etape préliminaire:** On cherche à associer une note (**'review_score'**) unique à chaque commande."
   ]
  },
  {
   "cell_type": "markdown",
   "metadata": {},
   "source": [
    "Chaque commande peut faire l'objet de plusieurs notes.\n",
    "\n",
    "> On regroupe les notes par commande en faisant la moyenne des notes (**'review_score'**)."
   ]
  },
  {
   "cell_type": "code",
   "execution_count": 22,
   "metadata": {},
   "outputs": [
    {
     "data": {
      "text/html": [
       "<div>\n",
       "<style scoped>\n",
       "    .dataframe tbody tr th:only-of-type {\n",
       "        vertical-align: middle;\n",
       "    }\n",
       "\n",
       "    .dataframe tbody tr th {\n",
       "        vertical-align: top;\n",
       "    }\n",
       "\n",
       "    .dataframe thead th {\n",
       "        text-align: right;\n",
       "    }\n",
       "</style>\n",
       "<table border=\"1\" class=\"dataframe\">\n",
       "  <thead>\n",
       "    <tr style=\"text-align: right;\">\n",
       "      <th></th>\n",
       "      <th>order_id</th>\n",
       "      <th>score_mean_per_ord</th>\n",
       "      <th>score_count_per_ord</th>\n",
       "    </tr>\n",
       "  </thead>\n",
       "  <tbody>\n",
       "    <tr>\n",
       "      <th>0</th>\n",
       "      <td>c88b1d1b157a9999ce368f218a407141</td>\n",
       "      <td>4.333333</td>\n",
       "      <td>3</td>\n",
       "    </tr>\n",
       "    <tr>\n",
       "      <th>1</th>\n",
       "      <td>8e17072ec97ce29f0e1f111e598b0c85</td>\n",
       "      <td>1.000000</td>\n",
       "      <td>3</td>\n",
       "    </tr>\n",
       "    <tr>\n",
       "      <th>2</th>\n",
       "      <td>03c939fd7fd3b38f8485a0f95798f1f6</td>\n",
       "      <td>3.333333</td>\n",
       "      <td>3</td>\n",
       "    </tr>\n",
       "    <tr>\n",
       "      <th>3</th>\n",
       "      <td>df56136b8031ecd28e200bb18e6ddb2e</td>\n",
       "      <td>5.000000</td>\n",
       "      <td>3</td>\n",
       "    </tr>\n",
       "    <tr>\n",
       "      <th>4</th>\n",
       "      <td>c63031aab37b1beb849bb4856afd4f13</td>\n",
       "      <td>5.000000</td>\n",
       "      <td>2</td>\n",
       "    </tr>\n",
       "  </tbody>\n",
       "</table>\n",
       "</div>"
      ],
      "text/plain": [
       "                           order_id  score_mean_per_ord  score_count_per_ord\n",
       "0  c88b1d1b157a9999ce368f218a407141            4.333333                    3\n",
       "1  8e17072ec97ce29f0e1f111e598b0c85            1.000000                    3\n",
       "2  03c939fd7fd3b38f8485a0f95798f1f6            3.333333                    3\n",
       "3  df56136b8031ecd28e200bb18e6ddb2e            5.000000                    3\n",
       "4  c63031aab37b1beb849bb4856afd4f13            5.000000                    2"
      ]
     },
     "execution_count": 22,
     "metadata": {},
     "output_type": "execute_result"
    }
   ],
   "source": [
    "df_order_reviews_gr = df_order_reviews.groupby('order_id').agg({'review_score': ['mean','count']}).sort_values(('review_score','count'),ascending=False)\n",
    "df_order_reviews_gr = df_order_reviews_gr.reset_index()\n",
    "\n",
    "# On renomme les colonnes\n",
    "df_order_reviews_gr.columns = ['order_id','score_mean_per_ord','score_count_per_ord']\n",
    "df_order_reviews_gr.head()"
   ]
  },
  {
   "cell_type": "markdown",
   "metadata": {},
   "source": [
    "#### orders vs order_reviews_gr"
   ]
  },
  {
   "cell_type": "code",
   "execution_count": 23,
   "metadata": {},
   "outputs": [
    {
     "data": {
      "text/html": [
       "<div>\n",
       "<style scoped>\n",
       "    .dataframe tbody tr th:only-of-type {\n",
       "        vertical-align: middle;\n",
       "    }\n",
       "\n",
       "    .dataframe tbody tr th {\n",
       "        vertical-align: top;\n",
       "    }\n",
       "\n",
       "    .dataframe thead th {\n",
       "        text-align: right;\n",
       "    }\n",
       "</style>\n",
       "<table border=\"1\" class=\"dataframe\">\n",
       "  <thead>\n",
       "    <tr style=\"text-align: right;\">\n",
       "      <th></th>\n",
       "      <th>Dataset</th>\n",
       "      <th>Shape</th>\n",
       "      <th>Variable</th>\n",
       "      <th>Duplicates</th>\n",
       "      <th>Unique</th>\n",
       "      <th>Null</th>\n",
       "    </tr>\n",
       "  </thead>\n",
       "  <tbody>\n",
       "    <tr>\n",
       "      <th>0</th>\n",
       "      <td>orders</td>\n",
       "      <td>99441</td>\n",
       "      <td>order_id</td>\n",
       "      <td>0</td>\n",
       "      <td>99441</td>\n",
       "      <td>0</td>\n",
       "    </tr>\n",
       "    <tr>\n",
       "      <th>1</th>\n",
       "      <td>order_reviews</td>\n",
       "      <td>100000</td>\n",
       "      <td>review_id</td>\n",
       "      <td>827</td>\n",
       "      <td>99173</td>\n",
       "      <td>0</td>\n",
       "    </tr>\n",
       "    <tr>\n",
       "      <th>2</th>\n",
       "      <td>order_reviews</td>\n",
       "      <td>100000</td>\n",
       "      <td>order_id</td>\n",
       "      <td>559</td>\n",
       "      <td>99441</td>\n",
       "      <td>0</td>\n",
       "    </tr>\n",
       "    <tr>\n",
       "      <th>3</th>\n",
       "      <td>order_reviews_gr</td>\n",
       "      <td>99441</td>\n",
       "      <td>order_id</td>\n",
       "      <td>0</td>\n",
       "      <td>99441</td>\n",
       "      <td>0</td>\n",
       "    </tr>\n",
       "  </tbody>\n",
       "</table>\n",
       "</div>"
      ],
      "text/plain": [
       "            Dataset   Shape   Variable  Duplicates  Unique  Null\n",
       "0            orders   99441   order_id           0   99441     0\n",
       "1     order_reviews  100000  review_id         827   99173     0\n",
       "2     order_reviews  100000   order_id         559   99441     0\n",
       "3  order_reviews_gr   99441   order_id           0   99441     0"
      ]
     },
     "execution_count": 23,
     "metadata": {},
     "output_type": "execute_result"
    }
   ],
   "source": [
    "data_model(df_order_reviews_gr,'order_reviews_gr','order_id',1)"
   ]
  },
  {
   "cell_type": "markdown",
   "metadata": {},
   "source": [
    "> La dataset ***order_reviews_gr*** contient maintenant 99441 valeurs uniques pour la variable **'order_id'**."
   ]
  },
  {
   "cell_type": "code",
   "execution_count": 24,
   "metadata": {
    "scrolled": false
   },
   "outputs": [
    {
     "name": "stdout",
     "output_type": "stream",
     "text": [
      "Nombre d'enregistrements du dataset 'order_reviews_gr' non renseignés dans le dataset 'orders': 0\n",
      "Nombre d'enregistrements du dataset 'orders' non renseignés dans le dataset 'order_reviews_gr': 0\n"
     ]
    }
   ],
   "source": [
    "data_model_2(df_order_reviews_gr,df_orders,\n",
    "             'order_reviews_gr','orders',\n",
    "             'order_id','order_id')"
   ]
  },
  {
   "cell_type": "markdown",
   "metadata": {},
   "source": [
    "#### Fusion orders / order_reviews"
   ]
  },
  {
   "cell_type": "markdown",
   "metadata": {},
   "source": [
    "Chaque commande est maintenant relié à 1 et 1 seul enregistrement du dataset ***'order_reviews_gr'***.\n",
    "\n",
    "> On fusionne donc les datasets ***orders*** et ***order_reviews_gr*** avec une contrainte de correspondance nécessaire (inner join)."
   ]
  },
  {
   "cell_type": "code",
   "execution_count": 25,
   "metadata": {},
   "outputs": [
    {
     "name": "stdout",
     "output_type": "stream",
     "text": [
      "<class 'pandas.core.frame.DataFrame'>\n",
      "Int64Index: 99441 entries, 0 to 99440\n",
      "Data columns (total 6 columns):\n",
      " #   Column                    Non-Null Count  Dtype  \n",
      "---  ------                    --------------  -----  \n",
      " 0   order_id                  99441 non-null  object \n",
      " 1   customer_id               99441 non-null  object \n",
      " 2   order_status              99441 non-null  object \n",
      " 3   order_purchase_timestamp  99441 non-null  object \n",
      " 4   score_mean_per_ord        99441 non-null  float64\n",
      " 5   score_count_per_ord       99441 non-null  int64  \n",
      "dtypes: float64(1), int64(1), object(4)\n",
      "memory usage: 5.3+ MB\n"
     ]
    }
   ],
   "source": [
    "df_orders = df_orders.merge(df_order_reviews_gr, left_on = 'order_id', right_on = 'order_id', how = 'inner')\n",
    "df_orders.info()"
   ]
  },
  {
   "cell_type": "code",
   "execution_count": 26,
   "metadata": {},
   "outputs": [
    {
     "data": {
      "text/html": [
       "<div>\n",
       "<style scoped>\n",
       "    .dataframe tbody tr th:only-of-type {\n",
       "        vertical-align: middle;\n",
       "    }\n",
       "\n",
       "    .dataframe tbody tr th {\n",
       "        vertical-align: top;\n",
       "    }\n",
       "\n",
       "    .dataframe thead th {\n",
       "        text-align: right;\n",
       "    }\n",
       "</style>\n",
       "<table border=\"1\" class=\"dataframe\">\n",
       "  <thead>\n",
       "    <tr style=\"text-align: right;\">\n",
       "      <th></th>\n",
       "      <th>Dataset</th>\n",
       "      <th>Shape</th>\n",
       "      <th>Variable</th>\n",
       "      <th>Duplicates</th>\n",
       "      <th>Unique</th>\n",
       "      <th>Null</th>\n",
       "    </tr>\n",
       "  </thead>\n",
       "  <tbody>\n",
       "    <tr>\n",
       "      <th>2</th>\n",
       "      <td>order_reviews</td>\n",
       "      <td>100000</td>\n",
       "      <td>order_id</td>\n",
       "      <td>559</td>\n",
       "      <td>99441</td>\n",
       "      <td>0</td>\n",
       "    </tr>\n",
       "    <tr>\n",
       "      <th>3</th>\n",
       "      <td>order_reviews_gr</td>\n",
       "      <td>99441</td>\n",
       "      <td>order_id</td>\n",
       "      <td>0</td>\n",
       "      <td>99441</td>\n",
       "      <td>0</td>\n",
       "    </tr>\n",
       "    <tr>\n",
       "      <th>4</th>\n",
       "      <td>orders</td>\n",
       "      <td>99441</td>\n",
       "      <td>order_id</td>\n",
       "      <td>0</td>\n",
       "      <td>99441</td>\n",
       "      <td>0</td>\n",
       "    </tr>\n",
       "  </tbody>\n",
       "</table>\n",
       "</div>"
      ],
      "text/plain": [
       "            Dataset   Shape  Variable  Duplicates  Unique  Null\n",
       "2     order_reviews  100000  order_id         559   99441     0\n",
       "3  order_reviews_gr   99441  order_id           0   99441     0\n",
       "4            orders   99441  order_id           0   99441     0"
      ]
     },
     "execution_count": 26,
     "metadata": {},
     "output_type": "execute_result"
    }
   ],
   "source": [
    "data_model(df_orders,'orders','order_id',1,3)"
   ]
  },
  {
   "cell_type": "code",
   "execution_count": 27,
   "metadata": {},
   "outputs": [
    {
     "name": "stdout",
     "output_type": "stream",
     "text": [
      "Durée de l'opération 'Fusion 1: Commandes / Evaluations': 2.28 s\n",
      "Durée totale de traitement: 00 h 00 m 05 s\n"
     ]
    }
   ],
   "source": [
    "time_calc('Fusion 1: Commandes / Evaluations')\n",
    "t = time.time()"
   ]
  },
  {
   "cell_type": "code",
   "execution_count": 28,
   "metadata": {},
   "outputs": [
    {
     "name": "stdout",
     "output_type": "stream",
     "text": [
      "Dimensions df_orders (99441, 5)\n"
     ]
    }
   ],
   "source": [
    "print('Dimensions df_orders',df_customers.shape)"
   ]
  },
  {
   "cell_type": "markdown",
   "metadata": {},
   "source": [
    "### Fusion 2: Clients / Commandes <a class=\"anchor\" id=\"fus_2\"></a>"
   ]
  },
  {
   "cell_type": "markdown",
   "metadata": {},
   "source": [
    "#### Dataset - geolocation"
   ]
  },
  {
   "cell_type": "code",
   "execution_count": 29,
   "metadata": {},
   "outputs": [
    {
     "name": "stdout",
     "output_type": "stream",
     "text": [
      "<class 'pandas.core.frame.DataFrame'>\n",
      "RangeIndex: 1000163 entries, 0 to 1000162\n",
      "Data columns (total 5 columns):\n",
      " #   Column                       Non-Null Count    Dtype  \n",
      "---  ------                       --------------    -----  \n",
      " 0   geolocation_zip_code_prefix  1000163 non-null  int64  \n",
      " 1   geolocation_lat              1000163 non-null  float64\n",
      " 2   geolocation_lng              1000163 non-null  float64\n",
      " 3   geolocation_city             1000163 non-null  object \n",
      " 4   geolocation_state            1000163 non-null  object \n",
      "dtypes: float64(2), int64(1), object(2)\n",
      "memory usage: 38.2+ MB\n"
     ]
    }
   ],
   "source": [
    "df_geolocation.info()"
   ]
  },
  {
   "cell_type": "code",
   "execution_count": 30,
   "metadata": {},
   "outputs": [
    {
     "data": {
      "text/html": [
       "<div>\n",
       "<style scoped>\n",
       "    .dataframe tbody tr th:only-of-type {\n",
       "        vertical-align: middle;\n",
       "    }\n",
       "\n",
       "    .dataframe tbody tr th {\n",
       "        vertical-align: top;\n",
       "    }\n",
       "\n",
       "    .dataframe thead th {\n",
       "        text-align: right;\n",
       "    }\n",
       "</style>\n",
       "<table border=\"1\" class=\"dataframe\">\n",
       "  <thead>\n",
       "    <tr style=\"text-align: right;\">\n",
       "      <th></th>\n",
       "      <th>Dataset</th>\n",
       "      <th>Shape</th>\n",
       "      <th>Variable</th>\n",
       "      <th>Duplicates</th>\n",
       "      <th>Unique</th>\n",
       "      <th>Null</th>\n",
       "    </tr>\n",
       "  </thead>\n",
       "  <tbody>\n",
       "    <tr>\n",
       "      <th>5</th>\n",
       "      <td>geolocation</td>\n",
       "      <td>1000163</td>\n",
       "      <td>geolocation_zip_code_prefix</td>\n",
       "      <td>981148</td>\n",
       "      <td>19015</td>\n",
       "      <td>0</td>\n",
       "    </tr>\n",
       "  </tbody>\n",
       "</table>\n",
       "</div>"
      ],
      "text/plain": [
       "       Dataset    Shape                     Variable  Duplicates  Unique  Null\n",
       "5  geolocation  1000163  geolocation_zip_code_prefix      981148   19015     0"
      ]
     },
     "execution_count": 30,
     "metadata": {},
     "output_type": "execute_result"
    }
   ],
   "source": [
    "data_model(df_geolocation,'geolocation','geolocation_zip_code_prefix',1,1)"
   ]
  },
  {
   "cell_type": "code",
   "execution_count": 31,
   "metadata": {},
   "outputs": [],
   "source": [
    "geolocation_shape = df_geolocation.shape[0]\n",
    "geolocation_unique = df_geolocation['geolocation_zip_code_prefix'].unique().shape[0]"
   ]
  },
  {
   "cell_type": "code",
   "execution_count": 32,
   "metadata": {},
   "outputs": [
    {
     "data": {
      "text/markdown": [
       "\n",
       "La variable **'geolocation_zip_code_prefix'** du dataset ***geolocation*** compte **19015** valeurs uniques sur **1000163**. \n"
      ],
      "text/plain": [
       "<IPython.core.display.Markdown object>"
      ]
     },
     "execution_count": 32,
     "metadata": {},
     "output_type": "execute_result"
    }
   ],
   "source": [
    "Markdown(\"\"\"\n",
    "La variable **'geolocation_zip_code_prefix'** du dataset ***geolocation*** compte **{geolocation_unique}** valeurs uniques sur **{geolocation_shape}**. \n",
    "\"\"\".format(geolocation_unique=geolocation_unique,geolocation_shape=geolocation_shape))"
   ]
  },
  {
   "cell_type": "markdown",
   "metadata": {},
   "source": [
    "Elle ne représente donc pas une clé primaire.\n",
    "\n",
    "> On regroupe alors les enregistrements sur la variable **'geolocation_zip_code_prefix'** et on réalise la moyenne des coordonnées géographiques."
   ]
  },
  {
   "cell_type": "code",
   "execution_count": 33,
   "metadata": {},
   "outputs": [],
   "source": [
    "df_geolocation_gr_0 = df_geolocation.groupby('geolocation_zip_code_prefix').agg({'geolocation_lat': 'mean',\n",
    "                                                                               'geolocation_lng': 'mean',\n",
    "                                                                               'geolocation_city': 'first',\n",
    "                                                                               'geolocation_state': 'first'})\n",
    "\n",
    "df_geolocation_gr_0 = df_geolocation_gr_0.reset_index()"
   ]
  },
  {
   "cell_type": "code",
   "execution_count": 34,
   "metadata": {},
   "outputs": [
    {
     "data": {
      "text/html": [
       "<div>\n",
       "<style scoped>\n",
       "    .dataframe tbody tr th:only-of-type {\n",
       "        vertical-align: middle;\n",
       "    }\n",
       "\n",
       "    .dataframe tbody tr th {\n",
       "        vertical-align: top;\n",
       "    }\n",
       "\n",
       "    .dataframe thead th {\n",
       "        text-align: right;\n",
       "    }\n",
       "</style>\n",
       "<table border=\"1\" class=\"dataframe\">\n",
       "  <thead>\n",
       "    <tr style=\"text-align: right;\">\n",
       "      <th></th>\n",
       "      <th>Dataset</th>\n",
       "      <th>Shape</th>\n",
       "      <th>Variable</th>\n",
       "      <th>Duplicates</th>\n",
       "      <th>Unique</th>\n",
       "      <th>Null</th>\n",
       "    </tr>\n",
       "  </thead>\n",
       "  <tbody>\n",
       "    <tr>\n",
       "      <th>5</th>\n",
       "      <td>geolocation</td>\n",
       "      <td>1000163</td>\n",
       "      <td>geolocation_zip_code_prefix</td>\n",
       "      <td>981148</td>\n",
       "      <td>19015</td>\n",
       "      <td>0</td>\n",
       "    </tr>\n",
       "    <tr>\n",
       "      <th>6</th>\n",
       "      <td>geolocation_gr_0</td>\n",
       "      <td>19015</td>\n",
       "      <td>geolocation_zip_code_prefix</td>\n",
       "      <td>0</td>\n",
       "      <td>19015</td>\n",
       "      <td>0</td>\n",
       "    </tr>\n",
       "  </tbody>\n",
       "</table>\n",
       "</div>"
      ],
      "text/plain": [
       "            Dataset    Shape                     Variable  Duplicates  Unique  \\\n",
       "5       geolocation  1000163  geolocation_zip_code_prefix      981148   19015   \n",
       "6  geolocation_gr_0    19015  geolocation_zip_code_prefix           0   19015   \n",
       "\n",
       "   Null  \n",
       "5     0  \n",
       "6     0  "
      ]
     },
     "execution_count": 34,
     "metadata": {},
     "output_type": "execute_result"
    }
   ],
   "source": [
    "data_model(df_geolocation_gr_0,'geolocation_gr_0','geolocation_zip_code_prefix',1,2)"
   ]
  },
  {
   "cell_type": "code",
   "execution_count": 35,
   "metadata": {},
   "outputs": [
    {
     "name": "stdout",
     "output_type": "stream",
     "text": [
      "Stored 'df_geolocation_gr_0' (DataFrame)\n"
     ]
    }
   ],
   "source": [
    "%store df_geolocation_gr_0"
   ]
  },
  {
   "cell_type": "markdown",
   "metadata": {},
   "source": [
    "#### Dataset - customers"
   ]
  },
  {
   "cell_type": "code",
   "execution_count": 36,
   "metadata": {},
   "outputs": [
    {
     "name": "stdout",
     "output_type": "stream",
     "text": [
      "<class 'pandas.core.frame.DataFrame'>\n",
      "RangeIndex: 99441 entries, 0 to 99440\n",
      "Data columns (total 5 columns):\n",
      " #   Column                    Non-Null Count  Dtype \n",
      "---  ------                    --------------  ----- \n",
      " 0   customer_id               99441 non-null  object\n",
      " 1   customer_unique_id        99441 non-null  object\n",
      " 2   customer_zip_code_prefix  99441 non-null  int64 \n",
      " 3   customer_city             99441 non-null  object\n",
      " 4   customer_state            99441 non-null  object\n",
      "dtypes: int64(1), object(4)\n",
      "memory usage: 3.8+ MB\n"
     ]
    }
   ],
   "source": [
    "df_customers.info()"
   ]
  },
  {
   "cell_type": "markdown",
   "metadata": {},
   "source": [
    "Les enregistrements du dataset ***customers*** sont reliés au dataset ***geolocation_gr_0*** par les variables **'customer_zip_code_prefix'** et **'geolocation_zip_code_prefix'**."
   ]
  },
  {
   "cell_type": "code",
   "execution_count": 37,
   "metadata": {},
   "outputs": [
    {
     "data": {
      "text/html": [
       "<div>\n",
       "<style scoped>\n",
       "    .dataframe tbody tr th:only-of-type {\n",
       "        vertical-align: middle;\n",
       "    }\n",
       "\n",
       "    .dataframe tbody tr th {\n",
       "        vertical-align: top;\n",
       "    }\n",
       "\n",
       "    .dataframe thead th {\n",
       "        text-align: right;\n",
       "    }\n",
       "</style>\n",
       "<table border=\"1\" class=\"dataframe\">\n",
       "  <thead>\n",
       "    <tr style=\"text-align: right;\">\n",
       "      <th></th>\n",
       "      <th>Dataset</th>\n",
       "      <th>Shape</th>\n",
       "      <th>Variable</th>\n",
       "      <th>Duplicates</th>\n",
       "      <th>Unique</th>\n",
       "      <th>Null</th>\n",
       "    </tr>\n",
       "  </thead>\n",
       "  <tbody>\n",
       "    <tr>\n",
       "      <th>6</th>\n",
       "      <td>geolocation_gr_0</td>\n",
       "      <td>19015</td>\n",
       "      <td>geolocation_zip_code_prefix</td>\n",
       "      <td>0</td>\n",
       "      <td>19015</td>\n",
       "      <td>0</td>\n",
       "    </tr>\n",
       "    <tr>\n",
       "      <th>7</th>\n",
       "      <td>customers</td>\n",
       "      <td>99441</td>\n",
       "      <td>customer_zip_code_prefix</td>\n",
       "      <td>84447</td>\n",
       "      <td>14994</td>\n",
       "      <td>0</td>\n",
       "    </tr>\n",
       "  </tbody>\n",
       "</table>\n",
       "</div>"
      ],
      "text/plain": [
       "            Dataset  Shape                     Variable  Duplicates  Unique  \\\n",
       "6  geolocation_gr_0  19015  geolocation_zip_code_prefix           0   19015   \n",
       "7         customers  99441     customer_zip_code_prefix       84447   14994   \n",
       "\n",
       "   Null  \n",
       "6     0  \n",
       "7     0  "
      ]
     },
     "execution_count": 37,
     "metadata": {},
     "output_type": "execute_result"
    }
   ],
   "source": [
    "data_model(df_customers,'customers','customer_zip_code_prefix',1,2)"
   ]
  },
  {
   "cell_type": "markdown",
   "metadata": {},
   "source": [
    "#### customers vs geolocation_gr_0"
   ]
  },
  {
   "cell_type": "code",
   "execution_count": 38,
   "metadata": {
    "scrolled": false
   },
   "outputs": [
    {
     "name": "stdout",
     "output_type": "stream",
     "text": [
      "Nombre d'enregistrements du dataset 'customers' non renseignés dans le dataset 'geolocation_gr_0': 278\n",
      "Nombre d'enregistrements du dataset 'geolocation_gr_0' non renseignés dans le dataset 'customers': 4178\n"
     ]
    }
   ],
   "source": [
    "data_model_2(df_customers,df_geolocation_gr_0,\n",
    "             'customers','geolocation_gr_0',\n",
    "             'customer_zip_code_prefix','geolocation_zip_code_prefix')"
   ]
  },
  {
   "cell_type": "markdown",
   "metadata": {},
   "source": [
    "+ A un enregistrement de ***customers*** correspond 0 ou 1 enregistrement de ***geolocation_gr_0***.\n",
    "+ A un enregistrement de ***geolocation_gr_0*** correspondent 0 ou plusieurs enregistrements de ***customers***."
   ]
  },
  {
   "cell_type": "markdown",
   "metadata": {},
   "source": [
    "#### Fusion - customers / geolocation_gr_0"
   ]
  },
  {
   "cell_type": "markdown",
   "metadata": {},
   "source": [
    "Les références client n'ont pas toutes de correspondance dans le dataset ***geolocation_gr_0***.\n",
    "\n",
    "> On fusionne donc les datasets ***customers*** et ***geolocation_gr_0*** avec une contrainte de correspondance facultative sur ***geolocation_gr_0***  (left join)."
   ]
  },
  {
   "cell_type": "code",
   "execution_count": 39,
   "metadata": {
    "scrolled": false
   },
   "outputs": [],
   "source": [
    "df_customers = df_customers.merge(df_geolocation_gr_0, left_on = 'customer_zip_code_prefix', \n",
    "                                  right_on = 'geolocation_zip_code_prefix', how = 'left')"
   ]
  },
  {
   "cell_type": "code",
   "execution_count": 40,
   "metadata": {},
   "outputs": [
    {
     "data": {
      "text/html": [
       "<div>\n",
       "<style scoped>\n",
       "    .dataframe tbody tr th:only-of-type {\n",
       "        vertical-align: middle;\n",
       "    }\n",
       "\n",
       "    .dataframe tbody tr th {\n",
       "        vertical-align: top;\n",
       "    }\n",
       "\n",
       "    .dataframe thead th {\n",
       "        text-align: right;\n",
       "    }\n",
       "</style>\n",
       "<table border=\"1\" class=\"dataframe\">\n",
       "  <thead>\n",
       "    <tr style=\"text-align: right;\">\n",
       "      <th></th>\n",
       "      <th>customer_zip_code_prefix</th>\n",
       "      <th>geolocation_zip_code_prefix</th>\n",
       "    </tr>\n",
       "  </thead>\n",
       "  <tbody>\n",
       "    <tr>\n",
       "      <th>23914</th>\n",
       "      <td>1003</td>\n",
       "      <td>1003.0</td>\n",
       "    </tr>\n",
       "    <tr>\n",
       "      <th>11747</th>\n",
       "      <td>1004</td>\n",
       "      <td>1004.0</td>\n",
       "    </tr>\n",
       "    <tr>\n",
       "      <th>23990</th>\n",
       "      <td>1004</td>\n",
       "      <td>1004.0</td>\n",
       "    </tr>\n",
       "    <tr>\n",
       "      <th>12307</th>\n",
       "      <td>1005</td>\n",
       "      <td>1005.0</td>\n",
       "    </tr>\n",
       "    <tr>\n",
       "      <th>71571</th>\n",
       "      <td>1005</td>\n",
       "      <td>1005.0</td>\n",
       "    </tr>\n",
       "    <tr>\n",
       "      <th>...</th>\n",
       "      <td>...</td>\n",
       "      <td>...</td>\n",
       "    </tr>\n",
       "    <tr>\n",
       "      <th>97467</th>\n",
       "      <td>72338</td>\n",
       "      <td>NaN</td>\n",
       "    </tr>\n",
       "    <tr>\n",
       "      <th>97780</th>\n",
       "      <td>68629</td>\n",
       "      <td>NaN</td>\n",
       "    </tr>\n",
       "    <tr>\n",
       "      <th>98140</th>\n",
       "      <td>28530</td>\n",
       "      <td>NaN</td>\n",
       "    </tr>\n",
       "    <tr>\n",
       "      <th>98878</th>\n",
       "      <td>55863</td>\n",
       "      <td>NaN</td>\n",
       "    </tr>\n",
       "    <tr>\n",
       "      <th>99264</th>\n",
       "      <td>72587</td>\n",
       "      <td>NaN</td>\n",
       "    </tr>\n",
       "  </tbody>\n",
       "</table>\n",
       "<p>99441 rows × 2 columns</p>\n",
       "</div>"
      ],
      "text/plain": [
       "       customer_zip_code_prefix  geolocation_zip_code_prefix\n",
       "23914                      1003                       1003.0\n",
       "11747                      1004                       1004.0\n",
       "23990                      1004                       1004.0\n",
       "12307                      1005                       1005.0\n",
       "71571                      1005                       1005.0\n",
       "...                         ...                          ...\n",
       "97467                     72338                          NaN\n",
       "97780                     68629                          NaN\n",
       "98140                     28530                          NaN\n",
       "98878                     55863                          NaN\n",
       "99264                     72587                          NaN\n",
       "\n",
       "[99441 rows x 2 columns]"
      ]
     },
     "execution_count": 40,
     "metadata": {},
     "output_type": "execute_result"
    }
   ],
   "source": [
    "df_customers[['customer_zip_code_prefix','geolocation_zip_code_prefix']].sort_values('geolocation_zip_code_prefix', ascending = True)"
   ]
  },
  {
   "cell_type": "markdown",
   "metadata": {},
   "source": [
    "##### Cohérence des informations de localisation"
   ]
  },
  {
   "cell_type": "markdown",
   "metadata": {},
   "source": [
    "On vérifie si les valeurs de ville et d'état du dataset ***customers*** correspondent à celles du dataset ***geolocation_gr_0*** par la relation entre les variables **'customer_zip_code_prefix'** et **'geolocation_zip_code_prefix'**."
   ]
  },
  {
   "cell_type": "code",
   "execution_count": 41,
   "metadata": {},
   "outputs": [],
   "source": [
    "df_cust_loc_ctrl = df_customers.copy()\n",
    "df_cust_loc_ctrl = df_cust_loc_ctrl.dropna()"
   ]
  },
  {
   "cell_type": "markdown",
   "metadata": {},
   "source": [
    "Le programme ci-dessous transforme les valeurs des variables relatives aux **villes** et **états** en valeurs **non accentuées**, dans le but de les comparer."
   ]
  },
  {
   "cell_type": "code",
   "execution_count": 42,
   "metadata": {},
   "outputs": [],
   "source": [
    "import unidecode\n",
    "\n",
    "list_customer_city = df_cust_loc_ctrl['customer_city'].values.tolist()\n",
    "list_geolocation_city = df_cust_loc_ctrl['geolocation_city'].values.tolist()\n",
    "\n",
    "list_customer_city_2 = []\n",
    "\n",
    "for acc_val in list_customer_city:\n",
    "    # On transforme les valeurs en valeurs non accentuées\n",
    "    unacc_val = unidecode.unidecode(acc_val)\n",
    "    list_customer_city_2.append(unacc_val)\n",
    "\n",
    "# On remplace les valeurs de 'customer_city' par les valeurs non-accentuées de la liste list_customer_city_2\n",
    "df_cust_loc_ctrl = df_cust_loc_ctrl.assign(customer_city = list_customer_city_2)\n",
    "\n",
    "list_geolocation_city_2 = []\n",
    "\n",
    "for acc_val in list_geolocation_city:\n",
    "    unacc_val = unidecode.unidecode(acc_val)\n",
    "    list_geolocation_city_2.append(unacc_val)\n",
    "    \n",
    "df_cust_loc_ctrl = df_cust_loc_ctrl.assign(geolocation_city = list_geolocation_city_2)"
   ]
  },
  {
   "cell_type": "code",
   "execution_count": 43,
   "metadata": {},
   "outputs": [
    {
     "data": {
      "text/html": [
       "<div>\n",
       "<style scoped>\n",
       "    .dataframe tbody tr th:only-of-type {\n",
       "        vertical-align: middle;\n",
       "    }\n",
       "\n",
       "    .dataframe tbody tr th {\n",
       "        vertical-align: top;\n",
       "    }\n",
       "\n",
       "    .dataframe thead th {\n",
       "        text-align: right;\n",
       "    }\n",
       "</style>\n",
       "<table border=\"1\" class=\"dataframe\">\n",
       "  <thead>\n",
       "    <tr style=\"text-align: right;\">\n",
       "      <th></th>\n",
       "      <th>customer_id</th>\n",
       "      <th>customer_city</th>\n",
       "      <th>customer_state</th>\n",
       "      <th>geolocation_city</th>\n",
       "      <th>geolocation_state</th>\n",
       "    </tr>\n",
       "  </thead>\n",
       "  <tbody>\n",
       "    <tr>\n",
       "      <th>84790</th>\n",
       "      <td>00012a2ce6f8dcda20d059ce98491703</td>\n",
       "      <td>osasco</td>\n",
       "      <td>SP</td>\n",
       "      <td>osasco</td>\n",
       "      <td>SP</td>\n",
       "    </tr>\n",
       "    <tr>\n",
       "      <th>27335</th>\n",
       "      <td>000161a058600d5901f007fab4c27140</td>\n",
       "      <td>itapecerica</td>\n",
       "      <td>MG</td>\n",
       "      <td>itapecerica</td>\n",
       "      <td>MG</td>\n",
       "    </tr>\n",
       "    <tr>\n",
       "      <th>63792</th>\n",
       "      <td>0001fd6190edaaf884bcaf3d49edf079</td>\n",
       "      <td>nova venecia</td>\n",
       "      <td>ES</td>\n",
       "      <td>nova venecia</td>\n",
       "      <td>ES</td>\n",
       "    </tr>\n",
       "    <tr>\n",
       "      <th>97756</th>\n",
       "      <td>0002414f95344307404f0ace7a26f1d5</td>\n",
       "      <td>mendonca</td>\n",
       "      <td>MG</td>\n",
       "      <td>mendonca</td>\n",
       "      <td>MG</td>\n",
       "    </tr>\n",
       "    <tr>\n",
       "      <th>59921</th>\n",
       "      <td>000379cdec625522490c315e70c7a9fb</td>\n",
       "      <td>sao paulo</td>\n",
       "      <td>SP</td>\n",
       "      <td>sao paulo</td>\n",
       "      <td>SP</td>\n",
       "    </tr>\n",
       "  </tbody>\n",
       "</table>\n",
       "</div>"
      ],
      "text/plain": [
       "                            customer_id customer_city customer_state  \\\n",
       "84790  00012a2ce6f8dcda20d059ce98491703        osasco             SP   \n",
       "27335  000161a058600d5901f007fab4c27140   itapecerica             MG   \n",
       "63792  0001fd6190edaaf884bcaf3d49edf079  nova venecia             ES   \n",
       "97756  0002414f95344307404f0ace7a26f1d5      mendonca             MG   \n",
       "59921  000379cdec625522490c315e70c7a9fb     sao paulo             SP   \n",
       "\n",
       "      geolocation_city geolocation_state  \n",
       "84790           osasco                SP  \n",
       "27335      itapecerica                MG  \n",
       "63792     nova venecia                ES  \n",
       "97756         mendonca                MG  \n",
       "59921        sao paulo                SP  "
      ]
     },
     "execution_count": 43,
     "metadata": {},
     "output_type": "execute_result"
    }
   ],
   "source": [
    "df_cust_loc_ctrl[['customer_id','customer_city','customer_state','geolocation_city','geolocation_state']].sort_values('customer_id').head()"
   ]
  },
  {
   "cell_type": "code",
   "execution_count": 44,
   "metadata": {},
   "outputs": [
    {
     "data": {
      "text/plain": [
       "337"
      ]
     },
     "execution_count": 44,
     "metadata": {},
     "output_type": "execute_result"
    }
   ],
   "source": [
    "df_cust_loc_ctrl['compare'] = np.where(df_cust_loc_ctrl['customer_city'] == df_cust_loc_ctrl['geolocation_city'],1,0)\n",
    "df_cust_loc_ctrl[df_cust_loc_ctrl['compare'] == 0].shape[0]"
   ]
  },
  {
   "cell_type": "markdown",
   "metadata": {},
   "source": [
    "Les valeurs ne correspondent pas pour 337 références client.\n",
    "\n",
    "Nous n'avons pas les moyens de savoir quelles sont les valeurs justes.\n",
    "\n",
    "> Nous prenons comme référence les informations associées aux coordonnées géographiques."
   ]
  },
  {
   "cell_type": "markdown",
   "metadata": {},
   "source": [
    "> A ce stade, il n'est plus utile de disposer des valeurs de coordonnées géographiques, villes et états dans le dataframe pour la suite de l'analyse. En effet, la connaissance des prefix est suffisante.\n",
    ">\n",
    ">Lorsque nous aurons besoin de connaître les informations géographiques à partir des prefix, nous pourrons faire appel à tout moment une fusion avec le dataset ***geolocation_gr_0***."
   ]
  },
  {
   "cell_type": "code",
   "execution_count": 45,
   "metadata": {},
   "outputs": [],
   "source": [
    "del df_customers['customer_city']\n",
    "del df_customers['customer_state']\n",
    "del df_customers['geolocation_lat']\n",
    "del df_customers['geolocation_lng']\n",
    "del df_customers['geolocation_city']\n",
    "del df_customers['geolocation_state']"
   ]
  },
  {
   "cell_type": "markdown",
   "metadata": {},
   "source": [
    "Pour la suite de l'analyse, nous définissons également un nouveau dataset ***geolocation_gr*** qui ne contient que l'index des préfixes."
   ]
  },
  {
   "cell_type": "code",
   "execution_count": 46,
   "metadata": {},
   "outputs": [
    {
     "data": {
      "text/html": [
       "<div>\n",
       "<style scoped>\n",
       "    .dataframe tbody tr th:only-of-type {\n",
       "        vertical-align: middle;\n",
       "    }\n",
       "\n",
       "    .dataframe tbody tr th {\n",
       "        vertical-align: top;\n",
       "    }\n",
       "\n",
       "    .dataframe thead th {\n",
       "        text-align: right;\n",
       "    }\n",
       "</style>\n",
       "<table border=\"1\" class=\"dataframe\">\n",
       "  <thead>\n",
       "    <tr style=\"text-align: right;\">\n",
       "      <th></th>\n",
       "      <th>geolocation_zip_code_prefix</th>\n",
       "    </tr>\n",
       "  </thead>\n",
       "  <tbody>\n",
       "    <tr>\n",
       "      <th>0</th>\n",
       "      <td>1001</td>\n",
       "    </tr>\n",
       "    <tr>\n",
       "      <th>1</th>\n",
       "      <td>1002</td>\n",
       "    </tr>\n",
       "    <tr>\n",
       "      <th>2</th>\n",
       "      <td>1003</td>\n",
       "    </tr>\n",
       "    <tr>\n",
       "      <th>3</th>\n",
       "      <td>1004</td>\n",
       "    </tr>\n",
       "    <tr>\n",
       "      <th>4</th>\n",
       "      <td>1005</td>\n",
       "    </tr>\n",
       "  </tbody>\n",
       "</table>\n",
       "</div>"
      ],
      "text/plain": [
       "   geolocation_zip_code_prefix\n",
       "0                         1001\n",
       "1                         1002\n",
       "2                         1003\n",
       "3                         1004\n",
       "4                         1005"
      ]
     },
     "execution_count": 46,
     "metadata": {},
     "output_type": "execute_result"
    }
   ],
   "source": [
    "df_geolocation_gr = df_geolocation_gr_0[['geolocation_zip_code_prefix']]\n",
    "df_geolocation_gr.head()"
   ]
  },
  {
   "cell_type": "markdown",
   "metadata": {},
   "source": [
    "##### Unicité des informations de localisation par rapport aux clients uniques"
   ]
  },
  {
   "cell_type": "code",
   "execution_count": 47,
   "metadata": {},
   "outputs": [
    {
     "data": {
      "text/html": [
       "<div>\n",
       "<style scoped>\n",
       "    .dataframe tbody tr th:only-of-type {\n",
       "        vertical-align: middle;\n",
       "    }\n",
       "\n",
       "    .dataframe tbody tr th {\n",
       "        vertical-align: top;\n",
       "    }\n",
       "\n",
       "    .dataframe thead tr th {\n",
       "        text-align: left;\n",
       "    }\n",
       "\n",
       "    .dataframe thead tr:last-of-type th {\n",
       "        text-align: right;\n",
       "    }\n",
       "</style>\n",
       "<table border=\"1\" class=\"dataframe\">\n",
       "  <thead>\n",
       "    <tr>\n",
       "      <th></th>\n",
       "      <th colspan=\"3\" halign=\"left\">customer_zip_code_prefix</th>\n",
       "      <th>zip_control</th>\n",
       "    </tr>\n",
       "    <tr>\n",
       "      <th></th>\n",
       "      <th>first</th>\n",
       "      <th>sum</th>\n",
       "      <th>count</th>\n",
       "      <th></th>\n",
       "    </tr>\n",
       "    <tr>\n",
       "      <th>customer_unique_id</th>\n",
       "      <th></th>\n",
       "      <th></th>\n",
       "      <th></th>\n",
       "      <th></th>\n",
       "    </tr>\n",
       "  </thead>\n",
       "  <tbody>\n",
       "    <tr>\n",
       "      <th>47c1a3033b8b77b3ab6e109eb4d5fdf3</th>\n",
       "      <td>6634</td>\n",
       "      <td>39794</td>\n",
       "      <td>6</td>\n",
       "      <td>-1.666667</td>\n",
       "    </tr>\n",
       "    <tr>\n",
       "      <th>f34cd7fd85a1f8baff886edf09567be3</th>\n",
       "      <td>89120</td>\n",
       "      <td>356467</td>\n",
       "      <td>4</td>\n",
       "      <td>-3.250000</td>\n",
       "    </tr>\n",
       "    <tr>\n",
       "      <th>738ffcf1017b584e9d2684b36e07469c</th>\n",
       "      <td>74440</td>\n",
       "      <td>278990</td>\n",
       "      <td>4</td>\n",
       "      <td>-4692.500000</td>\n",
       "    </tr>\n",
       "    <tr>\n",
       "      <th>b9badb100ff8ecc16a403111209e3a06</th>\n",
       "      <td>3014</td>\n",
       "      <td>179124</td>\n",
       "      <td>3</td>\n",
       "      <td>56694.000000</td>\n",
       "    </tr>\n",
       "    <tr>\n",
       "      <th>bf6656ef50e6fd00e7517b01d615b4f3</th>\n",
       "      <td>29104</td>\n",
       "      <td>87310</td>\n",
       "      <td>3</td>\n",
       "      <td>-0.666667</td>\n",
       "    </tr>\n",
       "  </tbody>\n",
       "</table>\n",
       "</div>"
      ],
      "text/plain": [
       "                                 customer_zip_code_prefix                \\\n",
       "                                                    first     sum count   \n",
       "customer_unique_id                                                        \n",
       "47c1a3033b8b77b3ab6e109eb4d5fdf3                     6634   39794     6   \n",
       "f34cd7fd85a1f8baff886edf09567be3                    89120  356467     4   \n",
       "738ffcf1017b584e9d2684b36e07469c                    74440  278990     4   \n",
       "b9badb100ff8ecc16a403111209e3a06                     3014  179124     3   \n",
       "bf6656ef50e6fd00e7517b01d615b4f3                    29104   87310     3   \n",
       "\n",
       "                                   zip_control  \n",
       "                                                \n",
       "customer_unique_id                              \n",
       "47c1a3033b8b77b3ab6e109eb4d5fdf3     -1.666667  \n",
       "f34cd7fd85a1f8baff886edf09567be3     -3.250000  \n",
       "738ffcf1017b584e9d2684b36e07469c  -4692.500000  \n",
       "b9badb100ff8ecc16a403111209e3a06  56694.000000  \n",
       "bf6656ef50e6fd00e7517b01d615b4f3     -0.666667  "
      ]
     },
     "execution_count": 47,
     "metadata": {},
     "output_type": "execute_result"
    }
   ],
   "source": [
    "df_cust_loc = df_customers.groupby('customer_unique_id').agg({\n",
    "    'customer_zip_code_prefix': ['first','sum','count']}).sort_values(('customer_zip_code_prefix','count'),ascending=False)\n",
    "\n",
    "df_cust_loc['zip_control'] = (df_cust_loc[('customer_zip_code_prefix','sum')] / \n",
    "                       df_cust_loc[('customer_zip_code_prefix','count')]) - df_cust_loc[('customer_zip_code_prefix','first')]\n",
    "\n",
    "df_cust_loc[df_cust_loc['zip_control'] != 0].head()"
   ]
  },
  {
   "cell_type": "code",
   "execution_count": 48,
   "metadata": {},
   "outputs": [
    {
     "data": {
      "text/plain": [
       "249"
      ]
     },
     "execution_count": 48,
     "metadata": {},
     "output_type": "execute_result"
    }
   ],
   "source": [
    "df_cust_loc[df_cust_loc['zip_control'] != 0].shape[0]"
   ]
  },
  {
   "cell_type": "markdown",
   "metadata": {},
   "source": [
    "Les valeurs de **'customer_zip_code_prefix'** ne sont pas uniques pour **249 clients uniques**.\n",
    "\n",
    "> L'unicité de **'customer_zip_code_prefix'** n'est valable que pour la clé primaire **'customer_id'**."
   ]
  },
  {
   "cell_type": "markdown",
   "metadata": {},
   "source": [
    "Exemple:"
   ]
  },
  {
   "cell_type": "code",
   "execution_count": 49,
   "metadata": {
    "scrolled": true
   },
   "outputs": [
    {
     "data": {
      "text/html": [
       "<div>\n",
       "<style scoped>\n",
       "    .dataframe tbody tr th:only-of-type {\n",
       "        vertical-align: middle;\n",
       "    }\n",
       "\n",
       "    .dataframe tbody tr th {\n",
       "        vertical-align: top;\n",
       "    }\n",
       "\n",
       "    .dataframe thead th {\n",
       "        text-align: right;\n",
       "    }\n",
       "</style>\n",
       "<table border=\"1\" class=\"dataframe\">\n",
       "  <thead>\n",
       "    <tr style=\"text-align: right;\">\n",
       "      <th></th>\n",
       "      <th>customer_id</th>\n",
       "      <th>customer_unique_id</th>\n",
       "      <th>customer_zip_code_prefix</th>\n",
       "      <th>geolocation_zip_code_prefix</th>\n",
       "    </tr>\n",
       "  </thead>\n",
       "  <tbody>\n",
       "    <tr>\n",
       "      <th>134</th>\n",
       "      <td>acca74d2a60c03b46a5256c02cef9244</td>\n",
       "      <td>f34cd7fd85a1f8baff886edf09567be3</td>\n",
       "      <td>89120</td>\n",
       "      <td>89120.0</td>\n",
       "    </tr>\n",
       "    <tr>\n",
       "      <th>63532</th>\n",
       "      <td>eccf5f0bc39613de60c5ca015a5541c6</td>\n",
       "      <td>f34cd7fd85a1f8baff886edf09567be3</td>\n",
       "      <td>89120</td>\n",
       "      <td>89120.0</td>\n",
       "    </tr>\n",
       "    <tr>\n",
       "      <th>69188</th>\n",
       "      <td>05ce0877a2e5b2962c27bb5ebe62caad</td>\n",
       "      <td>f34cd7fd85a1f8baff886edf09567be3</td>\n",
       "      <td>89120</td>\n",
       "      <td>89120.0</td>\n",
       "    </tr>\n",
       "    <tr>\n",
       "      <th>94889</th>\n",
       "      <td>ebd63abbdb05e1f65308cf14a44a488a</td>\n",
       "      <td>f34cd7fd85a1f8baff886edf09567be3</td>\n",
       "      <td>89107</td>\n",
       "      <td>89107.0</td>\n",
       "    </tr>\n",
       "  </tbody>\n",
       "</table>\n",
       "</div>"
      ],
      "text/plain": [
       "                            customer_id                customer_unique_id  \\\n",
       "134    acca74d2a60c03b46a5256c02cef9244  f34cd7fd85a1f8baff886edf09567be3   \n",
       "63532  eccf5f0bc39613de60c5ca015a5541c6  f34cd7fd85a1f8baff886edf09567be3   \n",
       "69188  05ce0877a2e5b2962c27bb5ebe62caad  f34cd7fd85a1f8baff886edf09567be3   \n",
       "94889  ebd63abbdb05e1f65308cf14a44a488a  f34cd7fd85a1f8baff886edf09567be3   \n",
       "\n",
       "       customer_zip_code_prefix  geolocation_zip_code_prefix  \n",
       "134                       89120                      89120.0  \n",
       "63532                     89120                      89120.0  \n",
       "69188                     89120                      89120.0  \n",
       "94889                     89107                      89107.0  "
      ]
     },
     "execution_count": 49,
     "metadata": {},
     "output_type": "execute_result"
    }
   ],
   "source": [
    "df_customers[df_customers['customer_unique_id'] == 'f34cd7fd85a1f8baff886edf09567be3']"
   ]
  },
  {
   "cell_type": "markdown",
   "metadata": {},
   "source": [
    "##### Clients uniques"
   ]
  },
  {
   "cell_type": "code",
   "execution_count": 50,
   "metadata": {},
   "outputs": [
    {
     "data": {
      "text/html": [
       "<div>\n",
       "<style scoped>\n",
       "    .dataframe tbody tr th:only-of-type {\n",
       "        vertical-align: middle;\n",
       "    }\n",
       "\n",
       "    .dataframe tbody tr th {\n",
       "        vertical-align: top;\n",
       "    }\n",
       "\n",
       "    .dataframe thead th {\n",
       "        text-align: right;\n",
       "    }\n",
       "</style>\n",
       "<table border=\"1\" class=\"dataframe\">\n",
       "  <thead>\n",
       "    <tr style=\"text-align: right;\">\n",
       "      <th></th>\n",
       "      <th>Dataset</th>\n",
       "      <th>Shape</th>\n",
       "      <th>Variable</th>\n",
       "      <th>Duplicates</th>\n",
       "      <th>Unique</th>\n",
       "      <th>Null</th>\n",
       "    </tr>\n",
       "  </thead>\n",
       "  <tbody>\n",
       "    <tr>\n",
       "      <th>8</th>\n",
       "      <td>customers</td>\n",
       "      <td>99441</td>\n",
       "      <td>customer_id</td>\n",
       "      <td>0</td>\n",
       "      <td>99441</td>\n",
       "      <td>0</td>\n",
       "    </tr>\n",
       "    <tr>\n",
       "      <th>9</th>\n",
       "      <td>customers</td>\n",
       "      <td>99441</td>\n",
       "      <td>customer_unique_id</td>\n",
       "      <td>3345</td>\n",
       "      <td>96096</td>\n",
       "      <td>0</td>\n",
       "    </tr>\n",
       "  </tbody>\n",
       "</table>\n",
       "</div>"
      ],
      "text/plain": [
       "     Dataset  Shape            Variable  Duplicates  Unique  Null\n",
       "8  customers  99441         customer_id           0   99441     0\n",
       "9  customers  99441  customer_unique_id        3345   96096     0"
      ]
     },
     "execution_count": 50,
     "metadata": {},
     "output_type": "execute_result"
    }
   ],
   "source": [
    "data_model(df_customers,'customers','customer_id')\n",
    "data_model(df_customers,'customers','customer_unique_id',1,2)"
   ]
  },
  {
   "cell_type": "markdown",
   "metadata": {},
   "source": [
    "La clé du dataset ***customers*** est la variable **'customer_id'** mais ne représente pas une valeur unique de client.  \n",
    "\n",
    "> L'unicité du client est décrite par la variable **'customer_unique_id'**.\n",
    "\n",
    "La clé **'customer_id'** est en fait utilisée pour associer les commandes aux clients.\n",
    "\n",
    "Cette approche a l'inconvénient de dupliquer les données relatives aux clients comme on peut le voir dans l'exemple ci-dessous."
   ]
  },
  {
   "cell_type": "code",
   "execution_count": 51,
   "metadata": {},
   "outputs": [
    {
     "data": {
      "text/html": [
       "<div>\n",
       "<style scoped>\n",
       "    .dataframe tbody tr th:only-of-type {\n",
       "        vertical-align: middle;\n",
       "    }\n",
       "\n",
       "    .dataframe tbody tr th {\n",
       "        vertical-align: top;\n",
       "    }\n",
       "\n",
       "    .dataframe thead th {\n",
       "        text-align: right;\n",
       "    }\n",
       "</style>\n",
       "<table border=\"1\" class=\"dataframe\">\n",
       "  <thead>\n",
       "    <tr style=\"text-align: right;\">\n",
       "      <th></th>\n",
       "      <th>customer_id</th>\n",
       "      <th>customer_unique_id</th>\n",
       "      <th>customer_zip_code_prefix</th>\n",
       "      <th>geolocation_zip_code_prefix</th>\n",
       "    </tr>\n",
       "  </thead>\n",
       "  <tbody>\n",
       "    <tr>\n",
       "      <th>11055</th>\n",
       "      <td>78dbb0a0c4b3d6ca743616323a56c47b</td>\n",
       "      <td>32ea3bdedab835c3aa6cb68ce66565ef</td>\n",
       "      <td>4106</td>\n",
       "      <td>4106.0</td>\n",
       "    </tr>\n",
       "    <tr>\n",
       "      <th>38634</th>\n",
       "      <td>355077684019f7f60a031656bd7262b8</td>\n",
       "      <td>32ea3bdedab835c3aa6cb68ce66565ef</td>\n",
       "      <td>4106</td>\n",
       "      <td>4106.0</td>\n",
       "    </tr>\n",
       "    <tr>\n",
       "      <th>84616</th>\n",
       "      <td>ce0ae5c05efa10263bab504ec83c6a92</td>\n",
       "      <td>32ea3bdedab835c3aa6cb68ce66565ef</td>\n",
       "      <td>4106</td>\n",
       "      <td>4106.0</td>\n",
       "    </tr>\n",
       "  </tbody>\n",
       "</table>\n",
       "</div>"
      ],
      "text/plain": [
       "                            customer_id                customer_unique_id  \\\n",
       "11055  78dbb0a0c4b3d6ca743616323a56c47b  32ea3bdedab835c3aa6cb68ce66565ef   \n",
       "38634  355077684019f7f60a031656bd7262b8  32ea3bdedab835c3aa6cb68ce66565ef   \n",
       "84616  ce0ae5c05efa10263bab504ec83c6a92  32ea3bdedab835c3aa6cb68ce66565ef   \n",
       "\n",
       "       customer_zip_code_prefix  geolocation_zip_code_prefix  \n",
       "11055                      4106                       4106.0  \n",
       "38634                      4106                       4106.0  \n",
       "84616                      4106                       4106.0  "
      ]
     },
     "execution_count": 51,
     "metadata": {},
     "output_type": "execute_result"
    }
   ],
   "source": [
    "df_customers[df_customers['customer_unique_id'] == '32ea3bdedab835c3aa6cb68ce66565ef']"
   ]
  },
  {
   "cell_type": "code",
   "execution_count": 52,
   "metadata": {},
   "outputs": [
    {
     "name": "stdout",
     "output_type": "stream",
     "text": [
      "Dimensions df_customers (99441, 4)\n"
     ]
    }
   ],
   "source": [
    "print('Dimensions df_customers',df_customers.shape)"
   ]
  },
  {
   "cell_type": "markdown",
   "metadata": {},
   "source": [
    "#### cutomers vs orders"
   ]
  },
  {
   "cell_type": "code",
   "execution_count": 53,
   "metadata": {},
   "outputs": [
    {
     "data": {
      "text/html": [
       "<div>\n",
       "<style scoped>\n",
       "    .dataframe tbody tr th:only-of-type {\n",
       "        vertical-align: middle;\n",
       "    }\n",
       "\n",
       "    .dataframe tbody tr th {\n",
       "        vertical-align: top;\n",
       "    }\n",
       "\n",
       "    .dataframe thead th {\n",
       "        text-align: right;\n",
       "    }\n",
       "</style>\n",
       "<table border=\"1\" class=\"dataframe\">\n",
       "  <thead>\n",
       "    <tr style=\"text-align: right;\">\n",
       "      <th></th>\n",
       "      <th>Dataset</th>\n",
       "      <th>Shape</th>\n",
       "      <th>Variable</th>\n",
       "      <th>Duplicates</th>\n",
       "      <th>Unique</th>\n",
       "      <th>Null</th>\n",
       "    </tr>\n",
       "  </thead>\n",
       "  <tbody>\n",
       "    <tr>\n",
       "      <th>8</th>\n",
       "      <td>customers</td>\n",
       "      <td>99441</td>\n",
       "      <td>customer_id</td>\n",
       "      <td>0</td>\n",
       "      <td>99441</td>\n",
       "      <td>0</td>\n",
       "    </tr>\n",
       "    <tr>\n",
       "      <th>9</th>\n",
       "      <td>customers</td>\n",
       "      <td>99441</td>\n",
       "      <td>customer_unique_id</td>\n",
       "      <td>3345</td>\n",
       "      <td>96096</td>\n",
       "      <td>0</td>\n",
       "    </tr>\n",
       "    <tr>\n",
       "      <th>10</th>\n",
       "      <td>orders</td>\n",
       "      <td>99441</td>\n",
       "      <td>order_id</td>\n",
       "      <td>0</td>\n",
       "      <td>99441</td>\n",
       "      <td>0</td>\n",
       "    </tr>\n",
       "    <tr>\n",
       "      <th>11</th>\n",
       "      <td>orders</td>\n",
       "      <td>99441</td>\n",
       "      <td>customer_id</td>\n",
       "      <td>0</td>\n",
       "      <td>99441</td>\n",
       "      <td>0</td>\n",
       "    </tr>\n",
       "  </tbody>\n",
       "</table>\n",
       "</div>"
      ],
      "text/plain": [
       "      Dataset  Shape            Variable  Duplicates  Unique  Null\n",
       "8   customers  99441         customer_id           0   99441     0\n",
       "9   customers  99441  customer_unique_id        3345   96096     0\n",
       "10     orders  99441            order_id           0   99441     0\n",
       "11     orders  99441         customer_id           0   99441     0"
      ]
     },
     "execution_count": 53,
     "metadata": {},
     "output_type": "execute_result"
    }
   ],
   "source": [
    "data_model(df_orders,'orders','order_id')\n",
    "data_model(df_orders,'orders','customer_id',1,4)"
   ]
  },
  {
   "cell_type": "markdown",
   "metadata": {},
   "source": [
    "La clé du du dataset ***orders*** est la variable **'order_id'** qui définit les commandes.\n",
    "\n",
    "A chaque commande correspond une référence client, en l'occurence la variable **'customer_id'** liée à la variable éponyme du dataset ***customers***."
   ]
  },
  {
   "cell_type": "markdown",
   "metadata": {},
   "source": [
    "On vérifie que chaque commande est associée à une référence client et inversement."
   ]
  },
  {
   "cell_type": "code",
   "execution_count": 54,
   "metadata": {
    "scrolled": false
   },
   "outputs": [
    {
     "name": "stdout",
     "output_type": "stream",
     "text": [
      "Nombre d'enregistrements du dataset 'customers' non renseignés dans le dataset 'orders': 0\n",
      "Nombre d'enregistrements du dataset 'orders' non renseignés dans le dataset 'customers': 0\n"
     ]
    }
   ],
   "source": [
    "data_model_2(df_customers,df_orders,\n",
    "             'customers','orders',\n",
    "             'customer_id','customer_id')"
   ]
  },
  {
   "cell_type": "markdown",
   "metadata": {},
   "source": [
    "+ A un enregistrement de ***customers*** correspond 1 et 1 seul enregistrement de ***orders***.\n",
    "+ A un enregistrement de ***orders*** correspond 1 et 1 seul enregistrements de ***customers***."
   ]
  },
  {
   "cell_type": "markdown",
   "metadata": {},
   "source": [
    "#### Fusion - customers / orders"
   ]
  },
  {
   "cell_type": "markdown",
   "metadata": {},
   "source": [
    "Tous les références client sont référencées une et une seule fois dans le dataset ***order*** et inversement.\n",
    "\n",
    "> On fusionne donc les datasets ***customers*** et ***orders*** avec une contrainte de correspondance nécessaire (inner join).\n",
    ">\n",
    "> L'objectif est de connaitre l'identifiant unique des clients par commande."
   ]
  },
  {
   "cell_type": "code",
   "execution_count": 55,
   "metadata": {
    "scrolled": false
   },
   "outputs": [
    {
     "name": "stdout",
     "output_type": "stream",
     "text": [
      "<class 'pandas.core.frame.DataFrame'>\n",
      "Int64Index: 99441 entries, 0 to 99440\n",
      "Data columns (total 9 columns):\n",
      " #   Column                       Non-Null Count  Dtype  \n",
      "---  ------                       --------------  -----  \n",
      " 0   customer_id                  99441 non-null  object \n",
      " 1   customer_unique_id           99441 non-null  object \n",
      " 2   customer_zip_code_prefix     99441 non-null  int64  \n",
      " 3   geolocation_zip_code_prefix  99163 non-null  float64\n",
      " 4   order_id                     99441 non-null  object \n",
      " 5   order_status                 99441 non-null  object \n",
      " 6   order_purchase_timestamp     99441 non-null  object \n",
      " 7   score_mean_per_ord           99441 non-null  float64\n",
      " 8   score_count_per_ord          99441 non-null  int64  \n",
      "dtypes: float64(2), int64(2), object(5)\n",
      "memory usage: 7.6+ MB\n",
      "None\n",
      "\n",
      "Nombre de valeurs uniques pour 'customer_unique_id': 96096\n"
     ]
    }
   ],
   "source": [
    "df_customers_orders = df_customers.merge(df_orders, left_on = 'customer_id', right_on = 'customer_id', how = 'inner')\n",
    "print(df_customers_orders.info())\n",
    "print('')\n",
    "print('Nombre de valeurs uniques pour \\'customer_unique_id\\':',df_customers_orders['customer_unique_id'].unique().shape[0])"
   ]
  },
  {
   "cell_type": "markdown",
   "metadata": {},
   "source": [
    "##### Variable - 'order_status'"
   ]
  },
  {
   "cell_type": "markdown",
   "metadata": {},
   "source": [
    "La variable **'order_status'** est une variable catégorielle. Elle contient les valeurs uniques suivantes:"
   ]
  },
  {
   "cell_type": "code",
   "execution_count": 56,
   "metadata": {},
   "outputs": [
    {
     "name": "stdout",
     "output_type": "stream",
     "text": [
      "\n",
      "Valeurs possibles de 'order_status'\n",
      "-----------------------------------\n",
      "['delivered' 'invoiced' 'shipped' 'processing' 'unavailable' 'canceled'\n",
      " 'created' 'approved']\n",
      "\n",
      "Nombre de clients par valeur de 'order_status'\n",
      "----------------------------------------------\n",
      "              customer_id\n",
      "order_status             \n",
      "approved                2\n",
      "canceled              625\n",
      "created                 5\n",
      "delivered           96478\n",
      "invoiced              314\n",
      "processing            301\n",
      "shipped              1107\n",
      "unavailable           609\n"
     ]
    }
   ],
   "source": [
    "title('Valeurs possibles de \\'order_status\\'')\n",
    "print(df_orders['order_status'].dropna().unique())\n",
    "title('Nombre de clients par valeur de \\'order_status\\'')\n",
    "print(df_orders[['customer_id','order_status']].groupby(['order_status']).count())"
   ]
  },
  {
   "cell_type": "code",
   "execution_count": 57,
   "metadata": {},
   "outputs": [
    {
     "data": {
      "text/plain": [
       "(2963, 6)"
      ]
     },
     "execution_count": 57,
     "metadata": {},
     "output_type": "execute_result"
    }
   ],
   "source": [
    "df_orders[df_orders['order_status'] !='delivered'].shape"
   ]
  },
  {
   "cell_type": "code",
   "execution_count": 58,
   "metadata": {},
   "outputs": [
    {
     "name": "stdout",
     "output_type": "stream",
     "text": [
      "Durée de l'opération 'Fusion 2: Clients / Commandes': 2.84 s\n",
      "Durée totale de traitement: 00 h 00 m 08 s\n"
     ]
    }
   ],
   "source": [
    "time_calc('Fusion 2: Clients / Commandes')\n",
    "t = time.time()"
   ]
  },
  {
   "cell_type": "markdown",
   "metadata": {},
   "source": [
    "##### Variable - 'score_mean_per_cust'"
   ]
  },
  {
   "cell_type": "code",
   "execution_count": 59,
   "metadata": {},
   "outputs": [
    {
     "data": {
      "text/plain": [
       "['customer_id',\n",
       " 'customer_unique_id',\n",
       " 'customer_zip_code_prefix',\n",
       " 'geolocation_zip_code_prefix',\n",
       " 'order_id',\n",
       " 'order_status',\n",
       " 'order_purchase_timestamp',\n",
       " 'score_mean_per_ord',\n",
       " 'score_count_per_ord']"
      ]
     },
     "execution_count": 59,
     "metadata": {},
     "output_type": "execute_result"
    }
   ],
   "source": [
    "df_customers_orders.columns.tolist()"
   ]
  },
  {
   "cell_type": "code",
   "execution_count": 60,
   "metadata": {},
   "outputs": [
    {
     "data": {
      "text/html": [
       "<div>\n",
       "<style scoped>\n",
       "    .dataframe tbody tr th:only-of-type {\n",
       "        vertical-align: middle;\n",
       "    }\n",
       "\n",
       "    .dataframe tbody tr th {\n",
       "        vertical-align: top;\n",
       "    }\n",
       "\n",
       "    .dataframe thead th {\n",
       "        text-align: right;\n",
       "    }\n",
       "</style>\n",
       "<table border=\"1\" class=\"dataframe\">\n",
       "  <thead>\n",
       "    <tr style=\"text-align: right;\">\n",
       "      <th></th>\n",
       "      <th>customer_unique_id</th>\n",
       "      <th>score_mean_per_cust</th>\n",
       "    </tr>\n",
       "  </thead>\n",
       "  <tbody>\n",
       "    <tr>\n",
       "      <th>0</th>\n",
       "      <td>0000366f3b9a7992bf8c76cfdf3221e2</td>\n",
       "      <td>5.0</td>\n",
       "    </tr>\n",
       "    <tr>\n",
       "      <th>1</th>\n",
       "      <td>0000b849f77a49e4a4ce2b2a4ca5be3f</td>\n",
       "      <td>4.0</td>\n",
       "    </tr>\n",
       "    <tr>\n",
       "      <th>2</th>\n",
       "      <td>0000f46a3911fa3c0805444483337064</td>\n",
       "      <td>3.0</td>\n",
       "    </tr>\n",
       "    <tr>\n",
       "      <th>3</th>\n",
       "      <td>0000f6ccb0745a6a4b88665a16c9f078</td>\n",
       "      <td>4.0</td>\n",
       "    </tr>\n",
       "    <tr>\n",
       "      <th>4</th>\n",
       "      <td>0004aac84e0df4da2b147fca70cf8255</td>\n",
       "      <td>5.0</td>\n",
       "    </tr>\n",
       "  </tbody>\n",
       "</table>\n",
       "</div>"
      ],
      "text/plain": [
       "                 customer_unique_id  score_mean_per_cust\n",
       "0  0000366f3b9a7992bf8c76cfdf3221e2                  5.0\n",
       "1  0000b849f77a49e4a4ce2b2a4ca5be3f                  4.0\n",
       "2  0000f46a3911fa3c0805444483337064                  3.0\n",
       "3  0000f6ccb0745a6a4b88665a16c9f078                  4.0\n",
       "4  0004aac84e0df4da2b147fca70cf8255                  5.0"
      ]
     },
     "execution_count": 60,
     "metadata": {},
     "output_type": "execute_result"
    }
   ],
   "source": [
    "df_sco = df_customers_orders[['customer_unique_id','score_mean_per_ord']].groupby('customer_unique_id').mean()\n",
    "df_sco = df_sco.reset_index()\n",
    "df_sco = df_sco.rename(columns={('score_mean_per_ord'): 'score_mean_per_cust'}, inplace = False)\n",
    "df_sco.head()"
   ]
  },
  {
   "cell_type": "code",
   "execution_count": 61,
   "metadata": {},
   "outputs": [],
   "source": [
    "df_customers_orders = df_customers_orders.merge(df_sco, left_on = 'customer_unique_id', right_on = 'customer_unique_id', how = 'inner')"
   ]
  },
  {
   "cell_type": "code",
   "execution_count": 62,
   "metadata": {},
   "outputs": [],
   "source": [
    "df_customers_orders = df_customers_orders.rename(columns={('review_score', 'mean'): 'score_per_order'}, inplace = False)"
   ]
  },
  {
   "cell_type": "code",
   "execution_count": 63,
   "metadata": {},
   "outputs": [
    {
     "data": {
      "text/html": [
       "<div>\n",
       "<style scoped>\n",
       "    .dataframe tbody tr th:only-of-type {\n",
       "        vertical-align: middle;\n",
       "    }\n",
       "\n",
       "    .dataframe tbody tr th {\n",
       "        vertical-align: top;\n",
       "    }\n",
       "\n",
       "    .dataframe thead th {\n",
       "        text-align: right;\n",
       "    }\n",
       "</style>\n",
       "<table border=\"1\" class=\"dataframe\">\n",
       "  <thead>\n",
       "    <tr style=\"text-align: right;\">\n",
       "      <th></th>\n",
       "      <th>customer_unique_id</th>\n",
       "      <th>score_mean_per_cust</th>\n",
       "    </tr>\n",
       "  </thead>\n",
       "  <tbody>\n",
       "    <tr>\n",
       "      <th>0</th>\n",
       "      <td>861eff4711a542e4b93843c6dd7febb0</td>\n",
       "      <td>4.0</td>\n",
       "    </tr>\n",
       "    <tr>\n",
       "      <th>1</th>\n",
       "      <td>290c77bc529b7ac935b93aa66c333dc3</td>\n",
       "      <td>5.0</td>\n",
       "    </tr>\n",
       "    <tr>\n",
       "      <th>2</th>\n",
       "      <td>060e732b5b29e8181a18229c7b0b2b5e</td>\n",
       "      <td>5.0</td>\n",
       "    </tr>\n",
       "    <tr>\n",
       "      <th>3</th>\n",
       "      <td>259dac757896d24d7702b9acbbff3f3c</td>\n",
       "      <td>5.0</td>\n",
       "    </tr>\n",
       "    <tr>\n",
       "      <th>4</th>\n",
       "      <td>345ecd01c38d18a9036ed96c73b8d066</td>\n",
       "      <td>5.0</td>\n",
       "    </tr>\n",
       "  </tbody>\n",
       "</table>\n",
       "</div>"
      ],
      "text/plain": [
       "                 customer_unique_id  score_mean_per_cust\n",
       "0  861eff4711a542e4b93843c6dd7febb0                  4.0\n",
       "1  290c77bc529b7ac935b93aa66c333dc3                  5.0\n",
       "2  060e732b5b29e8181a18229c7b0b2b5e                  5.0\n",
       "3  259dac757896d24d7702b9acbbff3f3c                  5.0\n",
       "4  345ecd01c38d18a9036ed96c73b8d066                  5.0"
      ]
     },
     "execution_count": 63,
     "metadata": {},
     "output_type": "execute_result"
    }
   ],
   "source": [
    "df_customers_orders[['customer_unique_id','score_mean_per_cust']].head()"
   ]
  },
  {
   "cell_type": "code",
   "execution_count": 64,
   "metadata": {},
   "outputs": [
    {
     "name": "stdout",
     "output_type": "stream",
     "text": [
      "Dimensions df_customers_orders (99441, 10)\n"
     ]
    }
   ],
   "source": [
    "print('Dimensions df_customers_orders',df_customers_orders.shape)"
   ]
  },
  {
   "cell_type": "markdown",
   "metadata": {},
   "source": [
    "### Fusion 3: Items / Produits <a class=\"anchor\" id=\"fus_3\"></a>"
   ]
  },
  {
   "cell_type": "markdown",
   "metadata": {},
   "source": [
    "**Etape 1 / 4:** On s'intéresse tout d'abord à la relation entre les items et les vendeurs."
   ]
  },
  {
   "cell_type": "markdown",
   "metadata": {},
   "source": [
    "#### Dataset - order_items"
   ]
  },
  {
   "cell_type": "code",
   "execution_count": 65,
   "metadata": {},
   "outputs": [
    {
     "name": "stdout",
     "output_type": "stream",
     "text": [
      "<class 'pandas.core.frame.DataFrame'>\n",
      "RangeIndex: 112650 entries, 0 to 112649\n",
      "Data columns (total 7 columns):\n",
      " #   Column               Non-Null Count   Dtype  \n",
      "---  ------               --------------   -----  \n",
      " 0   order_id             112650 non-null  object \n",
      " 1   order_item_id        112650 non-null  int64  \n",
      " 2   product_id           112650 non-null  object \n",
      " 3   seller_id            112650 non-null  object \n",
      " 4   shipping_limit_date  112650 non-null  object \n",
      " 5   price                112650 non-null  float64\n",
      " 6   freight_value        112650 non-null  float64\n",
      "dtypes: float64(2), int64(1), object(4)\n",
      "memory usage: 6.0+ MB\n"
     ]
    }
   ],
   "source": [
    "df_order_items.info()"
   ]
  },
  {
   "cell_type": "markdown",
   "metadata": {},
   "source": [
    "On supprime les variables qui ne nous intéressent pas."
   ]
  },
  {
   "cell_type": "code",
   "execution_count": 66,
   "metadata": {},
   "outputs": [],
   "source": [
    "del df_order_items['shipping_limit_date']"
   ]
  },
  {
   "cell_type": "markdown",
   "metadata": {},
   "source": [
    "#### Dataset - sellers"
   ]
  },
  {
   "cell_type": "code",
   "execution_count": 67,
   "metadata": {},
   "outputs": [
    {
     "name": "stdout",
     "output_type": "stream",
     "text": [
      "<class 'pandas.core.frame.DataFrame'>\n",
      "RangeIndex: 3095 entries, 0 to 3094\n",
      "Data columns (total 4 columns):\n",
      " #   Column                  Non-Null Count  Dtype \n",
      "---  ------                  --------------  ----- \n",
      " 0   seller_id               3095 non-null   object\n",
      " 1   seller_zip_code_prefix  3095 non-null   int64 \n",
      " 2   seller_city             3095 non-null   object\n",
      " 3   seller_state            3095 non-null   object\n",
      "dtypes: int64(1), object(3)\n",
      "memory usage: 96.8+ KB\n"
     ]
    }
   ],
   "source": [
    "df_sellers.info(verbose=True)"
   ]
  },
  {
   "cell_type": "markdown",
   "metadata": {},
   "source": [
    "On vérifie que chaque vendeur à une localisation unique."
   ]
  },
  {
   "cell_type": "code",
   "execution_count": 68,
   "metadata": {},
   "outputs": [
    {
     "data": {
      "text/html": [
       "<div>\n",
       "<style scoped>\n",
       "    .dataframe tbody tr th:only-of-type {\n",
       "        vertical-align: middle;\n",
       "    }\n",
       "\n",
       "    .dataframe tbody tr th {\n",
       "        vertical-align: top;\n",
       "    }\n",
       "\n",
       "    .dataframe thead th {\n",
       "        text-align: right;\n",
       "    }\n",
       "</style>\n",
       "<table border=\"1\" class=\"dataframe\">\n",
       "  <thead>\n",
       "    <tr style=\"text-align: right;\">\n",
       "      <th></th>\n",
       "      <th>seller_zip_code_prefix</th>\n",
       "    </tr>\n",
       "    <tr>\n",
       "      <th>seller_id</th>\n",
       "      <th></th>\n",
       "    </tr>\n",
       "  </thead>\n",
       "  <tbody>\n",
       "    <tr>\n",
       "      <th>0015a82c2db000af6aaaf3ae2ecb0532</th>\n",
       "      <td>1</td>\n",
       "    </tr>\n",
       "    <tr>\n",
       "      <th>a7a9b880c49781da66651ccf4ba9ac38</th>\n",
       "      <td>1</td>\n",
       "    </tr>\n",
       "  </tbody>\n",
       "</table>\n",
       "</div>"
      ],
      "text/plain": [
       "                                  seller_zip_code_prefix\n",
       "seller_id                                               \n",
       "0015a82c2db000af6aaaf3ae2ecb0532                       1\n",
       "a7a9b880c49781da66651ccf4ba9ac38                       1"
      ]
     },
     "execution_count": 68,
     "metadata": {},
     "output_type": "execute_result"
    }
   ],
   "source": [
    "df_sellers.groupby('seller_id').agg({'seller_zip_code_prefix': 'count'}).sort_values('seller_zip_code_prefix',ascending=False).head(2)"
   ]
  },
  {
   "cell_type": "markdown",
   "metadata": {},
   "source": [
    "#### order_items vs sellers"
   ]
  },
  {
   "cell_type": "code",
   "execution_count": 69,
   "metadata": {},
   "outputs": [
    {
     "data": {
      "text/html": [
       "<div>\n",
       "<style scoped>\n",
       "    .dataframe tbody tr th:only-of-type {\n",
       "        vertical-align: middle;\n",
       "    }\n",
       "\n",
       "    .dataframe tbody tr th {\n",
       "        vertical-align: top;\n",
       "    }\n",
       "\n",
       "    .dataframe thead th {\n",
       "        text-align: right;\n",
       "    }\n",
       "</style>\n",
       "<table border=\"1\" class=\"dataframe\">\n",
       "  <thead>\n",
       "    <tr style=\"text-align: right;\">\n",
       "      <th></th>\n",
       "      <th>Dataset</th>\n",
       "      <th>Shape</th>\n",
       "      <th>Variable</th>\n",
       "      <th>Duplicates</th>\n",
       "      <th>Unique</th>\n",
       "      <th>Null</th>\n",
       "    </tr>\n",
       "  </thead>\n",
       "  <tbody>\n",
       "    <tr>\n",
       "      <th>12</th>\n",
       "      <td>order_items</td>\n",
       "      <td>112650</td>\n",
       "      <td>seller_id</td>\n",
       "      <td>109555</td>\n",
       "      <td>3095</td>\n",
       "      <td>0</td>\n",
       "    </tr>\n",
       "    <tr>\n",
       "      <th>13</th>\n",
       "      <td>sellers</td>\n",
       "      <td>3095</td>\n",
       "      <td>seller_id</td>\n",
       "      <td>0</td>\n",
       "      <td>3095</td>\n",
       "      <td>0</td>\n",
       "    </tr>\n",
       "  </tbody>\n",
       "</table>\n",
       "</div>"
      ],
      "text/plain": [
       "        Dataset   Shape   Variable  Duplicates  Unique  Null\n",
       "12  order_items  112650  seller_id      109555    3095     0\n",
       "13      sellers    3095  seller_id           0    3095     0"
      ]
     },
     "execution_count": 69,
     "metadata": {},
     "output_type": "execute_result"
    }
   ],
   "source": [
    "data_model(df_order_items,'order_items','seller_id')\n",
    "data_model(df_sellers,'sellers','seller_id',1,2)"
   ]
  },
  {
   "cell_type": "code",
   "execution_count": 70,
   "metadata": {},
   "outputs": [
    {
     "name": "stdout",
     "output_type": "stream",
     "text": [
      "Nombre d'enregistrements du dataset 'order_items' non renseignés dans le dataset 'sellers': 0\n",
      "Nombre d'enregistrements du dataset 'sellers' non renseignés dans le dataset 'order_items': 0\n"
     ]
    }
   ],
   "source": [
    "data_model_2(df_order_items,df_sellers,'order_items','sellers','seller_id','seller_id')"
   ]
  },
  {
   "cell_type": "markdown",
   "metadata": {},
   "source": [
    "+ A un enregistrement de ***order_items*** correspond 1 et 1 seul enregistrement de ***sellers***.\n",
    "+ A un enregistrement de ***sellers*** correspondent 1 ou plusieurs enregistrements de ***order_items***."
   ]
  },
  {
   "cell_type": "markdown",
   "metadata": {},
   "source": [
    "#### Fusion - order_items / sellers"
   ]
  },
  {
   "cell_type": "markdown",
   "metadata": {},
   "source": [
    "Tous les vendeurs ont été référencés au moins une fois dans le dataset ***order_items*** et chaque enregistrement de ***order_items*** a une référence dans ***sellers***.\n",
    "\n",
    "> On fusionne donc les datasets ***order_items*** et ***sellers*** avec une contrainte de correspondance nécessaire (inner join)."
   ]
  },
  {
   "cell_type": "markdown",
   "metadata": {},
   "source": [
    "On supprime les variables qui ne nous intéressent pas."
   ]
  },
  {
   "cell_type": "code",
   "execution_count": 71,
   "metadata": {
    "scrolled": true
   },
   "outputs": [
    {
     "name": "stdout",
     "output_type": "stream",
     "text": [
      "<class 'pandas.core.frame.DataFrame'>\n",
      "Int64Index: 112650 entries, 0 to 112649\n",
      "Data columns (total 9 columns):\n",
      " #   Column                  Non-Null Count   Dtype  \n",
      "---  ------                  --------------   -----  \n",
      " 0   order_id                112650 non-null  object \n",
      " 1   order_item_id           112650 non-null  int64  \n",
      " 2   product_id              112650 non-null  object \n",
      " 3   seller_id               112650 non-null  object \n",
      " 4   price                   112650 non-null  float64\n",
      " 5   freight_value           112650 non-null  float64\n",
      " 6   seller_zip_code_prefix  112650 non-null  int64  \n",
      " 7   seller_city             112650 non-null  object \n",
      " 8   seller_state            112650 non-null  object \n",
      "dtypes: float64(2), int64(2), object(5)\n",
      "memory usage: 8.6+ MB\n"
     ]
    }
   ],
   "source": [
    "df_order_items = df_order_items.merge(df_sellers, left_on = 'seller_id', right_on = 'seller_id', how = 'inner')\n",
    "df_order_items.info()"
   ]
  },
  {
   "cell_type": "code",
   "execution_count": 72,
   "metadata": {},
   "outputs": [],
   "source": [
    "del df_order_items['seller_city']\n",
    "del df_order_items['seller_state']"
   ]
  },
  {
   "cell_type": "markdown",
   "metadata": {},
   "source": [
    "**Etape 2 / 4:** On s'intéresse à la localisation des vendeurs."
   ]
  },
  {
   "cell_type": "markdown",
   "metadata": {},
   "source": [
    "Les enregistrements du (nouveau) dataset ***order_items*** sont reliés au dataset ***geolocation_gr*** par les variables **'seller_zip_code_prefix'** et **'geolocation_zip_code_prefix'**."
   ]
  },
  {
   "cell_type": "markdown",
   "metadata": {},
   "source": [
    "#### order_items vs geolocation_gr"
   ]
  },
  {
   "cell_type": "code",
   "execution_count": 73,
   "metadata": {},
   "outputs": [
    {
     "data": {
      "text/html": [
       "<div>\n",
       "<style scoped>\n",
       "    .dataframe tbody tr th:only-of-type {\n",
       "        vertical-align: middle;\n",
       "    }\n",
       "\n",
       "    .dataframe tbody tr th {\n",
       "        vertical-align: top;\n",
       "    }\n",
       "\n",
       "    .dataframe thead th {\n",
       "        text-align: right;\n",
       "    }\n",
       "</style>\n",
       "<table border=\"1\" class=\"dataframe\">\n",
       "  <thead>\n",
       "    <tr style=\"text-align: right;\">\n",
       "      <th></th>\n",
       "      <th>Dataset</th>\n",
       "      <th>Shape</th>\n",
       "      <th>Variable</th>\n",
       "      <th>Duplicates</th>\n",
       "      <th>Unique</th>\n",
       "      <th>Null</th>\n",
       "    </tr>\n",
       "  </thead>\n",
       "  <tbody>\n",
       "    <tr>\n",
       "      <th>14</th>\n",
       "      <td>order_items</td>\n",
       "      <td>112650</td>\n",
       "      <td>seller_zip_code_prefix</td>\n",
       "      <td>110404</td>\n",
       "      <td>2246</td>\n",
       "      <td>0</td>\n",
       "    </tr>\n",
       "    <tr>\n",
       "      <th>15</th>\n",
       "      <td>geolocation_gr</td>\n",
       "      <td>19015</td>\n",
       "      <td>geolocation_zip_code_prefix</td>\n",
       "      <td>0</td>\n",
       "      <td>19015</td>\n",
       "      <td>0</td>\n",
       "    </tr>\n",
       "  </tbody>\n",
       "</table>\n",
       "</div>"
      ],
      "text/plain": [
       "           Dataset   Shape                     Variable  Duplicates  Unique  \\\n",
       "14     order_items  112650       seller_zip_code_prefix      110404    2246   \n",
       "15  geolocation_gr   19015  geolocation_zip_code_prefix           0   19015   \n",
       "\n",
       "    Null  \n",
       "14     0  \n",
       "15     0  "
      ]
     },
     "execution_count": 73,
     "metadata": {},
     "output_type": "execute_result"
    }
   ],
   "source": [
    "data_model(df_order_items,'order_items','seller_zip_code_prefix')\n",
    "data_model(df_geolocation_gr,'geolocation_gr','geolocation_zip_code_prefix',1,2)"
   ]
  },
  {
   "cell_type": "code",
   "execution_count": 74,
   "metadata": {
    "scrolled": false
   },
   "outputs": [
    {
     "name": "stdout",
     "output_type": "stream",
     "text": [
      "Nombre d'enregistrements du dataset 'order_items' non renseignés dans le dataset 'geolocation_gr': 253\n",
      "Nombre d'enregistrements du dataset 'geolocation_gr' non renseignés dans le dataset 'order_items': 16776\n"
     ]
    }
   ],
   "source": [
    "data_model_2(df_order_items,df_geolocation_gr,\n",
    "             'order_items','geolocation_gr',\n",
    "             'seller_zip_code_prefix','geolocation_zip_code_prefix')"
   ]
  },
  {
   "cell_type": "markdown",
   "metadata": {},
   "source": [
    "+ A un enregistrement de ***order_items*** correspond 0 ou 1 enregistrement de ***geolocation_gr***.\n",
    "+ A un enregistrement de ***geolocation_gr*** correspondent 0 ou plusieurs enregistrements de ***order_items***."
   ]
  },
  {
   "cell_type": "markdown",
   "metadata": {},
   "source": [
    "#### Fusion - order_items / geolocation_gr"
   ]
  },
  {
   "cell_type": "markdown",
   "metadata": {},
   "source": [
    "Les lignes de commandes n'ont pas toutes de correspondance dans le dataset ***geolocation_gr***.\n",
    "\n",
    "> On fusionne donc les datasets ***order_items*** et ***geolocation_gr*** avec une contrainte de correspondance facultative sur ***geolocation_gr***  (left join)."
   ]
  },
  {
   "cell_type": "code",
   "execution_count": 75,
   "metadata": {},
   "outputs": [],
   "source": [
    "df_order_items = df_order_items.merge(df_geolocation_gr, left_on = 'seller_zip_code_prefix', right_on = 'geolocation_zip_code_prefix', how = 'left')"
   ]
  },
  {
   "cell_type": "code",
   "execution_count": 76,
   "metadata": {},
   "outputs": [
    {
     "name": "stdout",
     "output_type": "stream",
     "text": [
      "Dimensions df_order_items (112650, 8)\n"
     ]
    }
   ],
   "source": [
    "print('Dimensions df_order_items',df_order_items.shape)"
   ]
  },
  {
   "cell_type": "markdown",
   "metadata": {},
   "source": [
    "**Etape 3 / 4:** On s'intéresse maintenant à la relation entre les produits et les catégories."
   ]
  },
  {
   "cell_type": "markdown",
   "metadata": {},
   "source": [
    "#### Dataset - products"
   ]
  },
  {
   "cell_type": "code",
   "execution_count": 77,
   "metadata": {},
   "outputs": [
    {
     "name": "stdout",
     "output_type": "stream",
     "text": [
      "<class 'pandas.core.frame.DataFrame'>\n",
      "RangeIndex: 32951 entries, 0 to 32950\n",
      "Data columns (total 9 columns):\n",
      " #   Column                      Non-Null Count  Dtype  \n",
      "---  ------                      --------------  -----  \n",
      " 0   product_id                  32951 non-null  object \n",
      " 1   product_category_name       32341 non-null  object \n",
      " 2   product_name_lenght         32341 non-null  float64\n",
      " 3   product_description_lenght  32341 non-null  float64\n",
      " 4   product_photos_qty          32341 non-null  float64\n",
      " 5   product_weight_g            32949 non-null  float64\n",
      " 6   product_length_cm           32949 non-null  float64\n",
      " 7   product_height_cm           32949 non-null  float64\n",
      " 8   product_width_cm            32949 non-null  float64\n",
      "dtypes: float64(7), object(2)\n",
      "memory usage: 2.3+ MB\n"
     ]
    }
   ],
   "source": [
    "df_products.info()"
   ]
  },
  {
   "cell_type": "markdown",
   "metadata": {},
   "source": [
    "On supprime les variables qui ne nous intéressent pas."
   ]
  },
  {
   "cell_type": "code",
   "execution_count": 78,
   "metadata": {},
   "outputs": [],
   "source": [
    "del df_products['product_name_lenght']\n",
    "del df_products['product_description_lenght']\n",
    "del df_products['product_photos_qty']\n",
    "del df_products['product_weight_g']\n",
    "del df_products['product_length_cm']\n",
    "del df_products['product_height_cm']\n",
    "del df_products['product_width_cm']"
   ]
  },
  {
   "cell_type": "markdown",
   "metadata": {},
   "source": [
    "#### Dataset - product_category_name_translation"
   ]
  },
  {
   "cell_type": "code",
   "execution_count": 79,
   "metadata": {},
   "outputs": [
    {
     "name": "stdout",
     "output_type": "stream",
     "text": [
      "<class 'pandas.core.frame.DataFrame'>\n",
      "RangeIndex: 71 entries, 0 to 70\n",
      "Data columns (total 2 columns):\n",
      " #   Column                         Non-Null Count  Dtype \n",
      "---  ------                         --------------  ----- \n",
      " 0   product_category_name          71 non-null     object\n",
      " 1   product_category_name_english  71 non-null     object\n",
      "dtypes: object(2)\n",
      "memory usage: 1.2+ KB\n"
     ]
    }
   ],
   "source": [
    "df_product_category_name_translation.info()"
   ]
  },
  {
   "cell_type": "markdown",
   "metadata": {},
   "source": [
    "#### products vs product_category_name_translation"
   ]
  },
  {
   "cell_type": "code",
   "execution_count": 80,
   "metadata": {},
   "outputs": [
    {
     "data": {
      "text/html": [
       "<div>\n",
       "<style scoped>\n",
       "    .dataframe tbody tr th:only-of-type {\n",
       "        vertical-align: middle;\n",
       "    }\n",
       "\n",
       "    .dataframe tbody tr th {\n",
       "        vertical-align: top;\n",
       "    }\n",
       "\n",
       "    .dataframe thead th {\n",
       "        text-align: right;\n",
       "    }\n",
       "</style>\n",
       "<table border=\"1\" class=\"dataframe\">\n",
       "  <thead>\n",
       "    <tr style=\"text-align: right;\">\n",
       "      <th></th>\n",
       "      <th>Dataset</th>\n",
       "      <th>Shape</th>\n",
       "      <th>Variable</th>\n",
       "      <th>Duplicates</th>\n",
       "      <th>Unique</th>\n",
       "      <th>Null</th>\n",
       "    </tr>\n",
       "  </thead>\n",
       "  <tbody>\n",
       "    <tr>\n",
       "      <th>16</th>\n",
       "      <td>products</td>\n",
       "      <td>32951</td>\n",
       "      <td>product_id</td>\n",
       "      <td>0</td>\n",
       "      <td>32951</td>\n",
       "      <td>0</td>\n",
       "    </tr>\n",
       "    <tr>\n",
       "      <th>17</th>\n",
       "      <td>products</td>\n",
       "      <td>32951</td>\n",
       "      <td>product_category_name</td>\n",
       "      <td>32877</td>\n",
       "      <td>74</td>\n",
       "      <td>610</td>\n",
       "    </tr>\n",
       "    <tr>\n",
       "      <th>18</th>\n",
       "      <td>product_category_name_translation</td>\n",
       "      <td>71</td>\n",
       "      <td>product_category_name</td>\n",
       "      <td>0</td>\n",
       "      <td>71</td>\n",
       "      <td>0</td>\n",
       "    </tr>\n",
       "  </tbody>\n",
       "</table>\n",
       "</div>"
      ],
      "text/plain": [
       "                              Dataset  Shape               Variable  \\\n",
       "16                           products  32951             product_id   \n",
       "17                           products  32951  product_category_name   \n",
       "18  product_category_name_translation     71  product_category_name   \n",
       "\n",
       "    Duplicates  Unique  Null  \n",
       "16           0   32951     0  \n",
       "17       32877      74   610  \n",
       "18           0      71     0  "
      ]
     },
     "execution_count": 80,
     "metadata": {},
     "output_type": "execute_result"
    }
   ],
   "source": [
    "data_model(df_products,'products','product_id')\n",
    "data_model(df_products,'products','product_category_name')\n",
    "data_model(df_product_category_name_translation,'product_category_name_translation','product_category_name',1,3)"
   ]
  },
  {
   "cell_type": "code",
   "execution_count": 81,
   "metadata": {
    "scrolled": false
   },
   "outputs": [
    {
     "name": "stdout",
     "output_type": "stream",
     "text": [
      "Nombre d'enregistrements du dataset 'products' non renseignés dans le dataset 'product_category_name_translation': 623\n",
      "Nombre d'enregistrements du dataset 'product_category_name_translation' non renseignés dans le dataset 'products': 0\n"
     ]
    }
   ],
   "source": [
    "data_model_2(df_products,df_product_category_name_translation,\n",
    "             'products','product_category_name_translation',\n",
    "             'product_category_name','product_category_name')"
   ]
  },
  {
   "cell_type": "markdown",
   "metadata": {},
   "source": [
    "+ A chaque enregistrement de ***products*** correspond 0 ou 1 enregistrement de ***product_category_name_translation***.\n",
    "+ A chaque enregistrement de ***product_category_name_translation*** correspond 1 ou plusieurs enregistrements de ***products***."
   ]
  },
  {
   "cell_type": "markdown",
   "metadata": {},
   "source": [
    "#### Fusion - products / product_category_name_translation"
   ]
  },
  {
   "cell_type": "markdown",
   "metadata": {},
   "source": [
    "Il existe plusieurs produits dont la catégorie n'est pas renseignée dans le dataset ***product_category_name_translation*** pour 2 raisons:\n",
    "+ La valeur de catégorie du dataset ***products*** n'existe pas dans le dataset ***product_category_name_translation***\n",
    "+ La valeur de catégorie du dataset ***products*** est nulle\n",
    "\n",
    "> On fusionne donc les datasets ***products*** et ***product_category_name_translation*** avec une contrainte de correspondance facultative sur ***product_category_name_translation*** (left join)."
   ]
  },
  {
   "cell_type": "code",
   "execution_count": 82,
   "metadata": {
    "scrolled": false
   },
   "outputs": [
    {
     "name": "stdout",
     "output_type": "stream",
     "text": [
      "<class 'pandas.core.frame.DataFrame'>\n",
      "Int64Index: 32951 entries, 0 to 32950\n",
      "Data columns (total 3 columns):\n",
      " #   Column                         Non-Null Count  Dtype \n",
      "---  ------                         --------------  ----- \n",
      " 0   product_id                     32951 non-null  object\n",
      " 1   product_category_name          32341 non-null  object\n",
      " 2   product_category_name_english  32328 non-null  object\n",
      "dtypes: object(3)\n",
      "memory usage: 1.0+ MB\n"
     ]
    }
   ],
   "source": [
    "df_products = df_products.merge(df_product_category_name_translation,\n",
    "                                left_on = 'product_category_name', right_on = 'product_category_name', how = 'left')\n",
    "df_products.info()"
   ]
  },
  {
   "cell_type": "markdown",
   "metadata": {},
   "source": [
    "On créé la variable **'product_category_nam'** qui prend les valeurs de **'product_category_name_english'** quand elles existent sinon les valeurs de **'product_category_name'** (en portugais)."
   ]
  },
  {
   "cell_type": "code",
   "execution_count": 83,
   "metadata": {},
   "outputs": [],
   "source": [
    "df_products['product_category'] = np.where(df_products['product_category_name_english'].notna(),\n",
    "                                           df_products['product_category_name_english'],\n",
    "                                           df_products['product_category_name'])"
   ]
  },
  {
   "cell_type": "markdown",
   "metadata": {},
   "source": [
    "On remplace les valeurs nulles de **'product_category'** par la valeur 'other'."
   ]
  },
  {
   "cell_type": "code",
   "execution_count": 84,
   "metadata": {},
   "outputs": [],
   "source": [
    "df_products['product_category'].fillna('other', inplace=True)"
   ]
  },
  {
   "cell_type": "code",
   "execution_count": 85,
   "metadata": {},
   "outputs": [],
   "source": [
    "del df_products['product_category_name']\n",
    "del df_products['product_category_name_english']"
   ]
  },
  {
   "cell_type": "code",
   "execution_count": 86,
   "metadata": {},
   "outputs": [
    {
     "name": "stdout",
     "output_type": "stream",
     "text": [
      "<class 'pandas.core.frame.DataFrame'>\n",
      "Int64Index: 32951 entries, 0 to 32950\n",
      "Data columns (total 2 columns):\n",
      " #   Column            Non-Null Count  Dtype \n",
      "---  ------            --------------  ----- \n",
      " 0   product_id        32951 non-null  object\n",
      " 1   product_category  32951 non-null  object\n",
      "dtypes: object(2)\n",
      "memory usage: 772.3+ KB\n"
     ]
    }
   ],
   "source": [
    "df_products.info()"
   ]
  },
  {
   "cell_type": "code",
   "execution_count": 87,
   "metadata": {},
   "outputs": [
    {
     "name": "stdout",
     "output_type": "stream",
     "text": [
      "Dimensions df_products (32951, 2)\n"
     ]
    }
   ],
   "source": [
    "print('Dimensions df_products',df_products.shape)"
   ]
  },
  {
   "cell_type": "markdown",
   "metadata": {},
   "source": [
    "**Etape 4 / 4:** On s'intéresse finalement à la relation entre les items et les produits."
   ]
  },
  {
   "cell_type": "markdown",
   "metadata": {},
   "source": [
    "#### order_items vs products"
   ]
  },
  {
   "cell_type": "code",
   "execution_count": 88,
   "metadata": {},
   "outputs": [
    {
     "data": {
      "text/html": [
       "<div>\n",
       "<style scoped>\n",
       "    .dataframe tbody tr th:only-of-type {\n",
       "        vertical-align: middle;\n",
       "    }\n",
       "\n",
       "    .dataframe tbody tr th {\n",
       "        vertical-align: top;\n",
       "    }\n",
       "\n",
       "    .dataframe thead th {\n",
       "        text-align: right;\n",
       "    }\n",
       "</style>\n",
       "<table border=\"1\" class=\"dataframe\">\n",
       "  <thead>\n",
       "    <tr style=\"text-align: right;\">\n",
       "      <th></th>\n",
       "      <th>Dataset</th>\n",
       "      <th>Shape</th>\n",
       "      <th>Variable</th>\n",
       "      <th>Duplicates</th>\n",
       "      <th>Unique</th>\n",
       "      <th>Null</th>\n",
       "    </tr>\n",
       "  </thead>\n",
       "  <tbody>\n",
       "    <tr>\n",
       "      <th>19</th>\n",
       "      <td>order_items</td>\n",
       "      <td>112650</td>\n",
       "      <td>product_id</td>\n",
       "      <td>79699</td>\n",
       "      <td>32951</td>\n",
       "      <td>0</td>\n",
       "    </tr>\n",
       "    <tr>\n",
       "      <th>20</th>\n",
       "      <td>products</td>\n",
       "      <td>32951</td>\n",
       "      <td>product_id</td>\n",
       "      <td>0</td>\n",
       "      <td>32951</td>\n",
       "      <td>0</td>\n",
       "    </tr>\n",
       "  </tbody>\n",
       "</table>\n",
       "</div>"
      ],
      "text/plain": [
       "        Dataset   Shape    Variable  Duplicates  Unique  Null\n",
       "19  order_items  112650  product_id       79699   32951     0\n",
       "20     products   32951  product_id           0   32951     0"
      ]
     },
     "execution_count": 88,
     "metadata": {},
     "output_type": "execute_result"
    }
   ],
   "source": [
    "data_model(df_order_items,'order_items','product_id')\n",
    "data_model(df_products,'products','product_id',1,2)"
   ]
  },
  {
   "cell_type": "code",
   "execution_count": 89,
   "metadata": {
    "scrolled": false
   },
   "outputs": [
    {
     "name": "stdout",
     "output_type": "stream",
     "text": [
      "Nombre d'enregistrements du dataset 'order_items' non renseignés dans le dataset 'products': 0\n",
      "Nombre d'enregistrements du dataset 'products' non renseignés dans le dataset 'order_items': 0\n"
     ]
    }
   ],
   "source": [
    "data_model_2(df_order_items,df_products,\n",
    "             'order_items','products',\n",
    "             'product_id','product_id')"
   ]
  },
  {
   "cell_type": "markdown",
   "metadata": {},
   "source": [
    "+ A un enregistrement de ***order_items*** correspond 1 et 1 seul enregistrement de ***products***.\n",
    "+ A un enregistrement de ***products*** correspondent 1 ou plusieurs enregistrements de ***order_items***."
   ]
  },
  {
   "cell_type": "markdown",
   "metadata": {},
   "source": [
    "#### Fusion - order_items / products"
   ]
  },
  {
   "cell_type": "markdown",
   "metadata": {},
   "source": [
    "Tous les produits ont été référencés au moins une fois dans le dataset ***order_items*** et chaque enregistrement de ***order_items*** a une référence dans ***products***.\n",
    "\n",
    "> On fusionne donc les datasets ***order_items*** et ***products*** avec une contrainte de correspondance nécessaire (inner join).\n",
    ">\n",
    "> L'objectif est de connaitre le type de produit par commande."
   ]
  },
  {
   "cell_type": "code",
   "execution_count": 90,
   "metadata": {
    "scrolled": false
   },
   "outputs": [
    {
     "name": "stdout",
     "output_type": "stream",
     "text": [
      "<class 'pandas.core.frame.DataFrame'>\n",
      "Int64Index: 112650 entries, 0 to 112649\n",
      "Data columns (total 9 columns):\n",
      " #   Column                       Non-Null Count   Dtype  \n",
      "---  ------                       --------------   -----  \n",
      " 0   order_id                     112650 non-null  object \n",
      " 1   order_item_id                112650 non-null  int64  \n",
      " 2   product_id                   112650 non-null  object \n",
      " 3   seller_id                    112650 non-null  object \n",
      " 4   price                        112650 non-null  float64\n",
      " 5   freight_value                112650 non-null  float64\n",
      " 6   seller_zip_code_prefix       112650 non-null  int64  \n",
      " 7   geolocation_zip_code_prefix  112397 non-null  float64\n",
      " 8   product_category             112650 non-null  object \n",
      "dtypes: float64(3), int64(2), object(4)\n",
      "memory usage: 8.6+ MB\n"
     ]
    }
   ],
   "source": [
    "df_items_products = df_order_items.merge(df_products, left_on = 'product_id', right_on = 'product_id', how = 'inner')\n",
    "df_items_products.info()"
   ]
  },
  {
   "cell_type": "code",
   "execution_count": 91,
   "metadata": {},
   "outputs": [
    {
     "name": "stdout",
     "output_type": "stream",
     "text": [
      "Durée de l'opération 'Fusion 3: Items / Produits': 2.49 s\n",
      "Durée totale de traitement: 00 h 00 m 10 s\n"
     ]
    }
   ],
   "source": [
    "time_calc('Fusion 3: Items / Produits')\n",
    "t = time.time()"
   ]
  },
  {
   "cell_type": "code",
   "execution_count": 92,
   "metadata": {},
   "outputs": [
    {
     "name": "stdout",
     "output_type": "stream",
     "text": [
      "Dimensions df_items_products (112650, 9)\n"
     ]
    }
   ],
   "source": [
    "print('Dimensions df_items_products',df_items_products.shape)"
   ]
  },
  {
   "cell_type": "markdown",
   "metadata": {},
   "source": [
    "### Fusion 4: Clients/Commandes / Items/Produits <a class=\"anchor\" id=\"fus_4\"></a>"
   ]
  },
  {
   "cell_type": "markdown",
   "metadata": {},
   "source": [
    "#### customers_orders vs items_products"
   ]
  },
  {
   "cell_type": "code",
   "execution_count": 93,
   "metadata": {},
   "outputs": [
    {
     "data": {
      "text/html": [
       "<div>\n",
       "<style scoped>\n",
       "    .dataframe tbody tr th:only-of-type {\n",
       "        vertical-align: middle;\n",
       "    }\n",
       "\n",
       "    .dataframe tbody tr th {\n",
       "        vertical-align: top;\n",
       "    }\n",
       "\n",
       "    .dataframe thead th {\n",
       "        text-align: right;\n",
       "    }\n",
       "</style>\n",
       "<table border=\"1\" class=\"dataframe\">\n",
       "  <thead>\n",
       "    <tr style=\"text-align: right;\">\n",
       "      <th></th>\n",
       "      <th>Dataset</th>\n",
       "      <th>Shape</th>\n",
       "      <th>Variable</th>\n",
       "      <th>Duplicates</th>\n",
       "      <th>Unique</th>\n",
       "      <th>Null</th>\n",
       "    </tr>\n",
       "  </thead>\n",
       "  <tbody>\n",
       "    <tr>\n",
       "      <th>21</th>\n",
       "      <td>items_products</td>\n",
       "      <td>112650</td>\n",
       "      <td>order_id</td>\n",
       "      <td>13984</td>\n",
       "      <td>98666</td>\n",
       "      <td>0</td>\n",
       "    </tr>\n",
       "    <tr>\n",
       "      <th>22</th>\n",
       "      <td>customers_orders</td>\n",
       "      <td>99441</td>\n",
       "      <td>order_id</td>\n",
       "      <td>0</td>\n",
       "      <td>99441</td>\n",
       "      <td>0</td>\n",
       "    </tr>\n",
       "  </tbody>\n",
       "</table>\n",
       "</div>"
      ],
      "text/plain": [
       "             Dataset   Shape  Variable  Duplicates  Unique  Null\n",
       "21    items_products  112650  order_id       13984   98666     0\n",
       "22  customers_orders   99441  order_id           0   99441     0"
      ]
     },
     "execution_count": 93,
     "metadata": {},
     "output_type": "execute_result"
    }
   ],
   "source": [
    "data_model(df_items_products,'items_products','order_id')\n",
    "data_model(df_customers_orders,'customers_orders','order_id',1,2)"
   ]
  },
  {
   "cell_type": "markdown",
   "metadata": {},
   "source": [
    "Le dataset ***items_products*** contient moins de valeurs uniques de **'order_id'** que le dataset ***customers_orders***.\n",
    "\n",
    "> Il existe en effet un certain nombre de commandes qui n'ont pas de ligne de commande (pas de référence dans le dataset ***order_items***) donc pas de référence produit."
   ]
  },
  {
   "cell_type": "code",
   "execution_count": 94,
   "metadata": {
    "scrolled": false
   },
   "outputs": [
    {
     "name": "stdout",
     "output_type": "stream",
     "text": [
      "Nombre d'enregistrements du dataset 'orders' non renseignés dans le dataset 'order_items': 775\n",
      "Nombre d'enregistrements du dataset 'order_items' non renseignés dans le dataset 'orders': 0\n"
     ]
    }
   ],
   "source": [
    "data_model_2(df_orders,df_order_items,\n",
    "             'orders','order_items',\n",
    "             'order_id','order_id')"
   ]
  },
  {
   "cell_type": "markdown",
   "metadata": {},
   "source": [
    "+ A un enregistrement de ***customers_orders*** correspondent 0 ou plusieurs enregistrements de ***items_products***.\n",
    "+ A un enregistrement de ***items_products*** correspond 1 et 1 seul enregistrement de ***customers_orders***."
   ]
  },
  {
   "cell_type": "markdown",
   "metadata": {},
   "source": [
    "#### Fusion - customers_orders / items_products"
   ]
  },
  {
   "cell_type": "markdown",
   "metadata": {},
   "source": [
    "Les informations relatives aux produits et donc aux prix sont nécessaires au projet.\n",
    "\n",
    "> On ne retient donc que les commandes avec des lignes de commande.\n",
    ">\n",
    "> On fusionne le dataset ***customers_orders*** avec le dataset ***items_products*** avec une contrainte de correspondance nécessaire (inner join)."
   ]
  },
  {
   "cell_type": "code",
   "execution_count": 95,
   "metadata": {
    "scrolled": false
   },
   "outputs": [],
   "source": [
    "df_customers_orders_products = df_customers_orders.merge(df_items_products,\n",
    "                                                         left_on = 'order_id', right_on = 'order_id', how = 'inner')"
   ]
  },
  {
   "cell_type": "code",
   "execution_count": 96,
   "metadata": {},
   "outputs": [
    {
     "name": "stdout",
     "output_type": "stream",
     "text": [
      "Dimensions df_customers_orders_products (112650, 18)\n"
     ]
    }
   ],
   "source": [
    "print('Dimensions df_customers_orders_products',df_customers_orders_products.shape)"
   ]
  },
  {
   "cell_type": "markdown",
   "metadata": {},
   "source": [
    "##### Variable - price_total"
   ]
  },
  {
   "cell_type": "markdown",
   "metadata": {},
   "source": [
    "On créé la variable **'price_total'** qui correspond à la somme des variables **'price'** (prix du produit) et **'freight_value'** (frais de transport)."
   ]
  },
  {
   "cell_type": "code",
   "execution_count": 97,
   "metadata": {},
   "outputs": [],
   "source": [
    "df_customers_orders_products['price_total'] = df_customers_orders_products['price'] + df_customers_orders_products['freight_value']"
   ]
  },
  {
   "cell_type": "markdown",
   "metadata": {},
   "source": [
    "On supprime les variables **'price'** et **'freight_value'** qui ne nous intéressent plus."
   ]
  },
  {
   "cell_type": "code",
   "execution_count": 98,
   "metadata": {},
   "outputs": [],
   "source": [
    "del df_customers_orders_products['price']\n",
    "del df_customers_orders_products['freight_value']"
   ]
  },
  {
   "cell_type": "markdown",
   "metadata": {},
   "source": [
    "#### Montant par commande et par client"
   ]
  },
  {
   "cell_type": "markdown",
   "metadata": {},
   "source": [
    "On calcule, dans un premier temps, le montant des commandes (variable **'price_per_ord'**) en faisant la somme des prix des produits contenus dans chaque commande."
   ]
  },
  {
   "cell_type": "code",
   "execution_count": 99,
   "metadata": {},
   "outputs": [
    {
     "data": {
      "text/html": [
       "<div>\n",
       "<style scoped>\n",
       "    .dataframe tbody tr th:only-of-type {\n",
       "        vertical-align: middle;\n",
       "    }\n",
       "\n",
       "    .dataframe tbody tr th {\n",
       "        vertical-align: top;\n",
       "    }\n",
       "\n",
       "    .dataframe thead th {\n",
       "        text-align: right;\n",
       "    }\n",
       "</style>\n",
       "<table border=\"1\" class=\"dataframe\">\n",
       "  <thead>\n",
       "    <tr style=\"text-align: right;\">\n",
       "      <th></th>\n",
       "      <th>order_id</th>\n",
       "      <th>price_per_ord</th>\n",
       "      <th>items_count</th>\n",
       "    </tr>\n",
       "  </thead>\n",
       "  <tbody>\n",
       "    <tr>\n",
       "      <th>0</th>\n",
       "      <td>8272b63d03f5f79c56e9e4120aec44ef</td>\n",
       "      <td>196.17</td>\n",
       "      <td>21</td>\n",
       "    </tr>\n",
       "    <tr>\n",
       "      <th>1</th>\n",
       "      <td>1b15974a0141d54e36626dca3fdc731a</td>\n",
       "      <td>2202.40</td>\n",
       "      <td>20</td>\n",
       "    </tr>\n",
       "    <tr>\n",
       "      <th>2</th>\n",
       "      <td>ab14fdcfbe524636d65ee38360e22ce8</td>\n",
       "      <td>2262.80</td>\n",
       "      <td>20</td>\n",
       "    </tr>\n",
       "    <tr>\n",
       "      <th>3</th>\n",
       "      <td>9ef13efd6949e4573a18964dd1bbe7f5</td>\n",
       "      <td>783.00</td>\n",
       "      <td>15</td>\n",
       "    </tr>\n",
       "    <tr>\n",
       "      <th>4</th>\n",
       "      <td>428a2f660dc84138d969ccd69a0ab6d5</td>\n",
       "      <td>1225.65</td>\n",
       "      <td>15</td>\n",
       "    </tr>\n",
       "  </tbody>\n",
       "</table>\n",
       "</div>"
      ],
      "text/plain": [
       "                           order_id  price_per_ord  items_count\n",
       "0  8272b63d03f5f79c56e9e4120aec44ef         196.17           21\n",
       "1  1b15974a0141d54e36626dca3fdc731a        2202.40           20\n",
       "2  ab14fdcfbe524636d65ee38360e22ce8        2262.80           20\n",
       "3  9ef13efd6949e4573a18964dd1bbe7f5         783.00           15\n",
       "4  428a2f660dc84138d969ccd69a0ab6d5        1225.65           15"
      ]
     },
     "execution_count": 99,
     "metadata": {},
     "output_type": "execute_result"
    }
   ],
   "source": [
    "df_price_per_ord = df_customers_orders_products.groupby('order_id').agg({'price_total': ['sum','count']}).sort_values(('price_total', 'count'), ascending = False)\n",
    "df_price_per_ord.reset_index(inplace = True)\n",
    "df_price_per_ord.columns = ['order_id','price_per_ord','items_count']\n",
    "df_price_per_ord.head()"
   ]
  },
  {
   "cell_type": "markdown",
   "metadata": {},
   "source": [
    "On rajoute la variable **'price_per_ord'** au dataset ***customers_orders_products***."
   ]
  },
  {
   "cell_type": "code",
   "execution_count": 100,
   "metadata": {},
   "outputs": [],
   "source": [
    "df_customers_orders_products = df_customers_orders_products.merge(df_price_per_ord, left_on = 'order_id', right_on = 'order_id', how = 'left')"
   ]
  },
  {
   "cell_type": "code",
   "execution_count": 101,
   "metadata": {},
   "outputs": [
    {
     "name": "stdout",
     "output_type": "stream",
     "text": [
      "<class 'pandas.core.frame.DataFrame'>\n",
      "Int64Index: 112650 entries, 0 to 112649\n",
      "Data columns (total 19 columns):\n",
      " #   Column                         Non-Null Count   Dtype  \n",
      "---  ------                         --------------   -----  \n",
      " 0   customer_id                    112650 non-null  object \n",
      " 1   customer_unique_id             112650 non-null  object \n",
      " 2   customer_zip_code_prefix       112650 non-null  int64  \n",
      " 3   geolocation_zip_code_prefix_x  112348 non-null  float64\n",
      " 4   order_id                       112650 non-null  object \n",
      " 5   order_status                   112650 non-null  object \n",
      " 6   order_purchase_timestamp       112650 non-null  object \n",
      " 7   score_mean_per_ord             112650 non-null  float64\n",
      " 8   score_count_per_ord            112650 non-null  int64  \n",
      " 9   score_mean_per_cust            112650 non-null  float64\n",
      " 10  order_item_id                  112650 non-null  int64  \n",
      " 11  product_id                     112650 non-null  object \n",
      " 12  seller_id                      112650 non-null  object \n",
      " 13  seller_zip_code_prefix         112650 non-null  int64  \n",
      " 14  geolocation_zip_code_prefix_y  112397 non-null  float64\n",
      " 15  product_category               112650 non-null  object \n",
      " 16  price_total                    112650 non-null  float64\n",
      " 17  price_per_ord                  112650 non-null  float64\n",
      " 18  items_count                    112650 non-null  int64  \n",
      "dtypes: float64(6), int64(5), object(8)\n",
      "memory usage: 17.2+ MB\n"
     ]
    }
   ],
   "source": [
    "df_customers_orders_products.info()"
   ]
  },
  {
   "cell_type": "markdown",
   "metadata": {},
   "source": [
    "On rajoute les variables **'price_per_ord'** et **'items_count'** au dataset ***customers_orders***."
   ]
  },
  {
   "cell_type": "code",
   "execution_count": 102,
   "metadata": {},
   "outputs": [],
   "source": [
    "df_cust_ord_price = df_customers_orders.merge(df_price_per_ord, left_on = 'order_id', right_on = 'order_id', how = 'right')"
   ]
  },
  {
   "cell_type": "code",
   "execution_count": 103,
   "metadata": {},
   "outputs": [
    {
     "data": {
      "text/html": [
       "<div>\n",
       "<style scoped>\n",
       "    .dataframe tbody tr th:only-of-type {\n",
       "        vertical-align: middle;\n",
       "    }\n",
       "\n",
       "    .dataframe tbody tr th {\n",
       "        vertical-align: top;\n",
       "    }\n",
       "\n",
       "    .dataframe thead th {\n",
       "        text-align: right;\n",
       "    }\n",
       "</style>\n",
       "<table border=\"1\" class=\"dataframe\">\n",
       "  <thead>\n",
       "    <tr style=\"text-align: right;\">\n",
       "      <th></th>\n",
       "      <th>customer_unique_id</th>\n",
       "      <th>order_id</th>\n",
       "      <th>score_mean_per_ord</th>\n",
       "      <th>score_count_per_ord</th>\n",
       "      <th>price_per_ord</th>\n",
       "      <th>items_count</th>\n",
       "    </tr>\n",
       "  </thead>\n",
       "  <tbody>\n",
       "    <tr>\n",
       "      <th>48427</th>\n",
       "      <td>4546caea018ad8c692964e3382debd19</td>\n",
       "      <td>8272b63d03f5f79c56e9e4120aec44ef</td>\n",
       "      <td>1.0</td>\n",
       "      <td>1</td>\n",
       "      <td>196.17</td>\n",
       "      <td>21</td>\n",
       "    </tr>\n",
       "    <tr>\n",
       "      <th>73022</th>\n",
       "      <td>698e1cf81d01a3d389d96145f7fa6df8</td>\n",
       "      <td>ab14fdcfbe524636d65ee38360e22ce8</td>\n",
       "      <td>1.0</td>\n",
       "      <td>1</td>\n",
       "      <td>2262.80</td>\n",
       "      <td>20</td>\n",
       "    </tr>\n",
       "    <tr>\n",
       "      <th>18592</th>\n",
       "      <td>c402f431464c72e27330a67f7b94d4fb</td>\n",
       "      <td>1b15974a0141d54e36626dca3fdc731a</td>\n",
       "      <td>1.0</td>\n",
       "      <td>1</td>\n",
       "      <td>2202.40</td>\n",
       "      <td>20</td>\n",
       "    </tr>\n",
       "    <tr>\n",
       "      <th>7480</th>\n",
       "      <td>11f97da02237a49c8e783dfda6f50e8e</td>\n",
       "      <td>9ef13efd6949e4573a18964dd1bbe7f5</td>\n",
       "      <td>5.0</td>\n",
       "      <td>1</td>\n",
       "      <td>783.00</td>\n",
       "      <td>15</td>\n",
       "    </tr>\n",
       "    <tr>\n",
       "      <th>33111</th>\n",
       "      <td>0f5ac8d5c31de21d2f25e24be15bbffb</td>\n",
       "      <td>428a2f660dc84138d969ccd69a0ab6d5</td>\n",
       "      <td>5.0</td>\n",
       "      <td>1</td>\n",
       "      <td>1225.65</td>\n",
       "      <td>15</td>\n",
       "    </tr>\n",
       "  </tbody>\n",
       "</table>\n",
       "</div>"
      ],
      "text/plain": [
       "                     customer_unique_id                          order_id  \\\n",
       "48427  4546caea018ad8c692964e3382debd19  8272b63d03f5f79c56e9e4120aec44ef   \n",
       "73022  698e1cf81d01a3d389d96145f7fa6df8  ab14fdcfbe524636d65ee38360e22ce8   \n",
       "18592  c402f431464c72e27330a67f7b94d4fb  1b15974a0141d54e36626dca3fdc731a   \n",
       "7480   11f97da02237a49c8e783dfda6f50e8e  9ef13efd6949e4573a18964dd1bbe7f5   \n",
       "33111  0f5ac8d5c31de21d2f25e24be15bbffb  428a2f660dc84138d969ccd69a0ab6d5   \n",
       "\n",
       "       score_mean_per_ord  score_count_per_ord  price_per_ord  items_count  \n",
       "48427                 1.0                    1         196.17           21  \n",
       "73022                 1.0                    1        2262.80           20  \n",
       "18592                 1.0                    1        2202.40           20  \n",
       "7480                  5.0                    1         783.00           15  \n",
       "33111                 5.0                    1        1225.65           15  "
      ]
     },
     "execution_count": 103,
     "metadata": {},
     "output_type": "execute_result"
    }
   ],
   "source": [
    "df_cust_ord_price.sort_values('items_count', ascending = False)[['customer_unique_id','order_id','score_mean_per_ord','score_count_per_ord','price_per_ord','items_count']].head()"
   ]
  },
  {
   "cell_type": "markdown",
   "metadata": {},
   "source": [
    "On calcule, pour chaque client unique, la moyenne des montants par commande (variable **'price_per_cust'**)."
   ]
  },
  {
   "cell_type": "code",
   "execution_count": 104,
   "metadata": {},
   "outputs": [
    {
     "data": {
      "text/html": [
       "<div>\n",
       "<style scoped>\n",
       "    .dataframe tbody tr th:only-of-type {\n",
       "        vertical-align: middle;\n",
       "    }\n",
       "\n",
       "    .dataframe tbody tr th {\n",
       "        vertical-align: top;\n",
       "    }\n",
       "\n",
       "    .dataframe thead th {\n",
       "        text-align: right;\n",
       "    }\n",
       "</style>\n",
       "<table border=\"1\" class=\"dataframe\">\n",
       "  <thead>\n",
       "    <tr style=\"text-align: right;\">\n",
       "      <th></th>\n",
       "      <th>customer_unique_id</th>\n",
       "      <th>price_per_cust</th>\n",
       "      <th>prod_nb_avg</th>\n",
       "    </tr>\n",
       "  </thead>\n",
       "  <tbody>\n",
       "    <tr>\n",
       "      <th>25885</th>\n",
       "      <td>4546caea018ad8c692964e3382debd19</td>\n",
       "      <td>196.17</td>\n",
       "      <td>21.0</td>\n",
       "    </tr>\n",
       "    <tr>\n",
       "      <th>73155</th>\n",
       "      <td>c402f431464c72e27330a67f7b94d4fb</td>\n",
       "      <td>2202.40</td>\n",
       "      <td>20.0</td>\n",
       "    </tr>\n",
       "    <tr>\n",
       "      <th>39443</th>\n",
       "      <td>698e1cf81d01a3d389d96145f7fa6df8</td>\n",
       "      <td>2262.80</td>\n",
       "      <td>20.0</td>\n",
       "    </tr>\n",
       "    <tr>\n",
       "      <th>6760</th>\n",
       "      <td>11f97da02237a49c8e783dfda6f50e8e</td>\n",
       "      <td>783.00</td>\n",
       "      <td>15.0</td>\n",
       "    </tr>\n",
       "    <tr>\n",
       "      <th>18680</th>\n",
       "      <td>31e412b9fb766b6794724ed17a41dfa6</td>\n",
       "      <td>1014.02</td>\n",
       "      <td>14.0</td>\n",
       "    </tr>\n",
       "  </tbody>\n",
       "</table>\n",
       "</div>"
      ],
      "text/plain": [
       "                     customer_unique_id  price_per_cust  prod_nb_avg\n",
       "25885  4546caea018ad8c692964e3382debd19          196.17         21.0\n",
       "73155  c402f431464c72e27330a67f7b94d4fb         2202.40         20.0\n",
       "39443  698e1cf81d01a3d389d96145f7fa6df8         2262.80         20.0\n",
       "6760   11f97da02237a49c8e783dfda6f50e8e          783.00         15.0\n",
       "18680  31e412b9fb766b6794724ed17a41dfa6         1014.02         14.0"
      ]
     },
     "execution_count": 104,
     "metadata": {},
     "output_type": "execute_result"
    }
   ],
   "source": [
    "df_cust_price = df_cust_ord_price.groupby('customer_unique_id').agg({'price_per_ord': 'mean',\n",
    "                                                                     'items_count': 'mean'})\n",
    "df_cust_price.columns = ['price_per_cust','prod_nb_avg']\n",
    "df_cust_price.reset_index(inplace = True)\n",
    "df_cust_price.sort_values('prod_nb_avg', ascending = False).head()"
   ]
  },
  {
   "cell_type": "markdown",
   "metadata": {},
   "source": [
    "On rajoute les variables **'price_per_cust'** et **'prod_nb_avg'** au dataset ***customers_orders_products***."
   ]
  },
  {
   "cell_type": "code",
   "execution_count": 105,
   "metadata": {},
   "outputs": [],
   "source": [
    "df_customers_orders_products = df_customers_orders_products.merge(df_cust_price, left_on = 'customer_unique_id', right_on = 'customer_unique_id', how = 'left')"
   ]
  },
  {
   "cell_type": "code",
   "execution_count": 106,
   "metadata": {},
   "outputs": [
    {
     "name": "stdout",
     "output_type": "stream",
     "text": [
      "<class 'pandas.core.frame.DataFrame'>\n",
      "Int64Index: 112650 entries, 0 to 112649\n",
      "Data columns (total 21 columns):\n",
      " #   Column                         Non-Null Count   Dtype  \n",
      "---  ------                         --------------   -----  \n",
      " 0   customer_id                    112650 non-null  object \n",
      " 1   customer_unique_id             112650 non-null  object \n",
      " 2   customer_zip_code_prefix       112650 non-null  int64  \n",
      " 3   geolocation_zip_code_prefix_x  112348 non-null  float64\n",
      " 4   order_id                       112650 non-null  object \n",
      " 5   order_status                   112650 non-null  object \n",
      " 6   order_purchase_timestamp       112650 non-null  object \n",
      " 7   score_mean_per_ord             112650 non-null  float64\n",
      " 8   score_count_per_ord            112650 non-null  int64  \n",
      " 9   score_mean_per_cust            112650 non-null  float64\n",
      " 10  order_item_id                  112650 non-null  int64  \n",
      " 11  product_id                     112650 non-null  object \n",
      " 12  seller_id                      112650 non-null  object \n",
      " 13  seller_zip_code_prefix         112650 non-null  int64  \n",
      " 14  geolocation_zip_code_prefix_y  112397 non-null  float64\n",
      " 15  product_category               112650 non-null  object \n",
      " 16  price_total                    112650 non-null  float64\n",
      " 17  price_per_ord                  112650 non-null  float64\n",
      " 18  items_count                    112650 non-null  int64  \n",
      " 19  price_per_cust                 112650 non-null  float64\n",
      " 20  prod_nb_avg                    112650 non-null  float64\n",
      "dtypes: float64(8), int64(5), object(8)\n",
      "memory usage: 18.9+ MB\n"
     ]
    }
   ],
   "source": [
    "df_customers_orders_products.info()"
   ]
  },
  {
   "cell_type": "code",
   "execution_count": 107,
   "metadata": {},
   "outputs": [
    {
     "name": "stdout",
     "output_type": "stream",
     "text": [
      "Durée de l'opération 'Fusion 4: Clients/Commandes / Items/Produits': 2.63 s\n",
      "Durée totale de traitement: 00 h 00 m 13 s\n"
     ]
    }
   ],
   "source": [
    "time_calc('Fusion 4: Clients/Commandes / Items/Produits')\n",
    "t = time.time()"
   ]
  },
  {
   "cell_type": "markdown",
   "metadata": {},
   "source": [
    "### Fusion 5: Commandes / Paiements <a class=\"anchor\" id=\"fus_5\"></a>"
   ]
  },
  {
   "cell_type": "markdown",
   "metadata": {},
   "source": [
    "#### Dataset - order_payments"
   ]
  },
  {
   "cell_type": "code",
   "execution_count": 108,
   "metadata": {
    "scrolled": false
   },
   "outputs": [
    {
     "name": "stdout",
     "output_type": "stream",
     "text": [
      "<class 'pandas.core.frame.DataFrame'>\n",
      "RangeIndex: 103886 entries, 0 to 103885\n",
      "Data columns (total 5 columns):\n",
      " #   Column                Non-Null Count   Dtype  \n",
      "---  ------                --------------   -----  \n",
      " 0   order_id              103886 non-null  object \n",
      " 1   payment_sequential    103886 non-null  int64  \n",
      " 2   payment_type          103886 non-null  object \n",
      " 3   payment_installments  103886 non-null  int64  \n",
      " 4   payment_value         103886 non-null  float64\n",
      "dtypes: float64(1), int64(2), object(2)\n",
      "memory usage: 4.0+ MB\n"
     ]
    }
   ],
   "source": [
    "df_order_payments.info()"
   ]
  },
  {
   "cell_type": "markdown",
   "metadata": {},
   "source": [
    "#### customers_orders vs order_payments"
   ]
  },
  {
   "cell_type": "code",
   "execution_count": 109,
   "metadata": {},
   "outputs": [
    {
     "data": {
      "text/html": [
       "<div>\n",
       "<style scoped>\n",
       "    .dataframe tbody tr th:only-of-type {\n",
       "        vertical-align: middle;\n",
       "    }\n",
       "\n",
       "    .dataframe tbody tr th {\n",
       "        vertical-align: top;\n",
       "    }\n",
       "\n",
       "    .dataframe thead th {\n",
       "        text-align: right;\n",
       "    }\n",
       "</style>\n",
       "<table border=\"1\" class=\"dataframe\">\n",
       "  <thead>\n",
       "    <tr style=\"text-align: right;\">\n",
       "      <th></th>\n",
       "      <th>Dataset</th>\n",
       "      <th>Shape</th>\n",
       "      <th>Variable</th>\n",
       "      <th>Duplicates</th>\n",
       "      <th>Unique</th>\n",
       "      <th>Null</th>\n",
       "    </tr>\n",
       "  </thead>\n",
       "  <tbody>\n",
       "    <tr>\n",
       "      <th>22</th>\n",
       "      <td>customers_orders</td>\n",
       "      <td>99441</td>\n",
       "      <td>order_id</td>\n",
       "      <td>0</td>\n",
       "      <td>99441</td>\n",
       "      <td>0</td>\n",
       "    </tr>\n",
       "    <tr>\n",
       "      <th>23</th>\n",
       "      <td>order_payments</td>\n",
       "      <td>103886</td>\n",
       "      <td>order_id</td>\n",
       "      <td>4446</td>\n",
       "      <td>99440</td>\n",
       "      <td>0</td>\n",
       "    </tr>\n",
       "  </tbody>\n",
       "</table>\n",
       "</div>"
      ],
      "text/plain": [
       "             Dataset   Shape  Variable  Duplicates  Unique  Null\n",
       "22  customers_orders   99441  order_id           0   99441     0\n",
       "23    order_payments  103886  order_id        4446   99440     0"
      ]
     },
     "execution_count": 109,
     "metadata": {},
     "output_type": "execute_result"
    }
   ],
   "source": [
    "data_model(df_order_payments,'order_payments','order_id',1,2)"
   ]
  },
  {
   "cell_type": "code",
   "execution_count": 110,
   "metadata": {
    "scrolled": false
   },
   "outputs": [
    {
     "name": "stdout",
     "output_type": "stream",
     "text": [
      "Nombre d'enregistrements du dataset 'customers_orders' non renseignés dans le dataset 'order_payments': 1\n",
      "Nombre d'enregistrements du dataset 'order_payments' non renseignés dans le dataset 'customers_orders': 0\n"
     ]
    }
   ],
   "source": [
    "data_model_2(df_customers_orders,df_order_payments,\n",
    "             'customers_orders','order_payments',\n",
    "             'order_id','order_id')"
   ]
  },
  {
   "cell_type": "markdown",
   "metadata": {},
   "source": [
    "+ A chaque enregistrement de ***customers_orders*** correspond 0 ou plusieurs enregistrements de ***order_payments***.\n",
    "+ A chaque enregistrement de ***order_payments*** correspondent 1 et 1 seul enregistrement de ***customers_orders***."
   ]
  },
  {
   "cell_type": "markdown",
   "metadata": {},
   "source": [
    "**Etape préliminaire:** On cherche à associer une valeur unique de paiement à chaque commande."
   ]
  },
  {
   "cell_type": "markdown",
   "metadata": {},
   "source": [
    "Chaque commande peut faire l'objet de plusieurs paiements.\n",
    "\n",
    "> On regroupe les paiements par commande en faisant la somme des paiements."
   ]
  },
  {
   "cell_type": "code",
   "execution_count": 111,
   "metadata": {},
   "outputs": [
    {
     "data": {
      "text/html": [
       "<div>\n",
       "<style scoped>\n",
       "    .dataframe tbody tr th:only-of-type {\n",
       "        vertical-align: middle;\n",
       "    }\n",
       "\n",
       "    .dataframe tbody tr th {\n",
       "        vertical-align: top;\n",
       "    }\n",
       "\n",
       "    .dataframe thead tr th {\n",
       "        text-align: left;\n",
       "    }\n",
       "</style>\n",
       "<table border=\"1\" class=\"dataframe\">\n",
       "  <thead>\n",
       "    <tr>\n",
       "      <th></th>\n",
       "      <th>order_id</th>\n",
       "      <th colspan=\"2\" halign=\"left\">payment_value</th>\n",
       "    </tr>\n",
       "    <tr>\n",
       "      <th></th>\n",
       "      <th></th>\n",
       "      <th>sum</th>\n",
       "      <th>count</th>\n",
       "    </tr>\n",
       "  </thead>\n",
       "  <tbody>\n",
       "    <tr>\n",
       "      <th>0</th>\n",
       "      <td>fa65dad1b0e818e3ccc5cb0e39231352</td>\n",
       "      <td>457.99</td>\n",
       "      <td>29</td>\n",
       "    </tr>\n",
       "    <tr>\n",
       "      <th>1</th>\n",
       "      <td>ccf804e764ed5650cd8759557269dc13</td>\n",
       "      <td>62.68</td>\n",
       "      <td>26</td>\n",
       "    </tr>\n",
       "    <tr>\n",
       "      <th>2</th>\n",
       "      <td>285c2e15bebd4ac83635ccc563dc71f4</td>\n",
       "      <td>40.85</td>\n",
       "      <td>22</td>\n",
       "    </tr>\n",
       "    <tr>\n",
       "      <th>3</th>\n",
       "      <td>895ab968e7bb0d5659d16cd74cd1650c</td>\n",
       "      <td>161.32</td>\n",
       "      <td>21</td>\n",
       "    </tr>\n",
       "    <tr>\n",
       "      <th>4</th>\n",
       "      <td>fedcd9f7ccdc8cba3a18defedd1a5547</td>\n",
       "      <td>205.74</td>\n",
       "      <td>19</td>\n",
       "    </tr>\n",
       "  </tbody>\n",
       "</table>\n",
       "</div>"
      ],
      "text/plain": [
       "                           order_id payment_value      \n",
       "                                              sum count\n",
       "0  fa65dad1b0e818e3ccc5cb0e39231352        457.99    29\n",
       "1  ccf804e764ed5650cd8759557269dc13         62.68    26\n",
       "2  285c2e15bebd4ac83635ccc563dc71f4         40.85    22\n",
       "3  895ab968e7bb0d5659d16cd74cd1650c        161.32    21\n",
       "4  fedcd9f7ccdc8cba3a18defedd1a5547        205.74    19"
      ]
     },
     "execution_count": 111,
     "metadata": {},
     "output_type": "execute_result"
    }
   ],
   "source": [
    "df_order_payments_gr = df_order_payments.groupby('order_id').agg({'payment_value': ['sum','count'],\n",
    "                                                                 }).sort_values(('payment_value','count'),ascending=False)\n",
    "df_order_payments_gr = df_order_payments_gr.reset_index()\n",
    "df_order_payments_gr.head()"
   ]
  },
  {
   "cell_type": "code",
   "execution_count": 112,
   "metadata": {},
   "outputs": [
    {
     "name": "stdout",
     "output_type": "stream",
     "text": [
      "<class 'pandas.core.frame.DataFrame'>\n",
      "RangeIndex: 99440 entries, 0 to 99439\n",
      "Data columns (total 3 columns):\n",
      " #   Column                  Non-Null Count  Dtype  \n",
      "---  ------                  --------------  -----  \n",
      " 0   (order_id, )            99440 non-null  object \n",
      " 1   (payment_value, sum)    99440 non-null  float64\n",
      " 2   (payment_value, count)  99440 non-null  int64  \n",
      "dtypes: float64(1), int64(1), object(1)\n",
      "memory usage: 2.3+ MB\n"
     ]
    }
   ],
   "source": [
    "df_order_payments_gr.info()"
   ]
  },
  {
   "cell_type": "code",
   "execution_count": 113,
   "metadata": {},
   "outputs": [],
   "source": [
    "# On renomme les colonnes\n",
    "df_order_payments_gr.columns = ['order_id','payment_sum_per_ord','payment_count_per_ord']"
   ]
  },
  {
   "cell_type": "code",
   "execution_count": 114,
   "metadata": {},
   "outputs": [
    {
     "data": {
      "text/html": [
       "<div>\n",
       "<style scoped>\n",
       "    .dataframe tbody tr th:only-of-type {\n",
       "        vertical-align: middle;\n",
       "    }\n",
       "\n",
       "    .dataframe tbody tr th {\n",
       "        vertical-align: top;\n",
       "    }\n",
       "\n",
       "    .dataframe thead th {\n",
       "        text-align: right;\n",
       "    }\n",
       "</style>\n",
       "<table border=\"1\" class=\"dataframe\">\n",
       "  <thead>\n",
       "    <tr style=\"text-align: right;\">\n",
       "      <th></th>\n",
       "      <th>Dataset</th>\n",
       "      <th>Shape</th>\n",
       "      <th>Variable</th>\n",
       "      <th>Duplicates</th>\n",
       "      <th>Unique</th>\n",
       "      <th>Null</th>\n",
       "    </tr>\n",
       "  </thead>\n",
       "  <tbody>\n",
       "    <tr>\n",
       "      <th>22</th>\n",
       "      <td>customers_orders</td>\n",
       "      <td>99441</td>\n",
       "      <td>order_id</td>\n",
       "      <td>0</td>\n",
       "      <td>99441</td>\n",
       "      <td>0</td>\n",
       "    </tr>\n",
       "    <tr>\n",
       "      <th>23</th>\n",
       "      <td>order_payments</td>\n",
       "      <td>103886</td>\n",
       "      <td>order_id</td>\n",
       "      <td>4446</td>\n",
       "      <td>99440</td>\n",
       "      <td>0</td>\n",
       "    </tr>\n",
       "    <tr>\n",
       "      <th>24</th>\n",
       "      <td>order_payments_gr</td>\n",
       "      <td>99440</td>\n",
       "      <td>order_id</td>\n",
       "      <td>0</td>\n",
       "      <td>99440</td>\n",
       "      <td>0</td>\n",
       "    </tr>\n",
       "  </tbody>\n",
       "</table>\n",
       "</div>"
      ],
      "text/plain": [
       "              Dataset   Shape  Variable  Duplicates  Unique  Null\n",
       "22   customers_orders   99441  order_id           0   99441     0\n",
       "23     order_payments  103886  order_id        4446   99440     0\n",
       "24  order_payments_gr   99440  order_id           0   99440     0"
      ]
     },
     "execution_count": 114,
     "metadata": {},
     "output_type": "execute_result"
    }
   ],
   "source": [
    "data_model(df_order_payments_gr,'order_payments_gr','order_id',1,3)"
   ]
  },
  {
   "cell_type": "markdown",
   "metadata": {},
   "source": [
    "> La dataset ***order_payments_gr*** contient maintenant 99440 valeurs uniques pour la variable **'order_id'**."
   ]
  },
  {
   "cell_type": "markdown",
   "metadata": {},
   "source": [
    "#### customers_orders_products vs order_payments_gr"
   ]
  },
  {
   "cell_type": "code",
   "execution_count": 115,
   "metadata": {
    "scrolled": false
   },
   "outputs": [
    {
     "name": "stdout",
     "output_type": "stream",
     "text": [
      "Nombre d'enregistrements du dataset 'customers_orders' non renseignés dans le dataset 'order_payments_gr': 1\n",
      "Nombre d'enregistrements du dataset 'order_payments_gr' non renseignés dans le dataset 'customers_orders': 0\n"
     ]
    }
   ],
   "source": [
    "data_model_2(df_customers_orders,df_order_payments_gr,\n",
    "             'customers_orders','order_payments_gr',\n",
    "             'order_id','order_id')"
   ]
  },
  {
   "cell_type": "markdown",
   "metadata": {},
   "source": [
    "#### Fusion - customers_orders_products / order_payments_gr"
   ]
  },
  {
   "cell_type": "markdown",
   "metadata": {},
   "source": [
    "Une commande peut n'avoir aucun paiement. On a 2 options:\n",
    "\n",
    "**Option 1**: On souhaite conserver le maximum de commandes dans le dataset final.\n",
    "> On fusionne donc les datasets ***customers_orders_products*** et ***order_payments_gr*** avec une contrainte de correspondance facultative sur ***order_payments_gr***  (left join)."
   ]
  },
  {
   "cell_type": "code",
   "execution_count": 116,
   "metadata": {
    "scrolled": false
   },
   "outputs": [
    {
     "name": "stdout",
     "output_type": "stream",
     "text": [
      "<class 'pandas.core.frame.DataFrame'>\n",
      "Int64Index: 112650 entries, 0 to 112649\n",
      "Data columns (total 23 columns):\n",
      " #   Column                         Non-Null Count   Dtype  \n",
      "---  ------                         --------------   -----  \n",
      " 0   customer_id                    112650 non-null  object \n",
      " 1   customer_unique_id             112650 non-null  object \n",
      " 2   customer_zip_code_prefix       112650 non-null  int64  \n",
      " 3   geolocation_zip_code_prefix_x  112348 non-null  float64\n",
      " 4   order_id                       112650 non-null  object \n",
      " 5   order_status                   112650 non-null  object \n",
      " 6   order_purchase_timestamp       112650 non-null  object \n",
      " 7   score_mean_per_ord             112650 non-null  float64\n",
      " 8   score_count_per_ord            112650 non-null  int64  \n",
      " 9   score_mean_per_cust            112650 non-null  float64\n",
      " 10  order_item_id                  112650 non-null  int64  \n",
      " 11  product_id                     112650 non-null  object \n",
      " 12  seller_id                      112650 non-null  object \n",
      " 13  seller_zip_code_prefix         112650 non-null  int64  \n",
      " 14  geolocation_zip_code_prefix_y  112397 non-null  float64\n",
      " 15  product_category               112650 non-null  object \n",
      " 16  price_total                    112650 non-null  float64\n",
      " 17  price_per_ord                  112650 non-null  float64\n",
      " 18  items_count                    112650 non-null  int64  \n",
      " 19  price_per_cust                 112650 non-null  float64\n",
      " 20  prod_nb_avg                    112650 non-null  float64\n",
      " 21  payment_sum_per_ord            112647 non-null  float64\n",
      " 22  payment_count_per_ord          112647 non-null  float64\n",
      "dtypes: float64(10), int64(5), object(8)\n",
      "memory usage: 20.6+ MB\n"
     ]
    }
   ],
   "source": [
    "df_customers_orders_products_payments = df_customers_orders_products.merge(df_order_payments_gr,\n",
    "                                                         left_on = 'order_id', right_on = 'order_id', how = 'left')\n",
    "df_customers_orders_products_payments.info()"
   ]
  },
  {
   "cell_type": "markdown",
   "metadata": {},
   "source": [
    "**Option 2**: On souhaite disposer des informations de paiement pour toutes les commandes.\n",
    "> On fusionne donc les datasets ***customers_orders_products*** et ***order_payments_gr*** avec une contrainte de correspondance nécessaire sur ***order_payments_gr***  (inner join)."
   ]
  },
  {
   "cell_type": "code",
   "execution_count": 117,
   "metadata": {
    "scrolled": false
   },
   "outputs": [
    {
     "name": "stdout",
     "output_type": "stream",
     "text": [
      "<class 'pandas.core.frame.DataFrame'>\n",
      "Int64Index: 112650 entries, 0 to 112649\n",
      "Data columns (total 23 columns):\n",
      " #   Column                         Non-Null Count   Dtype  \n",
      "---  ------                         --------------   -----  \n",
      " 0   customer_id                    112650 non-null  object \n",
      " 1   customer_unique_id             112650 non-null  object \n",
      " 2   customer_zip_code_prefix       112650 non-null  int64  \n",
      " 3   geolocation_zip_code_prefix_x  112348 non-null  float64\n",
      " 4   order_id                       112650 non-null  object \n",
      " 5   order_status                   112650 non-null  object \n",
      " 6   order_purchase_timestamp       112650 non-null  object \n",
      " 7   score_mean_per_ord             112650 non-null  float64\n",
      " 8   score_count_per_ord            112650 non-null  int64  \n",
      " 9   score_mean_per_cust            112650 non-null  float64\n",
      " 10  order_item_id                  112650 non-null  int64  \n",
      " 11  product_id                     112650 non-null  object \n",
      " 12  seller_id                      112650 non-null  object \n",
      " 13  seller_zip_code_prefix         112650 non-null  int64  \n",
      " 14  geolocation_zip_code_prefix_y  112397 non-null  float64\n",
      " 15  product_category               112650 non-null  object \n",
      " 16  price_total                    112650 non-null  float64\n",
      " 17  price_per_ord                  112650 non-null  float64\n",
      " 18  items_count                    112650 non-null  int64  \n",
      " 19  price_per_cust                 112650 non-null  float64\n",
      " 20  prod_nb_avg                    112650 non-null  float64\n",
      " 21  payment_sum_per_ord            112647 non-null  float64\n",
      " 22  payment_count_per_ord          112647 non-null  float64\n",
      "dtypes: float64(10), int64(5), object(8)\n",
      "memory usage: 20.6+ MB\n"
     ]
    }
   ],
   "source": [
    "df_customers_orders_products_payments = df_customers_orders_products.merge(df_order_payments_gr,\n",
    "                                                         left_on = 'order_id', right_on = 'order_id', how = 'left')\n",
    "df_customers_orders_products_payments.info()"
   ]
  },
  {
   "cell_type": "code",
   "execution_count": 118,
   "metadata": {},
   "outputs": [
    {
     "name": "stdout",
     "output_type": "stream",
     "text": [
      "Dimensions df_customers_orders_products_payments (112650, 23)\n"
     ]
    }
   ],
   "source": [
    "print('Dimensions df_customers_orders_products_payments',df_customers_orders_products_payments.shape)"
   ]
  },
  {
   "cell_type": "markdown",
   "metadata": {},
   "source": [
    "##### Balance des paiements"
   ]
  },
  {
   "cell_type": "code",
   "execution_count": 119,
   "metadata": {},
   "outputs": [
    {
     "data": {
      "text/html": [
       "<div>\n",
       "<style scoped>\n",
       "    .dataframe tbody tr th:only-of-type {\n",
       "        vertical-align: middle;\n",
       "    }\n",
       "\n",
       "    .dataframe tbody tr th {\n",
       "        vertical-align: top;\n",
       "    }\n",
       "\n",
       "    .dataframe thead th {\n",
       "        text-align: right;\n",
       "    }\n",
       "</style>\n",
       "<table border=\"1\" class=\"dataframe\">\n",
       "  <thead>\n",
       "    <tr style=\"text-align: right;\">\n",
       "      <th></th>\n",
       "      <th>payment_sum_per_ord</th>\n",
       "      <th>price_per_ord</th>\n",
       "    </tr>\n",
       "    <tr>\n",
       "      <th>order_id</th>\n",
       "      <th></th>\n",
       "      <th></th>\n",
       "    </tr>\n",
       "  </thead>\n",
       "  <tbody>\n",
       "    <tr>\n",
       "      <th>00010242fe8c5a6d1ba2dd792cb16214</th>\n",
       "      <td>72.19</td>\n",
       "      <td>72.19</td>\n",
       "    </tr>\n",
       "    <tr>\n",
       "      <th>00018f77f2f0320c557190d7a144bdd3</th>\n",
       "      <td>259.83</td>\n",
       "      <td>259.83</td>\n",
       "    </tr>\n",
       "    <tr>\n",
       "      <th>000229ec398224ef6ca0657da4fc703e</th>\n",
       "      <td>216.87</td>\n",
       "      <td>216.87</td>\n",
       "    </tr>\n",
       "    <tr>\n",
       "      <th>00024acbcdf0a6daa1e931b038114c75</th>\n",
       "      <td>25.78</td>\n",
       "      <td>25.78</td>\n",
       "    </tr>\n",
       "    <tr>\n",
       "      <th>00042b26cf59d7ce69dfabb4e55b4fd9</th>\n",
       "      <td>218.04</td>\n",
       "      <td>218.04</td>\n",
       "    </tr>\n",
       "  </tbody>\n",
       "</table>\n",
       "</div>"
      ],
      "text/plain": [
       "                                  payment_sum_per_ord  price_per_ord\n",
       "order_id                                                            \n",
       "00010242fe8c5a6d1ba2dd792cb16214                72.19          72.19\n",
       "00018f77f2f0320c557190d7a144bdd3               259.83         259.83\n",
       "000229ec398224ef6ca0657da4fc703e               216.87         216.87\n",
       "00024acbcdf0a6daa1e931b038114c75                25.78          25.78\n",
       "00042b26cf59d7ce69dfabb4e55b4fd9               218.04         218.04"
      ]
     },
     "execution_count": 119,
     "metadata": {},
     "output_type": "execute_result"
    }
   ],
   "source": [
    "# On utilise 'first' car on a une relation 1-1 entre orders et payments\n",
    "df_balance = df_customers_orders_products_payments.groupby('order_id').agg({'payment_sum_per_ord': 'first',\n",
    "                                                                            'price_per_ord': 'first'})\n",
    "df_balance.head()"
   ]
  },
  {
   "cell_type": "code",
   "execution_count": 120,
   "metadata": {},
   "outputs": [],
   "source": [
    "df_balance['balance'] = -np.round((df_balance['price_per_ord'] - df_balance['payment_sum_per_ord']),2)"
   ]
  },
  {
   "cell_type": "code",
   "execution_count": 121,
   "metadata": {},
   "outputs": [
    {
     "name": "stdout",
     "output_type": "stream",
     "text": [
      "                                  payment_sum_per_ord  price_per_ord  balance\n",
      "order_id                                                                     \n",
      "262118ce178bb3e4590a3adcf6d62e6b               126.12         177.74   -51.62\n",
      "fd33085945f15975375cd8ec85440511               212.82         234.62   -21.80\n",
      "\n",
      "                                  payment_sum_per_ord  price_per_ord  balance\n",
      "order_id                                                                     \n",
      "ce6d150fb29ada17d2082f4847107665              1586.47        1403.66   182.81\n",
      "6e5fe7366a2e1bfbf3257dba0af1267f               406.92         287.91   119.01\n"
     ]
    }
   ],
   "source": [
    "print(df_balance.sort_values('balance', ascending = True).head(2))\n",
    "print('')\n",
    "print(df_balance.sort_values('balance', ascending = False).head(2))"
   ]
  },
  {
   "cell_type": "code",
   "execution_count": 122,
   "metadata": {
    "scrolled": false
   },
   "outputs": [
    {
     "name": "stdout",
     "output_type": "stream",
     "text": [
      "            balance\n",
      "count  98665.000000\n",
      "mean       0.029092\n",
      "std        1.129221\n",
      "min      -51.620000\n",
      "25%       -0.000000\n",
      "50%        0.000000\n",
      "75%       -0.000000\n",
      "max      182.810000\n"
     ]
    },
    {
     "data": {
      "image/png": "[encoded data removed]",
      "text/plain": [
       "<Figure size 216x288 with 1 Axes>"
      ]
     },
     "metadata": {},
     "output_type": "display_data"
    }
   ],
   "source": [
    "val_out(df_balance,'balance')"
   ]
  },
  {
   "cell_type": "code",
   "execution_count": 123,
   "metadata": {},
   "outputs": [
    {
     "name": "stdout",
     "output_type": "stream",
     "text": [
      "Durée de l'opération 'Balance des paiements': 3.32 s\n",
      "Durée totale de traitement: 00 h 00 m 16 s\n"
     ]
    }
   ],
   "source": [
    "time_calc('Balance des paiements')\n",
    "t = time.time()"
   ]
  },
  {
   "cell_type": "markdown",
   "metadata": {},
   "source": [
    "##### Types de paiement"
   ]
  },
  {
   "cell_type": "code",
   "execution_count": 124,
   "metadata": {},
   "outputs": [
    {
     "data": {
      "text/plain": [
       "array(['credit_card', 'boleto', 'voucher', 'debit_card', 'not_defined'],\n",
       "      dtype=object)"
      ]
     },
     "execution_count": 124,
     "metadata": {},
     "output_type": "execute_result"
    }
   ],
   "source": [
    "df_order_payments['payment_type'].unique()"
   ]
  },
  {
   "cell_type": "code",
   "execution_count": 125,
   "metadata": {},
   "outputs": [
    {
     "data": {
      "text/html": [
       "<div>\n",
       "<style scoped>\n",
       "    .dataframe tbody tr th:only-of-type {\n",
       "        vertical-align: middle;\n",
       "    }\n",
       "\n",
       "    .dataframe tbody tr th {\n",
       "        vertical-align: top;\n",
       "    }\n",
       "\n",
       "    .dataframe thead th {\n",
       "        text-align: right;\n",
       "    }\n",
       "</style>\n",
       "<table border=\"1\" class=\"dataframe\">\n",
       "  <thead>\n",
       "    <tr style=\"text-align: right;\">\n",
       "      <th></th>\n",
       "      <th>order_id</th>\n",
       "      <th>payment_sequential</th>\n",
       "      <th>payment_installments</th>\n",
       "      <th>payment_value</th>\n",
       "    </tr>\n",
       "    <tr>\n",
       "      <th>payment_type</th>\n",
       "      <th></th>\n",
       "      <th></th>\n",
       "      <th></th>\n",
       "      <th></th>\n",
       "    </tr>\n",
       "  </thead>\n",
       "  <tbody>\n",
       "    <tr>\n",
       "      <th>boleto</th>\n",
       "      <td>19784</td>\n",
       "      <td>19784</td>\n",
       "      <td>19784</td>\n",
       "      <td>19784</td>\n",
       "    </tr>\n",
       "    <tr>\n",
       "      <th>credit_card</th>\n",
       "      <td>76795</td>\n",
       "      <td>76795</td>\n",
       "      <td>76795</td>\n",
       "      <td>76795</td>\n",
       "    </tr>\n",
       "    <tr>\n",
       "      <th>debit_card</th>\n",
       "      <td>1529</td>\n",
       "      <td>1529</td>\n",
       "      <td>1529</td>\n",
       "      <td>1529</td>\n",
       "    </tr>\n",
       "    <tr>\n",
       "      <th>not_defined</th>\n",
       "      <td>3</td>\n",
       "      <td>3</td>\n",
       "      <td>3</td>\n",
       "      <td>3</td>\n",
       "    </tr>\n",
       "    <tr>\n",
       "      <th>voucher</th>\n",
       "      <td>5775</td>\n",
       "      <td>5775</td>\n",
       "      <td>5775</td>\n",
       "      <td>5775</td>\n",
       "    </tr>\n",
       "  </tbody>\n",
       "</table>\n",
       "</div>"
      ],
      "text/plain": [
       "              order_id  payment_sequential  payment_installments  \\\n",
       "payment_type                                                       \n",
       "boleto           19784               19784                 19784   \n",
       "credit_card      76795               76795                 76795   \n",
       "debit_card        1529                1529                  1529   \n",
       "not_defined          3                   3                     3   \n",
       "voucher           5775                5775                  5775   \n",
       "\n",
       "              payment_value  \n",
       "payment_type                 \n",
       "boleto                19784  \n",
       "credit_card           76795  \n",
       "debit_card             1529  \n",
       "not_defined               3  \n",
       "voucher                5775  "
      ]
     },
     "execution_count": 125,
     "metadata": {},
     "output_type": "execute_result"
    }
   ],
   "source": [
    "df_order_payments.groupby('payment_type').count()"
   ]
  },
  {
   "cell_type": "code",
   "execution_count": 126,
   "metadata": {
    "scrolled": true
   },
   "outputs": [
    {
     "data": {
      "text/html": [
       "<div>\n",
       "<style scoped>\n",
       "    .dataframe tbody tr th:only-of-type {\n",
       "        vertical-align: middle;\n",
       "    }\n",
       "\n",
       "    .dataframe tbody tr th {\n",
       "        vertical-align: top;\n",
       "    }\n",
       "\n",
       "    .dataframe thead th {\n",
       "        text-align: right;\n",
       "    }\n",
       "</style>\n",
       "<table border=\"1\" class=\"dataframe\">\n",
       "  <thead>\n",
       "    <tr style=\"text-align: right;\">\n",
       "      <th></th>\n",
       "      <th>order_id</th>\n",
       "      <th>payment_sequential</th>\n",
       "      <th>payment_type</th>\n",
       "      <th>payment_installments</th>\n",
       "      <th>payment_value</th>\n",
       "    </tr>\n",
       "  </thead>\n",
       "  <tbody>\n",
       "    <tr>\n",
       "      <th>6506</th>\n",
       "      <td>654da57158d96035814657b5143bb11b</td>\n",
       "      <td>3</td>\n",
       "      <td>voucher</td>\n",
       "      <td>1</td>\n",
       "      <td>54.03</td>\n",
       "    </tr>\n",
       "    <tr>\n",
       "      <th>7698</th>\n",
       "      <td>654da57158d96035814657b5143bb11b</td>\n",
       "      <td>10</td>\n",
       "      <td>voucher</td>\n",
       "      <td>1</td>\n",
       "      <td>52.02</td>\n",
       "    </tr>\n",
       "    <tr>\n",
       "      <th>15266</th>\n",
       "      <td>654da57158d96035814657b5143bb11b</td>\n",
       "      <td>8</td>\n",
       "      <td>voucher</td>\n",
       "      <td>1</td>\n",
       "      <td>51.90</td>\n",
       "    </tr>\n",
       "    <tr>\n",
       "      <th>20445</th>\n",
       "      <td>654da57158d96035814657b5143bb11b</td>\n",
       "      <td>5</td>\n",
       "      <td>voucher</td>\n",
       "      <td>1</td>\n",
       "      <td>19.32</td>\n",
       "    </tr>\n",
       "    <tr>\n",
       "      <th>27836</th>\n",
       "      <td>654da57158d96035814657b5143bb11b</td>\n",
       "      <td>6</td>\n",
       "      <td>voucher</td>\n",
       "      <td>1</td>\n",
       "      <td>15.15</td>\n",
       "    </tr>\n",
       "    <tr>\n",
       "      <th>40495</th>\n",
       "      <td>654da57158d96035814657b5143bb11b</td>\n",
       "      <td>2</td>\n",
       "      <td>voucher</td>\n",
       "      <td>1</td>\n",
       "      <td>14.69</td>\n",
       "    </tr>\n",
       "    <tr>\n",
       "      <th>47607</th>\n",
       "      <td>654da57158d96035814657b5143bb11b</td>\n",
       "      <td>11</td>\n",
       "      <td>voucher</td>\n",
       "      <td>1</td>\n",
       "      <td>30.16</td>\n",
       "    </tr>\n",
       "    <tr>\n",
       "      <th>48504</th>\n",
       "      <td>654da57158d96035814657b5143bb11b</td>\n",
       "      <td>9</td>\n",
       "      <td>voucher</td>\n",
       "      <td>1</td>\n",
       "      <td>38.20</td>\n",
       "    </tr>\n",
       "    <tr>\n",
       "      <th>56346</th>\n",
       "      <td>654da57158d96035814657b5143bb11b</td>\n",
       "      <td>1</td>\n",
       "      <td>voucher</td>\n",
       "      <td>1</td>\n",
       "      <td>11.55</td>\n",
       "    </tr>\n",
       "    <tr>\n",
       "      <th>68192</th>\n",
       "      <td>654da57158d96035814657b5143bb11b</td>\n",
       "      <td>4</td>\n",
       "      <td>voucher</td>\n",
       "      <td>1</td>\n",
       "      <td>22.40</td>\n",
       "    </tr>\n",
       "    <tr>\n",
       "      <th>96815</th>\n",
       "      <td>654da57158d96035814657b5143bb11b</td>\n",
       "      <td>7</td>\n",
       "      <td>voucher</td>\n",
       "      <td>1</td>\n",
       "      <td>8.38</td>\n",
       "    </tr>\n",
       "  </tbody>\n",
       "</table>\n",
       "</div>"
      ],
      "text/plain": [
       "                               order_id  payment_sequential payment_type  \\\n",
       "6506   654da57158d96035814657b5143bb11b                   3      voucher   \n",
       "7698   654da57158d96035814657b5143bb11b                  10      voucher   \n",
       "15266  654da57158d96035814657b5143bb11b                   8      voucher   \n",
       "20445  654da57158d96035814657b5143bb11b                   5      voucher   \n",
       "27836  654da57158d96035814657b5143bb11b                   6      voucher   \n",
       "40495  654da57158d96035814657b5143bb11b                   2      voucher   \n",
       "47607  654da57158d96035814657b5143bb11b                  11      voucher   \n",
       "48504  654da57158d96035814657b5143bb11b                   9      voucher   \n",
       "56346  654da57158d96035814657b5143bb11b                   1      voucher   \n",
       "68192  654da57158d96035814657b5143bb11b                   4      voucher   \n",
       "96815  654da57158d96035814657b5143bb11b                   7      voucher   \n",
       "\n",
       "       payment_installments  payment_value  \n",
       "6506                      1          54.03  \n",
       "7698                      1          52.02  \n",
       "15266                     1          51.90  \n",
       "20445                     1          19.32  \n",
       "27836                     1          15.15  \n",
       "40495                     1          14.69  \n",
       "47607                     1          30.16  \n",
       "48504                     1          38.20  \n",
       "56346                     1          11.55  \n",
       "68192                     1          22.40  \n",
       "96815                     1           8.38  "
      ]
     },
     "execution_count": 126,
     "metadata": {},
     "output_type": "execute_result"
    }
   ],
   "source": [
    "df_order_payments[df_order_payments['order_id'] == '654da57158d96035814657b5143bb11b']"
   ]
  },
  {
   "cell_type": "code",
   "execution_count": 127,
   "metadata": {},
   "outputs": [
    {
     "name": "stdout",
     "output_type": "stream",
     "text": [
      "Durée de l'opération 'Fusion 5: Commandes / Paiements': 0.1 s\n",
      "Durée totale de traitement: 00 h 00 m 16 s\n"
     ]
    }
   ],
   "source": [
    "time_calc('Fusion 5: Commandes / Paiements')\n",
    "t = time.time()"
   ]
  },
  {
   "cell_type": "markdown",
   "metadata": {},
   "source": [
    "## Modèle de données <a class=\"anchor\" id=\"mod_don\"></a>"
   ]
  },
  {
   "cell_type": "code",
   "execution_count": 128,
   "metadata": {},
   "outputs": [
    {
     "name": "stdout",
     "output_type": "stream",
     "text": [
      "<class 'pandas.core.frame.DataFrame'>\n",
      "Int64Index: 112650 entries, 0 to 112649\n",
      "Data columns (total 23 columns):\n",
      " #   Column                         Non-Null Count   Dtype  \n",
      "---  ------                         --------------   -----  \n",
      " 0   customer_id                    112650 non-null  object \n",
      " 1   customer_unique_id             112650 non-null  object \n",
      " 2   customer_zip_code_prefix       112650 non-null  int64  \n",
      " 3   geolocation_zip_code_prefix_x  112348 non-null  float64\n",
      " 4   order_id                       112650 non-null  object \n",
      " 5   order_status                   112650 non-null  object \n",
      " 6   order_purchase_timestamp       112650 non-null  object \n",
      " 7   score_mean_per_ord             112650 non-null  float64\n",
      " 8   score_count_per_ord            112650 non-null  int64  \n",
      " 9   score_mean_per_cust            112650 non-null  float64\n",
      " 10  order_item_id                  112650 non-null  int64  \n",
      " 11  product_id                     112650 non-null  object \n",
      " 12  seller_id                      112650 non-null  object \n",
      " 13  seller_zip_code_prefix         112650 non-null  int64  \n",
      " 14  geolocation_zip_code_prefix_y  112397 non-null  float64\n",
      " 15  product_category               112650 non-null  object \n",
      " 16  price_total                    112650 non-null  float64\n",
      " 17  price_per_ord                  112650 non-null  float64\n",
      " 18  items_count                    112650 non-null  int64  \n",
      " 19  price_per_cust                 112650 non-null  float64\n",
      " 20  prod_nb_avg                    112650 non-null  float64\n",
      " 21  payment_sum_per_ord            112647 non-null  float64\n",
      " 22  payment_count_per_ord          112647 non-null  float64\n",
      "dtypes: float64(10), int64(5), object(8)\n",
      "memory usage: 20.6+ MB\n"
     ]
    }
   ],
   "source": [
    "df_customers_orders_products_payments.info()"
   ]
  },
  {
   "cell_type": "code",
   "execution_count": 129,
   "metadata": {},
   "outputs": [],
   "source": [
    "df = df_customers_orders_products_payments.sort_values(['customer_unique_id','order_id','order_purchase_timestamp'],\n",
    "                                                   ascending = [True, True, False])"
   ]
  },
  {
   "cell_type": "code",
   "execution_count": 130,
   "metadata": {},
   "outputs": [
    {
     "data": {
      "text/html": [
       "<div>\n",
       "<style scoped>\n",
       "    .dataframe tbody tr th:only-of-type {\n",
       "        vertical-align: middle;\n",
       "    }\n",
       "\n",
       "    .dataframe tbody tr th {\n",
       "        vertical-align: top;\n",
       "    }\n",
       "\n",
       "    .dataframe thead th {\n",
       "        text-align: right;\n",
       "    }\n",
       "</style>\n",
       "<table border=\"1\" class=\"dataframe\">\n",
       "  <thead>\n",
       "    <tr style=\"text-align: right;\">\n",
       "      <th></th>\n",
       "      <th>customer_id</th>\n",
       "      <th>customer_unique_id</th>\n",
       "      <th>customer_zip_code_prefix</th>\n",
       "      <th>geolocation_zip_code_prefix_x</th>\n",
       "      <th>order_id</th>\n",
       "      <th>order_status</th>\n",
       "      <th>order_purchase_timestamp</th>\n",
       "      <th>score_mean_per_ord</th>\n",
       "      <th>score_count_per_ord</th>\n",
       "      <th>score_mean_per_cust</th>\n",
       "      <th>...</th>\n",
       "      <th>seller_zip_code_prefix</th>\n",
       "      <th>geolocation_zip_code_prefix_y</th>\n",
       "      <th>product_category</th>\n",
       "      <th>price_total</th>\n",
       "      <th>price_per_ord</th>\n",
       "      <th>items_count</th>\n",
       "      <th>price_per_cust</th>\n",
       "      <th>prod_nb_avg</th>\n",
       "      <th>payment_sum_per_ord</th>\n",
       "      <th>payment_count_per_ord</th>\n",
       "    </tr>\n",
       "  </thead>\n",
       "  <tbody>\n",
       "    <tr>\n",
       "      <th>13456</th>\n",
       "      <td>ce0ae5c05efa10263bab504ec83c6a92</td>\n",
       "      <td>32ea3bdedab835c3aa6cb68ce66565ef</td>\n",
       "      <td>4106</td>\n",
       "      <td>4106.0</td>\n",
       "      <td>30ae6774935cd2a70fa74306f407495b</td>\n",
       "      <td>delivered</td>\n",
       "      <td>2017-09-27 08:20:09</td>\n",
       "      <td>5.0</td>\n",
       "      <td>1</td>\n",
       "      <td>4.666667</td>\n",
       "      <td>...</td>\n",
       "      <td>5849</td>\n",
       "      <td>5849.0</td>\n",
       "      <td>watches_gifts</td>\n",
       "      <td>56.78</td>\n",
       "      <td>56.78</td>\n",
       "      <td>1</td>\n",
       "      <td>45.72</td>\n",
       "      <td>1.0</td>\n",
       "      <td>56.78</td>\n",
       "      <td>2.0</td>\n",
       "    </tr>\n",
       "    <tr>\n",
       "      <th>13455</th>\n",
       "      <td>355077684019f7f60a031656bd7262b8</td>\n",
       "      <td>32ea3bdedab835c3aa6cb68ce66565ef</td>\n",
       "      <td>4106</td>\n",
       "      <td>4106.0</td>\n",
       "      <td>3b697a20d9e427646d92567910af6d57</td>\n",
       "      <td>delivered</td>\n",
       "      <td>2016-10-03 09:44:50</td>\n",
       "      <td>4.0</td>\n",
       "      <td>1</td>\n",
       "      <td>4.666667</td>\n",
       "      <td>...</td>\n",
       "      <td>85801</td>\n",
       "      <td>85801.0</td>\n",
       "      <td>watches_gifts</td>\n",
       "      <td>45.46</td>\n",
       "      <td>45.46</td>\n",
       "      <td>1</td>\n",
       "      <td>45.72</td>\n",
       "      <td>1.0</td>\n",
       "      <td>45.46</td>\n",
       "      <td>1.0</td>\n",
       "    </tr>\n",
       "    <tr>\n",
       "      <th>13454</th>\n",
       "      <td>78dbb0a0c4b3d6ca743616323a56c47b</td>\n",
       "      <td>32ea3bdedab835c3aa6cb68ce66565ef</td>\n",
       "      <td>4106</td>\n",
       "      <td>4106.0</td>\n",
       "      <td>ebf144597fc5b016fb405d0fea5c9e2d</td>\n",
       "      <td>delivered</td>\n",
       "      <td>2018-06-28 11:46:04</td>\n",
       "      <td>5.0</td>\n",
       "      <td>1</td>\n",
       "      <td>4.666667</td>\n",
       "      <td>...</td>\n",
       "      <td>7032</td>\n",
       "      <td>7032.0</td>\n",
       "      <td>stationery</td>\n",
       "      <td>34.92</td>\n",
       "      <td>34.92</td>\n",
       "      <td>1</td>\n",
       "      <td>45.72</td>\n",
       "      <td>1.0</td>\n",
       "      <td>34.92</td>\n",
       "      <td>1.0</td>\n",
       "    </tr>\n",
       "  </tbody>\n",
       "</table>\n",
       "<p>3 rows × 23 columns</p>\n",
       "</div>"
      ],
      "text/plain": [
       "                            customer_id                customer_unique_id  \\\n",
       "13456  ce0ae5c05efa10263bab504ec83c6a92  32ea3bdedab835c3aa6cb68ce66565ef   \n",
       "13455  355077684019f7f60a031656bd7262b8  32ea3bdedab835c3aa6cb68ce66565ef   \n",
       "13454  78dbb0a0c4b3d6ca743616323a56c47b  32ea3bdedab835c3aa6cb68ce66565ef   \n",
       "\n",
       "       customer_zip_code_prefix  geolocation_zip_code_prefix_x  \\\n",
       "13456                      4106                         4106.0   \n",
       "13455                      4106                         4106.0   \n",
       "13454                      4106                         4106.0   \n",
       "\n",
       "                               order_id order_status order_purchase_timestamp  \\\n",
       "13456  30ae6774935cd2a70fa74306f407495b    delivered      2017-09-27 08:20:09   \n",
       "13455  3b697a20d9e427646d92567910af6d57    delivered      2016-10-03 09:44:50   \n",
       "13454  ebf144597fc5b016fb405d0fea5c9e2d    delivered      2018-06-28 11:46:04   \n",
       "\n",
       "       score_mean_per_ord  score_count_per_ord  score_mean_per_cust  ...  \\\n",
       "13456                 5.0                    1             4.666667  ...   \n",
       "13455                 4.0                    1             4.666667  ...   \n",
       "13454                 5.0                    1             4.666667  ...   \n",
       "\n",
       "       seller_zip_code_prefix geolocation_zip_code_prefix_y product_category  \\\n",
       "13456                    5849                        5849.0    watches_gifts   \n",
       "13455                   85801                       85801.0    watches_gifts   \n",
       "13454                    7032                        7032.0       stationery   \n",
       "\n",
       "       price_total  price_per_ord items_count  price_per_cust  prod_nb_avg  \\\n",
       "13456        56.78          56.78           1           45.72          1.0   \n",
       "13455        45.46          45.46           1           45.72          1.0   \n",
       "13454        34.92          34.92           1           45.72          1.0   \n",
       "\n",
       "       payment_sum_per_ord  payment_count_per_ord  \n",
       "13456                56.78                    2.0  \n",
       "13455                45.46                    1.0  \n",
       "13454                34.92                    1.0  \n",
       "\n",
       "[3 rows x 23 columns]"
      ]
     },
     "execution_count": 130,
     "metadata": {},
     "output_type": "execute_result"
    }
   ],
   "source": [
    "# Exemple: client avec plusieurs commandes\n",
    "df[df['customer_unique_id'] == '32ea3bdedab835c3aa6cb68ce66565ef']"
   ]
  },
  {
   "cell_type": "code",
   "execution_count": 131,
   "metadata": {},
   "outputs": [
    {
     "data": {
      "text/html": [
       "<div>\n",
       "<style scoped>\n",
       "    .dataframe tbody tr th:only-of-type {\n",
       "        vertical-align: middle;\n",
       "    }\n",
       "\n",
       "    .dataframe tbody tr th {\n",
       "        vertical-align: top;\n",
       "    }\n",
       "\n",
       "    .dataframe thead th {\n",
       "        text-align: right;\n",
       "    }\n",
       "</style>\n",
       "<table border=\"1\" class=\"dataframe\">\n",
       "  <thead>\n",
       "    <tr style=\"text-align: right;\">\n",
       "      <th></th>\n",
       "      <th>customer_id</th>\n",
       "      <th>customer_unique_id</th>\n",
       "      <th>customer_zip_code_prefix</th>\n",
       "      <th>geolocation_zip_code_prefix_x</th>\n",
       "      <th>order_id</th>\n",
       "      <th>order_status</th>\n",
       "      <th>order_purchase_timestamp</th>\n",
       "      <th>score_mean_per_ord</th>\n",
       "      <th>score_count_per_ord</th>\n",
       "      <th>score_mean_per_cust</th>\n",
       "      <th>...</th>\n",
       "      <th>seller_zip_code_prefix</th>\n",
       "      <th>geolocation_zip_code_prefix_y</th>\n",
       "      <th>product_category</th>\n",
       "      <th>price_total</th>\n",
       "      <th>price_per_ord</th>\n",
       "      <th>items_count</th>\n",
       "      <th>price_per_cust</th>\n",
       "      <th>prod_nb_avg</th>\n",
       "      <th>payment_sum_per_ord</th>\n",
       "      <th>payment_count_per_ord</th>\n",
       "    </tr>\n",
       "  </thead>\n",
       "  <tbody>\n",
       "    <tr>\n",
       "      <th>2221</th>\n",
       "      <td>af3e2512698db57266bf9f5e5aba537d</td>\n",
       "      <td>3de675e6f79e135540ee0144844d26a7</td>\n",
       "      <td>83321</td>\n",
       "      <td>83321.0</td>\n",
       "      <td>b72eceaf3e014a8336da6b52928715f2</td>\n",
       "      <td>delivered</td>\n",
       "      <td>2017-06-26 15:08:20</td>\n",
       "      <td>5.0</td>\n",
       "      <td>1</td>\n",
       "      <td>5.0</td>\n",
       "      <td>...</td>\n",
       "      <td>83321</td>\n",
       "      <td>83321.0</td>\n",
       "      <td>office_furniture</td>\n",
       "      <td>158.45</td>\n",
       "      <td>475.35</td>\n",
       "      <td>3</td>\n",
       "      <td>475.35</td>\n",
       "      <td>3.0</td>\n",
       "      <td>475.35</td>\n",
       "      <td>1.0</td>\n",
       "    </tr>\n",
       "    <tr>\n",
       "      <th>2222</th>\n",
       "      <td>af3e2512698db57266bf9f5e5aba537d</td>\n",
       "      <td>3de675e6f79e135540ee0144844d26a7</td>\n",
       "      <td>83321</td>\n",
       "      <td>83321.0</td>\n",
       "      <td>b72eceaf3e014a8336da6b52928715f2</td>\n",
       "      <td>delivered</td>\n",
       "      <td>2017-06-26 15:08:20</td>\n",
       "      <td>5.0</td>\n",
       "      <td>1</td>\n",
       "      <td>5.0</td>\n",
       "      <td>...</td>\n",
       "      <td>83321</td>\n",
       "      <td>83321.0</td>\n",
       "      <td>office_furniture</td>\n",
       "      <td>158.45</td>\n",
       "      <td>475.35</td>\n",
       "      <td>3</td>\n",
       "      <td>475.35</td>\n",
       "      <td>3.0</td>\n",
       "      <td>475.35</td>\n",
       "      <td>1.0</td>\n",
       "    </tr>\n",
       "    <tr>\n",
       "      <th>2223</th>\n",
       "      <td>af3e2512698db57266bf9f5e5aba537d</td>\n",
       "      <td>3de675e6f79e135540ee0144844d26a7</td>\n",
       "      <td>83321</td>\n",
       "      <td>83321.0</td>\n",
       "      <td>b72eceaf3e014a8336da6b52928715f2</td>\n",
       "      <td>delivered</td>\n",
       "      <td>2017-06-26 15:08:20</td>\n",
       "      <td>5.0</td>\n",
       "      <td>1</td>\n",
       "      <td>5.0</td>\n",
       "      <td>...</td>\n",
       "      <td>83321</td>\n",
       "      <td>83321.0</td>\n",
       "      <td>office_furniture</td>\n",
       "      <td>158.45</td>\n",
       "      <td>475.35</td>\n",
       "      <td>3</td>\n",
       "      <td>475.35</td>\n",
       "      <td>3.0</td>\n",
       "      <td>475.35</td>\n",
       "      <td>1.0</td>\n",
       "    </tr>\n",
       "  </tbody>\n",
       "</table>\n",
       "<p>3 rows × 23 columns</p>\n",
       "</div>"
      ],
      "text/plain": [
       "                           customer_id                customer_unique_id  \\\n",
       "2221  af3e2512698db57266bf9f5e5aba537d  3de675e6f79e135540ee0144844d26a7   \n",
       "2222  af3e2512698db57266bf9f5e5aba537d  3de675e6f79e135540ee0144844d26a7   \n",
       "2223  af3e2512698db57266bf9f5e5aba537d  3de675e6f79e135540ee0144844d26a7   \n",
       "\n",
       "      customer_zip_code_prefix  geolocation_zip_code_prefix_x  \\\n",
       "2221                     83321                        83321.0   \n",
       "2222                     83321                        83321.0   \n",
       "2223                     83321                        83321.0   \n",
       "\n",
       "                              order_id order_status order_purchase_timestamp  \\\n",
       "2221  b72eceaf3e014a8336da6b52928715f2    delivered      2017-06-26 15:08:20   \n",
       "2222  b72eceaf3e014a8336da6b52928715f2    delivered      2017-06-26 15:08:20   \n",
       "2223  b72eceaf3e014a8336da6b52928715f2    delivered      2017-06-26 15:08:20   \n",
       "\n",
       "      score_mean_per_ord  score_count_per_ord  score_mean_per_cust  ...  \\\n",
       "2221                 5.0                    1                  5.0  ...   \n",
       "2222                 5.0                    1                  5.0  ...   \n",
       "2223                 5.0                    1                  5.0  ...   \n",
       "\n",
       "      seller_zip_code_prefix geolocation_zip_code_prefix_y  product_category  \\\n",
       "2221                   83321                       83321.0  office_furniture   \n",
       "2222                   83321                       83321.0  office_furniture   \n",
       "2223                   83321                       83321.0  office_furniture   \n",
       "\n",
       "      price_total  price_per_ord items_count  price_per_cust  prod_nb_avg  \\\n",
       "2221       158.45         475.35           3          475.35          3.0   \n",
       "2222       158.45         475.35           3          475.35          3.0   \n",
       "2223       158.45         475.35           3          475.35          3.0   \n",
       "\n",
       "      payment_sum_per_ord  payment_count_per_ord  \n",
       "2221               475.35                    1.0  \n",
       "2222               475.35                    1.0  \n",
       "2223               475.35                    1.0  \n",
       "\n",
       "[3 rows x 23 columns]"
      ]
     },
     "execution_count": 131,
     "metadata": {},
     "output_type": "execute_result"
    }
   ],
   "source": [
    "# Exemple: client avec une seule commande comprenant 3 fois le même prouit\n",
    "df[df['customer_unique_id'] == '3de675e6f79e135540ee0144844d26a7']"
   ]
  },
  {
   "cell_type": "code",
   "execution_count": 132,
   "metadata": {},
   "outputs": [
    {
     "data": {
      "text/html": [
       "<div>\n",
       "<style scoped>\n",
       "    .dataframe tbody tr th:only-of-type {\n",
       "        vertical-align: middle;\n",
       "    }\n",
       "\n",
       "    .dataframe tbody tr th {\n",
       "        vertical-align: top;\n",
       "    }\n",
       "\n",
       "    .dataframe thead th {\n",
       "        text-align: right;\n",
       "    }\n",
       "</style>\n",
       "<table border=\"1\" class=\"dataframe\">\n",
       "  <thead>\n",
       "    <tr style=\"text-align: right;\">\n",
       "      <th></th>\n",
       "      <th>customer_id</th>\n",
       "      <th>customer_unique_id</th>\n",
       "      <th>customer_zip_code_prefix</th>\n",
       "      <th>geolocation_zip_code_prefix_x</th>\n",
       "      <th>order_id</th>\n",
       "      <th>order_status</th>\n",
       "      <th>order_purchase_timestamp</th>\n",
       "      <th>score_mean_per_ord</th>\n",
       "      <th>score_count_per_ord</th>\n",
       "      <th>score_mean_per_cust</th>\n",
       "      <th>...</th>\n",
       "      <th>seller_zip_code_prefix</th>\n",
       "      <th>geolocation_zip_code_prefix_y</th>\n",
       "      <th>product_category</th>\n",
       "      <th>price_total</th>\n",
       "      <th>price_per_ord</th>\n",
       "      <th>items_count</th>\n",
       "      <th>price_per_cust</th>\n",
       "      <th>prod_nb_avg</th>\n",
       "      <th>payment_sum_per_ord</th>\n",
       "      <th>payment_count_per_ord</th>\n",
       "    </tr>\n",
       "  </thead>\n",
       "  <tbody>\n",
       "    <tr>\n",
       "      <th>83617</th>\n",
       "      <td>49cf243e0d353cd418ca77868e24a670</td>\n",
       "      <td>004b45ec5c64187465168251cd1c9c2f</td>\n",
       "      <td>57055</td>\n",
       "      <td>57055.0</td>\n",
       "      <td>90ae229a4addcfead792e2564554f09c</td>\n",
       "      <td>shipped</td>\n",
       "      <td>2017-09-01 12:11:23</td>\n",
       "      <td>1.0</td>\n",
       "      <td>1</td>\n",
       "      <td>3.0</td>\n",
       "      <td>...</td>\n",
       "      <td>15025</td>\n",
       "      <td>15025.0</td>\n",
       "      <td>garden_tools</td>\n",
       "      <td>97.87</td>\n",
       "      <td>97.87</td>\n",
       "      <td>1</td>\n",
       "      <td>73.86</td>\n",
       "      <td>1.0</td>\n",
       "      <td>97.87</td>\n",
       "      <td>1.0</td>\n",
       "    </tr>\n",
       "    <tr>\n",
       "      <th>83618</th>\n",
       "      <td>d95f60d70d9ea9a7fe37c53c931940bb</td>\n",
       "      <td>004b45ec5c64187465168251cd1c9c2f</td>\n",
       "      <td>57035</td>\n",
       "      <td>57035.0</td>\n",
       "      <td>9392c5e72885ad5aba87e6223ca9838d</td>\n",
       "      <td>delivered</td>\n",
       "      <td>2018-05-26 19:42:48</td>\n",
       "      <td>5.0</td>\n",
       "      <td>1</td>\n",
       "      <td>3.0</td>\n",
       "      <td>...</td>\n",
       "      <td>3204</td>\n",
       "      <td>3204.0</td>\n",
       "      <td>furniture_decor</td>\n",
       "      <td>49.85</td>\n",
       "      <td>49.85</td>\n",
       "      <td>1</td>\n",
       "      <td>73.86</td>\n",
       "      <td>1.0</td>\n",
       "      <td>49.85</td>\n",
       "      <td>1.0</td>\n",
       "    </tr>\n",
       "  </tbody>\n",
       "</table>\n",
       "<p>2 rows × 23 columns</p>\n",
       "</div>"
      ],
      "text/plain": [
       "                            customer_id                customer_unique_id  \\\n",
       "83617  49cf243e0d353cd418ca77868e24a670  004b45ec5c64187465168251cd1c9c2f   \n",
       "83618  d95f60d70d9ea9a7fe37c53c931940bb  004b45ec5c64187465168251cd1c9c2f   \n",
       "\n",
       "       customer_zip_code_prefix  geolocation_zip_code_prefix_x  \\\n",
       "83617                     57055                        57055.0   \n",
       "83618                     57035                        57035.0   \n",
       "\n",
       "                               order_id order_status order_purchase_timestamp  \\\n",
       "83617  90ae229a4addcfead792e2564554f09c      shipped      2017-09-01 12:11:23   \n",
       "83618  9392c5e72885ad5aba87e6223ca9838d    delivered      2018-05-26 19:42:48   \n",
       "\n",
       "       score_mean_per_ord  score_count_per_ord  score_mean_per_cust  ...  \\\n",
       "83617                 1.0                    1                  3.0  ...   \n",
       "83618                 5.0                    1                  3.0  ...   \n",
       "\n",
       "       seller_zip_code_prefix geolocation_zip_code_prefix_y product_category  \\\n",
       "83617                   15025                       15025.0     garden_tools   \n",
       "83618                    3204                        3204.0  furniture_decor   \n",
       "\n",
       "       price_total  price_per_ord items_count  price_per_cust  prod_nb_avg  \\\n",
       "83617        97.87          97.87           1           73.86          1.0   \n",
       "83618        49.85          49.85           1           73.86          1.0   \n",
       "\n",
       "       payment_sum_per_ord  payment_count_per_ord  \n",
       "83617                97.87                    1.0  \n",
       "83618                49.85                    1.0  \n",
       "\n",
       "[2 rows x 23 columns]"
      ]
     },
     "execution_count": 132,
     "metadata": {},
     "output_type": "execute_result"
    }
   ],
   "source": [
    "# Exemple: localisations de vendeur et livraison différentes\n",
    "df[df['customer_unique_id'] == '004b45ec5c64187465168251cd1c9c2f']"
   ]
  },
  {
   "cell_type": "code",
   "execution_count": 133,
   "metadata": {},
   "outputs": [],
   "source": [
    "# Exemple: localisations de vendeur et livraison différentes\n",
    "df_cust_export = df[df['customer_unique_id'] == '3e43e6105506432c953e165fb2acf44c']"
   ]
  },
  {
   "cell_type": "code",
   "execution_count": 134,
   "metadata": {},
   "outputs": [
    {
     "name": "stdout",
     "output_type": "stream",
     "text": [
      "Durée de l'opération 'Modèle de données - Initialisation': 0.92 s\n",
      "Durée totale de traitement: 00 h 00 m 17 s\n"
     ]
    }
   ],
   "source": [
    "time_calc('Modèle de données - Initialisation')\n",
    "t = time.time()"
   ]
  },
  {
   "cell_type": "markdown",
   "metadata": {},
   "source": [
    "### Traitement des données <a class=\"anchor\" id=\"tra_don\"></a>"
   ]
  },
  {
   "cell_type": "markdown",
   "metadata": {},
   "source": [
    "#### Localisation"
   ]
  },
  {
   "cell_type": "markdown",
   "metadata": {},
   "source": [
    "Il existe 2 niveaux de localisation:\n",
    "\n",
    "1. Niveau Commande\n",
    "2. Niveau Ligne de commande (item)\n",
    "\n",
    "A chaque commande est associée un code de localisation (**'customer_zip_code_prefix'**).\n",
    "\n",
    "Donc, un client unique peut se voir assigner plusieurs codes de localisation différents.\n",
    "\n",
    "> Dans ce cas, le code **'customer_zip_code_prefix'** ne définit pas la localisation des clients mais plutôt la localisation de **livraison** des commandes.\n",
    "\n",
    "Un code de localisation défini par la variable **'seller_zip_code_prefix'** est associé à chaque ligne de commande comprenant un numéro de commande et un numéro de produit.\n",
    "\n",
    "> Dans ce cas, le code **'seller_zip_code_prefix'** correspond à la localisation du **vendeur** du produit concerné."
   ]
  },
  {
   "cell_type": "code",
   "execution_count": 135,
   "metadata": {},
   "outputs": [],
   "source": [
    "df_ord_loc_dif = df.groupby('customer_unique_id').agg({'customer_zip_code_prefix': 'count',\n",
    "                                                       'customer_zip_code_prefix': pd.Series.nunique})\n",
    "df_ord_loc_dif = df_ord_loc_dif[df_ord_loc_dif['customer_zip_code_prefix'] != 1]"
   ]
  },
  {
   "cell_type": "code",
   "execution_count": 136,
   "metadata": {},
   "outputs": [],
   "source": [
    "loc_dif = df_ord_loc_dif.shape[0]\n",
    "cust_unique = df['customer_unique_id'].unique().shape[0]"
   ]
  },
  {
   "cell_type": "code",
   "execution_count": 137,
   "metadata": {},
   "outputs": [
    {
     "data": {
      "text/markdown": [
       "\n",
       "On notera que, pour une large proportion de clients,\n",
       "les localisations de livraison des commandes sont identiques pour toutes les commandes d'un même client.\n",
       "\n",
       "> Il y a en effet **245** clients uniques (sur **95420**) qui ont fait des commandes avec des localisations de livraison\n",
       "différentes selon les commandes. \n"
      ],
      "text/plain": [
       "<IPython.core.display.Markdown object>"
      ]
     },
     "execution_count": 137,
     "metadata": {},
     "output_type": "execute_result"
    }
   ],
   "source": [
    "Markdown(\"\"\"\n",
    "On notera que, pour une large proportion de clients,\n",
    "les localisations de livraison des commandes sont identiques pour toutes les commandes d'un même client.\n",
    "\n",
    "> Il y a en effet **{loc_dif}** clients uniques (sur **{cust_unique}**) qui ont fait des commandes avec des localisations de livraison\n",
    "différentes selon les commandes. \n",
    "\"\"\".format(loc_dif=loc_dif,cust_unique=cust_unique))"
   ]
  },
  {
   "cell_type": "markdown",
   "metadata": {},
   "source": [
    "Exemples:"
   ]
  },
  {
   "cell_type": "code",
   "execution_count": 138,
   "metadata": {},
   "outputs": [
    {
     "data": {
      "text/html": [
       "<div>\n",
       "<style scoped>\n",
       "    .dataframe tbody tr th:only-of-type {\n",
       "        vertical-align: middle;\n",
       "    }\n",
       "\n",
       "    .dataframe tbody tr th {\n",
       "        vertical-align: top;\n",
       "    }\n",
       "\n",
       "    .dataframe thead th {\n",
       "        text-align: right;\n",
       "    }\n",
       "</style>\n",
       "<table border=\"1\" class=\"dataframe\">\n",
       "  <thead>\n",
       "    <tr style=\"text-align: right;\">\n",
       "      <th></th>\n",
       "      <th>order_id</th>\n",
       "      <th>customer_zip_code_prefix</th>\n",
       "      <th>product_id</th>\n",
       "      <th>seller_zip_code_prefix</th>\n",
       "    </tr>\n",
       "  </thead>\n",
       "  <tbody>\n",
       "    <tr>\n",
       "      <th>76051</th>\n",
       "      <td>00010242fe8c5a6d1ba2dd792cb16214</td>\n",
       "      <td>28013</td>\n",
       "      <td>4244733e06e7ecb4970a6e2683c13e61</td>\n",
       "      <td>27277</td>\n",
       "    </tr>\n",
       "    <tr>\n",
       "      <th>40786</th>\n",
       "      <td>00018f77f2f0320c557190d7a144bdd3</td>\n",
       "      <td>15775</td>\n",
       "      <td>e5f2d52b802189ee658865ca93d83a8f</td>\n",
       "      <td>3471</td>\n",
       "    </tr>\n",
       "    <tr>\n",
       "      <th>41579</th>\n",
       "      <td>000229ec398224ef6ca0657da4fc703e</td>\n",
       "      <td>35661</td>\n",
       "      <td>c777355d18b72b67abbeef9df44fd0fd</td>\n",
       "      <td>37564</td>\n",
       "    </tr>\n",
       "    <tr>\n",
       "      <th>60746</th>\n",
       "      <td>00024acbcdf0a6daa1e931b038114c75</td>\n",
       "      <td>12952</td>\n",
       "      <td>7634da152a4610f1595efa32f14722fc</td>\n",
       "      <td>14403</td>\n",
       "    </tr>\n",
       "    <tr>\n",
       "      <th>9282</th>\n",
       "      <td>00042b26cf59d7ce69dfabb4e55b4fd9</td>\n",
       "      <td>13226</td>\n",
       "      <td>ac6c3623068f30de03045865e4e10089</td>\n",
       "      <td>87900</td>\n",
       "    </tr>\n",
       "  </tbody>\n",
       "</table>\n",
       "</div>"
      ],
      "text/plain": [
       "                               order_id  customer_zip_code_prefix  \\\n",
       "76051  00010242fe8c5a6d1ba2dd792cb16214                     28013   \n",
       "40786  00018f77f2f0320c557190d7a144bdd3                     15775   \n",
       "41579  000229ec398224ef6ca0657da4fc703e                     35661   \n",
       "60746  00024acbcdf0a6daa1e931b038114c75                     12952   \n",
       "9282   00042b26cf59d7ce69dfabb4e55b4fd9                     13226   \n",
       "\n",
       "                             product_id  seller_zip_code_prefix  \n",
       "76051  4244733e06e7ecb4970a6e2683c13e61                   27277  \n",
       "40786  e5f2d52b802189ee658865ca93d83a8f                    3471  \n",
       "41579  c777355d18b72b67abbeef9df44fd0fd                   37564  \n",
       "60746  7634da152a4610f1595efa32f14722fc                   14403  \n",
       "9282   ac6c3623068f30de03045865e4e10089                   87900  "
      ]
     },
     "execution_count": 138,
     "metadata": {},
     "output_type": "execute_result"
    }
   ],
   "source": [
    "df[['order_id','customer_zip_code_prefix','product_id','seller_zip_code_prefix']].sort_values(['order_id','customer_zip_code_prefix']).head()"
   ]
  },
  {
   "cell_type": "code",
   "execution_count": 139,
   "metadata": {},
   "outputs": [
    {
     "name": "stdout",
     "output_type": "stream",
     "text": [
      "Durée de l'opération 'Modèle de données - Localisation 1': 8.06 s\n",
      "Durée totale de traitement: 00 h 00 m 25 s\n"
     ]
    }
   ],
   "source": [
    "time_calc('Modèle de données - Localisation 1')\n",
    "t = time.time()"
   ]
  },
  {
   "cell_type": "markdown",
   "metadata": {},
   "source": [
    "##### Localisation de livraison vs Localisation du vendeur"
   ]
  },
  {
   "cell_type": "markdown",
   "metadata": {},
   "source": [
    "On cherche à savoir si il existe un lien entre la localisation des **vendeurs** et des **livraisons**.\n",
    "\n",
    "Pour cela on compare dans un premier temps les localisations au niveau des lignes de commandes."
   ]
  },
  {
   "cell_type": "code",
   "execution_count": 140,
   "metadata": {},
   "outputs": [],
   "source": [
    "# On créé une variable 'same_loc' qui prend la valeur 1 quand les variables à comparer sont égales, 0 sinon\n",
    "df['same_loc'] = df['customer_zip_code_prefix'] == df['seller_zip_code_prefix']"
   ]
  },
  {
   "cell_type": "markdown",
   "metadata": {},
   "source": [
    "Exemples de clients pours lesquels la localisation de livraison est **égale** à la localisation du vendeur."
   ]
  },
  {
   "cell_type": "code",
   "execution_count": 141,
   "metadata": {
    "scrolled": false
   },
   "outputs": [
    {
     "data": {
      "text/html": [
       "<div>\n",
       "<style scoped>\n",
       "    .dataframe tbody tr th:only-of-type {\n",
       "        vertical-align: middle;\n",
       "    }\n",
       "\n",
       "    .dataframe tbody tr th {\n",
       "        vertical-align: top;\n",
       "    }\n",
       "\n",
       "    .dataframe thead th {\n",
       "        text-align: right;\n",
       "    }\n",
       "</style>\n",
       "<table border=\"1\" class=\"dataframe\">\n",
       "  <thead>\n",
       "    <tr style=\"text-align: right;\">\n",
       "      <th></th>\n",
       "      <th>customer_unique_id</th>\n",
       "      <th>order_id</th>\n",
       "      <th>order_item_id</th>\n",
       "      <th>customer_zip_code_prefix</th>\n",
       "      <th>seller_zip_code_prefix</th>\n",
       "      <th>same_loc</th>\n",
       "    </tr>\n",
       "  </thead>\n",
       "  <tbody>\n",
       "    <tr>\n",
       "      <th>15294</th>\n",
       "      <td>0c184b7e23f30243d8957a97ce6af3f8</td>\n",
       "      <td>4d5e865e4b64c8b33f8a81fd14731344</td>\n",
       "      <td>1</td>\n",
       "      <td>80230</td>\n",
       "      <td>80230</td>\n",
       "      <td>True</td>\n",
       "    </tr>\n",
       "    <tr>\n",
       "      <th>86705</th>\n",
       "      <td>0d4cf36ed65cd1aba4a30a3bea1b19d4</td>\n",
       "      <td>3cfcc0ca272d41bdfa5d2ec747019f73</td>\n",
       "      <td>1</td>\n",
       "      <td>89560</td>\n",
       "      <td>89560</td>\n",
       "      <td>True</td>\n",
       "    </tr>\n",
       "    <tr>\n",
       "      <th>22152</th>\n",
       "      <td>1dbacfbc8a8b1ef3409ab799d372eeb2</td>\n",
       "      <td>aaf8c4fd10324c24379e08159ce8489e</td>\n",
       "      <td>1</td>\n",
       "      <td>14600</td>\n",
       "      <td>14600</td>\n",
       "      <td>True</td>\n",
       "    </tr>\n",
       "    <tr>\n",
       "      <th>22001</th>\n",
       "      <td>377c26c9b730b15b237991e2ec5a04d3</td>\n",
       "      <td>6a87a0371f263aa8c1779c2c115c1427</td>\n",
       "      <td>1</td>\n",
       "      <td>35570</td>\n",
       "      <td>35570</td>\n",
       "      <td>True</td>\n",
       "    </tr>\n",
       "    <tr>\n",
       "      <th>2221</th>\n",
       "      <td>3de675e6f79e135540ee0144844d26a7</td>\n",
       "      <td>b72eceaf3e014a8336da6b52928715f2</td>\n",
       "      <td>1</td>\n",
       "      <td>83321</td>\n",
       "      <td>83321</td>\n",
       "      <td>True</td>\n",
       "    </tr>\n",
       "  </tbody>\n",
       "</table>\n",
       "</div>"
      ],
      "text/plain": [
       "                     customer_unique_id                          order_id  \\\n",
       "15294  0c184b7e23f30243d8957a97ce6af3f8  4d5e865e4b64c8b33f8a81fd14731344   \n",
       "86705  0d4cf36ed65cd1aba4a30a3bea1b19d4  3cfcc0ca272d41bdfa5d2ec747019f73   \n",
       "22152  1dbacfbc8a8b1ef3409ab799d372eeb2  aaf8c4fd10324c24379e08159ce8489e   \n",
       "22001  377c26c9b730b15b237991e2ec5a04d3  6a87a0371f263aa8c1779c2c115c1427   \n",
       "2221   3de675e6f79e135540ee0144844d26a7  b72eceaf3e014a8336da6b52928715f2   \n",
       "\n",
       "       order_item_id  customer_zip_code_prefix  seller_zip_code_prefix  \\\n",
       "15294              1                     80230                   80230   \n",
       "86705              1                     89560                   89560   \n",
       "22152              1                     14600                   14600   \n",
       "22001              1                     35570                   35570   \n",
       "2221               1                     83321                   83321   \n",
       "\n",
       "       same_loc  \n",
       "15294      True  \n",
       "86705      True  \n",
       "22152      True  \n",
       "22001      True  \n",
       "2221       True  "
      ]
     },
     "execution_count": 141,
     "metadata": {},
     "output_type": "execute_result"
    }
   ],
   "source": [
    "df[df['same_loc'] == True][['customer_unique_id','order_id','order_item_id','customer_zip_code_prefix',\n",
    "                            'seller_zip_code_prefix','same_loc']].sort_values(['customer_unique_id','order_id']).head()"
   ]
  },
  {
   "cell_type": "markdown",
   "metadata": {},
   "source": [
    "Exemples de clients pours lesquels la localisation de livraison est **différente** de la localisation du vendeur."
   ]
  },
  {
   "cell_type": "code",
   "execution_count": 142,
   "metadata": {},
   "outputs": [
    {
     "data": {
      "text/html": [
       "<div>\n",
       "<style scoped>\n",
       "    .dataframe tbody tr th:only-of-type {\n",
       "        vertical-align: middle;\n",
       "    }\n",
       "\n",
       "    .dataframe tbody tr th {\n",
       "        vertical-align: top;\n",
       "    }\n",
       "\n",
       "    .dataframe thead th {\n",
       "        text-align: right;\n",
       "    }\n",
       "</style>\n",
       "<table border=\"1\" class=\"dataframe\">\n",
       "  <thead>\n",
       "    <tr style=\"text-align: right;\">\n",
       "      <th></th>\n",
       "      <th>customer_unique_id</th>\n",
       "      <th>order_id</th>\n",
       "      <th>order_item_id</th>\n",
       "      <th>customer_zip_code_prefix</th>\n",
       "      <th>seller_zip_code_prefix</th>\n",
       "      <th>same_loc</th>\n",
       "    </tr>\n",
       "  </thead>\n",
       "  <tbody>\n",
       "    <tr>\n",
       "      <th>74356</th>\n",
       "      <td>0000366f3b9a7992bf8c76cfdf3221e2</td>\n",
       "      <td>e22acc9c116caa3f2b7121bbb380d08e</td>\n",
       "      <td>1</td>\n",
       "      <td>7787</td>\n",
       "      <td>13405</td>\n",
       "      <td>False</td>\n",
       "    </tr>\n",
       "    <tr>\n",
       "      <th>29474</th>\n",
       "      <td>0000b849f77a49e4a4ce2b2a4ca5be3f</td>\n",
       "      <td>3594e05a005ac4d06a72673270ef9ec9</td>\n",
       "      <td>1</td>\n",
       "      <td>6053</td>\n",
       "      <td>2215</td>\n",
       "      <td>False</td>\n",
       "    </tr>\n",
       "    <tr>\n",
       "      <th>48314</th>\n",
       "      <td>0000f46a3911fa3c0805444483337064</td>\n",
       "      <td>b33ec3b699337181488304f362a6b734</td>\n",
       "      <td>1</td>\n",
       "      <td>88115</td>\n",
       "      <td>13232</td>\n",
       "      <td>False</td>\n",
       "    </tr>\n",
       "    <tr>\n",
       "      <th>66721</th>\n",
       "      <td>0000f6ccb0745a6a4b88665a16c9f078</td>\n",
       "      <td>41272756ecddd9a9ed0180413cc22fb6</td>\n",
       "      <td>1</td>\n",
       "      <td>66812</td>\n",
       "      <td>3569</td>\n",
       "      <td>False</td>\n",
       "    </tr>\n",
       "    <tr>\n",
       "      <th>93084</th>\n",
       "      <td>0004aac84e0df4da2b147fca70cf8255</td>\n",
       "      <td>d957021f1127559cd947b62533f484f7</td>\n",
       "      <td>1</td>\n",
       "      <td>18040</td>\n",
       "      <td>12327</td>\n",
       "      <td>False</td>\n",
       "    </tr>\n",
       "  </tbody>\n",
       "</table>\n",
       "</div>"
      ],
      "text/plain": [
       "                     customer_unique_id                          order_id  \\\n",
       "74356  0000366f3b9a7992bf8c76cfdf3221e2  e22acc9c116caa3f2b7121bbb380d08e   \n",
       "29474  0000b849f77a49e4a4ce2b2a4ca5be3f  3594e05a005ac4d06a72673270ef9ec9   \n",
       "48314  0000f46a3911fa3c0805444483337064  b33ec3b699337181488304f362a6b734   \n",
       "66721  0000f6ccb0745a6a4b88665a16c9f078  41272756ecddd9a9ed0180413cc22fb6   \n",
       "93084  0004aac84e0df4da2b147fca70cf8255  d957021f1127559cd947b62533f484f7   \n",
       "\n",
       "       order_item_id  customer_zip_code_prefix  seller_zip_code_prefix  \\\n",
       "74356              1                      7787                   13405   \n",
       "29474              1                      6053                    2215   \n",
       "48314              1                     88115                   13232   \n",
       "66721              1                     66812                    3569   \n",
       "93084              1                     18040                   12327   \n",
       "\n",
       "       same_loc  \n",
       "74356     False  \n",
       "29474     False  \n",
       "48314     False  \n",
       "66721     False  \n",
       "93084     False  "
      ]
     },
     "execution_count": 142,
     "metadata": {},
     "output_type": "execute_result"
    }
   ],
   "source": [
    "df[df['same_loc'] == False][['customer_unique_id','order_id','order_item_id','customer_zip_code_prefix',\n",
    "                             'seller_zip_code_prefix','same_loc']].sort_values(['customer_unique_id','order_id']).head()"
   ]
  },
  {
   "cell_type": "markdown",
   "metadata": {},
   "source": [
    "> On exploitera la variable **'same_loc'** plus loin dans l'analyse."
   ]
  },
  {
   "cell_type": "code",
   "execution_count": 143,
   "metadata": {},
   "outputs": [
    {
     "name": "stdout",
     "output_type": "stream",
     "text": [
      "Durée de l'opération 'Modèle de données - Localisation 2': 0.49 s\n",
      "Durée totale de traitement: 00 h 00 m 26 s\n"
     ]
    }
   ],
   "source": [
    "time_calc('Modèle de données - Localisation 2')\n",
    "t = time.time()"
   ]
  },
  {
   "cell_type": "markdown",
   "metadata": {},
   "source": [
    "##### Localisation des clients"
   ]
  },
  {
   "cell_type": "markdown",
   "metadata": {},
   "source": [
    "Un client unique peut se voir assigner plusieurs code de localisations liés aux commandes comme on peut le voir dans l'exemple ci-dessous."
   ]
  },
  {
   "cell_type": "code",
   "execution_count": 144,
   "metadata": {},
   "outputs": [
    {
     "data": {
      "text/html": [
       "<div>\n",
       "<style scoped>\n",
       "    .dataframe tbody tr th:only-of-type {\n",
       "        vertical-align: middle;\n",
       "    }\n",
       "\n",
       "    .dataframe tbody tr th {\n",
       "        vertical-align: top;\n",
       "    }\n",
       "\n",
       "    .dataframe thead th {\n",
       "        text-align: right;\n",
       "    }\n",
       "</style>\n",
       "<table border=\"1\" class=\"dataframe\">\n",
       "  <thead>\n",
       "    <tr style=\"text-align: right;\">\n",
       "      <th></th>\n",
       "      <th>customer_unique_id</th>\n",
       "      <th>order_id</th>\n",
       "      <th>customer_zip_code_prefix</th>\n",
       "      <th>product_id</th>\n",
       "    </tr>\n",
       "  </thead>\n",
       "  <tbody>\n",
       "    <tr>\n",
       "      <th>6258</th>\n",
       "      <td>3e43e6105506432c953e165fb2acf44c</td>\n",
       "      <td>1124c329070977fbd414f046bba149d7</td>\n",
       "      <td>11700</td>\n",
       "      <td>689a9f33ae479ec0d9f68a9b6b0cfcbf</td>\n",
       "    </tr>\n",
       "    <tr>\n",
       "      <th>6253</th>\n",
       "      <td>3e43e6105506432c953e165fb2acf44c</td>\n",
       "      <td>826b47e4cd7bba4e4c6fa5485f898b74</td>\n",
       "      <td>11700</td>\n",
       "      <td>446607005fbc439a9439caed96867e26</td>\n",
       "    </tr>\n",
       "    <tr>\n",
       "      <th>6254</th>\n",
       "      <td>3e43e6105506432c953e165fb2acf44c</td>\n",
       "      <td>826b47e4cd7bba4e4c6fa5485f898b74</td>\n",
       "      <td>11700</td>\n",
       "      <td>82254d93b897fde054504b15f8fe923c</td>\n",
       "    </tr>\n",
       "    <tr>\n",
       "      <th>6251</th>\n",
       "      <td>3e43e6105506432c953e165fb2acf44c</td>\n",
       "      <td>e23ad32d5c15d9ad308baddc6262afea</td>\n",
       "      <td>11700</td>\n",
       "      <td>957f6d6b55b78746f89e976cba785440</td>\n",
       "    </tr>\n",
       "    <tr>\n",
       "      <th>6256</th>\n",
       "      <td>3e43e6105506432c953e165fb2acf44c</td>\n",
       "      <td>70863e8ef99613bbc8f854807d187ea7</td>\n",
       "      <td>11701</td>\n",
       "      <td>ceeb8b2d571b23399910f1b83980c973</td>\n",
       "    </tr>\n",
       "    <tr>\n",
       "      <th>6257</th>\n",
       "      <td>3e43e6105506432c953e165fb2acf44c</td>\n",
       "      <td>70863e8ef99613bbc8f854807d187ea7</td>\n",
       "      <td>11701</td>\n",
       "      <td>d296d7996d75ec35fcfc75b3a06cae63</td>\n",
       "    </tr>\n",
       "    <tr>\n",
       "      <th>6260</th>\n",
       "      <td>3e43e6105506432c953e165fb2acf44c</td>\n",
       "      <td>ed0b6f8c8617370e53735a5d963bb5b6</td>\n",
       "      <td>11701</td>\n",
       "      <td>7b49e585ac8c80b14c9b2815d4db465f</td>\n",
       "    </tr>\n",
       "    <tr>\n",
       "      <th>6261</th>\n",
       "      <td>3e43e6105506432c953e165fb2acf44c</td>\n",
       "      <td>ed0b6f8c8617370e53735a5d963bb5b6</td>\n",
       "      <td>11701</td>\n",
       "      <td>7b49e585ac8c80b14c9b2815d4db465f</td>\n",
       "    </tr>\n",
       "    <tr>\n",
       "      <th>6262</th>\n",
       "      <td>3e43e6105506432c953e165fb2acf44c</td>\n",
       "      <td>ed0b6f8c8617370e53735a5d963bb5b6</td>\n",
       "      <td>11701</td>\n",
       "      <td>1269d60fc5efbcf03e7eea49213091c6</td>\n",
       "    </tr>\n",
       "    <tr>\n",
       "      <th>6263</th>\n",
       "      <td>3e43e6105506432c953e165fb2acf44c</td>\n",
       "      <td>ed0b6f8c8617370e53735a5d963bb5b6</td>\n",
       "      <td>11701</td>\n",
       "      <td>55363f487ca324087a49ddfcfb91b971</td>\n",
       "    </tr>\n",
       "    <tr>\n",
       "      <th>6250</th>\n",
       "      <td>3e43e6105506432c953e165fb2acf44c</td>\n",
       "      <td>ed92e8596b1e39671065510a4f5b0920</td>\n",
       "      <td>11701</td>\n",
       "      <td>7fd6586464df3ea9bad637e34580c186</td>\n",
       "    </tr>\n",
       "    <tr>\n",
       "      <th>6259</th>\n",
       "      <td>3e43e6105506432c953e165fb2acf44c</td>\n",
       "      <td>f75455b78762d30c7e663172f18dbcbe</td>\n",
       "      <td>11701</td>\n",
       "      <td>d801caede80d4819d4976e8bfdbc2861</td>\n",
       "    </tr>\n",
       "    <tr>\n",
       "      <th>6252</th>\n",
       "      <td>3e43e6105506432c953e165fb2acf44c</td>\n",
       "      <td>ff89ef7b3952bba5ac06d61c4a79ffbe</td>\n",
       "      <td>11701</td>\n",
       "      <td>ce6f74096c84567f22728c84f3d6e7fc</td>\n",
       "    </tr>\n",
       "    <tr>\n",
       "      <th>6255</th>\n",
       "      <td>3e43e6105506432c953e165fb2acf44c</td>\n",
       "      <td>caf10b4f81696bae84a2448c0767b3b0</td>\n",
       "      <td>11704</td>\n",
       "      <td>f582884ed8bb76a4b6317b8c9e966d98</td>\n",
       "    </tr>\n",
       "  </tbody>\n",
       "</table>\n",
       "</div>"
      ],
      "text/plain": [
       "                    customer_unique_id                          order_id  \\\n",
       "6258  3e43e6105506432c953e165fb2acf44c  1124c329070977fbd414f046bba149d7   \n",
       "6253  3e43e6105506432c953e165fb2acf44c  826b47e4cd7bba4e4c6fa5485f898b74   \n",
       "6254  3e43e6105506432c953e165fb2acf44c  826b47e4cd7bba4e4c6fa5485f898b74   \n",
       "6251  3e43e6105506432c953e165fb2acf44c  e23ad32d5c15d9ad308baddc6262afea   \n",
       "6256  3e43e6105506432c953e165fb2acf44c  70863e8ef99613bbc8f854807d187ea7   \n",
       "6257  3e43e6105506432c953e165fb2acf44c  70863e8ef99613bbc8f854807d187ea7   \n",
       "6260  3e43e6105506432c953e165fb2acf44c  ed0b6f8c8617370e53735a5d963bb5b6   \n",
       "6261  3e43e6105506432c953e165fb2acf44c  ed0b6f8c8617370e53735a5d963bb5b6   \n",
       "6262  3e43e6105506432c953e165fb2acf44c  ed0b6f8c8617370e53735a5d963bb5b6   \n",
       "6263  3e43e6105506432c953e165fb2acf44c  ed0b6f8c8617370e53735a5d963bb5b6   \n",
       "6250  3e43e6105506432c953e165fb2acf44c  ed92e8596b1e39671065510a4f5b0920   \n",
       "6259  3e43e6105506432c953e165fb2acf44c  f75455b78762d30c7e663172f18dbcbe   \n",
       "6252  3e43e6105506432c953e165fb2acf44c  ff89ef7b3952bba5ac06d61c4a79ffbe   \n",
       "6255  3e43e6105506432c953e165fb2acf44c  caf10b4f81696bae84a2448c0767b3b0   \n",
       "\n",
       "      customer_zip_code_prefix                        product_id  \n",
       "6258                     11700  689a9f33ae479ec0d9f68a9b6b0cfcbf  \n",
       "6253                     11700  446607005fbc439a9439caed96867e26  \n",
       "6254                     11700  82254d93b897fde054504b15f8fe923c  \n",
       "6251                     11700  957f6d6b55b78746f89e976cba785440  \n",
       "6256                     11701  ceeb8b2d571b23399910f1b83980c973  \n",
       "6257                     11701  d296d7996d75ec35fcfc75b3a06cae63  \n",
       "6260                     11701  7b49e585ac8c80b14c9b2815d4db465f  \n",
       "6261                     11701  7b49e585ac8c80b14c9b2815d4db465f  \n",
       "6262                     11701  1269d60fc5efbcf03e7eea49213091c6  \n",
       "6263                     11701  55363f487ca324087a49ddfcfb91b971  \n",
       "6250                     11701  7fd6586464df3ea9bad637e34580c186  \n",
       "6259                     11701  d801caede80d4819d4976e8bfdbc2861  \n",
       "6252                     11701  ce6f74096c84567f22728c84f3d6e7fc  \n",
       "6255                     11704  f582884ed8bb76a4b6317b8c9e966d98  "
      ]
     },
     "execution_count": 144,
     "metadata": {},
     "output_type": "execute_result"
    }
   ],
   "source": [
    "df[df['customer_unique_id'] == '3e43e6105506432c953e165fb2acf44c'].sort_values('customer_zip_code_prefix')[['customer_unique_id','order_id','customer_zip_code_prefix','product_id']].sort_values('customer_zip_code_prefix') "
   ]
  },
  {
   "cell_type": "markdown",
   "metadata": {},
   "source": [
    "> On souhaite associer une valeur unique de localisation à chaque client unique."
   ]
  },
  {
   "cell_type": "markdown",
   "metadata": {},
   "source": [
    "Le dataframe **df** inclut les clients, commandes, lignes de commandes et produits.\n",
    "\n",
    "Dans l'exemple ci-dessus, les commandes sont donc dupliquées en autant de lignes de commandes (produits).\n",
    "\n",
    "On s'intéresse aux valeurs uniques de localisation par commande.\n",
    "\n",
    "Dans l'exemple ci-dessous, chaque valeurs de localisation distincte est représentée autant de fois qu'indexée dans une commande:\n",
    "+ 3 commandes: 11700\n",
    "+ 5 commandes: 11701\n",
    "+ 1 commande: 11704"
   ]
  },
  {
   "cell_type": "code",
   "execution_count": 145,
   "metadata": {},
   "outputs": [],
   "source": [
    "customer_unique_id_ex1 = '3e43e6105506432c953e165fb2acf44c'\n",
    "customer_unique_id_ex2 = '9832ae2f7d3e5fa4c7a1a06e9551bc61'\n",
    "\n",
    "customer_unique_id_ex = customer_unique_id_ex1"
   ]
  },
  {
   "cell_type": "code",
   "execution_count": 146,
   "metadata": {},
   "outputs": [
    {
     "data": {
      "text/html": [
       "<div>\n",
       "<style scoped>\n",
       "    .dataframe tbody tr th:only-of-type {\n",
       "        vertical-align: middle;\n",
       "    }\n",
       "\n",
       "    .dataframe tbody tr th {\n",
       "        vertical-align: top;\n",
       "    }\n",
       "\n",
       "    .dataframe thead th {\n",
       "        text-align: right;\n",
       "    }\n",
       "</style>\n",
       "<table border=\"1\" class=\"dataframe\">\n",
       "  <thead>\n",
       "    <tr style=\"text-align: right;\">\n",
       "      <th></th>\n",
       "      <th>customer_unique_id</th>\n",
       "      <th>customer_zip_code_prefix</th>\n",
       "    </tr>\n",
       "  </thead>\n",
       "  <tbody>\n",
       "    <tr>\n",
       "      <th>6129</th>\n",
       "      <td>3e43e6105506432c953e165fb2acf44c</td>\n",
       "      <td>11700</td>\n",
       "    </tr>\n",
       "    <tr>\n",
       "      <th>10685</th>\n",
       "      <td>3e43e6105506432c953e165fb2acf44c</td>\n",
       "      <td>11700</td>\n",
       "    </tr>\n",
       "    <tr>\n",
       "      <th>64987</th>\n",
       "      <td>3e43e6105506432c953e165fb2acf44c</td>\n",
       "      <td>11700</td>\n",
       "    </tr>\n",
       "    <tr>\n",
       "      <th>5113</th>\n",
       "      <td>3e43e6105506432c953e165fb2acf44c</td>\n",
       "      <td>11701</td>\n",
       "    </tr>\n",
       "    <tr>\n",
       "      <th>8657</th>\n",
       "      <td>3e43e6105506432c953e165fb2acf44c</td>\n",
       "      <td>11701</td>\n",
       "    </tr>\n",
       "    <tr>\n",
       "      <th>50029</th>\n",
       "      <td>3e43e6105506432c953e165fb2acf44c</td>\n",
       "      <td>11701</td>\n",
       "    </tr>\n",
       "    <tr>\n",
       "      <th>89979</th>\n",
       "      <td>3e43e6105506432c953e165fb2acf44c</td>\n",
       "      <td>11701</td>\n",
       "    </tr>\n",
       "    <tr>\n",
       "      <th>90706</th>\n",
       "      <td>3e43e6105506432c953e165fb2acf44c</td>\n",
       "      <td>11701</td>\n",
       "    </tr>\n",
       "    <tr>\n",
       "      <th>20597</th>\n",
       "      <td>3e43e6105506432c953e165fb2acf44c</td>\n",
       "      <td>11704</td>\n",
       "    </tr>\n",
       "  </tbody>\n",
       "</table>\n",
       "</div>"
      ],
      "text/plain": [
       "                     customer_unique_id  customer_zip_code_prefix\n",
       "6129   3e43e6105506432c953e165fb2acf44c                     11700\n",
       "10685  3e43e6105506432c953e165fb2acf44c                     11700\n",
       "64987  3e43e6105506432c953e165fb2acf44c                     11700\n",
       "5113   3e43e6105506432c953e165fb2acf44c                     11701\n",
       "8657   3e43e6105506432c953e165fb2acf44c                     11701\n",
       "50029  3e43e6105506432c953e165fb2acf44c                     11701\n",
       "89979  3e43e6105506432c953e165fb2acf44c                     11701\n",
       "90706  3e43e6105506432c953e165fb2acf44c                     11701\n",
       "20597  3e43e6105506432c953e165fb2acf44c                     11704"
      ]
     },
     "execution_count": 146,
     "metadata": {},
     "output_type": "execute_result"
    }
   ],
   "source": [
    "df_customers[df_customers['customer_unique_id'] == customer_unique_id_ex].sort_values('customer_zip_code_prefix')[['customer_unique_id','customer_zip_code_prefix']].sort_values('customer_zip_code_prefix') "
   ]
  },
  {
   "cell_type": "markdown",
   "metadata": {},
   "source": [
    "Ce client se voit donc assigner 3 code de localisation.\n",
    "\n",
    "On choisit arbitrairement de retenir la valeur la plus représentée, ici 11701."
   ]
  },
  {
   "cell_type": "code",
   "execution_count": 147,
   "metadata": {},
   "outputs": [],
   "source": [
    "df_cust_loc = df_customers[['customer_unique_id','customer_zip_code_prefix']].groupby('customer_unique_id').agg(lambda x:x.value_counts().index[0])"
   ]
  },
  {
   "cell_type": "code",
   "execution_count": 148,
   "metadata": {},
   "outputs": [
    {
     "data": {
      "text/html": [
       "<div>\n",
       "<style scoped>\n",
       "    .dataframe tbody tr th:only-of-type {\n",
       "        vertical-align: middle;\n",
       "    }\n",
       "\n",
       "    .dataframe tbody tr th {\n",
       "        vertical-align: top;\n",
       "    }\n",
       "\n",
       "    .dataframe thead th {\n",
       "        text-align: right;\n",
       "    }\n",
       "</style>\n",
       "<table border=\"1\" class=\"dataframe\">\n",
       "  <thead>\n",
       "    <tr style=\"text-align: right;\">\n",
       "      <th></th>\n",
       "      <th>customer_u_zip_code_prefix</th>\n",
       "    </tr>\n",
       "    <tr>\n",
       "      <th>customer_unique_id</th>\n",
       "      <th></th>\n",
       "    </tr>\n",
       "  </thead>\n",
       "  <tbody>\n",
       "    <tr>\n",
       "      <th>0000366f3b9a7992bf8c76cfdf3221e2</th>\n",
       "      <td>7787</td>\n",
       "    </tr>\n",
       "    <tr>\n",
       "      <th>0000b849f77a49e4a4ce2b2a4ca5be3f</th>\n",
       "      <td>6053</td>\n",
       "    </tr>\n",
       "    <tr>\n",
       "      <th>0000f46a3911fa3c0805444483337064</th>\n",
       "      <td>88115</td>\n",
       "    </tr>\n",
       "    <tr>\n",
       "      <th>0000f6ccb0745a6a4b88665a16c9f078</th>\n",
       "      <td>66812</td>\n",
       "    </tr>\n",
       "    <tr>\n",
       "      <th>0004aac84e0df4da2b147fca70cf8255</th>\n",
       "      <td>18040</td>\n",
       "    </tr>\n",
       "  </tbody>\n",
       "</table>\n",
       "</div>"
      ],
      "text/plain": [
       "                                  customer_u_zip_code_prefix\n",
       "customer_unique_id                                          \n",
       "0000366f3b9a7992bf8c76cfdf3221e2                        7787\n",
       "0000b849f77a49e4a4ce2b2a4ca5be3f                        6053\n",
       "0000f46a3911fa3c0805444483337064                       88115\n",
       "0000f6ccb0745a6a4b88665a16c9f078                       66812\n",
       "0004aac84e0df4da2b147fca70cf8255                       18040"
      ]
     },
     "execution_count": 148,
     "metadata": {},
     "output_type": "execute_result"
    }
   ],
   "source": [
    "df_cust_loc.columns = ['customer_u_zip_code_prefix']\n",
    "df_cust_loc.head()"
   ]
  },
  {
   "cell_type": "markdown",
   "metadata": {},
   "source": [
    "On trouve la valeur attendue dans l'exemple."
   ]
  },
  {
   "cell_type": "code",
   "execution_count": 149,
   "metadata": {
    "scrolled": true
   },
   "outputs": [
    {
     "data": {
      "text/html": [
       "<div>\n",
       "<style scoped>\n",
       "    .dataframe tbody tr th:only-of-type {\n",
       "        vertical-align: middle;\n",
       "    }\n",
       "\n",
       "    .dataframe tbody tr th {\n",
       "        vertical-align: top;\n",
       "    }\n",
       "\n",
       "    .dataframe thead th {\n",
       "        text-align: right;\n",
       "    }\n",
       "</style>\n",
       "<table border=\"1\" class=\"dataframe\">\n",
       "  <thead>\n",
       "    <tr style=\"text-align: right;\">\n",
       "      <th></th>\n",
       "      <th>customer_unique_id</th>\n",
       "      <th>customer_u_zip_code_prefix</th>\n",
       "    </tr>\n",
       "  </thead>\n",
       "  <tbody>\n",
       "    <tr>\n",
       "      <th>23472</th>\n",
       "      <td>3e43e6105506432c953e165fb2acf44c</td>\n",
       "      <td>11701</td>\n",
       "    </tr>\n",
       "  </tbody>\n",
       "</table>\n",
       "</div>"
      ],
      "text/plain": [
       "                     customer_unique_id  customer_u_zip_code_prefix\n",
       "23472  3e43e6105506432c953e165fb2acf44c                       11701"
      ]
     },
     "execution_count": 149,
     "metadata": {},
     "output_type": "execute_result"
    }
   ],
   "source": [
    "df_cust_loc = df_cust_loc.reset_index()\n",
    "df_cust_loc[df_cust_loc['customer_unique_id'] == customer_unique_id_ex]"
   ]
  },
  {
   "cell_type": "code",
   "execution_count": 150,
   "metadata": {},
   "outputs": [
    {
     "data": {
      "text/plain": [
       "(96096, 2)"
      ]
     },
     "execution_count": 150,
     "metadata": {},
     "output_type": "execute_result"
    }
   ],
   "source": [
    "df_cust_loc.shape"
   ]
  },
  {
   "cell_type": "code",
   "execution_count": 151,
   "metadata": {},
   "outputs": [
    {
     "name": "stdout",
     "output_type": "stream",
     "text": [
      "Durée de l'opération 'Modèle de données - Localisation 3': 66.93 s\n",
      "Durée totale de traitement: 00 h 01 m 33 s\n"
     ]
    }
   ],
   "source": [
    "time_calc('Modèle de données - Localisation 3')\n",
    "t = time.time()"
   ]
  },
  {
   "cell_type": "markdown",
   "metadata": {},
   "source": [
    "#### cust_loc vs geolocation_gr"
   ]
  },
  {
   "cell_type": "markdown",
   "metadata": {},
   "source": [
    "Maintenant que nous disposons d'un code de localisation par client unique, nous pouvons y associer les coordonnées géographiques."
   ]
  },
  {
   "cell_type": "code",
   "execution_count": 152,
   "metadata": {
    "scrolled": false
   },
   "outputs": [
    {
     "name": "stdout",
     "output_type": "stream",
     "text": [
      "Nombre d'enregistrements du dataset 'customer_u_zip_code_prefix' non renseignés dans le dataset 'geolocation_gr': 269\n",
      "Nombre d'enregistrements du dataset 'geolocation_gr' non renseignés dans le dataset 'customer_u_zip_code_prefix': 4185\n"
     ]
    }
   ],
   "source": [
    "data_model_2(df_cust_loc,df_geolocation_gr,\n",
    "             'customer_u_zip_code_prefix','geolocation_gr',\n",
    "             'customer_u_zip_code_prefix','geolocation_zip_code_prefix')"
   ]
  },
  {
   "cell_type": "markdown",
   "metadata": {},
   "source": [
    "Les clients uniques n'ont pas tous de correspondance dans le dataset ***'geolocation_gr'***.\n",
    "\n",
    "> On fusionne donc les datasets ***cust_loc*** et ***geolocation_gr*** avec une contrainte de correspondance facultative sur ***geolocation_gr***  (left join)."
   ]
  },
  {
   "cell_type": "code",
   "execution_count": 153,
   "metadata": {
    "scrolled": false
   },
   "outputs": [],
   "source": [
    "df_cust_loc = df_cust_loc.merge(df_geolocation_gr, left_on = 'customer_u_zip_code_prefix', right_on = 'geolocation_zip_code_prefix', how = 'left')"
   ]
  },
  {
   "cell_type": "code",
   "execution_count": 154,
   "metadata": {},
   "outputs": [
    {
     "data": {
      "text/html": [
       "<div>\n",
       "<style scoped>\n",
       "    .dataframe tbody tr th:only-of-type {\n",
       "        vertical-align: middle;\n",
       "    }\n",
       "\n",
       "    .dataframe tbody tr th {\n",
       "        vertical-align: top;\n",
       "    }\n",
       "\n",
       "    .dataframe thead th {\n",
       "        text-align: right;\n",
       "    }\n",
       "</style>\n",
       "<table border=\"1\" class=\"dataframe\">\n",
       "  <thead>\n",
       "    <tr style=\"text-align: right;\">\n",
       "      <th></th>\n",
       "      <th>customer_unique_id</th>\n",
       "      <th>customer_u_zip_code_prefix</th>\n",
       "      <th>geolocation_zip_code_prefix</th>\n",
       "    </tr>\n",
       "  </thead>\n",
       "  <tbody>\n",
       "    <tr>\n",
       "      <th>0</th>\n",
       "      <td>0000366f3b9a7992bf8c76cfdf3221e2</td>\n",
       "      <td>7787</td>\n",
       "      <td>7787.0</td>\n",
       "    </tr>\n",
       "    <tr>\n",
       "      <th>1</th>\n",
       "      <td>0000b849f77a49e4a4ce2b2a4ca5be3f</td>\n",
       "      <td>6053</td>\n",
       "      <td>6053.0</td>\n",
       "    </tr>\n",
       "    <tr>\n",
       "      <th>2</th>\n",
       "      <td>0000f46a3911fa3c0805444483337064</td>\n",
       "      <td>88115</td>\n",
       "      <td>88115.0</td>\n",
       "    </tr>\n",
       "    <tr>\n",
       "      <th>3</th>\n",
       "      <td>0000f6ccb0745a6a4b88665a16c9f078</td>\n",
       "      <td>66812</td>\n",
       "      <td>66812.0</td>\n",
       "    </tr>\n",
       "    <tr>\n",
       "      <th>4</th>\n",
       "      <td>0004aac84e0df4da2b147fca70cf8255</td>\n",
       "      <td>18040</td>\n",
       "      <td>18040.0</td>\n",
       "    </tr>\n",
       "  </tbody>\n",
       "</table>\n",
       "</div>"
      ],
      "text/plain": [
       "                 customer_unique_id  customer_u_zip_code_prefix  \\\n",
       "0  0000366f3b9a7992bf8c76cfdf3221e2                        7787   \n",
       "1  0000b849f77a49e4a4ce2b2a4ca5be3f                        6053   \n",
       "2  0000f46a3911fa3c0805444483337064                       88115   \n",
       "3  0000f6ccb0745a6a4b88665a16c9f078                       66812   \n",
       "4  0004aac84e0df4da2b147fca70cf8255                       18040   \n",
       "\n",
       "   geolocation_zip_code_prefix  \n",
       "0                       7787.0  \n",
       "1                       6053.0  \n",
       "2                      88115.0  \n",
       "3                      66812.0  \n",
       "4                      18040.0  "
      ]
     },
     "execution_count": 154,
     "metadata": {},
     "output_type": "execute_result"
    }
   ],
   "source": [
    "df_cust_loc.head()"
   ]
  },
  {
   "cell_type": "markdown",
   "metadata": {},
   "source": [
    "Ci-dessous, des clients pour lesquels le code de localisation n'est pas référencé dans le dataset ***geolocation_gr***."
   ]
  },
  {
   "cell_type": "code",
   "execution_count": 155,
   "metadata": {},
   "outputs": [
    {
     "data": {
      "text/html": [
       "<div>\n",
       "<style scoped>\n",
       "    .dataframe tbody tr th:only-of-type {\n",
       "        vertical-align: middle;\n",
       "    }\n",
       "\n",
       "    .dataframe tbody tr th {\n",
       "        vertical-align: top;\n",
       "    }\n",
       "\n",
       "    .dataframe thead th {\n",
       "        text-align: right;\n",
       "    }\n",
       "</style>\n",
       "<table border=\"1\" class=\"dataframe\">\n",
       "  <thead>\n",
       "    <tr style=\"text-align: right;\">\n",
       "      <th></th>\n",
       "      <th>customer_unique_id</th>\n",
       "      <th>customer_u_zip_code_prefix</th>\n",
       "      <th>geolocation_zip_code_prefix</th>\n",
       "    </tr>\n",
       "  </thead>\n",
       "  <tbody>\n",
       "    <tr>\n",
       "      <th>93221</th>\n",
       "      <td>f83ac6015ad3b37d4f96603f362cb14e</td>\n",
       "      <td>72280</td>\n",
       "      <td>NaN</td>\n",
       "    </tr>\n",
       "    <tr>\n",
       "      <th>93747</th>\n",
       "      <td>f9a19bbde55fdbb899189f8c71272570</td>\n",
       "      <td>72280</td>\n",
       "      <td>NaN</td>\n",
       "    </tr>\n",
       "    <tr>\n",
       "      <th>94141</th>\n",
       "      <td>fac8b5e914037fc2e2476783585f0769</td>\n",
       "      <td>65137</td>\n",
       "      <td>NaN</td>\n",
       "    </tr>\n",
       "    <tr>\n",
       "      <th>94317</th>\n",
       "      <td>fb3d2759405ec9a4a3e8eb61653a0bec</td>\n",
       "      <td>72005</td>\n",
       "      <td>NaN</td>\n",
       "    </tr>\n",
       "    <tr>\n",
       "      <th>94482</th>\n",
       "      <td>fbb25ad1452fbf7e073a084f8c2cbda6</td>\n",
       "      <td>73081</td>\n",
       "      <td>NaN</td>\n",
       "    </tr>\n",
       "  </tbody>\n",
       "</table>\n",
       "</div>"
      ],
      "text/plain": [
       "                     customer_unique_id  customer_u_zip_code_prefix  \\\n",
       "93221  f83ac6015ad3b37d4f96603f362cb14e                       72280   \n",
       "93747  f9a19bbde55fdbb899189f8c71272570                       72280   \n",
       "94141  fac8b5e914037fc2e2476783585f0769                       65137   \n",
       "94317  fb3d2759405ec9a4a3e8eb61653a0bec                       72005   \n",
       "94482  fbb25ad1452fbf7e073a084f8c2cbda6                       73081   \n",
       "\n",
       "       geolocation_zip_code_prefix  \n",
       "93221                          NaN  \n",
       "93747                          NaN  \n",
       "94141                          NaN  \n",
       "94317                          NaN  \n",
       "94482                          NaN  "
      ]
     },
     "execution_count": 155,
     "metadata": {},
     "output_type": "execute_result"
    }
   ],
   "source": [
    "df_cust_loc.sort_values('geolocation_zip_code_prefix').tail()"
   ]
  },
  {
   "cell_type": "code",
   "execution_count": 156,
   "metadata": {},
   "outputs": [
    {
     "name": "stdout",
     "output_type": "stream",
     "text": [
      "Stored 'df_cust_loc' (DataFrame)\n"
     ]
    }
   ],
   "source": [
    "%store df_cust_loc"
   ]
  },
  {
   "cell_type": "code",
   "execution_count": 157,
   "metadata": {},
   "outputs": [
    {
     "data": {
      "text/html": [
       "<div>\n",
       "<style scoped>\n",
       "    .dataframe tbody tr th:only-of-type {\n",
       "        vertical-align: middle;\n",
       "    }\n",
       "\n",
       "    .dataframe tbody tr th {\n",
       "        vertical-align: top;\n",
       "    }\n",
       "\n",
       "    .dataframe thead th {\n",
       "        text-align: right;\n",
       "    }\n",
       "</style>\n",
       "<table border=\"1\" class=\"dataframe\">\n",
       "  <thead>\n",
       "    <tr style=\"text-align: right;\">\n",
       "      <th></th>\n",
       "      <th>Dataset</th>\n",
       "      <th>Shape</th>\n",
       "      <th>Variable</th>\n",
       "      <th>Duplicates</th>\n",
       "      <th>Unique</th>\n",
       "      <th>Null</th>\n",
       "    </tr>\n",
       "  </thead>\n",
       "  <tbody>\n",
       "    <tr>\n",
       "      <th>25</th>\n",
       "      <td>df</td>\n",
       "      <td>112650</td>\n",
       "      <td>customer_id</td>\n",
       "      <td>13984</td>\n",
       "      <td>98666</td>\n",
       "      <td>0</td>\n",
       "    </tr>\n",
       "    <tr>\n",
       "      <th>26</th>\n",
       "      <td>df</td>\n",
       "      <td>112650</td>\n",
       "      <td>customer_unique_id</td>\n",
       "      <td>17230</td>\n",
       "      <td>95420</td>\n",
       "      <td>0</td>\n",
       "    </tr>\n",
       "    <tr>\n",
       "      <th>27</th>\n",
       "      <td>df_cust_loc</td>\n",
       "      <td>96096</td>\n",
       "      <td>customer_unique_id</td>\n",
       "      <td>0</td>\n",
       "      <td>96096</td>\n",
       "      <td>0</td>\n",
       "    </tr>\n",
       "  </tbody>\n",
       "</table>\n",
       "</div>"
      ],
      "text/plain": [
       "        Dataset   Shape            Variable  Duplicates  Unique  Null\n",
       "25           df  112650         customer_id       13984   98666     0\n",
       "26           df  112650  customer_unique_id       17230   95420     0\n",
       "27  df_cust_loc   96096  customer_unique_id           0   96096     0"
      ]
     },
     "execution_count": 157,
     "metadata": {},
     "output_type": "execute_result"
    }
   ],
   "source": [
    "data_model(df,'df','customer_id')\n",
    "data_model(df,'df','customer_unique_id')\n",
    "data_model(df_cust_loc,'df_cust_loc','customer_unique_id',1,3)"
   ]
  },
  {
   "cell_type": "markdown",
   "metadata": {},
   "source": [
    "On ajoute la variable **'customer_u_zip_code_prefix'** du dataframe ***df_cust_loc*** au dataframe ***df***."
   ]
  },
  {
   "cell_type": "code",
   "execution_count": 158,
   "metadata": {},
   "outputs": [],
   "source": [
    "df = df.merge(df_cust_loc, left_on = 'customer_unique_id', right_on = 'customer_unique_id', how = 'left')"
   ]
  },
  {
   "cell_type": "markdown",
   "metadata": {},
   "source": [
    "On renomme les variables de geolocalisation relatives aux clients, clients uniques et vendeurs."
   ]
  },
  {
   "cell_type": "code",
   "execution_count": 159,
   "metadata": {},
   "outputs": [],
   "source": [
    "# Variable de geolocalisation relative aux clients\n",
    "df = df.rename(columns={('geolocation_zip_code_prefix_x'): 'customer_zip_code_prefix_gl'}, inplace = False)\n",
    "# Variable de geolocalisation relative aux vendeurs\n",
    "df = df.rename(columns={('geolocation_zip_code_prefix_y'): 'seller_zip_code_prefix_gl'}, inplace = False)\n",
    "# Variable de geolocalisation relative aux clients uniques\n",
    "df = df.rename(columns={('geolocation_zip_code_prefix'): 'customer_u_zip_code_prefix_gl'}, inplace = False)"
   ]
  },
  {
   "cell_type": "code",
   "execution_count": 160,
   "metadata": {},
   "outputs": [
    {
     "name": "stdout",
     "output_type": "stream",
     "text": [
      "Durée de l'opération 'Modèle de données - Localisation 4': 1.07 s\n",
      "Durée totale de traitement: 00 h 01 m 34 s\n"
     ]
    }
   ],
   "source": [
    "time_calc('Modèle de données - Localisation 4')\n",
    "t = time.time()"
   ]
  },
  {
   "cell_type": "markdown",
   "metadata": {},
   "source": [
    "#### Format de date"
   ]
  },
  {
   "cell_type": "markdown",
   "metadata": {},
   "source": [
    "On modifie le format de la variable **'order_purchase_timestamp'**."
   ]
  },
  {
   "cell_type": "code",
   "execution_count": 161,
   "metadata": {},
   "outputs": [],
   "source": [
    "# On créé une liste avec les valeurs de la variable 'order_purchase_timestamp'\n",
    "list_purchase_date = df['order_purchase_timestamp'].values.tolist()\n",
    "\n",
    "# Pour chaque valeur de la liste, on récupère les 10 premiers caractères\n",
    "# Puis on supprime les '-'\n",
    "for i in range(0,len(list_purchase_date)):\n",
    "    list_purchase_date[i] = list_purchase_date[i][:10]\n",
    "    list_purchase_date[i] = list_purchase_date[i].replace('-','')\n",
    "\n",
    "# On créé une colonne 'date_rec' avec la liste list_purchase_date\n",
    "df['purchase_date'] = list_purchase_date\n",
    "\n",
    "# On convertit la variable 'date_rec' au format date\n",
    "df['purchase_date'] = pd.to_datetime(df['purchase_date'], format='%Y%m%d')\n",
    "\n",
    "# On supprime la variable 'order_purchase_timestamp'\n",
    "del df['order_purchase_timestamp']"
   ]
  },
  {
   "cell_type": "code",
   "execution_count": 162,
   "metadata": {},
   "outputs": [
    {
     "name": "stdout",
     "output_type": "stream",
     "text": [
      "Durée de l'opération 'Format de dates': 0.16 s\n",
      "Durée totale de traitement: 00 h 01 m 34 s\n"
     ]
    }
   ],
   "source": [
    "time_calc('Format de dates')\n",
    "t = time.time()"
   ]
  },
  {
   "cell_type": "markdown",
   "metadata": {},
   "source": [
    "### Dataframe df - Niveau Lignes de commandes <a class=\"anchor\" id=\"dat_df\"></a>"
   ]
  },
  {
   "cell_type": "code",
   "execution_count": 163,
   "metadata": {},
   "outputs": [
    {
     "name": "stdout",
     "output_type": "stream",
     "text": [
      "<class 'pandas.core.frame.DataFrame'>\n",
      "Int64Index: 112650 entries, 0 to 112649\n",
      "Data columns (total 26 columns):\n",
      " #   Column                         Non-Null Count   Dtype         \n",
      "---  ------                         --------------   -----         \n",
      " 0   customer_id                    112650 non-null  object        \n",
      " 1   customer_unique_id             112650 non-null  object        \n",
      " 2   customer_zip_code_prefix       112650 non-null  int64         \n",
      " 3   customer_zip_code_prefix_gl    112348 non-null  float64       \n",
      " 4   order_id                       112650 non-null  object        \n",
      " 5   order_status                   112650 non-null  object        \n",
      " 6   score_mean_per_ord             112650 non-null  float64       \n",
      " 7   score_count_per_ord            112650 non-null  int64         \n",
      " 8   score_mean_per_cust            112650 non-null  float64       \n",
      " 9   order_item_id                  112650 non-null  int64         \n",
      " 10  product_id                     112650 non-null  object        \n",
      " 11  seller_id                      112650 non-null  object        \n",
      " 12  seller_zip_code_prefix         112650 non-null  int64         \n",
      " 13  seller_zip_code_prefix_gl      112397 non-null  float64       \n",
      " 14  product_category               112650 non-null  object        \n",
      " 15  price_total                    112650 non-null  float64       \n",
      " 16  price_per_ord                  112650 non-null  float64       \n",
      " 17  items_count                    112650 non-null  int64         \n",
      " 18  price_per_cust                 112650 non-null  float64       \n",
      " 19  prod_nb_avg                    112650 non-null  float64       \n",
      " 20  payment_sum_per_ord            112647 non-null  float64       \n",
      " 21  payment_count_per_ord          112647 non-null  float64       \n",
      " 22  same_loc                       112650 non-null  bool          \n",
      " 23  customer_u_zip_code_prefix     112650 non-null  int64         \n",
      " 24  customer_u_zip_code_prefix_gl  112347 non-null  float64       \n",
      " 25  purchase_date                  112650 non-null  datetime64[ns]\n",
      "dtypes: bool(1), datetime64[ns](1), float64(11), int64(6), object(7)\n",
      "memory usage: 22.5+ MB\n"
     ]
    }
   ],
   "source": [
    "df.info()"
   ]
  },
  {
   "cell_type": "code",
   "execution_count": 164,
   "metadata": {},
   "outputs": [
    {
     "name": "stdout",
     "output_type": "stream",
     "text": [
      "\n",
      "Affichage des 10 premières variables triées par taux croissant:\n",
      "\n",
      "                               Taux de remplissage (%)\n",
      "customer_u_zip_code_prefix_gl                   99.731\n",
      "customer_zip_code_prefix_gl                     99.732\n",
      "seller_zip_code_prefix_gl                       99.775\n",
      "payment_count_per_ord                           99.997\n",
      "payment_sum_per_ord                             99.997\n",
      "customer_id                                    100.000\n",
      "customer_u_zip_code_prefix                     100.000\n",
      "same_loc                                       100.000\n",
      "prod_nb_avg                                    100.000\n",
      "price_per_cust                                 100.000\n"
     ]
    },
    {
     "data": {
      "image/png": "[encoded data removed]",
      "text/plain": [
       "<Figure size 360x240 with 1 Axes>"
      ]
     },
     "metadata": {},
     "output_type": "display_data"
    }
   ],
   "source": [
    "fill_rate(df,0,1,10)"
   ]
  },
  {
   "cell_type": "markdown",
   "metadata": {},
   "source": [
    "#### Traitement des données catégorielles - Niveau Lignes de commandes"
   ]
  },
  {
   "cell_type": "markdown",
   "metadata": {},
   "source": [
    "##### Catégories de produits"
   ]
  },
  {
   "cell_type": "code",
   "execution_count": 165,
   "metadata": {},
   "outputs": [],
   "source": [
    "X = df[['product_category']]"
   ]
  },
  {
   "cell_type": "code",
   "execution_count": 166,
   "metadata": {},
   "outputs": [
    {
     "data": {
      "text/html": [
       "<div>\n",
       "<style scoped>\n",
       "    .dataframe tbody tr th:only-of-type {\n",
       "        vertical-align: middle;\n",
       "    }\n",
       "\n",
       "    .dataframe tbody tr th {\n",
       "        vertical-align: top;\n",
       "    }\n",
       "\n",
       "    .dataframe thead th {\n",
       "        text-align: right;\n",
       "    }\n",
       "</style>\n",
       "<table border=\"1\" class=\"dataframe\">\n",
       "  <thead>\n",
       "    <tr style=\"text-align: right;\">\n",
       "      <th></th>\n",
       "      <th>product_category</th>\n",
       "    </tr>\n",
       "  </thead>\n",
       "  <tbody>\n",
       "    <tr>\n",
       "      <th>0</th>\n",
       "      <td>bed_bath_table</td>\n",
       "    </tr>\n",
       "    <tr>\n",
       "      <th>1</th>\n",
       "      <td>health_beauty</td>\n",
       "    </tr>\n",
       "    <tr>\n",
       "      <th>2</th>\n",
       "      <td>stationery</td>\n",
       "    </tr>\n",
       "    <tr>\n",
       "      <th>3</th>\n",
       "      <td>telephony</td>\n",
       "    </tr>\n",
       "    <tr>\n",
       "      <th>4</th>\n",
       "      <td>telephony</td>\n",
       "    </tr>\n",
       "  </tbody>\n",
       "</table>\n",
       "</div>"
      ],
      "text/plain": [
       "  product_category\n",
       "0   bed_bath_table\n",
       "1    health_beauty\n",
       "2       stationery\n",
       "3        telephony\n",
       "4        telephony"
      ]
     },
     "execution_count": 166,
     "metadata": {},
     "output_type": "execute_result"
    }
   ],
   "source": [
    "X.head()"
   ]
  },
  {
   "cell_type": "code",
   "execution_count": 167,
   "metadata": {},
   "outputs": [],
   "source": [
    "from sklearn.preprocessing import OneHotEncoder\n",
    "enc = OneHotEncoder(handle_unknown='ignore',sparse=True)"
   ]
  },
  {
   "cell_type": "code",
   "execution_count": 168,
   "metadata": {
    "scrolled": false
   },
   "outputs": [
    {
     "data": {
      "text/plain": [
       "['x0_agro_industry_and_commerce',\n",
       " 'x0_air_conditioning',\n",
       " 'x0_art',\n",
       " 'x0_arts_and_craftmanship',\n",
       " 'x0_audio']"
      ]
     },
     "execution_count": 168,
     "metadata": {},
     "output_type": "execute_result"
    }
   ],
   "source": [
    "df_X_bin = pd.DataFrame(enc.fit_transform(X).todense())\n",
    "df_X_bin.columns = enc.get_feature_names()\n",
    "df = df.merge(df_X_bin, left_index=True, right_index=True, how = 'inner')\n",
    "list_cat = df_X_bin.columns.tolist()\n",
    "list_cat[0:5]"
   ]
  },
  {
   "cell_type": "code",
   "execution_count": 169,
   "metadata": {},
   "outputs": [
    {
     "data": {
      "text/plain": [
       "74"
      ]
     },
     "execution_count": 169,
     "metadata": {},
     "output_type": "execute_result"
    }
   ],
   "source": [
    "len(list_cat)"
   ]
  },
  {
   "cell_type": "markdown",
   "metadata": {},
   "source": [
    "Ci-dessous un extrait de ***df*** pour illustration."
   ]
  },
  {
   "cell_type": "code",
   "execution_count": 170,
   "metadata": {},
   "outputs": [
    {
     "data": {
      "text/html": [
       "<div>\n",
       "<style scoped>\n",
       "    .dataframe tbody tr th:only-of-type {\n",
       "        vertical-align: middle;\n",
       "    }\n",
       "\n",
       "    .dataframe tbody tr th {\n",
       "        vertical-align: top;\n",
       "    }\n",
       "\n",
       "    .dataframe thead th {\n",
       "        text-align: right;\n",
       "    }\n",
       "</style>\n",
       "<table border=\"1\" class=\"dataframe\">\n",
       "  <thead>\n",
       "    <tr style=\"text-align: right;\">\n",
       "      <th></th>\n",
       "      <th>customer_unique_id</th>\n",
       "      <th>product_category</th>\n",
       "      <th>x0_bed_bath_table</th>\n",
       "      <th>x0_musical_instruments</th>\n",
       "      <th>x0_toys</th>\n",
       "      <th>x0_audio</th>\n",
       "    </tr>\n",
       "  </thead>\n",
       "  <tbody>\n",
       "    <tr>\n",
       "      <th>0</th>\n",
       "      <td>0000366f3b9a7992bf8c76cfdf3221e2</td>\n",
       "      <td>bed_bath_table</td>\n",
       "      <td>1.0</td>\n",
       "      <td>0.0</td>\n",
       "      <td>0.0</td>\n",
       "      <td>0.0</td>\n",
       "    </tr>\n",
       "    <tr>\n",
       "      <th>1</th>\n",
       "      <td>000fbf0473c10fc1ab6f8d2d286ce20c</td>\n",
       "      <td>musical_instruments</td>\n",
       "      <td>0.0</td>\n",
       "      <td>1.0</td>\n",
       "      <td>0.0</td>\n",
       "      <td>0.0</td>\n",
       "    </tr>\n",
       "    <tr>\n",
       "      <th>2</th>\n",
       "      <td>000fbf0473c10fc1ab6f8d2d286ce20c</td>\n",
       "      <td>musical_instruments</td>\n",
       "      <td>0.0</td>\n",
       "      <td>1.0</td>\n",
       "      <td>0.0</td>\n",
       "      <td>0.0</td>\n",
       "    </tr>\n",
       "    <tr>\n",
       "      <th>3</th>\n",
       "      <td>000fbf0473c10fc1ab6f8d2d286ce20c</td>\n",
       "      <td>toys</td>\n",
       "      <td>0.0</td>\n",
       "      <td>0.0</td>\n",
       "      <td>1.0</td>\n",
       "      <td>0.0</td>\n",
       "    </tr>\n",
       "    <tr>\n",
       "      <th>4</th>\n",
       "      <td>000fbf0473c10fc1ab6f8d2d286ce20c</td>\n",
       "      <td>toys</td>\n",
       "      <td>0.0</td>\n",
       "      <td>0.0</td>\n",
       "      <td>1.0</td>\n",
       "      <td>0.0</td>\n",
       "    </tr>\n",
       "  </tbody>\n",
       "</table>\n",
       "</div>"
      ],
      "text/plain": [
       "                 customer_unique_id     product_category  x0_bed_bath_table  \\\n",
       "0  0000366f3b9a7992bf8c76cfdf3221e2       bed_bath_table                1.0   \n",
       "1  000fbf0473c10fc1ab6f8d2d286ce20c  musical_instruments                0.0   \n",
       "2  000fbf0473c10fc1ab6f8d2d286ce20c  musical_instruments                0.0   \n",
       "3  000fbf0473c10fc1ab6f8d2d286ce20c                 toys                0.0   \n",
       "4  000fbf0473c10fc1ab6f8d2d286ce20c                 toys                0.0   \n",
       "\n",
       "   x0_musical_instruments  x0_toys  x0_audio  \n",
       "0                     0.0      0.0       0.0  \n",
       "1                     1.0      0.0       0.0  \n",
       "2                     1.0      0.0       0.0  \n",
       "3                     0.0      1.0       0.0  \n",
       "4                     0.0      1.0       0.0  "
      ]
     },
     "execution_count": 170,
     "metadata": {},
     "output_type": "execute_result"
    }
   ],
   "source": [
    "df_ex = df[(df['customer_unique_id'] == '000fbf0473c10fc1ab6f8d2d286ce20c') | \n",
    "   (df['customer_unique_id'] == '0000366f3b9a7992bf8c76cfdf3221e2')][['customer_unique_id',\n",
    "    'product_category','x0_bed_bath_table','x0_musical_instruments','x0_toys','x0_audio']].sort_values('customer_unique_id')\n",
    "df_ex.reset_index(inplace=True)\n",
    "del df_ex['index']\n",
    "df_ex"
   ]
  },
  {
   "cell_type": "code",
   "execution_count": 171,
   "metadata": {},
   "outputs": [
    {
     "data": {
      "text/plain": [
       "(112650, 100)"
      ]
     },
     "execution_count": 171,
     "metadata": {},
     "output_type": "execute_result"
    }
   ],
   "source": [
    "df.shape"
   ]
  },
  {
   "cell_type": "code",
   "execution_count": 172,
   "metadata": {},
   "outputs": [
    {
     "name": "stdout",
     "output_type": "stream",
     "text": [
      "Stored 'df' (DataFrame)\n"
     ]
    }
   ],
   "source": [
    "%store df"
   ]
  },
  {
   "cell_type": "code",
   "execution_count": 173,
   "metadata": {},
   "outputs": [
    {
     "name": "stdout",
     "output_type": "stream",
     "text": [
      "Durée de l'opération 'Encodage - Catégories de produits': 1.47 s\n",
      "Durée totale de traitement: 00 h 01 m 36 s\n"
     ]
    }
   ],
   "source": [
    "time_calc('Encodage - Catégories de produits')\n",
    "t = time.time()"
   ]
  },
  {
   "cell_type": "markdown",
   "metadata": {},
   "source": [
    "### Dataframe df1 - Niveau Client <a class=\"anchor\" id=\"dat_df1\"></a>"
   ]
  },
  {
   "cell_type": "code",
   "execution_count": 174,
   "metadata": {},
   "outputs": [
    {
     "data": {
      "text/plain": [
       "[('purchase_date', 'min'),\n",
       " ('purchase_date', 'max'),\n",
       " ('order_id', 'nunique'),\n",
       " ('product_id', 'count'),\n",
       " ('price_total', 'mean'),\n",
       " ('price_total', 'sum'),\n",
       " ('price_per_cust', 'first'),\n",
       " ('prod_nb_avg', 'first'),\n",
       " ('score_mean_per_ord', 'mean'),\n",
       " ('score_mean_per_cust', 'first'),\n",
       " ('same_loc', 'sum'),\n",
       " ('customer_u_zip_code_prefix', 'first')]"
      ]
     },
     "execution_count": 174,
     "metadata": {},
     "output_type": "execute_result"
    }
   ],
   "source": [
    "df1 = df.groupby('customer_unique_id').agg({'purchase_date': ['min','max'],\n",
    "                                            'order_id': pd.Series.nunique,\n",
    "                                            'product_id': 'count',\n",
    "                                            'price_total': ['mean','sum'],\n",
    "                                            'price_per_cust': 'first',\n",
    "                                            'prod_nb_avg': 'first',\n",
    "                                            'score_mean_per_ord': 'mean',\n",
    "                                            'score_mean_per_cust': 'first',\n",
    "                                            'same_loc': 'sum',\n",
    "                                            'customer_u_zip_code_prefix': 'first'})\n",
    "df1.columns.tolist()"
   ]
  },
  {
   "cell_type": "code",
   "execution_count": 175,
   "metadata": {},
   "outputs": [
    {
     "name": "stdout",
     "output_type": "stream",
     "text": [
      "Durée de l'opération 'Création df1': 9.99 s\n",
      "Durée totale de traitement: 00 h 01 m 46 s\n"
     ]
    }
   ],
   "source": [
    "time_calc('Création df1')\n",
    "t = time.time()"
   ]
  },
  {
   "cell_type": "markdown",
   "metadata": {},
   "source": [
    "#### Traitement des données catégorielles - Niveau Client"
   ]
  },
  {
   "cell_type": "markdown",
   "metadata": {},
   "source": [
    "##### Catégories de produits"
   ]
  },
  {
   "cell_type": "code",
   "execution_count": 176,
   "metadata": {},
   "outputs": [
    {
     "data": {
      "text/html": [
       "<div>\n",
       "<style scoped>\n",
       "    .dataframe tbody tr th:only-of-type {\n",
       "        vertical-align: middle;\n",
       "    }\n",
       "\n",
       "    .dataframe tbody tr th {\n",
       "        vertical-align: top;\n",
       "    }\n",
       "\n",
       "    .dataframe thead th {\n",
       "        text-align: right;\n",
       "    }\n",
       "</style>\n",
       "<table border=\"1\" class=\"dataframe\">\n",
       "  <thead>\n",
       "    <tr style=\"text-align: right;\">\n",
       "      <th></th>\n",
       "      <th>x0_art</th>\n",
       "      <th>x0_bed_bath_table</th>\n",
       "      <th>x0_telephony</th>\n",
       "      <th>x0_audio</th>\n",
       "    </tr>\n",
       "    <tr>\n",
       "      <th>customer_unique_id</th>\n",
       "      <th></th>\n",
       "      <th></th>\n",
       "      <th></th>\n",
       "      <th></th>\n",
       "    </tr>\n",
       "  </thead>\n",
       "  <tbody>\n",
       "    <tr>\n",
       "      <th>0000366f3b9a7992bf8c76cfdf3221e2</th>\n",
       "      <td>0.0</td>\n",
       "      <td>1.0</td>\n",
       "      <td>0.0</td>\n",
       "      <td>0.0</td>\n",
       "    </tr>\n",
       "    <tr>\n",
       "      <th>0000b849f77a49e4a4ce2b2a4ca5be3f</th>\n",
       "      <td>0.0</td>\n",
       "      <td>0.0</td>\n",
       "      <td>0.0</td>\n",
       "      <td>0.0</td>\n",
       "    </tr>\n",
       "    <tr>\n",
       "      <th>0000f46a3911fa3c0805444483337064</th>\n",
       "      <td>0.0</td>\n",
       "      <td>0.0</td>\n",
       "      <td>0.0</td>\n",
       "      <td>0.0</td>\n",
       "    </tr>\n",
       "    <tr>\n",
       "      <th>0000f6ccb0745a6a4b88665a16c9f078</th>\n",
       "      <td>0.0</td>\n",
       "      <td>0.0</td>\n",
       "      <td>1.0</td>\n",
       "      <td>0.0</td>\n",
       "    </tr>\n",
       "    <tr>\n",
       "      <th>0004aac84e0df4da2b147fca70cf8255</th>\n",
       "      <td>0.0</td>\n",
       "      <td>0.0</td>\n",
       "      <td>1.0</td>\n",
       "      <td>0.0</td>\n",
       "    </tr>\n",
       "  </tbody>\n",
       "</table>\n",
       "</div>"
      ],
      "text/plain": [
       "                                  x0_art  x0_bed_bath_table  x0_telephony  \\\n",
       "customer_unique_id                                                          \n",
       "0000366f3b9a7992bf8c76cfdf3221e2     0.0                1.0           0.0   \n",
       "0000b849f77a49e4a4ce2b2a4ca5be3f     0.0                0.0           0.0   \n",
       "0000f46a3911fa3c0805444483337064     0.0                0.0           0.0   \n",
       "0000f6ccb0745a6a4b88665a16c9f078     0.0                0.0           1.0   \n",
       "0004aac84e0df4da2b147fca70cf8255     0.0                0.0           1.0   \n",
       "\n",
       "                                  x0_audio  \n",
       "customer_unique_id                          \n",
       "0000366f3b9a7992bf8c76cfdf3221e2       0.0  \n",
       "0000b849f77a49e4a4ce2b2a4ca5be3f       0.0  \n",
       "0000f46a3911fa3c0805444483337064       0.0  \n",
       "0000f6ccb0745a6a4b88665a16c9f078       0.0  \n",
       "0004aac84e0df4da2b147fca70cf8255       0.0  "
      ]
     },
     "execution_count": 176,
     "metadata": {},
     "output_type": "execute_result"
    }
   ],
   "source": [
    "list_cat.append('customer_unique_id')\n",
    "df_cat = df[list_cat]\n",
    "# On regroupe les données par client unique et on agrège sur la valeur max de la variable catégorie de produit\n",
    "# Ainsi, on assigne à chaque client les catégories de produits qu'il a commandé au moins une fois\n",
    "df_cat = df_cat.groupby('customer_unique_id').max()\n",
    "list_cat.remove('customer_unique_id')\n",
    "df_cat[['x0_art','x0_bed_bath_table','x0_telephony','x0_audio']].head()"
   ]
  },
  {
   "cell_type": "markdown",
   "metadata": {},
   "source": [
    "Ci-dessous un extrait de ***df_cat*** pour illustration."
   ]
  },
  {
   "cell_type": "code",
   "execution_count": 177,
   "metadata": {},
   "outputs": [
    {
     "data": {
      "text/html": [
       "<div>\n",
       "<style scoped>\n",
       "    .dataframe tbody tr th:only-of-type {\n",
       "        vertical-align: middle;\n",
       "    }\n",
       "\n",
       "    .dataframe tbody tr th {\n",
       "        vertical-align: top;\n",
       "    }\n",
       "\n",
       "    .dataframe thead th {\n",
       "        text-align: right;\n",
       "    }\n",
       "</style>\n",
       "<table border=\"1\" class=\"dataframe\">\n",
       "  <thead>\n",
       "    <tr style=\"text-align: right;\">\n",
       "      <th></th>\n",
       "      <th>customer_unique_id</th>\n",
       "      <th>x0_bed_bath_table</th>\n",
       "      <th>x0_musical_instruments</th>\n",
       "      <th>x0_toys</th>\n",
       "      <th>x0_audio</th>\n",
       "    </tr>\n",
       "  </thead>\n",
       "  <tbody>\n",
       "    <tr>\n",
       "      <th>0</th>\n",
       "      <td>0000366f3b9a7992bf8c76cfdf3221e2</td>\n",
       "      <td>1.0</td>\n",
       "      <td>0.0</td>\n",
       "      <td>0.0</td>\n",
       "      <td>0.0</td>\n",
       "    </tr>\n",
       "    <tr>\n",
       "      <th>22</th>\n",
       "      <td>000fbf0473c10fc1ab6f8d2d286ce20c</td>\n",
       "      <td>0.0</td>\n",
       "      <td>1.0</td>\n",
       "      <td>1.0</td>\n",
       "      <td>0.0</td>\n",
       "    </tr>\n",
       "  </tbody>\n",
       "</table>\n",
       "</div>"
      ],
      "text/plain": [
       "                  customer_unique_id  x0_bed_bath_table  \\\n",
       "0   0000366f3b9a7992bf8c76cfdf3221e2                1.0   \n",
       "22  000fbf0473c10fc1ab6f8d2d286ce20c                0.0   \n",
       "\n",
       "    x0_musical_instruments  x0_toys  x0_audio  \n",
       "0                      0.0      0.0       0.0  \n",
       "22                     1.0      1.0       0.0  "
      ]
     },
     "execution_count": 177,
     "metadata": {},
     "output_type": "execute_result"
    }
   ],
   "source": [
    "df_cat_ex = df_cat.reset_index()\n",
    "df_cat_ex[(df_cat_ex['customer_unique_id'] == '000fbf0473c10fc1ab6f8d2d286ce20c') | \n",
    "   (df_cat_ex['customer_unique_id'] == '0000366f3b9a7992bf8c76cfdf3221e2')][['customer_unique_id',\n",
    "    'x0_bed_bath_table','x0_musical_instruments','x0_toys','x0_audio']]"
   ]
  },
  {
   "cell_type": "code",
   "execution_count": 178,
   "metadata": {},
   "outputs": [
    {
     "data": {
      "text/plain": [
       "(95420, 74)"
      ]
     },
     "execution_count": 178,
     "metadata": {},
     "output_type": "execute_result"
    }
   ],
   "source": [
    "df_cat.shape"
   ]
  },
  {
   "cell_type": "code",
   "execution_count": 179,
   "metadata": {},
   "outputs": [
    {
     "name": "stdout",
     "output_type": "stream",
     "text": [
      "Stored 'df_cat' (DataFrame)\n"
     ]
    }
   ],
   "source": [
    "%store df_cat"
   ]
  },
  {
   "cell_type": "code",
   "execution_count": 180,
   "metadata": {},
   "outputs": [
    {
     "name": "stdout",
     "output_type": "stream",
     "text": [
      "Durée de l'opération 'Catégories de produits par client': 0.77 s\n",
      "Durée totale de traitement: 00 h 01 m 46 s\n"
     ]
    }
   ],
   "source": [
    "time_calc('Catégories de produits par client')\n",
    "t = time.time()"
   ]
  },
  {
   "cell_type": "markdown",
   "metadata": {},
   "source": [
    "On calcule le nombre de produits différents achetés par les clients."
   ]
  },
  {
   "cell_type": "code",
   "execution_count": 181,
   "metadata": {},
   "outputs": [],
   "source": [
    "df_cat['nb_prod_diff'] = df_cat.sum(axis = 1)"
   ]
  },
  {
   "cell_type": "code",
   "execution_count": 182,
   "metadata": {},
   "outputs": [
    {
     "data": {
      "text/plain": [
       "[('purchase_date', 'min'),\n",
       " ('purchase_date', 'max'),\n",
       " ('order_id', 'nunique'),\n",
       " ('product_id', 'count'),\n",
       " ('price_total', 'mean'),\n",
       " ('price_total', 'sum'),\n",
       " ('price_per_cust', 'first'),\n",
       " ('prod_nb_avg', 'first'),\n",
       " ('score_mean_per_ord', 'mean'),\n",
       " ('score_mean_per_cust', 'first'),\n",
       " ('same_loc', 'sum'),\n",
       " ('customer_u_zip_code_prefix', 'first'),\n",
       " 'nb_prod_diff']"
      ]
     },
     "execution_count": 182,
     "metadata": {},
     "output_type": "execute_result"
    }
   ],
   "source": [
    "df1 = df1.merge(df_cat[['nb_prod_diff']], left_index=True, right_index=True)\n",
    "df1.columns.tolist()"
   ]
  },
  {
   "cell_type": "code",
   "execution_count": 183,
   "metadata": {},
   "outputs": [],
   "source": [
    "df1['nb_prod_diff'] = np.int64(df1['nb_prod_diff'])"
   ]
  },
  {
   "cell_type": "code",
   "execution_count": 184,
   "metadata": {},
   "outputs": [
    {
     "name": "stdout",
     "output_type": "stream",
     "text": [
      "<class 'pandas.core.frame.DataFrame'>\n",
      "Index: 95420 entries, 0000366f3b9a7992bf8c76cfdf3221e2 to ffffd2657e2aad2907e67c3e9daecbeb\n",
      "Data columns (total 13 columns):\n",
      " #   Column                               Non-Null Count  Dtype         \n",
      "---  ------                               --------------  -----         \n",
      " 0   (purchase_date, min)                 95420 non-null  datetime64[ns]\n",
      " 1   (purchase_date, max)                 95420 non-null  datetime64[ns]\n",
      " 2   (order_id, nunique)                  95420 non-null  int64         \n",
      " 3   (product_id, count)                  95420 non-null  int64         \n",
      " 4   (price_total, mean)                  95420 non-null  float64       \n",
      " 5   (price_total, sum)                   95420 non-null  float64       \n",
      " 6   (price_per_cust, first)              95420 non-null  float64       \n",
      " 7   (prod_nb_avg, first)                 95420 non-null  float64       \n",
      " 8   (score_mean_per_ord, mean)           95420 non-null  float64       \n",
      " 9   (score_mean_per_cust, first)         95420 non-null  float64       \n",
      " 10  (same_loc, sum)                      95420 non-null  float64       \n",
      " 11  (customer_u_zip_code_prefix, first)  95420 non-null  int64         \n",
      " 12  nb_prod_diff                         95420 non-null  int64         \n",
      "dtypes: datetime64[ns](2), float64(7), int64(4)\n",
      "memory usage: 12.7+ MB\n"
     ]
    }
   ],
   "source": [
    "df1.info()"
   ]
  },
  {
   "cell_type": "code",
   "execution_count": 185,
   "metadata": {},
   "outputs": [
    {
     "data": {
      "text/html": [
       "<div>\n",
       "<style scoped>\n",
       "    .dataframe tbody tr th:only-of-type {\n",
       "        vertical-align: middle;\n",
       "    }\n",
       "\n",
       "    .dataframe tbody tr th {\n",
       "        vertical-align: top;\n",
       "    }\n",
       "\n",
       "    .dataframe thead th {\n",
       "        text-align: right;\n",
       "    }\n",
       "</style>\n",
       "<table border=\"1\" class=\"dataframe\">\n",
       "  <thead>\n",
       "    <tr style=\"text-align: right;\">\n",
       "      <th></th>\n",
       "      <th>(purchase_date, min)</th>\n",
       "      <th>(purchase_date, max)</th>\n",
       "      <th>(order_id, nunique)</th>\n",
       "      <th>(product_id, count)</th>\n",
       "      <th>(price_total, mean)</th>\n",
       "      <th>(price_total, sum)</th>\n",
       "      <th>(price_per_cust, first)</th>\n",
       "      <th>(prod_nb_avg, first)</th>\n",
       "      <th>(score_mean_per_ord, mean)</th>\n",
       "      <th>(score_mean_per_cust, first)</th>\n",
       "      <th>(same_loc, sum)</th>\n",
       "      <th>(customer_u_zip_code_prefix, first)</th>\n",
       "      <th>nb_prod_diff</th>\n",
       "    </tr>\n",
       "    <tr>\n",
       "      <th>customer_unique_id</th>\n",
       "      <th></th>\n",
       "      <th></th>\n",
       "      <th></th>\n",
       "      <th></th>\n",
       "      <th></th>\n",
       "      <th></th>\n",
       "      <th></th>\n",
       "      <th></th>\n",
       "      <th></th>\n",
       "      <th></th>\n",
       "      <th></th>\n",
       "      <th></th>\n",
       "      <th></th>\n",
       "    </tr>\n",
       "  </thead>\n",
       "  <tbody>\n",
       "    <tr>\n",
       "      <th>8d50f5eadf50201ccdcedfb9e2ac8455</th>\n",
       "      <td>2017-05-15</td>\n",
       "      <td>2018-08-20</td>\n",
       "      <td>16</td>\n",
       "      <td>16</td>\n",
       "      <td>56.377500</td>\n",
       "      <td>902.04</td>\n",
       "      <td>56.377500</td>\n",
       "      <td>1.000000</td>\n",
       "      <td>5.000000</td>\n",
       "      <td>4.764706</td>\n",
       "      <td>0.0</td>\n",
       "      <td>4045</td>\n",
       "      <td>4</td>\n",
       "    </tr>\n",
       "    <tr>\n",
       "      <th>3e43e6105506432c953e165fb2acf44c</th>\n",
       "      <td>2017-09-18</td>\n",
       "      <td>2018-02-27</td>\n",
       "      <td>9</td>\n",
       "      <td>14</td>\n",
       "      <td>83.762143</td>\n",
       "      <td>1172.67</td>\n",
       "      <td>130.296667</td>\n",
       "      <td>1.555556</td>\n",
       "      <td>2.642857</td>\n",
       "      <td>2.777778</td>\n",
       "      <td>0.0</td>\n",
       "      <td>11701</td>\n",
       "      <td>5</td>\n",
       "    </tr>\n",
       "    <tr>\n",
       "      <th>1b6c7548a2a1f9037c1fd3ddfed95f33</th>\n",
       "      <td>2017-11-13</td>\n",
       "      <td>2018-02-14</td>\n",
       "      <td>7</td>\n",
       "      <td>9</td>\n",
       "      <td>106.556667</td>\n",
       "      <td>959.01</td>\n",
       "      <td>137.001429</td>\n",
       "      <td>1.285714</td>\n",
       "      <td>5.000000</td>\n",
       "      <td>5.000000</td>\n",
       "      <td>0.0</td>\n",
       "      <td>38301</td>\n",
       "      <td>5</td>\n",
       "    </tr>\n",
       "    <tr>\n",
       "      <th>6469f99c1f9dfae7733b25662e7f1782</th>\n",
       "      <td>2017-09-19</td>\n",
       "      <td>2018-06-28</td>\n",
       "      <td>7</td>\n",
       "      <td>9</td>\n",
       "      <td>84.314444</td>\n",
       "      <td>758.83</td>\n",
       "      <td>108.404286</td>\n",
       "      <td>1.285714</td>\n",
       "      <td>5.000000</td>\n",
       "      <td>5.000000</td>\n",
       "      <td>0.0</td>\n",
       "      <td>11065</td>\n",
       "      <td>1</td>\n",
       "    </tr>\n",
       "    <tr>\n",
       "      <th>ca77025e7201e3b30c44b472ff346268</th>\n",
       "      <td>2017-10-09</td>\n",
       "      <td>2018-06-01</td>\n",
       "      <td>7</td>\n",
       "      <td>12</td>\n",
       "      <td>93.560000</td>\n",
       "      <td>1122.72</td>\n",
       "      <td>160.388571</td>\n",
       "      <td>1.714286</td>\n",
       "      <td>5.000000</td>\n",
       "      <td>5.000000</td>\n",
       "      <td>0.0</td>\n",
       "      <td>51021</td>\n",
       "      <td>4</td>\n",
       "    </tr>\n",
       "  </tbody>\n",
       "</table>\n",
       "</div>"
      ],
      "text/plain": [
       "                                 (purchase_date, min) (purchase_date, max)  \\\n",
       "customer_unique_id                                                           \n",
       "8d50f5eadf50201ccdcedfb9e2ac8455           2017-05-15           2018-08-20   \n",
       "3e43e6105506432c953e165fb2acf44c           2017-09-18           2018-02-27   \n",
       "1b6c7548a2a1f9037c1fd3ddfed95f33           2017-11-13           2018-02-14   \n",
       "6469f99c1f9dfae7733b25662e7f1782           2017-09-19           2018-06-28   \n",
       "ca77025e7201e3b30c44b472ff346268           2017-10-09           2018-06-01   \n",
       "\n",
       "                                  (order_id, nunique)  (product_id, count)  \\\n",
       "customer_unique_id                                                           \n",
       "8d50f5eadf50201ccdcedfb9e2ac8455                   16                   16   \n",
       "3e43e6105506432c953e165fb2acf44c                    9                   14   \n",
       "1b6c7548a2a1f9037c1fd3ddfed95f33                    7                    9   \n",
       "6469f99c1f9dfae7733b25662e7f1782                    7                    9   \n",
       "ca77025e7201e3b30c44b472ff346268                    7                   12   \n",
       "\n",
       "                                  (price_total, mean)  (price_total, sum)  \\\n",
       "customer_unique_id                                                          \n",
       "8d50f5eadf50201ccdcedfb9e2ac8455            56.377500              902.04   \n",
       "3e43e6105506432c953e165fb2acf44c            83.762143             1172.67   \n",
       "1b6c7548a2a1f9037c1fd3ddfed95f33           106.556667              959.01   \n",
       "6469f99c1f9dfae7733b25662e7f1782            84.314444              758.83   \n",
       "ca77025e7201e3b30c44b472ff346268            93.560000             1122.72   \n",
       "\n",
       "                                  (price_per_cust, first)  \\\n",
       "customer_unique_id                                          \n",
       "8d50f5eadf50201ccdcedfb9e2ac8455                56.377500   \n",
       "3e43e6105506432c953e165fb2acf44c               130.296667   \n",
       "1b6c7548a2a1f9037c1fd3ddfed95f33               137.001429   \n",
       "6469f99c1f9dfae7733b25662e7f1782               108.404286   \n",
       "ca77025e7201e3b30c44b472ff346268               160.388571   \n",
       "\n",
       "                                  (prod_nb_avg, first)  \\\n",
       "customer_unique_id                                       \n",
       "8d50f5eadf50201ccdcedfb9e2ac8455              1.000000   \n",
       "3e43e6105506432c953e165fb2acf44c              1.555556   \n",
       "1b6c7548a2a1f9037c1fd3ddfed95f33              1.285714   \n",
       "6469f99c1f9dfae7733b25662e7f1782              1.285714   \n",
       "ca77025e7201e3b30c44b472ff346268              1.714286   \n",
       "\n",
       "                                  (score_mean_per_ord, mean)  \\\n",
       "customer_unique_id                                             \n",
       "8d50f5eadf50201ccdcedfb9e2ac8455                    5.000000   \n",
       "3e43e6105506432c953e165fb2acf44c                    2.642857   \n",
       "1b6c7548a2a1f9037c1fd3ddfed95f33                    5.000000   \n",
       "6469f99c1f9dfae7733b25662e7f1782                    5.000000   \n",
       "ca77025e7201e3b30c44b472ff346268                    5.000000   \n",
       "\n",
       "                                  (score_mean_per_cust, first)  \\\n",
       "customer_unique_id                                               \n",
       "8d50f5eadf50201ccdcedfb9e2ac8455                      4.764706   \n",
       "3e43e6105506432c953e165fb2acf44c                      2.777778   \n",
       "1b6c7548a2a1f9037c1fd3ddfed95f33                      5.000000   \n",
       "6469f99c1f9dfae7733b25662e7f1782                      5.000000   \n",
       "ca77025e7201e3b30c44b472ff346268                      5.000000   \n",
       "\n",
       "                                  (same_loc, sum)  \\\n",
       "customer_unique_id                                  \n",
       "8d50f5eadf50201ccdcedfb9e2ac8455              0.0   \n",
       "3e43e6105506432c953e165fb2acf44c              0.0   \n",
       "1b6c7548a2a1f9037c1fd3ddfed95f33              0.0   \n",
       "6469f99c1f9dfae7733b25662e7f1782              0.0   \n",
       "ca77025e7201e3b30c44b472ff346268              0.0   \n",
       "\n",
       "                                  (customer_u_zip_code_prefix, first)  \\\n",
       "customer_unique_id                                                      \n",
       "8d50f5eadf50201ccdcedfb9e2ac8455                                 4045   \n",
       "3e43e6105506432c953e165fb2acf44c                                11701   \n",
       "1b6c7548a2a1f9037c1fd3ddfed95f33                                38301   \n",
       "6469f99c1f9dfae7733b25662e7f1782                                11065   \n",
       "ca77025e7201e3b30c44b472ff346268                                51021   \n",
       "\n",
       "                                  nb_prod_diff  \n",
       "customer_unique_id                              \n",
       "8d50f5eadf50201ccdcedfb9e2ac8455             4  \n",
       "3e43e6105506432c953e165fb2acf44c             5  \n",
       "1b6c7548a2a1f9037c1fd3ddfed95f33             5  \n",
       "6469f99c1f9dfae7733b25662e7f1782             1  \n",
       "ca77025e7201e3b30c44b472ff346268             4  "
      ]
     },
     "execution_count": 185,
     "metadata": {},
     "output_type": "execute_result"
    }
   ],
   "source": [
    "df1.sort_values(('order_id', 'nunique'), ascending = False).head()"
   ]
  },
  {
   "cell_type": "code",
   "execution_count": 186,
   "metadata": {},
   "outputs": [
    {
     "name": "stdout",
     "output_type": "stream",
     "text": [
      "Durée de l'opération 'Nombre de produits différents par client': 0.32 s\n",
      "Durée totale de traitement: 00 h 01 m 47 s\n"
     ]
    }
   ],
   "source": [
    "time_calc('Nombre de produits différents par client')\n",
    "t = time.time()"
   ]
  },
  {
   "cell_type": "markdown",
   "metadata": {},
   "source": [
    "##### Types de paiement"
   ]
  },
  {
   "cell_type": "code",
   "execution_count": 187,
   "metadata": {},
   "outputs": [
    {
     "data": {
      "text/plain": [
       "(103886, 5)"
      ]
     },
     "execution_count": 187,
     "metadata": {},
     "output_type": "execute_result"
    }
   ],
   "source": [
    "df_order_payments.shape"
   ]
  },
  {
   "cell_type": "code",
   "execution_count": 188,
   "metadata": {},
   "outputs": [
    {
     "data": {
      "text/html": [
       "<div>\n",
       "<style scoped>\n",
       "    .dataframe tbody tr th:only-of-type {\n",
       "        vertical-align: middle;\n",
       "    }\n",
       "\n",
       "    .dataframe tbody tr th {\n",
       "        vertical-align: top;\n",
       "    }\n",
       "\n",
       "    .dataframe thead th {\n",
       "        text-align: right;\n",
       "    }\n",
       "</style>\n",
       "<table border=\"1\" class=\"dataframe\">\n",
       "  <thead>\n",
       "    <tr style=\"text-align: right;\">\n",
       "      <th></th>\n",
       "      <th>payment_type</th>\n",
       "    </tr>\n",
       "  </thead>\n",
       "  <tbody>\n",
       "    <tr>\n",
       "      <th>0</th>\n",
       "      <td>credit_card</td>\n",
       "    </tr>\n",
       "    <tr>\n",
       "      <th>1</th>\n",
       "      <td>credit_card</td>\n",
       "    </tr>\n",
       "    <tr>\n",
       "      <th>2</th>\n",
       "      <td>credit_card</td>\n",
       "    </tr>\n",
       "    <tr>\n",
       "      <th>3</th>\n",
       "      <td>credit_card</td>\n",
       "    </tr>\n",
       "    <tr>\n",
       "      <th>4</th>\n",
       "      <td>credit_card</td>\n",
       "    </tr>\n",
       "  </tbody>\n",
       "</table>\n",
       "</div>"
      ],
      "text/plain": [
       "  payment_type\n",
       "0  credit_card\n",
       "1  credit_card\n",
       "2  credit_card\n",
       "3  credit_card\n",
       "4  credit_card"
      ]
     },
     "execution_count": 188,
     "metadata": {},
     "output_type": "execute_result"
    }
   ],
   "source": [
    "X = df_order_payments[['payment_type']]\n",
    "X.head()"
   ]
  },
  {
   "cell_type": "code",
   "execution_count": 189,
   "metadata": {},
   "outputs": [],
   "source": [
    "from sklearn.preprocessing import OneHotEncoder\n",
    "enc = OneHotEncoder(handle_unknown='ignore',sparse=True)"
   ]
  },
  {
   "cell_type": "code",
   "execution_count": 190,
   "metadata": {
    "scrolled": false
   },
   "outputs": [
    {
     "data": {
      "text/plain": [
       "['x0_boleto',\n",
       " 'x0_credit_card',\n",
       " 'x0_debit_card',\n",
       " 'x0_not_defined',\n",
       " 'x0_voucher']"
      ]
     },
     "execution_count": 190,
     "metadata": {},
     "output_type": "execute_result"
    }
   ],
   "source": [
    "df_X_bin = pd.DataFrame(enc.fit_transform(X).todense())\n",
    "df_X_bin.columns = enc.get_feature_names()\n",
    "\n",
    "df_pay_type = df_order_payments[['order_id']].merge(df_X_bin, left_index=True, right_index=True, how = 'inner')\n",
    "\n",
    "list_pay_type = df_X_bin.columns.tolist()\n",
    "list_pay_type[0:5]"
   ]
  },
  {
   "cell_type": "code",
   "execution_count": 191,
   "metadata": {},
   "outputs": [
    {
     "data": {
      "text/plain": [
       "5"
      ]
     },
     "execution_count": 191,
     "metadata": {},
     "output_type": "execute_result"
    }
   ],
   "source": [
    "len(list_pay_type)"
   ]
  },
  {
   "cell_type": "code",
   "execution_count": 192,
   "metadata": {},
   "outputs": [
    {
     "data": {
      "text/html": [
       "<div>\n",
       "<style scoped>\n",
       "    .dataframe tbody tr th:only-of-type {\n",
       "        vertical-align: middle;\n",
       "    }\n",
       "\n",
       "    .dataframe tbody tr th {\n",
       "        vertical-align: top;\n",
       "    }\n",
       "\n",
       "    .dataframe thead th {\n",
       "        text-align: right;\n",
       "    }\n",
       "</style>\n",
       "<table border=\"1\" class=\"dataframe\">\n",
       "  <thead>\n",
       "    <tr style=\"text-align: right;\">\n",
       "      <th></th>\n",
       "      <th>order_id</th>\n",
       "      <th>x0_boleto</th>\n",
       "      <th>x0_credit_card</th>\n",
       "      <th>x0_debit_card</th>\n",
       "      <th>x0_not_defined</th>\n",
       "      <th>x0_voucher</th>\n",
       "    </tr>\n",
       "  </thead>\n",
       "  <tbody>\n",
       "    <tr>\n",
       "      <th>0</th>\n",
       "      <td>b81ef226f3fe1789b1e8b2acac839d17</td>\n",
       "      <td>0.0</td>\n",
       "      <td>1.0</td>\n",
       "      <td>0.0</td>\n",
       "      <td>0.0</td>\n",
       "      <td>0.0</td>\n",
       "    </tr>\n",
       "    <tr>\n",
       "      <th>1</th>\n",
       "      <td>a9810da82917af2d9aefd1278f1dcfa0</td>\n",
       "      <td>0.0</td>\n",
       "      <td>1.0</td>\n",
       "      <td>0.0</td>\n",
       "      <td>0.0</td>\n",
       "      <td>0.0</td>\n",
       "    </tr>\n",
       "    <tr>\n",
       "      <th>2</th>\n",
       "      <td>25e8ea4e93396b6fa0d3dd708e76c1bd</td>\n",
       "      <td>0.0</td>\n",
       "      <td>1.0</td>\n",
       "      <td>0.0</td>\n",
       "      <td>0.0</td>\n",
       "      <td>0.0</td>\n",
       "    </tr>\n",
       "    <tr>\n",
       "      <th>3</th>\n",
       "      <td>ba78997921bbcdc1373bb41e913ab953</td>\n",
       "      <td>0.0</td>\n",
       "      <td>1.0</td>\n",
       "      <td>0.0</td>\n",
       "      <td>0.0</td>\n",
       "      <td>0.0</td>\n",
       "    </tr>\n",
       "    <tr>\n",
       "      <th>4</th>\n",
       "      <td>42fdf880ba16b47b59251dd489d4441a</td>\n",
       "      <td>0.0</td>\n",
       "      <td>1.0</td>\n",
       "      <td>0.0</td>\n",
       "      <td>0.0</td>\n",
       "      <td>0.0</td>\n",
       "    </tr>\n",
       "  </tbody>\n",
       "</table>\n",
       "</div>"
      ],
      "text/plain": [
       "                           order_id  x0_boleto  x0_credit_card  x0_debit_card  \\\n",
       "0  b81ef226f3fe1789b1e8b2acac839d17        0.0             1.0            0.0   \n",
       "1  a9810da82917af2d9aefd1278f1dcfa0        0.0             1.0            0.0   \n",
       "2  25e8ea4e93396b6fa0d3dd708e76c1bd        0.0             1.0            0.0   \n",
       "3  ba78997921bbcdc1373bb41e913ab953        0.0             1.0            0.0   \n",
       "4  42fdf880ba16b47b59251dd489d4441a        0.0             1.0            0.0   \n",
       "\n",
       "   x0_not_defined  x0_voucher  \n",
       "0             0.0         0.0  \n",
       "1             0.0         0.0  \n",
       "2             0.0         0.0  \n",
       "3             0.0         0.0  \n",
       "4             0.0         0.0  "
      ]
     },
     "execution_count": 192,
     "metadata": {},
     "output_type": "execute_result"
    }
   ],
   "source": [
    "df_pay_type.head()"
   ]
  },
  {
   "cell_type": "markdown",
   "metadata": {},
   "source": [
    "On regroupe les données par commande et on agrège sur la valeur max de la variable type de paiement.\n",
    "\n",
    "Ainsi, on assigne à chaque commande les types de paiement utilisés pour cette commande."
   ]
  },
  {
   "cell_type": "code",
   "execution_count": 193,
   "metadata": {},
   "outputs": [],
   "source": [
    "df_pay_type = df_pay_type.groupby('order_id').max()"
   ]
  },
  {
   "cell_type": "code",
   "execution_count": 194,
   "metadata": {},
   "outputs": [],
   "source": [
    "df_pay_type.reset_index(inplace=True)"
   ]
  },
  {
   "cell_type": "code",
   "execution_count": 195,
   "metadata": {},
   "outputs": [
    {
     "data": {
      "text/html": [
       "<div>\n",
       "<style scoped>\n",
       "    .dataframe tbody tr th:only-of-type {\n",
       "        vertical-align: middle;\n",
       "    }\n",
       "\n",
       "    .dataframe tbody tr th {\n",
       "        vertical-align: top;\n",
       "    }\n",
       "\n",
       "    .dataframe thead th {\n",
       "        text-align: right;\n",
       "    }\n",
       "</style>\n",
       "<table border=\"1\" class=\"dataframe\">\n",
       "  <thead>\n",
       "    <tr style=\"text-align: right;\">\n",
       "      <th></th>\n",
       "      <th>order_id</th>\n",
       "      <th>x0_boleto</th>\n",
       "      <th>x0_credit_card</th>\n",
       "      <th>x0_debit_card</th>\n",
       "      <th>x0_not_defined</th>\n",
       "      <th>x0_voucher</th>\n",
       "    </tr>\n",
       "  </thead>\n",
       "  <tbody>\n",
       "    <tr>\n",
       "      <th>0</th>\n",
       "      <td>00010242fe8c5a6d1ba2dd792cb16214</td>\n",
       "      <td>0.0</td>\n",
       "      <td>1.0</td>\n",
       "      <td>0.0</td>\n",
       "      <td>0.0</td>\n",
       "      <td>0.0</td>\n",
       "    </tr>\n",
       "    <tr>\n",
       "      <th>1</th>\n",
       "      <td>00018f77f2f0320c557190d7a144bdd3</td>\n",
       "      <td>0.0</td>\n",
       "      <td>1.0</td>\n",
       "      <td>0.0</td>\n",
       "      <td>0.0</td>\n",
       "      <td>0.0</td>\n",
       "    </tr>\n",
       "    <tr>\n",
       "      <th>2</th>\n",
       "      <td>000229ec398224ef6ca0657da4fc703e</td>\n",
       "      <td>0.0</td>\n",
       "      <td>1.0</td>\n",
       "      <td>0.0</td>\n",
       "      <td>0.0</td>\n",
       "      <td>0.0</td>\n",
       "    </tr>\n",
       "    <tr>\n",
       "      <th>3</th>\n",
       "      <td>00024acbcdf0a6daa1e931b038114c75</td>\n",
       "      <td>0.0</td>\n",
       "      <td>1.0</td>\n",
       "      <td>0.0</td>\n",
       "      <td>0.0</td>\n",
       "      <td>0.0</td>\n",
       "    </tr>\n",
       "    <tr>\n",
       "      <th>4</th>\n",
       "      <td>00042b26cf59d7ce69dfabb4e55b4fd9</td>\n",
       "      <td>0.0</td>\n",
       "      <td>1.0</td>\n",
       "      <td>0.0</td>\n",
       "      <td>0.0</td>\n",
       "      <td>0.0</td>\n",
       "    </tr>\n",
       "  </tbody>\n",
       "</table>\n",
       "</div>"
      ],
      "text/plain": [
       "                           order_id  x0_boleto  x0_credit_card  x0_debit_card  \\\n",
       "0  00010242fe8c5a6d1ba2dd792cb16214        0.0             1.0            0.0   \n",
       "1  00018f77f2f0320c557190d7a144bdd3        0.0             1.0            0.0   \n",
       "2  000229ec398224ef6ca0657da4fc703e        0.0             1.0            0.0   \n",
       "3  00024acbcdf0a6daa1e931b038114c75        0.0             1.0            0.0   \n",
       "4  00042b26cf59d7ce69dfabb4e55b4fd9        0.0             1.0            0.0   \n",
       "\n",
       "   x0_not_defined  x0_voucher  \n",
       "0             0.0         0.0  \n",
       "1             0.0         0.0  \n",
       "2             0.0         0.0  \n",
       "3             0.0         0.0  \n",
       "4             0.0         0.0  "
      ]
     },
     "execution_count": 195,
     "metadata": {},
     "output_type": "execute_result"
    }
   ],
   "source": [
    "df_pay_type.head()"
   ]
  },
  {
   "cell_type": "code",
   "execution_count": 196,
   "metadata": {},
   "outputs": [
    {
     "data": {
      "text/plain": [
       "(99440, 6)"
      ]
     },
     "execution_count": 196,
     "metadata": {},
     "output_type": "execute_result"
    }
   ],
   "source": [
    "df_pay_type.shape"
   ]
  },
  {
   "cell_type": "code",
   "execution_count": 197,
   "metadata": {},
   "outputs": [
    {
     "data": {
      "text/plain": [
       "(99441, 10)"
      ]
     },
     "execution_count": 197,
     "metadata": {},
     "output_type": "execute_result"
    }
   ],
   "source": [
    "df_customers_orders.shape"
   ]
  },
  {
   "cell_type": "code",
   "execution_count": 198,
   "metadata": {},
   "outputs": [
    {
     "data": {
      "text/html": [
       "<div>\n",
       "<style scoped>\n",
       "    .dataframe tbody tr th:only-of-type {\n",
       "        vertical-align: middle;\n",
       "    }\n",
       "\n",
       "    .dataframe tbody tr th {\n",
       "        vertical-align: top;\n",
       "    }\n",
       "\n",
       "    .dataframe thead th {\n",
       "        text-align: right;\n",
       "    }\n",
       "</style>\n",
       "<table border=\"1\" class=\"dataframe\">\n",
       "  <thead>\n",
       "    <tr style=\"text-align: right;\">\n",
       "      <th></th>\n",
       "      <th>(purchase_date, min)</th>\n",
       "      <th>(purchase_date, max)</th>\n",
       "      <th>(order_id, nunique)</th>\n",
       "      <th>(product_id, count)</th>\n",
       "      <th>(price_total, mean)</th>\n",
       "      <th>(price_total, sum)</th>\n",
       "      <th>(price_per_cust, first)</th>\n",
       "      <th>(prod_nb_avg, first)</th>\n",
       "      <th>(score_mean_per_ord, mean)</th>\n",
       "      <th>(score_mean_per_cust, first)</th>\n",
       "      <th>(same_loc, sum)</th>\n",
       "      <th>(customer_u_zip_code_prefix, first)</th>\n",
       "      <th>nb_prod_diff</th>\n",
       "    </tr>\n",
       "    <tr>\n",
       "      <th>customer_unique_id</th>\n",
       "      <th></th>\n",
       "      <th></th>\n",
       "      <th></th>\n",
       "      <th></th>\n",
       "      <th></th>\n",
       "      <th></th>\n",
       "      <th></th>\n",
       "      <th></th>\n",
       "      <th></th>\n",
       "      <th></th>\n",
       "      <th></th>\n",
       "      <th></th>\n",
       "      <th></th>\n",
       "    </tr>\n",
       "  </thead>\n",
       "  <tbody>\n",
       "    <tr>\n",
       "      <th>0000366f3b9a7992bf8c76cfdf3221e2</th>\n",
       "      <td>2018-05-10</td>\n",
       "      <td>2018-05-10</td>\n",
       "      <td>1</td>\n",
       "      <td>1</td>\n",
       "      <td>141.90</td>\n",
       "      <td>141.90</td>\n",
       "      <td>141.90</td>\n",
       "      <td>1.0</td>\n",
       "      <td>5.0</td>\n",
       "      <td>5.0</td>\n",
       "      <td>0.0</td>\n",
       "      <td>7787</td>\n",
       "      <td>1</td>\n",
       "    </tr>\n",
       "    <tr>\n",
       "      <th>0000b849f77a49e4a4ce2b2a4ca5be3f</th>\n",
       "      <td>2018-05-07</td>\n",
       "      <td>2018-05-07</td>\n",
       "      <td>1</td>\n",
       "      <td>1</td>\n",
       "      <td>27.19</td>\n",
       "      <td>27.19</td>\n",
       "      <td>27.19</td>\n",
       "      <td>1.0</td>\n",
       "      <td>4.0</td>\n",
       "      <td>4.0</td>\n",
       "      <td>0.0</td>\n",
       "      <td>6053</td>\n",
       "      <td>1</td>\n",
       "    </tr>\n",
       "  </tbody>\n",
       "</table>\n",
       "</div>"
      ],
      "text/plain": [
       "                                 (purchase_date, min) (purchase_date, max)  \\\n",
       "customer_unique_id                                                           \n",
       "0000366f3b9a7992bf8c76cfdf3221e2           2018-05-10           2018-05-10   \n",
       "0000b849f77a49e4a4ce2b2a4ca5be3f           2018-05-07           2018-05-07   \n",
       "\n",
       "                                  (order_id, nunique)  (product_id, count)  \\\n",
       "customer_unique_id                                                           \n",
       "0000366f3b9a7992bf8c76cfdf3221e2                    1                    1   \n",
       "0000b849f77a49e4a4ce2b2a4ca5be3f                    1                    1   \n",
       "\n",
       "                                  (price_total, mean)  (price_total, sum)  \\\n",
       "customer_unique_id                                                          \n",
       "0000366f3b9a7992bf8c76cfdf3221e2               141.90              141.90   \n",
       "0000b849f77a49e4a4ce2b2a4ca5be3f                27.19               27.19   \n",
       "\n",
       "                                  (price_per_cust, first)  \\\n",
       "customer_unique_id                                          \n",
       "0000366f3b9a7992bf8c76cfdf3221e2                   141.90   \n",
       "0000b849f77a49e4a4ce2b2a4ca5be3f                    27.19   \n",
       "\n",
       "                                  (prod_nb_avg, first)  \\\n",
       "customer_unique_id                                       \n",
       "0000366f3b9a7992bf8c76cfdf3221e2                   1.0   \n",
       "0000b849f77a49e4a4ce2b2a4ca5be3f                   1.0   \n",
       "\n",
       "                                  (score_mean_per_ord, mean)  \\\n",
       "customer_unique_id                                             \n",
       "0000366f3b9a7992bf8c76cfdf3221e2                         5.0   \n",
       "0000b849f77a49e4a4ce2b2a4ca5be3f                         4.0   \n",
       "\n",
       "                                  (score_mean_per_cust, first)  \\\n",
       "customer_unique_id                                               \n",
       "0000366f3b9a7992bf8c76cfdf3221e2                           5.0   \n",
       "0000b849f77a49e4a4ce2b2a4ca5be3f                           4.0   \n",
       "\n",
       "                                  (same_loc, sum)  \\\n",
       "customer_unique_id                                  \n",
       "0000366f3b9a7992bf8c76cfdf3221e2              0.0   \n",
       "0000b849f77a49e4a4ce2b2a4ca5be3f              0.0   \n",
       "\n",
       "                                  (customer_u_zip_code_prefix, first)  \\\n",
       "customer_unique_id                                                      \n",
       "0000366f3b9a7992bf8c76cfdf3221e2                                 7787   \n",
       "0000b849f77a49e4a4ce2b2a4ca5be3f                                 6053   \n",
       "\n",
       "                                  nb_prod_diff  \n",
       "customer_unique_id                              \n",
       "0000366f3b9a7992bf8c76cfdf3221e2             1  \n",
       "0000b849f77a49e4a4ce2b2a4ca5be3f             1  "
      ]
     },
     "execution_count": 198,
     "metadata": {},
     "output_type": "execute_result"
    }
   ],
   "source": [
    "df1.head(2)"
   ]
  },
  {
   "cell_type": "markdown",
   "metadata": {},
   "source": [
    "On fusionne avec **df_customers_orders** afin d'obtenir le code client."
   ]
  },
  {
   "cell_type": "code",
   "execution_count": 199,
   "metadata": {},
   "outputs": [],
   "source": [
    "df_pay_type = df_pay_type.merge(df_customers_orders[['customer_unique_id','order_id']], left_on = 'order_id', right_on = 'order_id', how = 'right')"
   ]
  },
  {
   "cell_type": "code",
   "execution_count": 200,
   "metadata": {},
   "outputs": [
    {
     "data": {
      "text/html": [
       "<div>\n",
       "<style scoped>\n",
       "    .dataframe tbody tr th:only-of-type {\n",
       "        vertical-align: middle;\n",
       "    }\n",
       "\n",
       "    .dataframe tbody tr th {\n",
       "        vertical-align: top;\n",
       "    }\n",
       "\n",
       "    .dataframe thead th {\n",
       "        text-align: right;\n",
       "    }\n",
       "</style>\n",
       "<table border=\"1\" class=\"dataframe\">\n",
       "  <thead>\n",
       "    <tr style=\"text-align: right;\">\n",
       "      <th></th>\n",
       "      <th>order_id</th>\n",
       "      <th>x0_boleto</th>\n",
       "      <th>x0_credit_card</th>\n",
       "      <th>x0_debit_card</th>\n",
       "      <th>x0_not_defined</th>\n",
       "      <th>x0_voucher</th>\n",
       "      <th>customer_unique_id</th>\n",
       "    </tr>\n",
       "  </thead>\n",
       "  <tbody>\n",
       "    <tr>\n",
       "      <th>0</th>\n",
       "      <td>00010242fe8c5a6d1ba2dd792cb16214</td>\n",
       "      <td>0.0</td>\n",
       "      <td>1.0</td>\n",
       "      <td>0.0</td>\n",
       "      <td>0.0</td>\n",
       "      <td>0.0</td>\n",
       "      <td>871766c5855e863f6eccc05f988b23cb</td>\n",
       "    </tr>\n",
       "    <tr>\n",
       "      <th>1</th>\n",
       "      <td>00018f77f2f0320c557190d7a144bdd3</td>\n",
       "      <td>0.0</td>\n",
       "      <td>1.0</td>\n",
       "      <td>0.0</td>\n",
       "      <td>0.0</td>\n",
       "      <td>0.0</td>\n",
       "      <td>eb28e67c4c0b83846050ddfb8a35d051</td>\n",
       "    </tr>\n",
       "  </tbody>\n",
       "</table>\n",
       "</div>"
      ],
      "text/plain": [
       "                           order_id  x0_boleto  x0_credit_card  x0_debit_card  \\\n",
       "0  00010242fe8c5a6d1ba2dd792cb16214        0.0             1.0            0.0   \n",
       "1  00018f77f2f0320c557190d7a144bdd3        0.0             1.0            0.0   \n",
       "\n",
       "   x0_not_defined  x0_voucher                customer_unique_id  \n",
       "0             0.0         0.0  871766c5855e863f6eccc05f988b23cb  \n",
       "1             0.0         0.0  eb28e67c4c0b83846050ddfb8a35d051  "
      ]
     },
     "execution_count": 200,
     "metadata": {},
     "output_type": "execute_result"
    }
   ],
   "source": [
    "df_pay_type.head(2)"
   ]
  },
  {
   "cell_type": "code",
   "execution_count": 201,
   "metadata": {},
   "outputs": [
    {
     "data": {
      "text/html": [
       "<div>\n",
       "<style scoped>\n",
       "    .dataframe tbody tr th:only-of-type {\n",
       "        vertical-align: middle;\n",
       "    }\n",
       "\n",
       "    .dataframe tbody tr th {\n",
       "        vertical-align: top;\n",
       "    }\n",
       "\n",
       "    .dataframe thead th {\n",
       "        text-align: right;\n",
       "    }\n",
       "</style>\n",
       "<table border=\"1\" class=\"dataframe\">\n",
       "  <thead>\n",
       "    <tr style=\"text-align: right;\">\n",
       "      <th></th>\n",
       "      <th>x0_boleto</th>\n",
       "      <th>x0_credit_card</th>\n",
       "      <th>x0_debit_card</th>\n",
       "      <th>x0_not_defined</th>\n",
       "      <th>x0_voucher</th>\n",
       "      <th>customer_unique_id</th>\n",
       "    </tr>\n",
       "  </thead>\n",
       "  <tbody>\n",
       "    <tr>\n",
       "      <th>0</th>\n",
       "      <td>0.0</td>\n",
       "      <td>1.0</td>\n",
       "      <td>0.0</td>\n",
       "      <td>0.0</td>\n",
       "      <td>0.0</td>\n",
       "      <td>871766c5855e863f6eccc05f988b23cb</td>\n",
       "    </tr>\n",
       "    <tr>\n",
       "      <th>1</th>\n",
       "      <td>0.0</td>\n",
       "      <td>1.0</td>\n",
       "      <td>0.0</td>\n",
       "      <td>0.0</td>\n",
       "      <td>0.0</td>\n",
       "      <td>eb28e67c4c0b83846050ddfb8a35d051</td>\n",
       "    </tr>\n",
       "    <tr>\n",
       "      <th>2</th>\n",
       "      <td>0.0</td>\n",
       "      <td>1.0</td>\n",
       "      <td>0.0</td>\n",
       "      <td>0.0</td>\n",
       "      <td>0.0</td>\n",
       "      <td>3818d81c6709e39d06b2738a8d3a2474</td>\n",
       "    </tr>\n",
       "    <tr>\n",
       "      <th>3</th>\n",
       "      <td>0.0</td>\n",
       "      <td>1.0</td>\n",
       "      <td>0.0</td>\n",
       "      <td>0.0</td>\n",
       "      <td>0.0</td>\n",
       "      <td>af861d436cfc08b2c2ddefd0ba074622</td>\n",
       "    </tr>\n",
       "    <tr>\n",
       "      <th>4</th>\n",
       "      <td>0.0</td>\n",
       "      <td>1.0</td>\n",
       "      <td>0.0</td>\n",
       "      <td>0.0</td>\n",
       "      <td>0.0</td>\n",
       "      <td>64b576fb70d441e8f1b2d7d446e483c5</td>\n",
       "    </tr>\n",
       "  </tbody>\n",
       "</table>\n",
       "</div>"
      ],
      "text/plain": [
       "   x0_boleto  x0_credit_card  x0_debit_card  x0_not_defined  x0_voucher  \\\n",
       "0        0.0             1.0            0.0             0.0         0.0   \n",
       "1        0.0             1.0            0.0             0.0         0.0   \n",
       "2        0.0             1.0            0.0             0.0         0.0   \n",
       "3        0.0             1.0            0.0             0.0         0.0   \n",
       "4        0.0             1.0            0.0             0.0         0.0   \n",
       "\n",
       "                 customer_unique_id  \n",
       "0  871766c5855e863f6eccc05f988b23cb  \n",
       "1  eb28e67c4c0b83846050ddfb8a35d051  \n",
       "2  3818d81c6709e39d06b2738a8d3a2474  \n",
       "3  af861d436cfc08b2c2ddefd0ba074622  \n",
       "4  64b576fb70d441e8f1b2d7d446e483c5  "
      ]
     },
     "execution_count": 201,
     "metadata": {},
     "output_type": "execute_result"
    }
   ],
   "source": [
    "del df_pay_type['order_id']\n",
    "df_pay_type.head()"
   ]
  },
  {
   "cell_type": "markdown",
   "metadata": {},
   "source": [
    "On regroupe les données par client et on agrège sur la valeur max de la variable type de paiement.\n",
    "\n",
    "Ainsi, on assigne à chaque client les types de paiement utilisés pour l'ensemble de ses commandes."
   ]
  },
  {
   "cell_type": "code",
   "execution_count": 202,
   "metadata": {},
   "outputs": [
    {
     "data": {
      "text/plain": [
       "(99441, 6)"
      ]
     },
     "execution_count": 202,
     "metadata": {},
     "output_type": "execute_result"
    }
   ],
   "source": [
    "df_pay_type.shape"
   ]
  },
  {
   "cell_type": "code",
   "execution_count": 203,
   "metadata": {},
   "outputs": [
    {
     "data": {
      "text/html": [
       "<div>\n",
       "<style scoped>\n",
       "    .dataframe tbody tr th:only-of-type {\n",
       "        vertical-align: middle;\n",
       "    }\n",
       "\n",
       "    .dataframe tbody tr th {\n",
       "        vertical-align: top;\n",
       "    }\n",
       "\n",
       "    .dataframe thead th {\n",
       "        text-align: right;\n",
       "    }\n",
       "</style>\n",
       "<table border=\"1\" class=\"dataframe\">\n",
       "  <thead>\n",
       "    <tr style=\"text-align: right;\">\n",
       "      <th></th>\n",
       "      <th>x0_boleto</th>\n",
       "      <th>x0_credit_card</th>\n",
       "      <th>x0_debit_card</th>\n",
       "      <th>x0_not_defined</th>\n",
       "      <th>x0_voucher</th>\n",
       "    </tr>\n",
       "    <tr>\n",
       "      <th>customer_unique_id</th>\n",
       "      <th></th>\n",
       "      <th></th>\n",
       "      <th></th>\n",
       "      <th></th>\n",
       "      <th></th>\n",
       "    </tr>\n",
       "  </thead>\n",
       "  <tbody>\n",
       "    <tr>\n",
       "      <th>0000366f3b9a7992bf8c76cfdf3221e2</th>\n",
       "      <td>0.0</td>\n",
       "      <td>1.0</td>\n",
       "      <td>0.0</td>\n",
       "      <td>0.0</td>\n",
       "      <td>0.0</td>\n",
       "    </tr>\n",
       "    <tr>\n",
       "      <th>0000b849f77a49e4a4ce2b2a4ca5be3f</th>\n",
       "      <td>0.0</td>\n",
       "      <td>1.0</td>\n",
       "      <td>0.0</td>\n",
       "      <td>0.0</td>\n",
       "      <td>0.0</td>\n",
       "    </tr>\n",
       "    <tr>\n",
       "      <th>0000f46a3911fa3c0805444483337064</th>\n",
       "      <td>0.0</td>\n",
       "      <td>1.0</td>\n",
       "      <td>0.0</td>\n",
       "      <td>0.0</td>\n",
       "      <td>0.0</td>\n",
       "    </tr>\n",
       "    <tr>\n",
       "      <th>0000f6ccb0745a6a4b88665a16c9f078</th>\n",
       "      <td>0.0</td>\n",
       "      <td>1.0</td>\n",
       "      <td>0.0</td>\n",
       "      <td>0.0</td>\n",
       "      <td>0.0</td>\n",
       "    </tr>\n",
       "    <tr>\n",
       "      <th>0004aac84e0df4da2b147fca70cf8255</th>\n",
       "      <td>0.0</td>\n",
       "      <td>1.0</td>\n",
       "      <td>0.0</td>\n",
       "      <td>0.0</td>\n",
       "      <td>0.0</td>\n",
       "    </tr>\n",
       "  </tbody>\n",
       "</table>\n",
       "</div>"
      ],
      "text/plain": [
       "                                  x0_boleto  x0_credit_card  x0_debit_card  \\\n",
       "customer_unique_id                                                           \n",
       "0000366f3b9a7992bf8c76cfdf3221e2        0.0             1.0            0.0   \n",
       "0000b849f77a49e4a4ce2b2a4ca5be3f        0.0             1.0            0.0   \n",
       "0000f46a3911fa3c0805444483337064        0.0             1.0            0.0   \n",
       "0000f6ccb0745a6a4b88665a16c9f078        0.0             1.0            0.0   \n",
       "0004aac84e0df4da2b147fca70cf8255        0.0             1.0            0.0   \n",
       "\n",
       "                                  x0_not_defined  x0_voucher  \n",
       "customer_unique_id                                            \n",
       "0000366f3b9a7992bf8c76cfdf3221e2             0.0         0.0  \n",
       "0000b849f77a49e4a4ce2b2a4ca5be3f             0.0         0.0  \n",
       "0000f46a3911fa3c0805444483337064             0.0         0.0  \n",
       "0000f6ccb0745a6a4b88665a16c9f078             0.0         0.0  \n",
       "0004aac84e0df4da2b147fca70cf8255             0.0         0.0  "
      ]
     },
     "execution_count": 203,
     "metadata": {},
     "output_type": "execute_result"
    }
   ],
   "source": [
    "df_pay_type = df_pay_type.groupby('customer_unique_id').max()\n",
    "df_pay_type.head()"
   ]
  },
  {
   "cell_type": "markdown",
   "metadata": {},
   "source": [
    "On a vu plus haut qu'une commande pouvait ne pas avoir de paiments associé.\n",
    "\n",
    "La dataframe **df_pay_type** contient donc nécessairement une ou plusieurs lignes vides (NaN)."
   ]
  },
  {
   "cell_type": "code",
   "execution_count": 204,
   "metadata": {},
   "outputs": [
    {
     "data": {
      "text/html": [
       "<div>\n",
       "<style scoped>\n",
       "    .dataframe tbody tr th:only-of-type {\n",
       "        vertical-align: middle;\n",
       "    }\n",
       "\n",
       "    .dataframe tbody tr th {\n",
       "        vertical-align: top;\n",
       "    }\n",
       "\n",
       "    .dataframe thead th {\n",
       "        text-align: right;\n",
       "    }\n",
       "</style>\n",
       "<table border=\"1\" class=\"dataframe\">\n",
       "  <thead>\n",
       "    <tr style=\"text-align: right;\">\n",
       "      <th></th>\n",
       "      <th>x0_boleto</th>\n",
       "      <th>x0_credit_card</th>\n",
       "      <th>x0_debit_card</th>\n",
       "      <th>x0_not_defined</th>\n",
       "      <th>x0_voucher</th>\n",
       "    </tr>\n",
       "    <tr>\n",
       "      <th>customer_unique_id</th>\n",
       "      <th></th>\n",
       "      <th></th>\n",
       "      <th></th>\n",
       "      <th></th>\n",
       "      <th></th>\n",
       "    </tr>\n",
       "  </thead>\n",
       "  <tbody>\n",
       "    <tr>\n",
       "      <th>830d5b7aaa3b6f1e9ad63703bec97d23</th>\n",
       "      <td>NaN</td>\n",
       "      <td>NaN</td>\n",
       "      <td>NaN</td>\n",
       "      <td>NaN</td>\n",
       "      <td>NaN</td>\n",
       "    </tr>\n",
       "  </tbody>\n",
       "</table>\n",
       "</div>"
      ],
      "text/plain": [
       "                                  x0_boleto  x0_credit_card  x0_debit_card  \\\n",
       "customer_unique_id                                                           \n",
       "830d5b7aaa3b6f1e9ad63703bec97d23        NaN             NaN            NaN   \n",
       "\n",
       "                                  x0_not_defined  x0_voucher  \n",
       "customer_unique_id                                            \n",
       "830d5b7aaa3b6f1e9ad63703bec97d23             NaN         NaN  "
      ]
     },
     "execution_count": 204,
     "metadata": {},
     "output_type": "execute_result"
    }
   ],
   "source": [
    "df_pay_type[df_pay_type['x0_boleto'].isna()]"
   ]
  },
  {
   "cell_type": "markdown",
   "metadata": {},
   "source": [
    "On remplace les valeurs nulles par 0, ainsi un client dont aucune commande n'a fait l'objet de paiement se verra assigner 0 pour tous les types de paiements."
   ]
  },
  {
   "cell_type": "code",
   "execution_count": 205,
   "metadata": {},
   "outputs": [],
   "source": [
    "df_pay_type.fillna(0, inplace=True)"
   ]
  },
  {
   "cell_type": "code",
   "execution_count": 206,
   "metadata": {},
   "outputs": [
    {
     "data": {
      "text/plain": [
       "0"
      ]
     },
     "execution_count": 206,
     "metadata": {},
     "output_type": "execute_result"
    }
   ],
   "source": [
    "df_pay_type.isna().sum().sum()"
   ]
  },
  {
   "cell_type": "code",
   "execution_count": 207,
   "metadata": {},
   "outputs": [
    {
     "data": {
      "text/html": [
       "<div>\n",
       "<style scoped>\n",
       "    .dataframe tbody tr th:only-of-type {\n",
       "        vertical-align: middle;\n",
       "    }\n",
       "\n",
       "    .dataframe tbody tr th {\n",
       "        vertical-align: top;\n",
       "    }\n",
       "\n",
       "    .dataframe thead th {\n",
       "        text-align: right;\n",
       "    }\n",
       "</style>\n",
       "<table border=\"1\" class=\"dataframe\">\n",
       "  <thead>\n",
       "    <tr style=\"text-align: right;\">\n",
       "      <th></th>\n",
       "      <th>x0_boleto</th>\n",
       "      <th>x0_credit_card</th>\n",
       "      <th>x0_debit_card</th>\n",
       "      <th>x0_not_defined</th>\n",
       "      <th>x0_voucher</th>\n",
       "    </tr>\n",
       "    <tr>\n",
       "      <th>customer_unique_id</th>\n",
       "      <th></th>\n",
       "      <th></th>\n",
       "      <th></th>\n",
       "      <th></th>\n",
       "      <th></th>\n",
       "    </tr>\n",
       "  </thead>\n",
       "  <tbody>\n",
       "    <tr>\n",
       "      <th>0000366f3b9a7992bf8c76cfdf3221e2</th>\n",
       "      <td>0.0</td>\n",
       "      <td>1.0</td>\n",
       "      <td>0.0</td>\n",
       "      <td>0.0</td>\n",
       "      <td>0.0</td>\n",
       "    </tr>\n",
       "    <tr>\n",
       "      <th>0000b849f77a49e4a4ce2b2a4ca5be3f</th>\n",
       "      <td>0.0</td>\n",
       "      <td>1.0</td>\n",
       "      <td>0.0</td>\n",
       "      <td>0.0</td>\n",
       "      <td>0.0</td>\n",
       "    </tr>\n",
       "  </tbody>\n",
       "</table>\n",
       "</div>"
      ],
      "text/plain": [
       "                                  x0_boleto  x0_credit_card  x0_debit_card  \\\n",
       "customer_unique_id                                                           \n",
       "0000366f3b9a7992bf8c76cfdf3221e2        0.0             1.0            0.0   \n",
       "0000b849f77a49e4a4ce2b2a4ca5be3f        0.0             1.0            0.0   \n",
       "\n",
       "                                  x0_not_defined  x0_voucher  \n",
       "customer_unique_id                                            \n",
       "0000366f3b9a7992bf8c76cfdf3221e2             0.0         0.0  \n",
       "0000b849f77a49e4a4ce2b2a4ca5be3f             0.0         0.0  "
      ]
     },
     "execution_count": 207,
     "metadata": {},
     "output_type": "execute_result"
    }
   ],
   "source": [
    "df_pay_type.head(2)"
   ]
  },
  {
   "cell_type": "code",
   "execution_count": 208,
   "metadata": {},
   "outputs": [
    {
     "data": {
      "text/plain": [
       "(96096, 5)"
      ]
     },
     "execution_count": 208,
     "metadata": {},
     "output_type": "execute_result"
    }
   ],
   "source": [
    "df_pay_type.shape"
   ]
  },
  {
   "cell_type": "code",
   "execution_count": 209,
   "metadata": {},
   "outputs": [
    {
     "name": "stdout",
     "output_type": "stream",
     "text": [
      "Stored 'df_pay_type' (DataFrame)\n"
     ]
    }
   ],
   "source": [
    "%store df_pay_type"
   ]
  },
  {
   "cell_type": "code",
   "execution_count": 210,
   "metadata": {},
   "outputs": [
    {
     "name": "stdout",
     "output_type": "stream",
     "text": [
      "Durée de l'opération 'Encodage - Types de paiement par client': 1.1 s\n",
      "Durée totale de traitement: 00 h 01 m 48 s\n"
     ]
    }
   ],
   "source": [
    "time_calc('Encodage - Types de paiement par client')\n",
    "t = time.time()"
   ]
  },
  {
   "cell_type": "markdown",
   "metadata": {},
   "source": [
    "On calcule le nombre de types de paiements différents utilisés par les clients."
   ]
  },
  {
   "cell_type": "code",
   "execution_count": 211,
   "metadata": {},
   "outputs": [],
   "source": [
    "df_pay_type['nb_pay_type_diff'] = df_pay_type.sum(axis = 1)"
   ]
  },
  {
   "cell_type": "code",
   "execution_count": 212,
   "metadata": {},
   "outputs": [
    {
     "data": {
      "text/plain": [
       "[('purchase_date', 'min'),\n",
       " ('purchase_date', 'max'),\n",
       " ('order_id', 'nunique'),\n",
       " ('product_id', 'count'),\n",
       " ('price_total', 'mean'),\n",
       " ('price_total', 'sum'),\n",
       " ('price_per_cust', 'first'),\n",
       " ('prod_nb_avg', 'first'),\n",
       " ('score_mean_per_ord', 'mean'),\n",
       " ('score_mean_per_cust', 'first'),\n",
       " ('same_loc', 'sum'),\n",
       " ('customer_u_zip_code_prefix', 'first'),\n",
       " 'nb_prod_diff',\n",
       " 'nb_pay_type_diff']"
      ]
     },
     "execution_count": 212,
     "metadata": {},
     "output_type": "execute_result"
    }
   ],
   "source": [
    "df1 = df1.merge(df_pay_type[['nb_pay_type_diff']], left_index=True, right_index=True)\n",
    "df1.columns.tolist()"
   ]
  },
  {
   "cell_type": "code",
   "execution_count": 213,
   "metadata": {},
   "outputs": [],
   "source": [
    "df1['nb_pay_type_diff'] = np.int64(df1['nb_pay_type_diff'])"
   ]
  },
  {
   "cell_type": "code",
   "execution_count": 214,
   "metadata": {},
   "outputs": [
    {
     "data": {
      "text/plain": [
       "[('purchase_date', 'min'),\n",
       " ('purchase_date', 'max'),\n",
       " ('order_id', 'nunique'),\n",
       " ('product_id', 'count'),\n",
       " ('price_total', 'mean'),\n",
       " ('price_total', 'sum'),\n",
       " ('price_per_cust', 'first'),\n",
       " ('prod_nb_avg', 'first'),\n",
       " ('score_mean_per_ord', 'mean'),\n",
       " ('score_mean_per_cust', 'first'),\n",
       " ('same_loc', 'sum'),\n",
       " ('customer_u_zip_code_prefix', 'first'),\n",
       " 'nb_prod_diff',\n",
       " 'nb_pay_type_diff']"
      ]
     },
     "execution_count": 214,
     "metadata": {},
     "output_type": "execute_result"
    }
   ],
   "source": [
    "df1.columns.tolist()"
   ]
  },
  {
   "cell_type": "code",
   "execution_count": 215,
   "metadata": {},
   "outputs": [
    {
     "data": {
      "text/plain": [
       "(95420, 14)"
      ]
     },
     "execution_count": 215,
     "metadata": {},
     "output_type": "execute_result"
    }
   ],
   "source": [
    "df1.shape"
   ]
  },
  {
   "cell_type": "code",
   "execution_count": 216,
   "metadata": {},
   "outputs": [
    {
     "name": "stdout",
     "output_type": "stream",
     "text": [
      "Durée de l'opération 'Nombre de types de paiement par client': 0.2 s\n",
      "Durée totale de traitement: 00 h 01 m 48 s\n"
     ]
    }
   ],
   "source": [
    "time_calc('Nombre de types de paiement par client')\n",
    "t = time.time()"
   ]
  },
  {
   "cell_type": "markdown",
   "metadata": {},
   "source": [
    "##### Base de client finale (df1)"
   ]
  },
  {
   "cell_type": "markdown",
   "metadata": {},
   "source": [
    "On mémorise la liste des variables de **df1** dans la liste **list_rfm**."
   ]
  },
  {
   "cell_type": "code",
   "execution_count": 217,
   "metadata": {},
   "outputs": [],
   "source": [
    "list_rfm = df1.columns.tolist()"
   ]
  },
  {
   "cell_type": "code",
   "execution_count": 218,
   "metadata": {},
   "outputs": [
    {
     "data": {
      "text/plain": [
       "[('purchase_date', 'min'),\n",
       " ('purchase_date', 'max'),\n",
       " ('order_id', 'nunique'),\n",
       " ('product_id', 'count'),\n",
       " ('price_total', 'mean'),\n",
       " ('price_total', 'sum'),\n",
       " ('price_per_cust', 'first'),\n",
       " ('prod_nb_avg', 'first'),\n",
       " ('score_mean_per_ord', 'mean'),\n",
       " ('score_mean_per_cust', 'first'),\n",
       " ('same_loc', 'sum'),\n",
       " ('customer_u_zip_code_prefix', 'first'),\n",
       " 'nb_prod_diff',\n",
       " 'nb_pay_type_diff']"
      ]
     },
     "execution_count": 218,
     "metadata": {},
     "output_type": "execute_result"
    }
   ],
   "source": [
    "list_rfm"
   ]
  },
  {
   "cell_type": "markdown",
   "metadata": {},
   "source": [
    "On stocke la base de clients **df1** et la liste **list_rfm** pour usage ultérieur lors de la segmentation RFM et du clustering."
   ]
  },
  {
   "cell_type": "code",
   "execution_count": 219,
   "metadata": {},
   "outputs": [
    {
     "name": "stdout",
     "output_type": "stream",
     "text": [
      "Stored 'df1' (DataFrame)\n",
      "Stored 'list_rfm' (list)\n"
     ]
    }
   ],
   "source": [
    "%store df1\n",
    "%store list_rfm"
   ]
  },
  {
   "cell_type": "code",
   "execution_count": 220,
   "metadata": {},
   "outputs": [
    {
     "name": "stdout",
     "output_type": "stream",
     "text": [
      "Durée de l'opération 'Base de clients finale(df1)': 0.16 s\n",
      "Durée totale de traitement: 00 h 01 m 48 s\n"
     ]
    }
   ],
   "source": [
    "time_calc('Base de clients finale(df1)')\n",
    "t = time.time()"
   ]
  },
  {
   "cell_type": "markdown",
   "metadata": {},
   "source": [
    "### Fonctions de recherche par client <a class=\"anchor\" id=\"fon_rec\"></a>"
   ]
  },
  {
   "cell_type": "markdown",
   "metadata": {},
   "source": [
    "On créé plusieurs fonctions permettant d'afficher les données relatives à un client."
   ]
  },
  {
   "cell_type": "code",
   "execution_count": 221,
   "metadata": {},
   "outputs": [],
   "source": [
    "list_cust_search = ['customer_unique_id', # Numéro de client unique                    \n",
    "\n",
    "                    'order_id', # Numéro de commande\n",
    "                    'purchase_date', # Date d'achat (liée à la commande)\n",
    "                    #'order_status',\n",
    "                    'order_item_id',\n",
    "                    'product_id',\n",
    "                    'product_category',\n",
    "                    'price_total', # Prix total du produit (prix produit + frais de livraison)\n",
    "                    \n",
    "                    'score_mean_per_ord', # Review Score moyen par commande\n",
    "                    'score_mean_per_cust', # Review Score moyen par client\n",
    "                    \n",
    "                    'seller_id',\n",
    "                    \n",
    "                    'customer_u_zip_code_prefix', # Localisation des clients uniques                    \n",
    "                    'customer_zip_code_prefix', # Localisation de livraison (liée à la commande)\n",
    "                    'seller_zip_code_prefix', # Localisation du vendeur (liée à la ligne de commande)              \n",
    "                    'same_loc', # Localisation de livraison = localisation du vendeur (par ligne de commande)\n",
    "                    ] \n",
    "\n",
    "# Résultats par client\n",
    "\n",
    "def cust_search_1(customer_unique_id, order_sort = 0, date_sort = 0):\n",
    "    \n",
    "    df_cust_result_1 = df[df['customer_unique_id'] == customer_unique_id][list_cust_search]\n",
    "    \n",
    "    if order_sort == 0:\n",
    "        df_cust_result_1 = df_cust_result_1.sort_values('order_id')\n",
    "    elif order_sort == 1:\n",
    "        df_cust_result_1 = df_cust_result_1.sort_values('order_id', ascending = False)\n",
    "    if date_sort == 0:\n",
    "        df_cust_result_1 = df_cust_result_1.sort_values('purchase_date')\n",
    "    elif date_sort == 1:\n",
    "        df_cust_result_1 = df_cust_result_1.sort_values('purchase_date', ascending = False)\n",
    "            \n",
    "    print ('Nombre de lignes:', df_cust_result_1.shape[0])\n",
    "    \n",
    "    return df_cust_result_1\n",
    "\n",
    "# Résultats regroupés par client\n",
    "\n",
    "def cust_search_2(customer_unique_id):\n",
    "    \n",
    "    df1b = df1.reset_index()\n",
    "    df1b.columns = ['customer_unique_id','start','end','number of orders','number of products','average price','total price',\n",
    "                    'average basket','product number average','score_mean_per_order','mean score','seller loc = delivery loc',\n",
    "                    'customer loc','number of different products','nb_pay_type_diff']\n",
    "    df1b = df1b[['customer_unique_id','start','end','number of orders','number of products','product number average',\n",
    "                 'number of different products','average basket','average price','total price','nb_pay_type_diff',\n",
    "                 'seller loc = delivery loc','mean score','customer loc']]\n",
    "    \n",
    "    df_cust_result_2 = df1b[df1b['customer_unique_id'] == customer_unique_id]\n",
    "    \n",
    "    return df_cust_result_2.T"
   ]
  },
  {
   "cell_type": "markdown",
   "metadata": {},
   "source": [
    "**Recherche client 1**"
   ]
  },
  {
   "cell_type": "code",
   "execution_count": 222,
   "metadata": {},
   "outputs": [
    {
     "name": "stdout",
     "output_type": "stream",
     "text": [
      "Nombre de lignes: 8\n"
     ]
    },
    {
     "data": {
      "text/html": [
       "<div>\n",
       "<style scoped>\n",
       "    .dataframe tbody tr th:only-of-type {\n",
       "        vertical-align: middle;\n",
       "    }\n",
       "\n",
       "    .dataframe tbody tr th {\n",
       "        vertical-align: top;\n",
       "    }\n",
       "\n",
       "    .dataframe thead th {\n",
       "        text-align: right;\n",
       "    }\n",
       "</style>\n",
       "<table border=\"1\" class=\"dataframe\">\n",
       "  <thead>\n",
       "    <tr style=\"text-align: right;\">\n",
       "      <th></th>\n",
       "      <th>customer_unique_id</th>\n",
       "      <th>order_id</th>\n",
       "      <th>purchase_date</th>\n",
       "      <th>order_item_id</th>\n",
       "      <th>product_id</th>\n",
       "      <th>product_category</th>\n",
       "      <th>price_total</th>\n",
       "      <th>score_mean_per_ord</th>\n",
       "      <th>score_mean_per_cust</th>\n",
       "      <th>seller_id</th>\n",
       "      <th>customer_u_zip_code_prefix</th>\n",
       "      <th>customer_zip_code_prefix</th>\n",
       "      <th>seller_zip_code_prefix</th>\n",
       "      <th>same_loc</th>\n",
       "    </tr>\n",
       "  </thead>\n",
       "  <tbody>\n",
       "    <tr>\n",
       "      <th>4494</th>\n",
       "      <td>0a0a92112bd4c708ca5fde585afaa872</td>\n",
       "      <td>03caa2c082116e1d31e67e9ae3700499</td>\n",
       "      <td>2017-09-29</td>\n",
       "      <td>1</td>\n",
       "      <td>5769ef0a239114ac3a854af00df129e4</td>\n",
       "      <td>fixed_telephony</td>\n",
       "      <td>1708.01</td>\n",
       "      <td>1.0</td>\n",
       "      <td>1.0</td>\n",
       "      <td>b37c4c02bda3161a7546a4e6d222d5b2</td>\n",
       "      <td>20080</td>\n",
       "      <td>20080</td>\n",
       "      <td>3667</td>\n",
       "      <td>False</td>\n",
       "    </tr>\n",
       "    <tr>\n",
       "      <th>4495</th>\n",
       "      <td>0a0a92112bd4c708ca5fde585afaa872</td>\n",
       "      <td>03caa2c082116e1d31e67e9ae3700499</td>\n",
       "      <td>2017-09-29</td>\n",
       "      <td>2</td>\n",
       "      <td>5769ef0a239114ac3a854af00df129e4</td>\n",
       "      <td>fixed_telephony</td>\n",
       "      <td>1708.01</td>\n",
       "      <td>1.0</td>\n",
       "      <td>1.0</td>\n",
       "      <td>b37c4c02bda3161a7546a4e6d222d5b2</td>\n",
       "      <td>20080</td>\n",
       "      <td>20080</td>\n",
       "      <td>3667</td>\n",
       "      <td>False</td>\n",
       "    </tr>\n",
       "    <tr>\n",
       "      <th>4496</th>\n",
       "      <td>0a0a92112bd4c708ca5fde585afaa872</td>\n",
       "      <td>03caa2c082116e1d31e67e9ae3700499</td>\n",
       "      <td>2017-09-29</td>\n",
       "      <td>3</td>\n",
       "      <td>5769ef0a239114ac3a854af00df129e4</td>\n",
       "      <td>fixed_telephony</td>\n",
       "      <td>1708.01</td>\n",
       "      <td>1.0</td>\n",
       "      <td>1.0</td>\n",
       "      <td>b37c4c02bda3161a7546a4e6d222d5b2</td>\n",
       "      <td>20080</td>\n",
       "      <td>20080</td>\n",
       "      <td>3667</td>\n",
       "      <td>False</td>\n",
       "    </tr>\n",
       "    <tr>\n",
       "      <th>4497</th>\n",
       "      <td>0a0a92112bd4c708ca5fde585afaa872</td>\n",
       "      <td>03caa2c082116e1d31e67e9ae3700499</td>\n",
       "      <td>2017-09-29</td>\n",
       "      <td>4</td>\n",
       "      <td>5769ef0a239114ac3a854af00df129e4</td>\n",
       "      <td>fixed_telephony</td>\n",
       "      <td>1708.01</td>\n",
       "      <td>1.0</td>\n",
       "      <td>1.0</td>\n",
       "      <td>b37c4c02bda3161a7546a4e6d222d5b2</td>\n",
       "      <td>20080</td>\n",
       "      <td>20080</td>\n",
       "      <td>3667</td>\n",
       "      <td>False</td>\n",
       "    </tr>\n",
       "    <tr>\n",
       "      <th>4498</th>\n",
       "      <td>0a0a92112bd4c708ca5fde585afaa872</td>\n",
       "      <td>03caa2c082116e1d31e67e9ae3700499</td>\n",
       "      <td>2017-09-29</td>\n",
       "      <td>5</td>\n",
       "      <td>5769ef0a239114ac3a854af00df129e4</td>\n",
       "      <td>fixed_telephony</td>\n",
       "      <td>1708.01</td>\n",
       "      <td>1.0</td>\n",
       "      <td>1.0</td>\n",
       "      <td>b37c4c02bda3161a7546a4e6d222d5b2</td>\n",
       "      <td>20080</td>\n",
       "      <td>20080</td>\n",
       "      <td>3667</td>\n",
       "      <td>False</td>\n",
       "    </tr>\n",
       "    <tr>\n",
       "      <th>4499</th>\n",
       "      <td>0a0a92112bd4c708ca5fde585afaa872</td>\n",
       "      <td>03caa2c082116e1d31e67e9ae3700499</td>\n",
       "      <td>2017-09-29</td>\n",
       "      <td>6</td>\n",
       "      <td>5769ef0a239114ac3a854af00df129e4</td>\n",
       "      <td>fixed_telephony</td>\n",
       "      <td>1708.01</td>\n",
       "      <td>1.0</td>\n",
       "      <td>1.0</td>\n",
       "      <td>b37c4c02bda3161a7546a4e6d222d5b2</td>\n",
       "      <td>20080</td>\n",
       "      <td>20080</td>\n",
       "      <td>3667</td>\n",
       "      <td>False</td>\n",
       "    </tr>\n",
       "    <tr>\n",
       "      <th>4500</th>\n",
       "      <td>0a0a92112bd4c708ca5fde585afaa872</td>\n",
       "      <td>03caa2c082116e1d31e67e9ae3700499</td>\n",
       "      <td>2017-09-29</td>\n",
       "      <td>7</td>\n",
       "      <td>5769ef0a239114ac3a854af00df129e4</td>\n",
       "      <td>fixed_telephony</td>\n",
       "      <td>1708.01</td>\n",
       "      <td>1.0</td>\n",
       "      <td>1.0</td>\n",
       "      <td>b37c4c02bda3161a7546a4e6d222d5b2</td>\n",
       "      <td>20080</td>\n",
       "      <td>20080</td>\n",
       "      <td>3667</td>\n",
       "      <td>False</td>\n",
       "    </tr>\n",
       "    <tr>\n",
       "      <th>4501</th>\n",
       "      <td>0a0a92112bd4c708ca5fde585afaa872</td>\n",
       "      <td>03caa2c082116e1d31e67e9ae3700499</td>\n",
       "      <td>2017-09-29</td>\n",
       "      <td>8</td>\n",
       "      <td>5769ef0a239114ac3a854af00df129e4</td>\n",
       "      <td>fixed_telephony</td>\n",
       "      <td>1708.01</td>\n",
       "      <td>1.0</td>\n",
       "      <td>1.0</td>\n",
       "      <td>b37c4c02bda3161a7546a4e6d222d5b2</td>\n",
       "      <td>20080</td>\n",
       "      <td>20080</td>\n",
       "      <td>3667</td>\n",
       "      <td>False</td>\n",
       "    </tr>\n",
       "  </tbody>\n",
       "</table>\n",
       "</div>"
      ],
      "text/plain": [
       "                    customer_unique_id                          order_id  \\\n",
       "4494  0a0a92112bd4c708ca5fde585afaa872  03caa2c082116e1d31e67e9ae3700499   \n",
       "4495  0a0a92112bd4c708ca5fde585afaa872  03caa2c082116e1d31e67e9ae3700499   \n",
       "4496  0a0a92112bd4c708ca5fde585afaa872  03caa2c082116e1d31e67e9ae3700499   \n",
       "4497  0a0a92112bd4c708ca5fde585afaa872  03caa2c082116e1d31e67e9ae3700499   \n",
       "4498  0a0a92112bd4c708ca5fde585afaa872  03caa2c082116e1d31e67e9ae3700499   \n",
       "4499  0a0a92112bd4c708ca5fde585afaa872  03caa2c082116e1d31e67e9ae3700499   \n",
       "4500  0a0a92112bd4c708ca5fde585afaa872  03caa2c082116e1d31e67e9ae3700499   \n",
       "4501  0a0a92112bd4c708ca5fde585afaa872  03caa2c082116e1d31e67e9ae3700499   \n",
       "\n",
       "     purchase_date  order_item_id                        product_id  \\\n",
       "4494    2017-09-29              1  5769ef0a239114ac3a854af00df129e4   \n",
       "4495    2017-09-29              2  5769ef0a239114ac3a854af00df129e4   \n",
       "4496    2017-09-29              3  5769ef0a239114ac3a854af00df129e4   \n",
       "4497    2017-09-29              4  5769ef0a239114ac3a854af00df129e4   \n",
       "4498    2017-09-29              5  5769ef0a239114ac3a854af00df129e4   \n",
       "4499    2017-09-29              6  5769ef0a239114ac3a854af00df129e4   \n",
       "4500    2017-09-29              7  5769ef0a239114ac3a854af00df129e4   \n",
       "4501    2017-09-29              8  5769ef0a239114ac3a854af00df129e4   \n",
       "\n",
       "     product_category  price_total  score_mean_per_ord  score_mean_per_cust  \\\n",
       "4494  fixed_telephony      1708.01                 1.0                  1.0   \n",
       "4495  fixed_telephony      1708.01                 1.0                  1.0   \n",
       "4496  fixed_telephony      1708.01                 1.0                  1.0   \n",
       "4497  fixed_telephony      1708.01                 1.0                  1.0   \n",
       "4498  fixed_telephony      1708.01                 1.0                  1.0   \n",
       "4499  fixed_telephony      1708.01                 1.0                  1.0   \n",
       "4500  fixed_telephony      1708.01                 1.0                  1.0   \n",
       "4501  fixed_telephony      1708.01                 1.0                  1.0   \n",
       "\n",
       "                             seller_id  customer_u_zip_code_prefix  \\\n",
       "4494  b37c4c02bda3161a7546a4e6d222d5b2                       20080   \n",
       "4495  b37c4c02bda3161a7546a4e6d222d5b2                       20080   \n",
       "4496  b37c4c02bda3161a7546a4e6d222d5b2                       20080   \n",
       "4497  b37c4c02bda3161a7546a4e6d222d5b2                       20080   \n",
       "4498  b37c4c02bda3161a7546a4e6d222d5b2                       20080   \n",
       "4499  b37c4c02bda3161a7546a4e6d222d5b2                       20080   \n",
       "4500  b37c4c02bda3161a7546a4e6d222d5b2                       20080   \n",
       "4501  b37c4c02bda3161a7546a4e6d222d5b2                       20080   \n",
       "\n",
       "      customer_zip_code_prefix  seller_zip_code_prefix  same_loc  \n",
       "4494                     20080                    3667     False  \n",
       "4495                     20080                    3667     False  \n",
       "4496                     20080                    3667     False  \n",
       "4497                     20080                    3667     False  \n",
       "4498                     20080                    3667     False  \n",
       "4499                     20080                    3667     False  \n",
       "4500                     20080                    3667     False  \n",
       "4501                     20080                    3667     False  "
      ]
     },
     "execution_count": 222,
     "metadata": {},
     "output_type": "execute_result"
    }
   ],
   "source": [
    "customer_unique_id = '0a0a92112bd4c708ca5fde585afaa872'\n",
    "\n",
    "cust_search_1(customer_unique_id)"
   ]
  },
  {
   "cell_type": "code",
   "execution_count": 223,
   "metadata": {},
   "outputs": [
    {
     "data": {
      "text/html": [
       "<div>\n",
       "<style scoped>\n",
       "    .dataframe tbody tr th:only-of-type {\n",
       "        vertical-align: middle;\n",
       "    }\n",
       "\n",
       "    .dataframe tbody tr th {\n",
       "        vertical-align: top;\n",
       "    }\n",
       "\n",
       "    .dataframe thead th {\n",
       "        text-align: right;\n",
       "    }\n",
       "</style>\n",
       "<table border=\"1\" class=\"dataframe\">\n",
       "  <thead>\n",
       "    <tr style=\"text-align: right;\">\n",
       "      <th></th>\n",
       "      <th>3799</th>\n",
       "    </tr>\n",
       "  </thead>\n",
       "  <tbody>\n",
       "    <tr>\n",
       "      <th>customer_unique_id</th>\n",
       "      <td>0a0a92112bd4c708ca5fde585afaa872</td>\n",
       "    </tr>\n",
       "    <tr>\n",
       "      <th>start</th>\n",
       "      <td>2017-09-29 00:00:00</td>\n",
       "    </tr>\n",
       "    <tr>\n",
       "      <th>end</th>\n",
       "      <td>2017-09-29 00:00:00</td>\n",
       "    </tr>\n",
       "    <tr>\n",
       "      <th>number of orders</th>\n",
       "      <td>1</td>\n",
       "    </tr>\n",
       "    <tr>\n",
       "      <th>number of products</th>\n",
       "      <td>8</td>\n",
       "    </tr>\n",
       "    <tr>\n",
       "      <th>product number average</th>\n",
       "      <td>8</td>\n",
       "    </tr>\n",
       "    <tr>\n",
       "      <th>number of different products</th>\n",
       "      <td>1</td>\n",
       "    </tr>\n",
       "    <tr>\n",
       "      <th>average basket</th>\n",
       "      <td>13664.1</td>\n",
       "    </tr>\n",
       "    <tr>\n",
       "      <th>average price</th>\n",
       "      <td>1708.01</td>\n",
       "    </tr>\n",
       "    <tr>\n",
       "      <th>total price</th>\n",
       "      <td>13664.1</td>\n",
       "    </tr>\n",
       "    <tr>\n",
       "      <th>nb_pay_type_diff</th>\n",
       "      <td>1</td>\n",
       "    </tr>\n",
       "    <tr>\n",
       "      <th>seller loc = delivery loc</th>\n",
       "      <td>0</td>\n",
       "    </tr>\n",
       "    <tr>\n",
       "      <th>mean score</th>\n",
       "      <td>1</td>\n",
       "    </tr>\n",
       "    <tr>\n",
       "      <th>customer loc</th>\n",
       "      <td>20080</td>\n",
       "    </tr>\n",
       "  </tbody>\n",
       "</table>\n",
       "</div>"
      ],
      "text/plain": [
       "                                                          3799\n",
       "customer_unique_id            0a0a92112bd4c708ca5fde585afaa872\n",
       "start                                      2017-09-29 00:00:00\n",
       "end                                        2017-09-29 00:00:00\n",
       "number of orders                                             1\n",
       "number of products                                           8\n",
       "product number average                                       8\n",
       "number of different products                                 1\n",
       "average basket                                         13664.1\n",
       "average price                                          1708.01\n",
       "total price                                            13664.1\n",
       "nb_pay_type_diff                                             1\n",
       "seller loc = delivery loc                                    0\n",
       "mean score                                                   1\n",
       "customer loc                                             20080"
      ]
     },
     "execution_count": 223,
     "metadata": {},
     "output_type": "execute_result"
    }
   ],
   "source": [
    "cust_search_2(customer_unique_id)"
   ]
  },
  {
   "cell_type": "markdown",
   "metadata": {},
   "source": [
    "**Recherche client 2**"
   ]
  },
  {
   "cell_type": "code",
   "execution_count": 224,
   "metadata": {},
   "outputs": [
    {
     "name": "stdout",
     "output_type": "stream",
     "text": [
      "Nombre de lignes: 16\n"
     ]
    },
    {
     "data": {
      "text/html": [
       "<div>\n",
       "<style scoped>\n",
       "    .dataframe tbody tr th:only-of-type {\n",
       "        vertical-align: middle;\n",
       "    }\n",
       "\n",
       "    .dataframe tbody tr th {\n",
       "        vertical-align: top;\n",
       "    }\n",
       "\n",
       "    .dataframe thead th {\n",
       "        text-align: right;\n",
       "    }\n",
       "</style>\n",
       "<table border=\"1\" class=\"dataframe\">\n",
       "  <thead>\n",
       "    <tr style=\"text-align: right;\">\n",
       "      <th></th>\n",
       "      <th>customer_unique_id</th>\n",
       "      <th>order_id</th>\n",
       "      <th>purchase_date</th>\n",
       "      <th>order_item_id</th>\n",
       "      <th>product_id</th>\n",
       "      <th>product_category</th>\n",
       "      <th>price_total</th>\n",
       "      <th>score_mean_per_ord</th>\n",
       "      <th>score_mean_per_cust</th>\n",
       "      <th>seller_id</th>\n",
       "      <th>customer_u_zip_code_prefix</th>\n",
       "      <th>customer_zip_code_prefix</th>\n",
       "      <th>seller_zip_code_prefix</th>\n",
       "      <th>same_loc</th>\n",
       "    </tr>\n",
       "  </thead>\n",
       "  <tbody>\n",
       "    <tr>\n",
       "      <th>62004</th>\n",
       "      <td>8d50f5eadf50201ccdcedfb9e2ac8455</td>\n",
       "      <td>5d848f3d93a493c1c8955e018240e7ca</td>\n",
       "      <td>2017-05-15</td>\n",
       "      <td>1</td>\n",
       "      <td>4e1d2ef2974c85d82582edfe594a4f57</td>\n",
       "      <td>sports_leisure</td>\n",
       "      <td>22.77</td>\n",
       "      <td>5.0</td>\n",
       "      <td>4.764706</td>\n",
       "      <td>1da3aeb70d7989d1e6d9b0e887f97c23</td>\n",
       "      <td>4045</td>\n",
       "      <td>4045</td>\n",
       "      <td>4265</td>\n",
       "      <td>False</td>\n",
       "    </tr>\n",
       "    <tr>\n",
       "      <th>62001</th>\n",
       "      <td>8d50f5eadf50201ccdcedfb9e2ac8455</td>\n",
       "      <td>369634708db140c5d2c4e365882c443a</td>\n",
       "      <td>2017-06-18</td>\n",
       "      <td>1</td>\n",
       "      <td>d83509907a19c72e1e4cdde78b8177ec</td>\n",
       "      <td>sports_leisure</td>\n",
       "      <td>51.75</td>\n",
       "      <td>5.0</td>\n",
       "      <td>4.764706</td>\n",
       "      <td>94e93ce877be27a515118dbfd2c2be41</td>\n",
       "      <td>4045</td>\n",
       "      <td>4045</td>\n",
       "      <td>15502</td>\n",
       "      <td>False</td>\n",
       "    </tr>\n",
       "    <tr>\n",
       "      <th>62002</th>\n",
       "      <td>8d50f5eadf50201ccdcedfb9e2ac8455</td>\n",
       "      <td>4f62d593acae92cea3c5662c76122478</td>\n",
       "      <td>2017-07-18</td>\n",
       "      <td>1</td>\n",
       "      <td>94cc774056d3f2b0dc693486a589025e</td>\n",
       "      <td>fashion_bags_accessories</td>\n",
       "      <td>21.77</td>\n",
       "      <td>5.0</td>\n",
       "      <td>4.764706</td>\n",
       "      <td>1da3aeb70d7989d1e6d9b0e887f97c23</td>\n",
       "      <td>4045</td>\n",
       "      <td>4045</td>\n",
       "      <td>4265</td>\n",
       "      <td>False</td>\n",
       "    </tr>\n",
       "    <tr>\n",
       "      <th>62010</th>\n",
       "      <td>8d50f5eadf50201ccdcedfb9e2ac8455</td>\n",
       "      <td>bf92c69b7cc70f7fc2c37de43e366173</td>\n",
       "      <td>2017-07-24</td>\n",
       "      <td>1</td>\n",
       "      <td>e01bc2ad5c6f46c0f53f73379fcd602e</td>\n",
       "      <td>sports_leisure</td>\n",
       "      <td>166.71</td>\n",
       "      <td>5.0</td>\n",
       "      <td>4.764706</td>\n",
       "      <td>a3a38f4affed601eb87a97788c949667</td>\n",
       "      <td>4045</td>\n",
       "      <td>4045</td>\n",
       "      <td>89204</td>\n",
       "      <td>False</td>\n",
       "    </tr>\n",
       "    <tr>\n",
       "      <th>62003</th>\n",
       "      <td>8d50f5eadf50201ccdcedfb9e2ac8455</td>\n",
       "      <td>519203404f6116d406a970763ee75799</td>\n",
       "      <td>2017-08-05</td>\n",
       "      <td>1</td>\n",
       "      <td>5fb61f482620cb672f5e586bb132eae9</td>\n",
       "      <td>other</td>\n",
       "      <td>81.89</td>\n",
       "      <td>5.0</td>\n",
       "      <td>4.764706</td>\n",
       "      <td>94e93ce877be27a515118dbfd2c2be41</td>\n",
       "      <td>4045</td>\n",
       "      <td>4045</td>\n",
       "      <td>15502</td>\n",
       "      <td>False</td>\n",
       "    </tr>\n",
       "    <tr>\n",
       "      <th>62014</th>\n",
       "      <td>8d50f5eadf50201ccdcedfb9e2ac8455</td>\n",
       "      <td>e3071b7624445af6e4f3a1b23718667d</td>\n",
       "      <td>2017-09-05</td>\n",
       "      <td>1</td>\n",
       "      <td>88159bac10e3d4f4b69b157406c7f70f</td>\n",
       "      <td>sports_leisure</td>\n",
       "      <td>51.75</td>\n",
       "      <td>5.0</td>\n",
       "      <td>4.764706</td>\n",
       "      <td>fdaaf5bfda82b7b80535610c831b8d09</td>\n",
       "      <td>4045</td>\n",
       "      <td>4045</td>\n",
       "      <td>15015</td>\n",
       "      <td>False</td>\n",
       "    </tr>\n",
       "    <tr>\n",
       "      <th>62012</th>\n",
       "      <td>8d50f5eadf50201ccdcedfb9e2ac8455</td>\n",
       "      <td>cd4b336a02aacabd0ef22f6db711f95e</td>\n",
       "      <td>2017-10-18</td>\n",
       "      <td>1</td>\n",
       "      <td>9169f70b7ce1138ac35678432d1e5ff2</td>\n",
       "      <td>sports_leisure</td>\n",
       "      <td>37.77</td>\n",
       "      <td>5.0</td>\n",
       "      <td>4.764706</td>\n",
       "      <td>1da3aeb70d7989d1e6d9b0e887f97c23</td>\n",
       "      <td>4045</td>\n",
       "      <td>4045</td>\n",
       "      <td>4265</td>\n",
       "      <td>False</td>\n",
       "    </tr>\n",
       "    <tr>\n",
       "      <th>62007</th>\n",
       "      <td>8d50f5eadf50201ccdcedfb9e2ac8455</td>\n",
       "      <td>89d9b111d2b990deb5f5f9769f92800b</td>\n",
       "      <td>2017-10-29</td>\n",
       "      <td>1</td>\n",
       "      <td>94cc774056d3f2b0dc693486a589025e</td>\n",
       "      <td>fashion_bags_accessories</td>\n",
       "      <td>21.77</td>\n",
       "      <td>5.0</td>\n",
       "      <td>4.764706</td>\n",
       "      <td>1da3aeb70d7989d1e6d9b0e887f97c23</td>\n",
       "      <td>4045</td>\n",
       "      <td>4045</td>\n",
       "      <td>4265</td>\n",
       "      <td>False</td>\n",
       "    </tr>\n",
       "    <tr>\n",
       "      <th>62009</th>\n",
       "      <td>8d50f5eadf50201ccdcedfb9e2ac8455</td>\n",
       "      <td>b850a16d8faf65a74c51287ef34379ce</td>\n",
       "      <td>2017-11-22</td>\n",
       "      <td>1</td>\n",
       "      <td>5bccc8fe44471df6c7b7e08176837d2f</td>\n",
       "      <td>sports_leisure</td>\n",
       "      <td>21.77</td>\n",
       "      <td>5.0</td>\n",
       "      <td>4.764706</td>\n",
       "      <td>1da3aeb70d7989d1e6d9b0e887f97c23</td>\n",
       "      <td>4045</td>\n",
       "      <td>4045</td>\n",
       "      <td>4265</td>\n",
       "      <td>False</td>\n",
       "    </tr>\n",
       "    <tr>\n",
       "      <th>62000</th>\n",
       "      <td>8d50f5eadf50201ccdcedfb9e2ac8455</td>\n",
       "      <td>23427a6bd9f8fd1b51f1b1e5cc186ab8</td>\n",
       "      <td>2018-05-21</td>\n",
       "      <td>1</td>\n",
       "      <td>5cb96c51c55f57503465e4d2558dc053</td>\n",
       "      <td>sports_leisure</td>\n",
       "      <td>53.38</td>\n",
       "      <td>5.0</td>\n",
       "      <td>4.764706</td>\n",
       "      <td>db4350fd57ae30082dec7acbaacc17f9</td>\n",
       "      <td>4045</td>\n",
       "      <td>4045</td>\n",
       "      <td>3126</td>\n",
       "      <td>False</td>\n",
       "    </tr>\n",
       "    <tr>\n",
       "      <th>62005</th>\n",
       "      <td>8d50f5eadf50201ccdcedfb9e2ac8455</td>\n",
       "      <td>6bdf325f0966e3056651285c0aed5aad</td>\n",
       "      <td>2018-05-22</td>\n",
       "      <td>1</td>\n",
       "      <td>d6354128c28cc56532ba7393d9373083</td>\n",
       "      <td>sports_leisure</td>\n",
       "      <td>62.95</td>\n",
       "      <td>5.0</td>\n",
       "      <td>4.764706</td>\n",
       "      <td>412a4720f3e9431b4afa1476a1acddbe</td>\n",
       "      <td>4045</td>\n",
       "      <td>4045</td>\n",
       "      <td>13060</td>\n",
       "      <td>False</td>\n",
       "    </tr>\n",
       "    <tr>\n",
       "      <th>62006</th>\n",
       "      <td>8d50f5eadf50201ccdcedfb9e2ac8455</td>\n",
       "      <td>838f8e96cf584a1d8d22eaf7143c7772</td>\n",
       "      <td>2018-07-04</td>\n",
       "      <td>1</td>\n",
       "      <td>fe7e33eaa09b5a4a3d3aa477280db875</td>\n",
       "      <td>fashion_bags_accessories</td>\n",
       "      <td>30.41</td>\n",
       "      <td>5.0</td>\n",
       "      <td>4.764706</td>\n",
       "      <td>1da3aeb70d7989d1e6d9b0e887f97c23</td>\n",
       "      <td>4045</td>\n",
       "      <td>4045</td>\n",
       "      <td>4265</td>\n",
       "      <td>False</td>\n",
       "    </tr>\n",
       "    <tr>\n",
       "      <th>61999</th>\n",
       "      <td>8d50f5eadf50201ccdcedfb9e2ac8455</td>\n",
       "      <td>112eb6f37f1b9dabbced368fbbc6c9ef</td>\n",
       "      <td>2018-07-23</td>\n",
       "      <td>1</td>\n",
       "      <td>41f6cb7c3b1200749326e50106f32d58</td>\n",
       "      <td>sports_leisure</td>\n",
       "      <td>107.85</td>\n",
       "      <td>5.0</td>\n",
       "      <td>4.764706</td>\n",
       "      <td>db4350fd57ae30082dec7acbaacc17f9</td>\n",
       "      <td>4045</td>\n",
       "      <td>4045</td>\n",
       "      <td>3126</td>\n",
       "      <td>False</td>\n",
       "    </tr>\n",
       "    <tr>\n",
       "      <th>62011</th>\n",
       "      <td>8d50f5eadf50201ccdcedfb9e2ac8455</td>\n",
       "      <td>c2213109a2cc0e75d55585b7aaac6d97</td>\n",
       "      <td>2018-08-07</td>\n",
       "      <td>1</td>\n",
       "      <td>de7df82eb1e48c456b020c2cfb03aeed</td>\n",
       "      <td>sports_leisure</td>\n",
       "      <td>34.44</td>\n",
       "      <td>5.0</td>\n",
       "      <td>4.764706</td>\n",
       "      <td>1da3aeb70d7989d1e6d9b0e887f97c23</td>\n",
       "      <td>4045</td>\n",
       "      <td>4045</td>\n",
       "      <td>4265</td>\n",
       "      <td>False</td>\n",
       "    </tr>\n",
       "    <tr>\n",
       "      <th>62008</th>\n",
       "      <td>8d50f5eadf50201ccdcedfb9e2ac8455</td>\n",
       "      <td>a1a6eadae352582010f449d8527b55f3</td>\n",
       "      <td>2018-08-18</td>\n",
       "      <td>1</td>\n",
       "      <td>426f910ccd39ae5e7d55013c466fe343</td>\n",
       "      <td>sports_leisure</td>\n",
       "      <td>96.40</td>\n",
       "      <td>5.0</td>\n",
       "      <td>4.764706</td>\n",
       "      <td>0691148aee60ca47977c187804f935ae</td>\n",
       "      <td>4045</td>\n",
       "      <td>4045</td>\n",
       "      <td>86010</td>\n",
       "      <td>False</td>\n",
       "    </tr>\n",
       "    <tr>\n",
       "      <th>62013</th>\n",
       "      <td>8d50f5eadf50201ccdcedfb9e2ac8455</td>\n",
       "      <td>d3582fd5ccccd9cb229a63dfb417c86f</td>\n",
       "      <td>2018-08-20</td>\n",
       "      <td>1</td>\n",
       "      <td>df473738565b52f77b4e22b328b41576</td>\n",
       "      <td>costruction_tools_tools</td>\n",
       "      <td>38.66</td>\n",
       "      <td>5.0</td>\n",
       "      <td>4.764706</td>\n",
       "      <td>01266d4c46afa519678d16a8b683d325</td>\n",
       "      <td>4045</td>\n",
       "      <td>4045</td>\n",
       "      <td>80250</td>\n",
       "      <td>False</td>\n",
       "    </tr>\n",
       "  </tbody>\n",
       "</table>\n",
       "</div>"
      ],
      "text/plain": [
       "                     customer_unique_id                          order_id  \\\n",
       "62004  8d50f5eadf50201ccdcedfb9e2ac8455  5d848f3d93a493c1c8955e018240e7ca   \n",
       "62001  8d50f5eadf50201ccdcedfb9e2ac8455  369634708db140c5d2c4e365882c443a   \n",
       "62002  8d50f5eadf50201ccdcedfb9e2ac8455  4f62d593acae92cea3c5662c76122478   \n",
       "62010  8d50f5eadf50201ccdcedfb9e2ac8455  bf92c69b7cc70f7fc2c37de43e366173   \n",
       "62003  8d50f5eadf50201ccdcedfb9e2ac8455  519203404f6116d406a970763ee75799   \n",
       "62014  8d50f5eadf50201ccdcedfb9e2ac8455  e3071b7624445af6e4f3a1b23718667d   \n",
       "62012  8d50f5eadf50201ccdcedfb9e2ac8455  cd4b336a02aacabd0ef22f6db711f95e   \n",
       "62007  8d50f5eadf50201ccdcedfb9e2ac8455  89d9b111d2b990deb5f5f9769f92800b   \n",
       "62009  8d50f5eadf50201ccdcedfb9e2ac8455  b850a16d8faf65a74c51287ef34379ce   \n",
       "62000  8d50f5eadf50201ccdcedfb9e2ac8455  23427a6bd9f8fd1b51f1b1e5cc186ab8   \n",
       "62005  8d50f5eadf50201ccdcedfb9e2ac8455  6bdf325f0966e3056651285c0aed5aad   \n",
       "62006  8d50f5eadf50201ccdcedfb9e2ac8455  838f8e96cf584a1d8d22eaf7143c7772   \n",
       "61999  8d50f5eadf50201ccdcedfb9e2ac8455  112eb6f37f1b9dabbced368fbbc6c9ef   \n",
       "62011  8d50f5eadf50201ccdcedfb9e2ac8455  c2213109a2cc0e75d55585b7aaac6d97   \n",
       "62008  8d50f5eadf50201ccdcedfb9e2ac8455  a1a6eadae352582010f449d8527b55f3   \n",
       "62013  8d50f5eadf50201ccdcedfb9e2ac8455  d3582fd5ccccd9cb229a63dfb417c86f   \n",
       "\n",
       "      purchase_date  order_item_id                        product_id  \\\n",
       "62004    2017-05-15              1  4e1d2ef2974c85d82582edfe594a4f57   \n",
       "62001    2017-06-18              1  d83509907a19c72e1e4cdde78b8177ec   \n",
       "62002    2017-07-18              1  94cc774056d3f2b0dc693486a589025e   \n",
       "62010    2017-07-24              1  e01bc2ad5c6f46c0f53f73379fcd602e   \n",
       "62003    2017-08-05              1  5fb61f482620cb672f5e586bb132eae9   \n",
       "62014    2017-09-05              1  88159bac10e3d4f4b69b157406c7f70f   \n",
       "62012    2017-10-18              1  9169f70b7ce1138ac35678432d1e5ff2   \n",
       "62007    2017-10-29              1  94cc774056d3f2b0dc693486a589025e   \n",
       "62009    2017-11-22              1  5bccc8fe44471df6c7b7e08176837d2f   \n",
       "62000    2018-05-21              1  5cb96c51c55f57503465e4d2558dc053   \n",
       "62005    2018-05-22              1  d6354128c28cc56532ba7393d9373083   \n",
       "62006    2018-07-04              1  fe7e33eaa09b5a4a3d3aa477280db875   \n",
       "61999    2018-07-23              1  41f6cb7c3b1200749326e50106f32d58   \n",
       "62011    2018-08-07              1  de7df82eb1e48c456b020c2cfb03aeed   \n",
       "62008    2018-08-18              1  426f910ccd39ae5e7d55013c466fe343   \n",
       "62013    2018-08-20              1  df473738565b52f77b4e22b328b41576   \n",
       "\n",
       "               product_category  price_total  score_mean_per_ord  \\\n",
       "62004            sports_leisure        22.77                 5.0   \n",
       "62001            sports_leisure        51.75                 5.0   \n",
       "62002  fashion_bags_accessories        21.77                 5.0   \n",
       "62010            sports_leisure       166.71                 5.0   \n",
       "62003                     other        81.89                 5.0   \n",
       "62014            sports_leisure        51.75                 5.0   \n",
       "62012            sports_leisure        37.77                 5.0   \n",
       "62007  fashion_bags_accessories        21.77                 5.0   \n",
       "62009            sports_leisure        21.77                 5.0   \n",
       "62000            sports_leisure        53.38                 5.0   \n",
       "62005            sports_leisure        62.95                 5.0   \n",
       "62006  fashion_bags_accessories        30.41                 5.0   \n",
       "61999            sports_leisure       107.85                 5.0   \n",
       "62011            sports_leisure        34.44                 5.0   \n",
       "62008            sports_leisure        96.40                 5.0   \n",
       "62013   costruction_tools_tools        38.66                 5.0   \n",
       "\n",
       "       score_mean_per_cust                         seller_id  \\\n",
       "62004             4.764706  1da3aeb70d7989d1e6d9b0e887f97c23   \n",
       "62001             4.764706  94e93ce877be27a515118dbfd2c2be41   \n",
       "62002             4.764706  1da3aeb70d7989d1e6d9b0e887f97c23   \n",
       "62010             4.764706  a3a38f4affed601eb87a97788c949667   \n",
       "62003             4.764706  94e93ce877be27a515118dbfd2c2be41   \n",
       "62014             4.764706  fdaaf5bfda82b7b80535610c831b8d09   \n",
       "62012             4.764706  1da3aeb70d7989d1e6d9b0e887f97c23   \n",
       "62007             4.764706  1da3aeb70d7989d1e6d9b0e887f97c23   \n",
       "62009             4.764706  1da3aeb70d7989d1e6d9b0e887f97c23   \n",
       "62000             4.764706  db4350fd57ae30082dec7acbaacc17f9   \n",
       "62005             4.764706  412a4720f3e9431b4afa1476a1acddbe   \n",
       "62006             4.764706  1da3aeb70d7989d1e6d9b0e887f97c23   \n",
       "61999             4.764706  db4350fd57ae30082dec7acbaacc17f9   \n",
       "62011             4.764706  1da3aeb70d7989d1e6d9b0e887f97c23   \n",
       "62008             4.764706  0691148aee60ca47977c187804f935ae   \n",
       "62013             4.764706  01266d4c46afa519678d16a8b683d325   \n",
       "\n",
       "       customer_u_zip_code_prefix  customer_zip_code_prefix  \\\n",
       "62004                        4045                      4045   \n",
       "62001                        4045                      4045   \n",
       "62002                        4045                      4045   \n",
       "62010                        4045                      4045   \n",
       "62003                        4045                      4045   \n",
       "62014                        4045                      4045   \n",
       "62012                        4045                      4045   \n",
       "62007                        4045                      4045   \n",
       "62009                        4045                      4045   \n",
       "62000                        4045                      4045   \n",
       "62005                        4045                      4045   \n",
       "62006                        4045                      4045   \n",
       "61999                        4045                      4045   \n",
       "62011                        4045                      4045   \n",
       "62008                        4045                      4045   \n",
       "62013                        4045                      4045   \n",
       "\n",
       "       seller_zip_code_prefix  same_loc  \n",
       "62004                    4265     False  \n",
       "62001                   15502     False  \n",
       "62002                    4265     False  \n",
       "62010                   89204     False  \n",
       "62003                   15502     False  \n",
       "62014                   15015     False  \n",
       "62012                    4265     False  \n",
       "62007                    4265     False  \n",
       "62009                    4265     False  \n",
       "62000                    3126     False  \n",
       "62005                   13060     False  \n",
       "62006                    4265     False  \n",
       "61999                    3126     False  \n",
       "62011                    4265     False  \n",
       "62008                   86010     False  \n",
       "62013                   80250     False  "
      ]
     },
     "execution_count": 224,
     "metadata": {},
     "output_type": "execute_result"
    }
   ],
   "source": [
    "customer_unique_id = '8d50f5eadf50201ccdcedfb9e2ac8455'\n",
    "\n",
    "cust_search_1(customer_unique_id)"
   ]
  },
  {
   "cell_type": "markdown",
   "metadata": {},
   "source": [
    "**Recherche client 3**"
   ]
  },
  {
   "cell_type": "code",
   "execution_count": 225,
   "metadata": {},
   "outputs": [
    {
     "name": "stdout",
     "output_type": "stream",
     "text": [
      "Nombre de lignes: 3\n"
     ]
    },
    {
     "data": {
      "text/html": [
       "<div>\n",
       "<style scoped>\n",
       "    .dataframe tbody tr th:only-of-type {\n",
       "        vertical-align: middle;\n",
       "    }\n",
       "\n",
       "    .dataframe tbody tr th {\n",
       "        vertical-align: top;\n",
       "    }\n",
       "\n",
       "    .dataframe thead th {\n",
       "        text-align: right;\n",
       "    }\n",
       "</style>\n",
       "<table border=\"1\" class=\"dataframe\">\n",
       "  <thead>\n",
       "    <tr style=\"text-align: right;\">\n",
       "      <th></th>\n",
       "      <th>customer_unique_id</th>\n",
       "      <th>order_id</th>\n",
       "      <th>purchase_date</th>\n",
       "      <th>order_item_id</th>\n",
       "      <th>product_id</th>\n",
       "      <th>product_category</th>\n",
       "      <th>price_total</th>\n",
       "      <th>score_mean_per_ord</th>\n",
       "      <th>score_mean_per_cust</th>\n",
       "      <th>seller_id</th>\n",
       "      <th>customer_u_zip_code_prefix</th>\n",
       "      <th>customer_zip_code_prefix</th>\n",
       "      <th>seller_zip_code_prefix</th>\n",
       "      <th>same_loc</th>\n",
       "    </tr>\n",
       "  </thead>\n",
       "  <tbody>\n",
       "    <tr>\n",
       "      <th>57683</th>\n",
       "      <td>830d5b7aaa3b6f1e9ad63703bec97d23</td>\n",
       "      <td>bfbd0f9bdef84302105ad712db648a6c</td>\n",
       "      <td>2016-09-15</td>\n",
       "      <td>1</td>\n",
       "      <td>5a6b04657a4c5ee34285d1e4619a96b4</td>\n",
       "      <td>health_beauty</td>\n",
       "      <td>47.82</td>\n",
       "      <td>1.0</td>\n",
       "      <td>1.0</td>\n",
       "      <td>ecccfa2bb93b34a3bf033cc5d1dcdc69</td>\n",
       "      <td>14600</td>\n",
       "      <td>14600</td>\n",
       "      <td>81810</td>\n",
       "      <td>False</td>\n",
       "    </tr>\n",
       "    <tr>\n",
       "      <th>57684</th>\n",
       "      <td>830d5b7aaa3b6f1e9ad63703bec97d23</td>\n",
       "      <td>bfbd0f9bdef84302105ad712db648a6c</td>\n",
       "      <td>2016-09-15</td>\n",
       "      <td>2</td>\n",
       "      <td>5a6b04657a4c5ee34285d1e4619a96b4</td>\n",
       "      <td>health_beauty</td>\n",
       "      <td>47.82</td>\n",
       "      <td>1.0</td>\n",
       "      <td>1.0</td>\n",
       "      <td>ecccfa2bb93b34a3bf033cc5d1dcdc69</td>\n",
       "      <td>14600</td>\n",
       "      <td>14600</td>\n",
       "      <td>81810</td>\n",
       "      <td>False</td>\n",
       "    </tr>\n",
       "    <tr>\n",
       "      <th>57685</th>\n",
       "      <td>830d5b7aaa3b6f1e9ad63703bec97d23</td>\n",
       "      <td>bfbd0f9bdef84302105ad712db648a6c</td>\n",
       "      <td>2016-09-15</td>\n",
       "      <td>3</td>\n",
       "      <td>5a6b04657a4c5ee34285d1e4619a96b4</td>\n",
       "      <td>health_beauty</td>\n",
       "      <td>47.82</td>\n",
       "      <td>1.0</td>\n",
       "      <td>1.0</td>\n",
       "      <td>ecccfa2bb93b34a3bf033cc5d1dcdc69</td>\n",
       "      <td>14600</td>\n",
       "      <td>14600</td>\n",
       "      <td>81810</td>\n",
       "      <td>False</td>\n",
       "    </tr>\n",
       "  </tbody>\n",
       "</table>\n",
       "</div>"
      ],
      "text/plain": [
       "                     customer_unique_id                          order_id  \\\n",
       "57683  830d5b7aaa3b6f1e9ad63703bec97d23  bfbd0f9bdef84302105ad712db648a6c   \n",
       "57684  830d5b7aaa3b6f1e9ad63703bec97d23  bfbd0f9bdef84302105ad712db648a6c   \n",
       "57685  830d5b7aaa3b6f1e9ad63703bec97d23  bfbd0f9bdef84302105ad712db648a6c   \n",
       "\n",
       "      purchase_date  order_item_id                        product_id  \\\n",
       "57683    2016-09-15              1  5a6b04657a4c5ee34285d1e4619a96b4   \n",
       "57684    2016-09-15              2  5a6b04657a4c5ee34285d1e4619a96b4   \n",
       "57685    2016-09-15              3  5a6b04657a4c5ee34285d1e4619a96b4   \n",
       "\n",
       "      product_category  price_total  score_mean_per_ord  score_mean_per_cust  \\\n",
       "57683    health_beauty        47.82                 1.0                  1.0   \n",
       "57684    health_beauty        47.82                 1.0                  1.0   \n",
       "57685    health_beauty        47.82                 1.0                  1.0   \n",
       "\n",
       "                              seller_id  customer_u_zip_code_prefix  \\\n",
       "57683  ecccfa2bb93b34a3bf033cc5d1dcdc69                       14600   \n",
       "57684  ecccfa2bb93b34a3bf033cc5d1dcdc69                       14600   \n",
       "57685  ecccfa2bb93b34a3bf033cc5d1dcdc69                       14600   \n",
       "\n",
       "       customer_zip_code_prefix  seller_zip_code_prefix  same_loc  \n",
       "57683                     14600                   81810     False  \n",
       "57684                     14600                   81810     False  \n",
       "57685                     14600                   81810     False  "
      ]
     },
     "execution_count": 225,
     "metadata": {},
     "output_type": "execute_result"
    }
   ],
   "source": [
    "customer_unique_id = '830d5b7aaa3b6f1e9ad63703bec97d23'\n",
    "\n",
    "cust_search_1(customer_unique_id)"
   ]
  },
  {
   "cell_type": "code",
   "execution_count": 226,
   "metadata": {},
   "outputs": [
    {
     "data": {
      "text/html": [
       "<div>\n",
       "<style scoped>\n",
       "    .dataframe tbody tr th:only-of-type {\n",
       "        vertical-align: middle;\n",
       "    }\n",
       "\n",
       "    .dataframe tbody tr th {\n",
       "        vertical-align: top;\n",
       "    }\n",
       "\n",
       "    .dataframe thead th {\n",
       "        text-align: right;\n",
       "    }\n",
       "</style>\n",
       "<table border=\"1\" class=\"dataframe\">\n",
       "  <thead>\n",
       "    <tr style=\"text-align: right;\">\n",
       "      <th></th>\n",
       "      <th>48972</th>\n",
       "    </tr>\n",
       "  </thead>\n",
       "  <tbody>\n",
       "    <tr>\n",
       "      <th>customer_unique_id</th>\n",
       "      <td>830d5b7aaa3b6f1e9ad63703bec97d23</td>\n",
       "    </tr>\n",
       "    <tr>\n",
       "      <th>start</th>\n",
       "      <td>2016-09-15 00:00:00</td>\n",
       "    </tr>\n",
       "    <tr>\n",
       "      <th>end</th>\n",
       "      <td>2016-09-15 00:00:00</td>\n",
       "    </tr>\n",
       "    <tr>\n",
       "      <th>number of orders</th>\n",
       "      <td>1</td>\n",
       "    </tr>\n",
       "    <tr>\n",
       "      <th>number of products</th>\n",
       "      <td>3</td>\n",
       "    </tr>\n",
       "    <tr>\n",
       "      <th>product number average</th>\n",
       "      <td>3</td>\n",
       "    </tr>\n",
       "    <tr>\n",
       "      <th>number of different products</th>\n",
       "      <td>1</td>\n",
       "    </tr>\n",
       "    <tr>\n",
       "      <th>average basket</th>\n",
       "      <td>143.46</td>\n",
       "    </tr>\n",
       "    <tr>\n",
       "      <th>average price</th>\n",
       "      <td>47.82</td>\n",
       "    </tr>\n",
       "    <tr>\n",
       "      <th>total price</th>\n",
       "      <td>143.46</td>\n",
       "    </tr>\n",
       "    <tr>\n",
       "      <th>nb_pay_type_diff</th>\n",
       "      <td>0</td>\n",
       "    </tr>\n",
       "    <tr>\n",
       "      <th>seller loc = delivery loc</th>\n",
       "      <td>0</td>\n",
       "    </tr>\n",
       "    <tr>\n",
       "      <th>mean score</th>\n",
       "      <td>1</td>\n",
       "    </tr>\n",
       "    <tr>\n",
       "      <th>customer loc</th>\n",
       "      <td>14600</td>\n",
       "    </tr>\n",
       "  </tbody>\n",
       "</table>\n",
       "</div>"
      ],
      "text/plain": [
       "                                                         48972\n",
       "customer_unique_id            830d5b7aaa3b6f1e9ad63703bec97d23\n",
       "start                                      2016-09-15 00:00:00\n",
       "end                                        2016-09-15 00:00:00\n",
       "number of orders                                             1\n",
       "number of products                                           3\n",
       "product number average                                       3\n",
       "number of different products                                 1\n",
       "average basket                                          143.46\n",
       "average price                                            47.82\n",
       "total price                                             143.46\n",
       "nb_pay_type_diff                                             0\n",
       "seller loc = delivery loc                                    0\n",
       "mean score                                                   1\n",
       "customer loc                                             14600"
      ]
     },
     "execution_count": 226,
     "metadata": {},
     "output_type": "execute_result"
    }
   ],
   "source": [
    "cust_search_2(customer_unique_id)"
   ]
  },
  {
   "cell_type": "code",
   "execution_count": 227,
   "metadata": {},
   "outputs": [
    {
     "name": "stdout",
     "output_type": "stream",
     "text": [
      "Durée de l'opération 'Fonctions recherche par client': 0.31 s\n",
      "Durée totale de traitement: 00 h 01 m 48 s\n",
      "\n",
      "Durée des opérations\n",
      "--------------------\n",
      "                                       Opération  Durée\n",
      "0                                 Initialisation   0.09\n",
      "1                       Récupération des données   3.19\n",
      "2              Fusion 1: Commandes / Evaluations   2.28\n",
      "3                  Fusion 2: Clients / Commandes   2.84\n",
      "4                     Fusion 3: Items / Produits   2.49\n",
      "5   Fusion 4: Clients/Commandes / Items/Produits   2.63\n",
      "6                          Balance des paiements   3.32\n",
      "7                Fusion 5: Commandes / Paiements   0.10\n",
      "8             Modèle de données - Initialisation   0.92\n",
      "9             Modèle de données - Localisation 1   8.06\n",
      "10            Modèle de données - Localisation 2   0.49\n",
      "11            Modèle de données - Localisation 3  66.93\n",
      "12            Modèle de données - Localisation 4   1.07\n",
      "13                               Format de dates   0.16\n",
      "14             Encodage - Catégories de produits   1.47\n",
      "15                                  Création df1   9.99\n",
      "16             Catégories de produits par client   0.77\n",
      "17      Nombre de produits différents par client   0.32\n",
      "18       Encodage - Types de paiement par client   1.10\n",
      "19        Nombre de types de paiement par client   0.20\n",
      "20                   Base de clients finale(df1)   0.16\n",
      "21                Fonctions recherche par client   0.31\n"
     ]
    }
   ],
   "source": [
    "time_calc('Fonctions recherche par client',1)\n",
    "t = time.time()"
   ]
  }
 ],
 "metadata": {
  "kernelspec": {
   "display_name": "Python 3",
   "language": "python",
   "name": "python3"
  },
  "language_info": {
   "codemirror_mode": {
    "name": "ipython",
    "version": 3
   },
   "file_extension": ".py",
   "mimetype": "text/x-python",
   "name": "python",
   "nbconvert_exporter": "python",
   "pygments_lexer": "ipython3",
   "version": "3.7.4"
  }
 },
 "nbformat": 4,
 "nbformat_minor": 2
}
